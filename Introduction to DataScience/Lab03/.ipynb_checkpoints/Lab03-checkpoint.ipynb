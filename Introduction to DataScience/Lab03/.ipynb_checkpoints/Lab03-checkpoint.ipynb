{
 "cells": [
  {
   "cell_type": "markdown",
   "metadata": {
    "Collapsed": "false",
    "id": "CtnHxc20lVGg"
   },
   "source": [
    "# Lab03: Data preprocessing and modeling\n",
    "\n",
    "- Full Name: Lê Nguyễn Bình Nam\n",
    "\n",
    "- Student's ID: 20127567"
   ]
  },
  {
   "cell_type": "markdown",
   "metadata": {
    "id": "q2nqQsadlVGm"
   },
   "source": [
    "***\n",
    "## How to do and submit assignments\n",
    "\n",
    "&#9889; You should note that I will be using a grading support program, so you need to follow the exact rules that I set, if you are not sure, please ask me, not arbitrarily follow your own will.\n",
    "\n",
    "**How to do**\n",
    "You will do it directly on this notebook file. First, enter your name and student's id in the file header above. In the file, you will complete the required in the position where be written:\n",
    "\n",
    "```python\n",
    "# YOUR CODE HERE\n",
    "raise NotImplementedError()\n",
    "```\n",
    "\n",
    "When you do, you delete the line `raise NotImplementedError()`.\n",
    "\n",
    "For the parts that require code, usually right below there will be a cell (or several) containing test sets to help you know if the code is correct or not. If running this cell has no errors, it means that the test sets are passed.\n",
    "\n",
    "In some cases, the test suites may be incomplete, that is, if the test fails, the code is wrong, but if it passes the test, it is not sure correct.\n",
    "\n",
    "While doing the test, you can print to the screen, create more cells for testing. But when submitting, you delete the cells that you create, delete or comment the statements printed to the screen. Please note that <font color=red> must not delete cells or edit my code </font> (except where editing is allowed as mentioned above).\n",
    "\n",
    "While doing the test, often `Ctrl + S` to save your work, avoid loss of information.\n",
    "\n",
    "**How to submit**\n",
    "\n",
    "When grading, I will first choose `Kernel` - `Restart & Run All`, to restart and run all cells in your notebook; therefore, before submitting your lab, you should test run `Kernel` - `Restart & Run All` to make sure everything goes as expected.\n",
    "\n",
    "Then you create a submission folder with the following structure:\n",
    "- The `ID's student` folder (eg, if you have an MSSV of 1234567, name the folder `1234567`)\n",
    "     - File `1234567.ipynb` (no need to submit other files)\n",
    "\n",
    "Finally, you zip this `ID's student` folder and submit it at the link on moodle. The extension of the compressed file must be .zip (not .rar or anything else).\n"
   ]
  },
  {
   "cell_type": "markdown",
   "metadata": {
    "Collapsed": "false",
    "id": "vIU2_LomlVGo"
   },
   "source": [
    "---"
   ]
  },
  {
   "cell_type": "markdown",
   "metadata": {
    "id": "-djgfWxulVGq"
   },
   "source": [
    "Check the code environment:"
   ]
  },
  {
   "cell_type": "code",
   "execution_count": 1,
   "metadata": {
    "id": "ZC2XmNdKlVGr"
   },
   "outputs": [
    {
     "data": {
      "text/plain": [
       "('/root/miniconda3/envs/min_ds-env/bin/python',\n",
       " '3.10.6 (main, Oct 24 2022, 16:07:47) [GCC 11.2.0]')"
      ]
     },
     "execution_count": 1,
     "metadata": {},
     "output_type": "execute_result"
    }
   ],
   "source": [
    "import sys\n",
    "sys.executable, sys.version"
   ]
  },
  {
   "cell_type": "markdown",
   "metadata": {
    "Collapsed": "false",
    "id": "ovxfxtNMlVGu"
   },
   "source": [
    "## Import"
   ]
  },
  {
   "cell_type": "code",
   "execution_count": 2,
   "metadata": {
    "Collapsed": "false",
    "id": "zADGZAPMlVGu"
   },
   "outputs": [],
   "source": [
    "import matplotlib.pyplot as plt\n",
    "import seaborn as sns \n",
    "import pandas as pd\n",
    "import numpy as np\n",
    "from sklearn.model_selection import train_test_split\n",
    "from sklearn.preprocessing import OneHotEncoder, StandardScaler\n",
    "from sklearn.impute import SimpleImputer\n",
    "from sklearn.base import BaseEstimator, TransformerMixin\n",
    "from sklearn.pipeline import Pipeline, make_pipeline\n",
    "from sklearn.compose import ColumnTransformer, make_column_transformer\n",
    "from sklearn.neural_network import MLPClassifier\n",
    "from sklearn import set_config\n",
    "set_config(display='diagram') # to visualize pipeline\n",
    "\n",
    "# You can also import other things ...\n",
    "# YOUR CODE HERE (OPTION)"
   ]
  },
  {
   "cell_type": "markdown",
   "metadata": {
    "Collapsed": "false",
    "id": "Z0JL7XEFlVGv"
   },
   "source": [
    "---"
   ]
  },
  {
   "cell_type": "markdown",
   "metadata": {
    "Collapsed": "false",
    "id": "bzcfEvRClVGv"
   },
   "source": [
    "## Collect data\n",
    "\n",
    "The dataset used in this lab is a pre-collected dataset for heart disease prediction. ([Reference](https://archive.ics.uci.edu/ml/datasets/heart+disease)); It is changed a few things fit the goal of the lab.\n",
    "\n",
    "Data files include:\n",
    "- File \"lab03_train.csv\": data set train\n",
    "- File \"lab03_test.csv\": data set test\n",
    "- File \"description.txt\": describe the meaning of the columns"
   ]
  },
  {
   "cell_type": "markdown",
   "metadata": {
    "Collapsed": "false",
    "id": "cDE_MU8VlVGv"
   },
   "source": [
    "---"
   ]
  },
  {
   "cell_type": "markdown",
   "metadata": {
    "Collapsed": "false",
    "id": "qUIzd1oFlVGw"
   },
   "source": [
    "## Data exploratory"
   ]
  },
  {
   "cell_type": "code",
   "execution_count": 3,
   "metadata": {
    "Collapsed": "false",
    "id": "sFmVedwNlVGw"
   },
   "outputs": [
    {
     "data": {
      "text/html": [
       "<div>\n",
       "<style scoped>\n",
       "    .dataframe tbody tr th:only-of-type {\n",
       "        vertical-align: middle;\n",
       "    }\n",
       "\n",
       "    .dataframe tbody tr th {\n",
       "        vertical-align: top;\n",
       "    }\n",
       "\n",
       "    .dataframe thead th {\n",
       "        text-align: right;\n",
       "    }\n",
       "</style>\n",
       "<table border=\"1\" class=\"dataframe\">\n",
       "  <thead>\n",
       "    <tr style=\"text-align: right;\">\n",
       "      <th></th>\n",
       "      <th>age</th>\n",
       "      <th>sex</th>\n",
       "      <th>cp</th>\n",
       "      <th>trestbps</th>\n",
       "      <th>chol</th>\n",
       "      <th>fbs</th>\n",
       "      <th>restecg</th>\n",
       "      <th>thalach</th>\n",
       "      <th>exang</th>\n",
       "      <th>oldpeak</th>\n",
       "      <th>slope</th>\n",
       "      <th>ca</th>\n",
       "      <th>thal</th>\n",
       "      <th>target</th>\n",
       "    </tr>\n",
       "  </thead>\n",
       "  <tbody>\n",
       "    <tr>\n",
       "      <th>0</th>\n",
       "      <td>43.0</td>\n",
       "      <td>NaN</td>\n",
       "      <td>2</td>\n",
       "      <td>122</td>\n",
       "      <td>NaN</td>\n",
       "      <td>0</td>\n",
       "      <td>1</td>\n",
       "      <td>NaN</td>\n",
       "      <td>0</td>\n",
       "      <td>0.2</td>\n",
       "      <td>1.0</td>\n",
       "      <td>0</td>\n",
       "      <td>2</td>\n",
       "      <td>1</td>\n",
       "    </tr>\n",
       "    <tr>\n",
       "      <th>1</th>\n",
       "      <td>66.0</td>\n",
       "      <td>female</td>\n",
       "      <td>2</td>\n",
       "      <td>146</td>\n",
       "      <td>278.0</td>\n",
       "      <td>0</td>\n",
       "      <td>0</td>\n",
       "      <td>152.0</td>\n",
       "      <td>0</td>\n",
       "      <td>0.0</td>\n",
       "      <td>1.0</td>\n",
       "      <td>1</td>\n",
       "      <td>2</td>\n",
       "      <td>1</td>\n",
       "    </tr>\n",
       "    <tr>\n",
       "      <th>2</th>\n",
       "      <td>58.0</td>\n",
       "      <td>male</td>\n",
       "      <td>2</td>\n",
       "      <td>140</td>\n",
       "      <td>211.0</td>\n",
       "      <td>1</td>\n",
       "      <td>0</td>\n",
       "      <td>165.0</td>\n",
       "      <td>0</td>\n",
       "      <td>0.0</td>\n",
       "      <td>2.0</td>\n",
       "      <td>0</td>\n",
       "      <td>2</td>\n",
       "      <td>1</td>\n",
       "    </tr>\n",
       "    <tr>\n",
       "      <th>3</th>\n",
       "      <td>63.0</td>\n",
       "      <td>female</td>\n",
       "      <td>0</td>\n",
       "      <td>124</td>\n",
       "      <td>NaN</td>\n",
       "      <td>0</td>\n",
       "      <td>1</td>\n",
       "      <td>NaN</td>\n",
       "      <td>1</td>\n",
       "      <td>0.0</td>\n",
       "      <td>1.0</td>\n",
       "      <td>0</td>\n",
       "      <td>2</td>\n",
       "      <td>0</td>\n",
       "    </tr>\n",
       "    <tr>\n",
       "      <th>4</th>\n",
       "      <td>57.0</td>\n",
       "      <td>male</td>\n",
       "      <td>1</td>\n",
       "      <td>154</td>\n",
       "      <td>232.0</td>\n",
       "      <td>0</td>\n",
       "      <td>0</td>\n",
       "      <td>164.0</td>\n",
       "      <td>0</td>\n",
       "      <td>0.0</td>\n",
       "      <td>NaN</td>\n",
       "      <td>1</td>\n",
       "      <td>2</td>\n",
       "      <td>0</td>\n",
       "    </tr>\n",
       "  </tbody>\n",
       "</table>\n",
       "</div>"
      ],
      "text/plain": [
       "    age     sex  cp  trestbps   chol  fbs  restecg  thalach  exang  oldpeak  \\\n",
       "0  43.0     NaN   2       122    NaN    0        1      NaN      0      0.2   \n",
       "1  66.0  female   2       146  278.0    0        0    152.0      0      0.0   \n",
       "2  58.0    male   2       140  211.0    1        0    165.0      0      0.0   \n",
       "3  63.0  female   0       124    NaN    0        1      NaN      1      0.0   \n",
       "4  57.0    male   1       154  232.0    0        0    164.0      0      0.0   \n",
       "\n",
       "   slope  ca  thal  target  \n",
       "0    1.0   0     2       1  \n",
       "1    1.0   1     2       1  \n",
       "2    2.0   0     2       1  \n",
       "3    1.0   0     2       0  \n",
       "4    NaN   1     2       0  "
      ]
     },
     "execution_count": 3,
     "metadata": {},
     "output_type": "execute_result"
    }
   ],
   "source": [
    "data_df = pd.read_csv('lab03_train.csv') \n",
    "data_df.head()"
   ]
  },
  {
   "cell_type": "code",
   "execution_count": 4,
   "metadata": {
    "id": "PKu3RUoRaSS7"
   },
   "outputs": [
    {
     "name": "stdout",
     "output_type": "stream",
     "text": [
      "<class 'pandas.core.frame.DataFrame'>\n",
      "RangeIndex: 242 entries, 0 to 241\n",
      "Data columns (total 14 columns):\n",
      " #   Column    Non-Null Count  Dtype  \n",
      "---  ------    --------------  -----  \n",
      " 0   age       221 non-null    float64\n",
      " 1   sex       196 non-null    object \n",
      " 2   cp        242 non-null    int64  \n",
      " 3   trestbps  242 non-null    int64  \n",
      " 4   chol      207 non-null    float64\n",
      " 5   fbs       242 non-null    int64  \n",
      " 6   restecg   242 non-null    int64  \n",
      " 7   thalach   70 non-null     float64\n",
      " 8   exang     242 non-null    int64  \n",
      " 9   oldpeak   206 non-null    float64\n",
      " 10  slope     216 non-null    float64\n",
      " 11  ca        242 non-null    int64  \n",
      " 12  thal      242 non-null    int64  \n",
      " 13  target    242 non-null    int64  \n",
      "dtypes: float64(5), int64(8), object(1)\n",
      "memory usage: 26.6+ KB\n"
     ]
    }
   ],
   "source": [
    "data_df.info()"
   ]
  },
  {
   "cell_type": "markdown",
   "metadata": {
    "id": "4OAxtr7XlVGw"
   },
   "source": [
    "### How many rows and columns does the data have?"
   ]
  },
  {
   "cell_type": "code",
   "execution_count": 5,
   "metadata": {
    "id": "zlZ1c7EflVGx"
   },
   "outputs": [
    {
     "data": {
      "text/plain": [
       "(242, 14)"
      ]
     },
     "execution_count": 5,
     "metadata": {},
     "output_type": "execute_result"
    }
   ],
   "source": [
    "data_df.shape"
   ]
  },
  {
   "cell_type": "markdown",
   "metadata": {
    "id": "a4Um_o5blVGx"
   },
   "source": [
    "### What does each sample mean? Does it matter that the samples have different meanings?"
   ]
  },
  {
   "cell_type": "markdown",
   "metadata": {
    "id": "ql5VsnYVlVGx"
   },
   "source": [
    "The data shows that each sample contains information for a patient, and it doesn't seem to matter that the samples have different meanings."
   ]
  },
  {
   "cell_type": "markdown",
   "metadata": {
    "id": "Ih5D0w0WlVGy"
   },
   "source": [
    "### Does the data have duplicate sample?"
   ]
  },
  {
   "cell_type": "code",
   "execution_count": 6,
   "metadata": {
    "id": "l8gMMMlmlVGy"
   },
   "outputs": [
    {
     "data": {
      "text/plain": [
       "0"
      ]
     },
     "execution_count": 6,
     "metadata": {},
     "output_type": "execute_result"
    }
   ],
   "source": [
    "# Number of duplicated lines\n",
    "data_df.index.duplicated().sum()"
   ]
  },
  {
   "cell_type": "markdown",
   "metadata": {
    "id": "vLl5KluIlVGy"
   },
   "source": [
    "### What does each column mean? "
   ]
  },
  {
   "cell_type": "markdown",
   "metadata": {
    "id": "KW2RYNgwlVGy"
   },
   "source": [
    "Read file \"description.txt\"."
   ]
  },
  {
   "cell_type": "code",
   "execution_count": 7,
   "metadata": {
    "id": "scpKAvIRlVGz"
   },
   "outputs": [
    {
     "name": "stdout",
     "output_type": "stream",
     "text": [
      "1) age:\t\tage in years\n",
      "2) sex:\t\tsex (male; female)\n",
      "3) cp: \t\tchest pain type\n",
      "4) trestbps: \tresting blood pressure\n",
      "5) chol: \tserum cholestoral in mg/dl\n",
      "6) fbs: \tfasting blood sugar > 120 mg/dl\n",
      "7) restecg: \tresting electrocardiographic results (values 0,1,2)\n",
      "8) thalach: \tmaximum heart rate achieved\n",
      "9) exang: \texercise induced angina\n",
      "10) oldpeak: \t= ST depression induced by exercise relative to rest\n",
      "11) slope: \tthe slope of the peak exercise ST segment\n",
      "12) ca: \tnumber of major vessels (0-3) colored by flourosopy\n",
      "13) thal: \tdisplays the thalassemia\n"
     ]
    }
   ],
   "source": [
    "with open('description.txt', 'r') as f:\n",
    "    print(f.read())"
   ]
  },
  {
   "cell_type": "markdown",
   "metadata": {
    "id": "k7gIF118lVGz"
   },
   "source": [
    "---"
   ]
  },
  {
   "cell_type": "markdown",
   "metadata": {
    "id": "_rOAPNhBlVG0"
   },
   "source": [
    "In the next step, you will split the data set into 2 or 3 subset. These can be train set, validation set, test set. After that, you will continue explore the train set to get its insight.\n",
    "\n",
    "The reason why not continue exploring is that the validation and testing set are the special set which must be hidden. If you explore the data too much, understand the data too much and then separate the data set, the results on the validation set and the test set may not be objective.\n"
   ]
  },
  {
   "cell_type": "markdown",
   "metadata": {
    "id": "LujfMGvIlVG0"
   },
   "source": [
    "---"
   ]
  },
  {
   "cell_type": "markdown",
   "metadata": {
    "id": "jx3A7ZIglVG0"
   },
   "source": [
    "## Make your question"
   ]
  },
  {
   "cell_type": "markdown",
   "metadata": {
    "id": "riY7Pl9iXI8-"
   },
   "source": [
    "The most important step is to define what is ouput and what is input. Regarding input columns, if possible, we try to determine which columns will not be used based on the meaning of the columns and will remove these columns to simplify the next steps. For columns that are not sure whether to remove or keep, we should keep it and we will do it in the steps later.\n",
    "\n",
    "Finding this answer to this question doesn't really make much sense in practice; The main purpose of this lab is to practice preprocessing + modeling."
   ]
  },
  {
   "cell_type": "markdown",
   "metadata": {
    "Collapsed": "false",
    "id": "WlhcRL0YlVG1"
   },
   "source": [
    "---"
   ]
  },
  {
   "cell_type": "markdown",
   "metadata": {
    "id": "ZIScaP1ZAk6W"
   },
   "source": [
    "## Data Discovery (for how to separate sets)\n",
    "To know how to split the data set, we need to explore the output column:\n",
    "\n",
    "- What data type does this column have? In the regression problem, the output column must be in numeric form; if there is no numeric form (for example, numbers but stored as strings) then we need to convert to numeric form and then separate the subsets.\n",
    "- Does this column have a missing value? If it have missing value, we will remove the rows where the output has a missing value and then split the subsets (the type of learning that learns from data where the output has a missing value is called semi-supervised); \n",
    "- If this column is categorical, what is the ratio of the classes? If the ratio of classes are disparate too much, then we may need to go back to the data collection step and collect more so that the ratio of the classes do not differ too much (or using unique techniques to solve the imbalance of the data set)."
   ]
  },
  {
   "cell_type": "code",
   "execution_count": 8,
   "metadata": {
    "id": "Q2ksfSf-lVG1"
   },
   "outputs": [
    {
     "data": {
      "text/plain": [
       "dtype('int64')"
      ]
     },
     "execution_count": 8,
     "metadata": {},
     "output_type": "execute_result"
    }
   ],
   "source": [
    "# What data type does output column have?\n",
    "data_df['target'].dtype"
   ]
  },
  {
   "cell_type": "code",
   "execution_count": 9,
   "metadata": {
    "id": "BcQnoMbxlVG1"
   },
   "outputs": [
    {
     "data": {
      "text/plain": [
       "0"
      ]
     },
     "execution_count": 9,
     "metadata": {},
     "output_type": "execute_result"
    }
   ],
   "source": [
    "# The number of missing value\n",
    "data_df['target'].isna().sum()"
   ]
  },
  {
   "cell_type": "code",
   "execution_count": 10,
   "metadata": {
    "id": "i758Nmi0lVG2"
   },
   "outputs": [
    {
     "data": {
      "text/plain": [
       "1    54.132231\n",
       "0    45.867769\n",
       "Name: target, dtype: float64"
      ]
     },
     "execution_count": 10,
     "metadata": {},
     "output_type": "execute_result"
    },
    {
     "data": {
      "image/png": "[encoded data removed]",
      "text/plain": [
       "<Figure size 640x480 with 1 Axes>"
      ]
     },
     "metadata": {},
     "output_type": "display_data"
    }
   ],
   "source": [
    "# what is the ratio of the classes?\n",
    "data_df.target.value_counts(normalize=True).plot(kind=\"bar\", color=[\"red\", \"blue\"])\n",
    "data_df['target'].value_counts(normalize=True) * 100"
   ]
  },
  {
   "cell_type": "markdown",
   "metadata": {
    "id": "bMKy7WAOZWex"
   },
   "source": [
    "OK, no problem at all. The ratio between classes is also quite balanced, so we should be able to apply common techniques to solve this problem."
   ]
  },
  {
   "cell_type": "markdown",
   "metadata": {
    "id": "NgcvfyEPlVG2"
   },
   "source": [
    "---"
   ]
  },
  {
   "cell_type": "markdown",
   "metadata": {
    "id": "oQXS782plVG3",
    "tags": []
   },
   "source": [
    "## Preprocessing (Splitting Data)"
   ]
  },
  {
   "cell_type": "markdown",
   "metadata": {
    "id": "enag7q74Ztvo"
   },
   "source": [
    "Now we will perform the preprocessing step which is to split the validation set"
   ]
  },
  {
   "cell_type": "code",
   "execution_count": 11,
   "metadata": {
    "Collapsed": "false",
    "id": "GOxpBQ2hlVG3"
   },
   "outputs": [],
   "source": [
    "# Get predictor(X) and target(y)\n",
    "y_sr = data_df[\"target\"] \n",
    "X_df = data_df.drop(\"target\", axis=1)"
   ]
  },
  {
   "cell_type": "code",
   "execution_count": 12,
   "metadata": {
    "Collapsed": "false",
    "id": "tBKNBvtPlVG3"
   },
   "outputs": [],
   "source": [
    "# Split the training set and the validation set by the ratio of 80%: 20%\n",
    "train_X_df, val_X_df, train_y_sr, val_y_sr = \\\n",
    "                              train_test_split(X_df, y_sr, \n",
    "                                               test_size=0.2, \n",
    "                                               stratify=y_sr, \n",
    "                                               random_state=0)"
   ]
  },
  {
   "cell_type": "code",
   "execution_count": 13,
   "metadata": {
    "id": "rxUbZC8IlVG3"
   },
   "outputs": [
    {
     "data": {
      "text/plain": [
       "(193, 13)"
      ]
     },
     "execution_count": 13,
     "metadata": {},
     "output_type": "execute_result"
    }
   ],
   "source": [
    "train_X_df.shape"
   ]
  },
  {
   "cell_type": "code",
   "execution_count": 14,
   "metadata": {
    "id": "Y6QO5DEwlVG4"
   },
   "outputs": [
    {
     "data": {
      "text/plain": [
       "(193,)"
      ]
     },
     "execution_count": 14,
     "metadata": {},
     "output_type": "execute_result"
    }
   ],
   "source": [
    "train_y_sr.shape"
   ]
  },
  {
   "cell_type": "code",
   "execution_count": 15,
   "metadata": {
    "id": "tMzu6_kIlVG4"
   },
   "outputs": [
    {
     "data": {
      "text/plain": [
       "(49, 13)"
      ]
     },
     "execution_count": 15,
     "metadata": {},
     "output_type": "execute_result"
    }
   ],
   "source": [
    "val_X_df.shape"
   ]
  },
  {
   "cell_type": "code",
   "execution_count": 16,
   "metadata": {
    "id": "as6Tz8telVG4"
   },
   "outputs": [
    {
     "data": {
      "text/plain": [
       "(49,)"
      ]
     },
     "execution_count": 16,
     "metadata": {},
     "output_type": "execute_result"
    }
   ],
   "source": [
    "val_y_sr.shape"
   ]
  },
  {
   "cell_type": "code",
   "execution_count": 17,
   "metadata": {
    "Collapsed": "false",
    "id": "mEJirtzJlVG4"
   },
   "outputs": [
    {
     "data": {
      "text/plain": [
       "Int64Index([214, 160, 23, 57, 206], dtype='int64')"
      ]
     },
     "execution_count": 17,
     "metadata": {},
     "output_type": "execute_result"
    }
   ],
   "source": [
    "train_X_df.head().index"
   ]
  },
  {
   "cell_type": "markdown",
   "metadata": {
    "id": "kzBMaA4JatSF"
   },
   "source": [
    "&#9889; I've fixed `random_state` in `train_test_split` to make sure my results are the same as yours. However, I don't know if this is guaranteed with different operating systems. The result of my `train_X_df.head().index` statement is 5 values: 214, 160, 23, 57, 206. If yours is different, please report back to me on moodle (or zalo), because if it is different, your results will also be different from mine."
   ]
  },
  {
   "cell_type": "markdown",
   "metadata": {
    "Collapsed": "false",
    "id": "b9EXZJOalVG5"
   },
   "source": [
    "---"
   ]
  },
  {
   "cell_type": "markdown",
   "metadata": {
    "Collapsed": "false",
    "id": "83Q7v7BYlVG5"
   },
   "source": [
    "## Exploring data on training set"
   ]
  },
  {
   "cell_type": "markdown",
   "metadata": {
    "id": "ZEM0lFBHlVG5"
   },
   "source": [
    "After separating the subsets, we can freely explore on the training set without scaring about data leakage problem."
   ]
  },
  {
   "cell_type": "markdown",
   "metadata": {
    "id": "LY1HXxl3lVG5"
   },
   "source": [
    "### Check data type of each attribute"
   ]
  },
  {
   "cell_type": "code",
   "execution_count": 18,
   "metadata": {
    "id": "fGmgPdoulVG5"
   },
   "outputs": [
    {
     "data": {
      "text/plain": [
       "age         float64\n",
       "sex          object\n",
       "cp            int64\n",
       "trestbps      int64\n",
       "chol        float64\n",
       "fbs           int64\n",
       "restecg       int64\n",
       "thalach     float64\n",
       "exang         int64\n",
       "oldpeak     float64\n",
       "slope       float64\n",
       "ca            int64\n",
       "thal          int64\n",
       "dtype: object"
      ]
     },
     "execution_count": 18,
     "metadata": {},
     "output_type": "execute_result"
    }
   ],
   "source": [
    "train_X_df.dtypes"
   ]
  },
  {
   "cell_type": "markdown",
   "metadata": {
    "id": "QtmDTZWUlVG6"
   },
   "source": [
    "### Exploring the distribution of numerical attributes"
   ]
  },
  {
   "cell_type": "code",
   "execution_count": 19,
   "metadata": {
    "id": "04n9XUeIlVG6"
   },
   "outputs": [
    {
     "data": {
      "text/plain": [
       "age         float64\n",
       "cp            int64\n",
       "trestbps      int64\n",
       "chol        float64\n",
       "fbs           int64\n",
       "restecg       int64\n",
       "thalach     float64\n",
       "exang         int64\n",
       "oldpeak     float64\n",
       "slope       float64\n",
       "ca            int64\n",
       "thal          int64\n",
       "dtype: object"
      ]
     },
     "execution_count": 19,
     "metadata": {},
     "output_type": "execute_result"
    }
   ],
   "source": [
    "train_X_df.dtypes[train_X_df.dtypes != object]"
   ]
  },
  {
   "cell_type": "code",
   "execution_count": 20,
   "metadata": {
    "id": "UBpuFrXrcoVE"
   },
   "outputs": [
    {
     "data": {
      "text/html": [
       "<div>\n",
       "<style scoped>\n",
       "    .dataframe tbody tr th:only-of-type {\n",
       "        vertical-align: middle;\n",
       "    }\n",
       "\n",
       "    .dataframe tbody tr th {\n",
       "        vertical-align: top;\n",
       "    }\n",
       "\n",
       "    .dataframe thead th {\n",
       "        text-align: right;\n",
       "    }\n",
       "</style>\n",
       "<table border=\"1\" class=\"dataframe\">\n",
       "  <thead>\n",
       "    <tr style=\"text-align: right;\">\n",
       "      <th></th>\n",
       "      <th>age</th>\n",
       "      <th>cp</th>\n",
       "      <th>trestbps</th>\n",
       "      <th>chol</th>\n",
       "      <th>fbs</th>\n",
       "      <th>restecg</th>\n",
       "      <th>thalach</th>\n",
       "      <th>exang</th>\n",
       "      <th>oldpeak</th>\n",
       "      <th>slope</th>\n",
       "      <th>ca</th>\n",
       "      <th>thal</th>\n",
       "    </tr>\n",
       "  </thead>\n",
       "  <tbody>\n",
       "    <tr>\n",
       "      <th>count</th>\n",
       "      <td>174.00</td>\n",
       "      <td>193.00</td>\n",
       "      <td>193.00</td>\n",
       "      <td>164.00</td>\n",
       "      <td>193.00</td>\n",
       "      <td>193.00</td>\n",
       "      <td>55.00</td>\n",
       "      <td>193.00</td>\n",
       "      <td>164.00</td>\n",
       "      <td>171.00</td>\n",
       "      <td>193.00</td>\n",
       "      <td>193.00</td>\n",
       "    </tr>\n",
       "    <tr>\n",
       "      <th>mean</th>\n",
       "      <td>55.18</td>\n",
       "      <td>1.15</td>\n",
       "      <td>131.85</td>\n",
       "      <td>245.91</td>\n",
       "      <td>0.14</td>\n",
       "      <td>0.55</td>\n",
       "      <td>147.04</td>\n",
       "      <td>0.31</td>\n",
       "      <td>1.06</td>\n",
       "      <td>1.45</td>\n",
       "      <td>0.70</td>\n",
       "      <td>2.31</td>\n",
       "    </tr>\n",
       "    <tr>\n",
       "      <th>std</th>\n",
       "      <td>9.08</td>\n",
       "      <td>1.64</td>\n",
       "      <td>16.51</td>\n",
       "      <td>50.38</td>\n",
       "      <td>0.35</td>\n",
       "      <td>0.54</td>\n",
       "      <td>23.36</td>\n",
       "      <td>0.46</td>\n",
       "      <td>1.22</td>\n",
       "      <td>0.61</td>\n",
       "      <td>1.00</td>\n",
       "      <td>0.62</td>\n",
       "    </tr>\n",
       "    <tr>\n",
       "      <th>min</th>\n",
       "      <td>29.00</td>\n",
       "      <td>0.00</td>\n",
       "      <td>100.00</td>\n",
       "      <td>131.00</td>\n",
       "      <td>0.00</td>\n",
       "      <td>0.00</td>\n",
       "      <td>71.00</td>\n",
       "      <td>0.00</td>\n",
       "      <td>0.00</td>\n",
       "      <td>0.00</td>\n",
       "      <td>0.00</td>\n",
       "      <td>0.00</td>\n",
       "    </tr>\n",
       "    <tr>\n",
       "      <th>25%</th>\n",
       "      <td>48.00</td>\n",
       "      <td>0.00</td>\n",
       "      <td>120.00</td>\n",
       "      <td>211.75</td>\n",
       "      <td>0.00</td>\n",
       "      <td>0.00</td>\n",
       "      <td>131.50</td>\n",
       "      <td>0.00</td>\n",
       "      <td>0.00</td>\n",
       "      <td>1.00</td>\n",
       "      <td>0.00</td>\n",
       "      <td>2.00</td>\n",
       "    </tr>\n",
       "    <tr>\n",
       "      <th>50%</th>\n",
       "      <td>57.00</td>\n",
       "      <td>1.00</td>\n",
       "      <td>130.00</td>\n",
       "      <td>239.00</td>\n",
       "      <td>0.00</td>\n",
       "      <td>1.00</td>\n",
       "      <td>152.00</td>\n",
       "      <td>0.00</td>\n",
       "      <td>0.70</td>\n",
       "      <td>2.00</td>\n",
       "      <td>0.00</td>\n",
       "      <td>2.00</td>\n",
       "    </tr>\n",
       "    <tr>\n",
       "      <th>75%</th>\n",
       "      <td>62.00</td>\n",
       "      <td>2.00</td>\n",
       "      <td>140.00</td>\n",
       "      <td>275.25</td>\n",
       "      <td>0.00</td>\n",
       "      <td>1.00</td>\n",
       "      <td>162.50</td>\n",
       "      <td>1.00</td>\n",
       "      <td>1.80</td>\n",
       "      <td>2.00</td>\n",
       "      <td>1.00</td>\n",
       "      <td>3.00</td>\n",
       "    </tr>\n",
       "    <tr>\n",
       "      <th>max</th>\n",
       "      <td>76.00</td>\n",
       "      <td>9.00</td>\n",
       "      <td>180.00</td>\n",
       "      <td>417.00</td>\n",
       "      <td>1.00</td>\n",
       "      <td>2.00</td>\n",
       "      <td>182.00</td>\n",
       "      <td>1.00</td>\n",
       "      <td>6.20</td>\n",
       "      <td>2.00</td>\n",
       "      <td>4.00</td>\n",
       "      <td>3.00</td>\n",
       "    </tr>\n",
       "  </tbody>\n",
       "</table>\n",
       "</div>"
      ],
      "text/plain": [
       "         age     cp  trestbps   chol    fbs  restecg  thalach  exang  oldpeak  \\\n",
       "count 174.00 193.00    193.00 164.00 193.00   193.00    55.00 193.00   164.00   \n",
       "mean   55.18   1.15    131.85 245.91   0.14     0.55   147.04   0.31     1.06   \n",
       "std     9.08   1.64     16.51  50.38   0.35     0.54    23.36   0.46     1.22   \n",
       "min    29.00   0.00    100.00 131.00   0.00     0.00    71.00   0.00     0.00   \n",
       "25%    48.00   0.00    120.00 211.75   0.00     0.00   131.50   0.00     0.00   \n",
       "50%    57.00   1.00    130.00 239.00   0.00     1.00   152.00   0.00     0.70   \n",
       "75%    62.00   2.00    140.00 275.25   0.00     1.00   162.50   1.00     1.80   \n",
       "max    76.00   9.00    180.00 417.00   1.00     2.00   182.00   1.00     6.20   \n",
       "\n",
       "       slope     ca   thal  \n",
       "count 171.00 193.00 193.00  \n",
       "mean    1.45   0.70   2.31  \n",
       "std     0.61   1.00   0.62  \n",
       "min     0.00   0.00   0.00  \n",
       "25%     1.00   0.00   2.00  \n",
       "50%     2.00   0.00   2.00  \n",
       "75%     2.00   1.00   3.00  \n",
       "max     2.00   4.00   3.00  "
      ]
     },
     "execution_count": 20,
     "metadata": {},
     "output_type": "execute_result"
    }
   ],
   "source": [
    "pd.set_option(\"display.float\", \"{:.2f}\".format)\n",
    "train_X_df.describe()"
   ]
  },
  {
   "cell_type": "markdown",
   "metadata": {
    "Collapsed": "false",
    "id": "L12O7thLlVG8"
   },
   "source": [
    "---"
   ]
  },
  {
   "cell_type": "markdown",
   "metadata": {
    "id": "zbGOiPEglVG8"
   },
   "source": [
    "## Preprocessing (Training set) (3.5đ)"
   ]
  },
  {
   "cell_type": "markdown",
   "metadata": {},
   "source": [
    "First, we will add and remove some columns as follows:\n",
    "- With the `cp` column, we will proceed to extract the corresponding `cp_reduced` column. When you explore, you will see that `cp` has quite a few different values in the train set (in the train set have 10 values, but in the test set have more), some of which only appear one or very few times; if we don't deal with it, when converting to numeric by one-hot method, there will be many columns &#8594; prone to overfit. We will handle this problem as follows: take only `num_top_cp_values` (for example, 4) the value that appear most often, the rest will be replaced by the value `-1` (When modeling, We will encode this column as one-hot, so choose any value that is not in `top_cp_values` to replace it, but we will choose the value `-1`). Later, we will experiment to choose the right `num_top_cp_values` value. After processing the `cp_reduced` column, we add this column to the dataframe and remove the `cp` column.\n",
    "- Removed the `thalach` column because it has too many missing values."
   ]
  },
  {
   "cell_type": "markdown",
   "metadata": {},
   "source": [
    "The class `ColAdderDropper` will perform the steps above. Because in the steps above, there is a step where we need to compute the values from the training set (`num_top_cp_values` the value of the column \"cp_reduced\" that appear most) and use these values to \"transform\" the dataset. (it can be a training set, it can be a validation set or a test set) so we have to define a class in Sklearn's \"transformer\" form (so we can use Sklearn's pipeline later) and in it we have to manually define it. define `fit` and `transform` methods (also if you just need to \"transform\" the data set without calculating any values from the training set, using `FunctionTransformer` as in the file [\"08-Demo.ipynb\"](https://colab.research.google.com/drive/1kZwBNAikKWplKTCKIn0ofQ9eIX12ePEl#scrollTo=gn0O90j_prDS) will more convenient). Note: the `fit` method is only used on the training set, and the `transform` method (after `fit`) can be used for any set."
   ]
  },
  {
   "cell_type": "markdown",
   "metadata": {},
   "source": [
    "Below, I have pre-installed the `fit` method; after `fit`, the values of the `cp` column along with the number of occurrences will be stored in the `self.cp_counts_` attribute (when \"transform\" this information is not needed, but you may want to see this information), and `num_top_cp_values` the value that occurs most often is saved to `self.top_cp_values_` (`num_top_cp_values` is the hyperparameter that must be specified when creating an object of this class). Your task is to implement the `transform` method (in which `self.top_cp_values_` will be used); Please note that the data in `X_df` is not changed."
   ]
  },
  {
   "cell_type": "markdown",
   "metadata": {},
   "source": [
    "Also, as you can see below, the `ColAdderDropper` class is inherited from two Sklearn classes `BaseEstimator` and `TransformerMixin`. This inheritance helps our class automatically have methods like `set_params`, `get_params`, `fit_transform` (otherwise we would have to define these methods ourselves). If you want to learn more about how to write classes in Sklearn format, you can read [here](https://scikit-learn.org/stable/developers/develop.html?highlight=baseestimator)."
   ]
  },
  {
   "cell_type": "code",
   "execution_count": 21,
   "metadata": {
    "Collapsed": "false",
    "deletable": false,
    "id": "v5VbKC_ilVG8",
    "nbgrader": {
     "cell_type": "code",
     "checksum": "9bbd42fec4a1b01ae8a8a58dc28e06d2",
     "grade": false,
     "grade_id": "cell-c2cb62acb65582f6",
     "locked": false,
     "schema_version": 3,
     "solution": true,
     "task": false
    }
   },
   "outputs": [],
   "source": [
    "class ColAdderDropper(BaseEstimator, TransformerMixin):\n",
    "    def __init__(self, num_top_cp_values=3):\n",
    "        self.num_top_cp_values = num_top_cp_values\n",
    "        \n",
    "    def fit(self, X_df, y=None):\n",
    "        self.cp_counts_ = X_df['cp'].value_counts()\n",
    "        cps = list(self.cp_counts_.index)\n",
    "        self.top_cp_values_ = cps[:max(1, min(self.num_top_cp_values, len(cps)))]\n",
    "        return self\n",
    "    \n",
    "    def transform(self, X_df, y=None):\n",
    "        \n",
    "        out_df = X_df.copy()\n",
    "        # YOUR CODE HERE\n",
    "        out_df['cp_reduced'] = np.where(np.isin(out_df['cp'], self.top_cp_values_), out_df['cp'], -1)\n",
    "        out_df = out_df.drop(columns=['cp', 'thalach'])\n",
    "\n",
    "        out_df = out_df.sort_index(axis=1)\n",
    "        return out_df"
   ]
  },
  {
   "cell_type": "code",
   "execution_count": 22,
   "metadata": {
    "id": "-CYn5spSlVG9"
   },
   "outputs": [
    {
     "name": "stdout",
     "output_type": "stream",
     "text": [
      "0    117\n",
      "2     69\n",
      "1     36\n",
      "3      5\n",
      "6      4\n",
      "9      3\n",
      "4      3\n",
      "7      2\n",
      "5      2\n",
      "8      1\n",
      "Name: cp, dtype: int64\n",
      "\n",
      "[0, 2, 1]\n"
     ]
    }
   ],
   "source": [
    "# TEST FIT METHOD\n",
    "col_adderdropper = ColAdderDropper(num_top_cp_values=3)\n",
    "col_adderdropper.fit(data_df)\n",
    "print(col_adderdropper.cp_counts_)\n",
    "print()\n",
    "print(col_adderdropper.top_cp_values_)"
   ]
  },
  {
   "cell_type": "code",
   "execution_count": 23,
   "metadata": {
    "Collapsed": "false",
    "deletable": false,
    "editable": false,
    "id": "ujHTyrGJlVG9",
    "nbgrader": {
     "cell_type": "code",
     "checksum": "258f156033739a9ad92fb68786c9f38b",
     "grade": true,
     "grade_id": "cell-7a54f3df0d0a2556",
     "locked": true,
     "points": 1,
     "schema_version": 3,
     "solution": false,
     "task": false
    }
   },
   "outputs": [
    {
     "data": {
      "text/html": [
       "<div>\n",
       "<style scoped>\n",
       "    .dataframe tbody tr th:only-of-type {\n",
       "        vertical-align: middle;\n",
       "    }\n",
       "\n",
       "    .dataframe tbody tr th {\n",
       "        vertical-align: top;\n",
       "    }\n",
       "\n",
       "    .dataframe thead th {\n",
       "        text-align: right;\n",
       "    }\n",
       "</style>\n",
       "<table border=\"1\" class=\"dataframe\">\n",
       "  <thead>\n",
       "    <tr style=\"text-align: right;\">\n",
       "      <th></th>\n",
       "      <th>age</th>\n",
       "      <th>ca</th>\n",
       "      <th>chol</th>\n",
       "      <th>cp_reduced</th>\n",
       "      <th>exang</th>\n",
       "      <th>fbs</th>\n",
       "      <th>oldpeak</th>\n",
       "      <th>restecg</th>\n",
       "      <th>sex</th>\n",
       "      <th>slope</th>\n",
       "      <th>thal</th>\n",
       "      <th>trestbps</th>\n",
       "    </tr>\n",
       "  </thead>\n",
       "  <tbody>\n",
       "    <tr>\n",
       "      <th>214</th>\n",
       "      <td>64.00</td>\n",
       "      <td>0</td>\n",
       "      <td>335.00</td>\n",
       "      <td>2</td>\n",
       "      <td>0</td>\n",
       "      <td>0</td>\n",
       "      <td>0.00</td>\n",
       "      <td>1</td>\n",
       "      <td>NaN</td>\n",
       "      <td>2.00</td>\n",
       "      <td>2</td>\n",
       "      <td>140</td>\n",
       "    </tr>\n",
       "    <tr>\n",
       "      <th>160</th>\n",
       "      <td>49.00</td>\n",
       "      <td>0</td>\n",
       "      <td>271.00</td>\n",
       "      <td>1</td>\n",
       "      <td>0</td>\n",
       "      <td>0</td>\n",
       "      <td>0.00</td>\n",
       "      <td>1</td>\n",
       "      <td>female</td>\n",
       "      <td>NaN</td>\n",
       "      <td>2</td>\n",
       "      <td>134</td>\n",
       "    </tr>\n",
       "    <tr>\n",
       "      <th>23</th>\n",
       "      <td>59.00</td>\n",
       "      <td>1</td>\n",
       "      <td>239.00</td>\n",
       "      <td>0</td>\n",
       "      <td>1</td>\n",
       "      <td>0</td>\n",
       "      <td>NaN</td>\n",
       "      <td>0</td>\n",
       "      <td>male</td>\n",
       "      <td>1.00</td>\n",
       "      <td>3</td>\n",
       "      <td>110</td>\n",
       "    </tr>\n",
       "    <tr>\n",
       "      <th>57</th>\n",
       "      <td>60.00</td>\n",
       "      <td>0</td>\n",
       "      <td>NaN</td>\n",
       "      <td>2</td>\n",
       "      <td>0</td>\n",
       "      <td>1</td>\n",
       "      <td>0.00</td>\n",
       "      <td>1</td>\n",
       "      <td>female</td>\n",
       "      <td>2.00</td>\n",
       "      <td>2</td>\n",
       "      <td>120</td>\n",
       "    </tr>\n",
       "    <tr>\n",
       "      <th>206</th>\n",
       "      <td>65.00</td>\n",
       "      <td>0</td>\n",
       "      <td>177.00</td>\n",
       "      <td>0</td>\n",
       "      <td>0</td>\n",
       "      <td>0</td>\n",
       "      <td>0.40</td>\n",
       "      <td>1</td>\n",
       "      <td>male</td>\n",
       "      <td>2.00</td>\n",
       "      <td>3</td>\n",
       "      <td>120</td>\n",
       "    </tr>\n",
       "  </tbody>\n",
       "</table>\n",
       "</div>"
      ],
      "text/plain": [
       "      age  ca   chol  cp_reduced  exang  fbs  oldpeak  restecg     sex  slope  \\\n",
       "214 64.00   0 335.00           2      0    0     0.00        1     NaN   2.00   \n",
       "160 49.00   0 271.00           1      0    0     0.00        1  female    NaN   \n",
       "23  59.00   1 239.00           0      1    0      NaN        0    male   1.00   \n",
       "57  60.00   0    NaN           2      0    1     0.00        1  female   2.00   \n",
       "206 65.00   0 177.00           0      0    0     0.40        1    male   2.00   \n",
       "\n",
       "     thal  trestbps  \n",
       "214     2       140  \n",
       "160     2       134  \n",
       "23      3       110  \n",
       "57      2       120  \n",
       "206     3       120  "
      ]
     },
     "execution_count": 23,
     "metadata": {},
     "output_type": "execute_result"
    }
   ],
   "source": [
    "# TEST TRANSFORM METHOD\n",
    "fewer_cols_train_X_df = col_adderdropper.transform(train_X_df)\n",
    "assert set(fewer_cols_train_X_df.columns) == \\\n",
    "                                {'age', 'ca', 'chol', 'cp_reduced', 'exang', 'fbs', 'oldpeak', 'restecg', 'sex', 'slope', 'thal', 'trestbps'}\n",
    "                                \n",
    "assert np.all(fewer_cols_train_X_df['cp_reduced'].value_counts() == \\\n",
    "              pd.Series([94, 55, 29, 15], \n",
    "                        [0, 2, 1, -1]))\n",
    "fewer_cols_train_X_df.head()"
   ]
  },
  {
   "cell_type": "markdown",
   "metadata": {},
   "source": [
    "Next, you will have to make a list of numeric columns (numerical) and non-numeric columns (categorical). The next preprocessing steps are as follows:\n",
    "- For numeric columns, we will fill in the missing value with the mean value of the column <font color=gray> (hint: use `SimpleImputer` in Sklearn)</font>. For *all* numeric columns in the training set, we all need to compute the mean, because we don't know which columns will be missing values when predicting with the new input vectors.\n",
    "- For non-numeric and unordered columns:\n",
    "     - We will fill in the missing value with the mode value (the most occurring value) of the column <font color=gray> (hint: use `SimpleImputer` in Sklearn)</font>. With *all* non-numerical and unordered columns, we all need to compute the mode, because we don't know which columns will be missing values when predicting with the new input vectors.\n",
    "     - Then we will convert to numeric by one-hot encoding method <font color=gray> (hint: use `OneHotEncoder` in Sklearn, watch out for `handle_unknown` parameter because when predicting with vectors- new input string ...)</font>.\n",
    "\n",
    "- Finally, when all columns have been filled with missing values and are in numeric form, we will proceed to normalize the range by subtracting the mean and dividing by the column's std to help the optimization algorithm as Gradient Descent, LBFGS, ... converge faster than <font color=gray>(hint: use `StandardScaler` in Sklearn)</font>."
   ]
  },
  {
   "cell_type": "markdown",
   "metadata": {},
   "source": [
    "Your task is to create a pipeline, name it `preprocess_pipeline`, including: the step of adding `cp_reduced` columns and removing columns (installed in class `ColAdderDropper`, you set `num_top_cp_values=3`), and all the steps here (please note to follow the order of the steps and columns that I have described). Once you've created this pipeline, you'll call the `fit_transform` method with `train_X_df` as input to compute the values from the training set (for example, `top_cp_values_` in adding and removing columns; mean and mode in the missing value processing step; mean and std in the normalization step) and also `train_X_df` preprocessing; The result will be `train_X_df` after preprocessing, which is a Numpy array, you name it `preprocessed_train_X`. <font color=gray>(Hint: you read how to use pipeline in [document](https://scikit-learn.org/stable/modules/compose.html#transforming-target-in-regression), maybe skip 6.1.2; you'll need to use `Pipeline`/`make_pipeline` and `ColumnTransformer`/`make_column_transformer`.)</font>"
   ]
  },
  {
   "cell_type": "code",
   "execution_count": 24,
   "metadata": {
    "Collapsed": "false",
    "deletable": false,
    "id": "As9Dp0wZlVG-",
    "nbgrader": {
     "cell_type": "code",
     "checksum": "e7a1d4ae5e4fa50b60b4998de6be96a1",
     "grade": false,
     "grade_id": "cell-ae75d7dfa7256c7f",
     "locked": false,
     "schema_version": 3,
     "solution": true
    }
   },
   "outputs": [],
   "source": [
    "# You determine which column is numerical or categorical\n",
    "# (Hint: consider columns with different number of values < 15 )\n",
    "# YOUR CODE HERE\n",
    "categorical_cols = []\n",
    "numerics_cols = []\n",
    "cols_name = ['age', 'ca', 'chol', 'cp_reduced', 'exang', 'fbs', 'oldpeak', 'restecg', 'sex', 'slope', 'thal', 'trestbps']\n",
    "for name in cols_name:\n",
    "    if len(set(fewer_cols_train_X_df[name].dropna())) < 15:\n",
    "        categorical_cols.append(name)\n",
    "    else:\n",
    "        numerics_cols.append(name)\n",
    "numeric_transformer = Pipeline(\n",
    "    steps=[(\"fill_mean\", SimpleImputer(strategy=\"mean\"))]\n",
    ")\n",
    "categorical_transformer = Pipeline(\n",
    "    steps=[(\"fill_mode\", SimpleImputer(strategy=\"most_frequent\")),\n",
    "           (\"onehot\", OneHotEncoder(handle_unknown=\"ignore\"))]\n",
    ")\n",
    "\n",
    "preprocessor_transform = ColumnTransformer(\n",
    "    transformers=[(\"numeric\", numeric_transformer, numerics_cols),\n",
    "        (\"categorical\", categorical_transformer, categorical_cols),]\n",
    ")\n",
    "\n",
    "#preprocess_pipeline\n",
    "preprocess_pipeline = Pipeline(\n",
    "    steps=[(\"adddrop\", ColAdderDropper(num_top_cp_values = 3)),\n",
    "           (\"transform\", preprocessor_transform), \n",
    "           (\"scaler\", StandardScaler())]\n",
    ")\n",
    "# fit_transform\n",
    "preprocessed_train_X = preprocess_pipeline.fit_transform(train_X_df)\n"
   ]
  },
  {
   "cell_type": "code",
   "execution_count": 25,
   "metadata": {
    "Collapsed": "false",
    "deletable": false,
    "editable": false,
    "id": "sJKDf9IqlVG_",
    "nbgrader": {
     "cell_type": "code",
     "checksum": "34cd22a6a9f34822f20f8d3c89115986",
     "grade": true,
     "grade_id": "cell-1cf65ae2cdb14c0c",
     "locked": true,
     "points": 2.5,
     "schema_version": 3,
     "solution": false
    }
   },
   "outputs": [
    {
     "data": {
      "text/html": [
       "<style>#sk-container-id-1 {color: black;background-color: white;}#sk-container-id-1 pre{padding: 0;}#sk-container-id-1 div.sk-toggleable {background-color: white;}#sk-container-id-1 label.sk-toggleable__label {cursor: pointer;display: block;width: 100%;margin-bottom: 0;padding: 0.3em;box-sizing: border-box;text-align: center;}#sk-container-id-1 label.sk-toggleable__label-arrow:before {content: \"▸\";float: left;margin-right: 0.25em;color: #696969;}#sk-container-id-1 label.sk-toggleable__label-arrow:hover:before {color: black;}#sk-container-id-1 div.sk-estimator:hover label.sk-toggleable__label-arrow:before {color: black;}#sk-container-id-1 div.sk-toggleable__content {max-height: 0;max-width: 0;overflow: hidden;text-align: left;background-color: #f0f8ff;}#sk-container-id-1 div.sk-toggleable__content pre {margin: 0.2em;color: black;border-radius: 0.25em;background-color: #f0f8ff;}#sk-container-id-1 input.sk-toggleable__control:checked~div.sk-toggleable__content {max-height: 200px;max-width: 100%;overflow: auto;}#sk-container-id-1 input.sk-toggleable__control:checked~label.sk-toggleable__label-arrow:before {content: \"▾\";}#sk-container-id-1 div.sk-estimator input.sk-toggleable__control:checked~label.sk-toggleable__label {background-color: #d4ebff;}#sk-container-id-1 div.sk-label input.sk-toggleable__control:checked~label.sk-toggleable__label {background-color: #d4ebff;}#sk-container-id-1 input.sk-hidden--visually {border: 0;clip: rect(1px 1px 1px 1px);clip: rect(1px, 1px, 1px, 1px);height: 1px;margin: -1px;overflow: hidden;padding: 0;position: absolute;width: 1px;}#sk-container-id-1 div.sk-estimator {font-family: monospace;background-color: #f0f8ff;border: 1px dotted black;border-radius: 0.25em;box-sizing: border-box;margin-bottom: 0.5em;}#sk-container-id-1 div.sk-estimator:hover {background-color: #d4ebff;}#sk-container-id-1 div.sk-parallel-item::after {content: \"\";width: 100%;border-bottom: 1px solid gray;flex-grow: 1;}#sk-container-id-1 div.sk-label:hover label.sk-toggleable__label {background-color: #d4ebff;}#sk-container-id-1 div.sk-serial::before {content: \"\";position: absolute;border-left: 1px solid gray;box-sizing: border-box;top: 0;bottom: 0;left: 50%;z-index: 0;}#sk-container-id-1 div.sk-serial {display: flex;flex-direction: column;align-items: center;background-color: white;padding-right: 0.2em;padding-left: 0.2em;position: relative;}#sk-container-id-1 div.sk-item {position: relative;z-index: 1;}#sk-container-id-1 div.sk-parallel {display: flex;align-items: stretch;justify-content: center;background-color: white;position: relative;}#sk-container-id-1 div.sk-item::before, #sk-container-id-1 div.sk-parallel-item::before {content: \"\";position: absolute;border-left: 1px solid gray;box-sizing: border-box;top: 0;bottom: 0;left: 50%;z-index: -1;}#sk-container-id-1 div.sk-parallel-item {display: flex;flex-direction: column;z-index: 1;position: relative;background-color: white;}#sk-container-id-1 div.sk-parallel-item:first-child::after {align-self: flex-end;width: 50%;}#sk-container-id-1 div.sk-parallel-item:last-child::after {align-self: flex-start;width: 50%;}#sk-container-id-1 div.sk-parallel-item:only-child::after {width: 0;}#sk-container-id-1 div.sk-dashed-wrapped {border: 1px dashed gray;margin: 0 0.4em 0.5em 0.4em;box-sizing: border-box;padding-bottom: 0.4em;background-color: white;}#sk-container-id-1 div.sk-label label {font-family: monospace;font-weight: bold;display: inline-block;line-height: 1.2em;}#sk-container-id-1 div.sk-label-container {text-align: center;}#sk-container-id-1 div.sk-container {/* jupyter's `normalize.less` sets `[hidden] { display: none; }` but bootstrap.min.css set `[hidden] { display: none !important; }` so we also need the `!important` here to be able to override the default hidden behavior on the sphinx rendered scikit-learn.org. See: https://github.com/scikit-learn/scikit-learn/issues/21755 */display: inline-block !important;position: relative;}#sk-container-id-1 div.sk-text-repr-fallback {display: none;}</style><div id=\"sk-container-id-1\" class=\"sk-top-container\"><div class=\"sk-text-repr-fallback\"><pre>Pipeline(steps=[(&#x27;adddrop&#x27;, ColAdderDropper()),\n",
       "                (&#x27;transform&#x27;,\n",
       "                 ColumnTransformer(transformers=[(&#x27;numeric&#x27;,\n",
       "                                                  Pipeline(steps=[(&#x27;fill_mean&#x27;,\n",
       "                                                                   SimpleImputer())]),\n",
       "                                                  [&#x27;age&#x27;, &#x27;chol&#x27;, &#x27;oldpeak&#x27;,\n",
       "                                                   &#x27;trestbps&#x27;]),\n",
       "                                                 (&#x27;categorical&#x27;,\n",
       "                                                  Pipeline(steps=[(&#x27;fill_mode&#x27;,\n",
       "                                                                   SimpleImputer(strategy=&#x27;most_frequent&#x27;)),\n",
       "                                                                  (&#x27;onehot&#x27;,\n",
       "                                                                   OneHotEncoder(handle_unknown=&#x27;ignore&#x27;))]),\n",
       "                                                  [&#x27;ca&#x27;, &#x27;cp_reduced&#x27;, &#x27;exang&#x27;,\n",
       "                                                   &#x27;fbs&#x27;, &#x27;restecg&#x27;, &#x27;sex&#x27;,\n",
       "                                                   &#x27;slope&#x27;, &#x27;thal&#x27;])])),\n",
       "                (&#x27;scaler&#x27;, StandardScaler())])</pre><b>In a Jupyter environment, please rerun this cell to show the HTML representation or trust the notebook. <br />On GitHub, the HTML representation is unable to render, please try loading this page with nbviewer.org.</b></div><div class=\"sk-container\" hidden><div class=\"sk-item sk-dashed-wrapped\"><div class=\"sk-label-container\"><div class=\"sk-label sk-toggleable\"><input class=\"sk-toggleable__control sk-hidden--visually\" id=\"sk-estimator-id-1\" type=\"checkbox\" ><label for=\"sk-estimator-id-1\" class=\"sk-toggleable__label sk-toggleable__label-arrow\">Pipeline</label><div class=\"sk-toggleable__content\"><pre>Pipeline(steps=[(&#x27;adddrop&#x27;, ColAdderDropper()),\n",
       "                (&#x27;transform&#x27;,\n",
       "                 ColumnTransformer(transformers=[(&#x27;numeric&#x27;,\n",
       "                                                  Pipeline(steps=[(&#x27;fill_mean&#x27;,\n",
       "                                                                   SimpleImputer())]),\n",
       "                                                  [&#x27;age&#x27;, &#x27;chol&#x27;, &#x27;oldpeak&#x27;,\n",
       "                                                   &#x27;trestbps&#x27;]),\n",
       "                                                 (&#x27;categorical&#x27;,\n",
       "                                                  Pipeline(steps=[(&#x27;fill_mode&#x27;,\n",
       "                                                                   SimpleImputer(strategy=&#x27;most_frequent&#x27;)),\n",
       "                                                                  (&#x27;onehot&#x27;,\n",
       "                                                                   OneHotEncoder(handle_unknown=&#x27;ignore&#x27;))]),\n",
       "                                                  [&#x27;ca&#x27;, &#x27;cp_reduced&#x27;, &#x27;exang&#x27;,\n",
       "                                                   &#x27;fbs&#x27;, &#x27;restecg&#x27;, &#x27;sex&#x27;,\n",
       "                                                   &#x27;slope&#x27;, &#x27;thal&#x27;])])),\n",
       "                (&#x27;scaler&#x27;, StandardScaler())])</pre></div></div></div><div class=\"sk-serial\"><div class=\"sk-item\"><div class=\"sk-estimator sk-toggleable\"><input class=\"sk-toggleable__control sk-hidden--visually\" id=\"sk-estimator-id-2\" type=\"checkbox\" ><label for=\"sk-estimator-id-2\" class=\"sk-toggleable__label sk-toggleable__label-arrow\">ColAdderDropper</label><div class=\"sk-toggleable__content\"><pre>ColAdderDropper()</pre></div></div></div><div class=\"sk-item sk-dashed-wrapped\"><div class=\"sk-label-container\"><div class=\"sk-label sk-toggleable\"><input class=\"sk-toggleable__control sk-hidden--visually\" id=\"sk-estimator-id-3\" type=\"checkbox\" ><label for=\"sk-estimator-id-3\" class=\"sk-toggleable__label sk-toggleable__label-arrow\">transform: ColumnTransformer</label><div class=\"sk-toggleable__content\"><pre>ColumnTransformer(transformers=[(&#x27;numeric&#x27;,\n",
       "                                 Pipeline(steps=[(&#x27;fill_mean&#x27;,\n",
       "                                                  SimpleImputer())]),\n",
       "                                 [&#x27;age&#x27;, &#x27;chol&#x27;, &#x27;oldpeak&#x27;, &#x27;trestbps&#x27;]),\n",
       "                                (&#x27;categorical&#x27;,\n",
       "                                 Pipeline(steps=[(&#x27;fill_mode&#x27;,\n",
       "                                                  SimpleImputer(strategy=&#x27;most_frequent&#x27;)),\n",
       "                                                 (&#x27;onehot&#x27;,\n",
       "                                                  OneHotEncoder(handle_unknown=&#x27;ignore&#x27;))]),\n",
       "                                 [&#x27;ca&#x27;, &#x27;cp_reduced&#x27;, &#x27;exang&#x27;, &#x27;fbs&#x27;, &#x27;restecg&#x27;,\n",
       "                                  &#x27;sex&#x27;, &#x27;slope&#x27;, &#x27;thal&#x27;])])</pre></div></div></div><div class=\"sk-parallel\"><div class=\"sk-parallel-item\"><div class=\"sk-item\"><div class=\"sk-label-container\"><div class=\"sk-label sk-toggleable\"><input class=\"sk-toggleable__control sk-hidden--visually\" id=\"sk-estimator-id-4\" type=\"checkbox\" ><label for=\"sk-estimator-id-4\" class=\"sk-toggleable__label sk-toggleable__label-arrow\">numeric</label><div class=\"sk-toggleable__content\"><pre>[&#x27;age&#x27;, &#x27;chol&#x27;, &#x27;oldpeak&#x27;, &#x27;trestbps&#x27;]</pre></div></div></div><div class=\"sk-serial\"><div class=\"sk-item\"><div class=\"sk-serial\"><div class=\"sk-item\"><div class=\"sk-estimator sk-toggleable\"><input class=\"sk-toggleable__control sk-hidden--visually\" id=\"sk-estimator-id-5\" type=\"checkbox\" ><label for=\"sk-estimator-id-5\" class=\"sk-toggleable__label sk-toggleable__label-arrow\">SimpleImputer</label><div class=\"sk-toggleable__content\"><pre>SimpleImputer()</pre></div></div></div></div></div></div></div></div><div class=\"sk-parallel-item\"><div class=\"sk-item\"><div class=\"sk-label-container\"><div class=\"sk-label sk-toggleable\"><input class=\"sk-toggleable__control sk-hidden--visually\" id=\"sk-estimator-id-6\" type=\"checkbox\" ><label for=\"sk-estimator-id-6\" class=\"sk-toggleable__label sk-toggleable__label-arrow\">categorical</label><div class=\"sk-toggleable__content\"><pre>[&#x27;ca&#x27;, &#x27;cp_reduced&#x27;, &#x27;exang&#x27;, &#x27;fbs&#x27;, &#x27;restecg&#x27;, &#x27;sex&#x27;, &#x27;slope&#x27;, &#x27;thal&#x27;]</pre></div></div></div><div class=\"sk-serial\"><div class=\"sk-item\"><div class=\"sk-serial\"><div class=\"sk-item\"><div class=\"sk-estimator sk-toggleable\"><input class=\"sk-toggleable__control sk-hidden--visually\" id=\"sk-estimator-id-7\" type=\"checkbox\" ><label for=\"sk-estimator-id-7\" class=\"sk-toggleable__label sk-toggleable__label-arrow\">SimpleImputer</label><div class=\"sk-toggleable__content\"><pre>SimpleImputer(strategy=&#x27;most_frequent&#x27;)</pre></div></div></div><div class=\"sk-item\"><div class=\"sk-estimator sk-toggleable\"><input class=\"sk-toggleable__control sk-hidden--visually\" id=\"sk-estimator-id-8\" type=\"checkbox\" ><label for=\"sk-estimator-id-8\" class=\"sk-toggleable__label sk-toggleable__label-arrow\">OneHotEncoder</label><div class=\"sk-toggleable__content\"><pre>OneHotEncoder(handle_unknown=&#x27;ignore&#x27;)</pre></div></div></div></div></div></div></div></div></div></div><div class=\"sk-item\"><div class=\"sk-estimator sk-toggleable\"><input class=\"sk-toggleable__control sk-hidden--visually\" id=\"sk-estimator-id-9\" type=\"checkbox\" ><label for=\"sk-estimator-id-9\" class=\"sk-toggleable__label sk-toggleable__label-arrow\">StandardScaler</label><div class=\"sk-toggleable__content\"><pre>StandardScaler()</pre></div></div></div></div></div></div></div>"
      ],
      "text/plain": [
       "Pipeline(steps=[('adddrop', ColAdderDropper()),\n",
       "                ('transform',\n",
       "                 ColumnTransformer(transformers=[('numeric',\n",
       "                                                  Pipeline(steps=[('fill_mean',\n",
       "                                                                   SimpleImputer())]),\n",
       "                                                  ['age', 'chol', 'oldpeak',\n",
       "                                                   'trestbps']),\n",
       "                                                 ('categorical',\n",
       "                                                  Pipeline(steps=[('fill_mode',\n",
       "                                                                   SimpleImputer(strategy='most_frequent')),\n",
       "                                                                  ('onehot',\n",
       "                                                                   OneHotEncoder(handle_unknown='ignore'))]),\n",
       "                                                  ['ca', 'cp_reduced', 'exang',\n",
       "                                                   'fbs', 'restecg', 'sex',\n",
       "                                                   'slope', 'thal'])])),\n",
       "                ('scaler', StandardScaler())])"
      ]
     },
     "execution_count": 25,
     "metadata": {},
     "output_type": "execute_result"
    }
   ],
   "source": [
    "# TEST\n",
    "assert preprocessed_train_X.shape == (193, 29)\n",
    "row0 = [1.026, 1.924, -0.953, 0.495, 0.832, -0.503, -0.386, -0.269, -0.102, -0.29, -0.974, -0.421, 1.584, 0.672, -0.672,\n",
    "        0.403, -0.403, -0.935, 0.974, -0.145, -0.647, 0.647, -0.234, -0.789, 0.878, -0.072, -0.269, 0.915, -0.789]\n",
    "assert list(preprocessed_train_X[0].round(3)) == row0\n",
    "preprocess_pipeline"
   ]
  },
  {
   "cell_type": "markdown",
   "metadata": {
    "Collapsed": "false",
    "id": "1b07tI86lVG_"
   },
   "source": [
    "## Preprocessing (validation set) (1.5đ)"
   ]
  },
  {
   "cell_type": "markdown",
   "metadata": {},
   "source": [
    "\n",
    "Once we have `preprocess_pipeline` with statistics calculated from the training set, we can easily use the `transform` method to preprocess the new input vectors in the validation and test sets. . Below, you will do the same to preprocess `val_X_df` and save the result in `preprocessed_val_X` (only need 1 line of code)"
   ]
  },
  {
   "cell_type": "code",
   "execution_count": 26,
   "metadata": {
    "Collapsed": "false",
    "deletable": false,
    "id": "3VVrWVhPlVG_",
    "nbgrader": {
     "cell_type": "code",
     "checksum": "986f547abfe534258eb2c41f692c1084",
     "grade": false,
     "grade_id": "cell-5b00ff693785976e",
     "locked": false,
     "schema_version": 3,
     "solution": true
    }
   },
   "outputs": [],
   "source": [
    "# YOUR CODE HERE\n",
    "preprocessed_val_X = preprocess_pipeline.transform(val_X_df)"
   ]
  },
  {
   "cell_type": "code",
   "execution_count": 27,
   "metadata": {
    "Collapsed": "false",
    "deletable": false,
    "editable": false,
    "id": "un38UlKolVG_",
    "nbgrader": {
     "cell_type": "code",
     "checksum": "11d78d3e447c4f152ba6106fa18ad60f",
     "grade": true,
     "grade_id": "cell-b9c978682fecdf3c",
     "locked": true,
     "points": 0.5,
     "schema_version": 3,
     "solution": false
    }
   },
   "outputs": [],
   "source": [
    "# Test\n",
    "assert preprocessed_val_X.shape == (49, 29)\n",
    "row0 = [-1.534, -0.797, -0.953, -0.72, 0.832, -0.503, -0.386, -0.269, -0.102, -0.29, -0.974, -0.421, 1.584, 0.672, -0.672,\n",
    "        0.403, -0.403, -0.935, 0.974, -0.145, 1.545, -1.545, -0.234, 1.268, -1.139, -0.072, -0.269, 0.915, -0.789]\n",
    "assert list(preprocessed_val_X[0].round(3)) == row0\n"
   ]
  },
  {
   "cell_type": "markdown",
   "metadata": {},
   "source": [
    "Explain why you should not do the following 2 ways:\n",
    "- Preprocess the validation set with statistical values (mean, mode, ...) calculated from the validation set\n",
    "- Or preprocess all the data and then split the validation set"
   ]
  },
  {
   "cell_type": "markdown",
   "metadata": {
    "Collapsed": "false",
    "deletable": false,
    "id": "rda_-rndlVHA",
    "nbgrader": {
     "cell_type": "markdown",
     "checksum": "2a1567a9361126ee5dd2d6371498efda",
     "grade": true,
     "grade_id": "cell-c9f9e4ac63684628",
     "locked": false,
     "points": 1,
     "schema_version": 3,
     "solution": true
    }
   },
   "source": [
    "YOUR ANSWER HERE"
   ]
  },
  {
   "cell_type": "markdown",
   "metadata": {},
   "source": [
    "- Because if we fill mean and mode into the empty values of the validation set (method 1) or fill mean and mode before separating into training set and validation set (method 2), the algorithm will partially learn (or entire) validation set, which leads to a loss of objectivity when using the validation set."
   ]
  },
  {
   "cell_type": "markdown",
   "metadata": {
    "Collapsed": "false",
    "id": "esCTOTmclVHA"
   },
   "source": [
    "---"
   ]
  },
  {
   "cell_type": "markdown",
   "metadata": {
    "Collapsed": "false",
    "id": "a6BCMtZElVHA"
   },
   "source": [
    "## Preprocessing and Modeling Data"
   ]
  },
  {
   "cell_type": "markdown",
   "metadata": {
    "id": "HfvgdyEilVHB"
   },
   "source": [
    "### Find the best model (4đ)"
   ]
  },
  {
   "cell_type": "markdown",
   "metadata": {},
   "source": [
    "We will use the MLP model for classification. You will create an end-to-end pipeline consisting of: the above preprocessing steps + MLP (with the hyperparameters `hidden_layer_sizes=(50), activation='relu', solver='lbfgs', random_state=0 , max_iter=10000`). You name this pipeline `full_pipeline`. Creating an end-to-end pipeline like this has the following benefits:\n",
    "- Helps simplify:\n",
    "     - For end-to-end training, simply call the `fit` method of this pipeline on the raw training set. Now the \"transformers\" in the preprocessing steps will call `fit_transform`, and the \"classifiers\" at the end will call `fit`.\n",
    "     - With input vectors in raw form, to predict just call the pipeline's `predict` method. At this point, the \"transformers\" in the preprocessing steps will call `transform`, and the \"classifiers\" at the end will call `predict`.\n",
    "- Helps avoid preprocessing the validation/test-set in the wrong way (as mentioned in the \"Preprocessing (validation set)\" section above). \n",
    "- Makes it easy to simultaneously test the values of hyperparameters at each step in the pipeline (will do below)."
   ]
  },
  {
   "cell_type": "markdown",
   "metadata": {},
   "source": [
    "Once you've got this end-to-end pipeline, you'll experiment:\n",
    "- Hyperparameter `alpha` (L2 regularization coefficient) of `MLPClassifier` with 5 different values: from 0 to 100.\n",
    "- Hyperparameter `num_top_cp_values` of `ColAdderDropper` (at preprocessing step) with 5 different values: 1, 3, 5, 7, 9.\n",
    "\n",
    "To reassign `alpha` and `num_top_cp_values` to `full_pipeline`, you would use the `set_params` method:\n",
    "\n",
    "`full_pipeline.set_params(mlpclassifier__alpha=...)`\n",
    "\n",
    "If you create a pipeline with `make_pipeline` then the names of the steps will be automatically taken as the names of the classes and lowercase like the two names above. If you use `Pipeline` and name the steps yourself, use your name in the `set_params` method.\n",
    "\n",
    "Thus, for each model you will: train on the training set, calculate the metric here as the accuracy on the training set and the validation set, and then `append` the measure into two corresponding lists:`train_accs` and `val_accs` (for clarity, you calculate the accuracy in %, meaning it has a value from 0-100, not 0-1). You save the highest accuracy on the validation set and the `alpha` and `num_top_cp_values` values respectively into the `best_val_acc`, `best_alpha`, `best_num_top_cp_values` variables."
   ]
  },
  {
   "cell_type": "code",
   "execution_count": 28,
   "metadata": {
    "Collapsed": "false",
    "deletable": false,
    "id": "8axdeNeslVHB",
    "nbgrader": {
     "cell_type": "code",
     "checksum": "0662cf28420d8aab58040eaa80f76ed2",
     "grade": false,
     "grade_id": "cell-fdd12a79fb590313",
     "locked": false,
     "schema_version": 3,
     "solution": true,
     "task": false
    },
    "scrolled": true,
    "tags": []
   },
   "outputs": [],
   "source": [
    "# Creating full_pipeline\n",
    "# YOUR CODE HERE\n",
    "mlp_classifier = MLPClassifier(\n",
    "    hidden_layer_sizes=(50), \n",
    "    activation='relu', \n",
    "    solver='lbfgs', \n",
    "    random_state=0, \n",
    "    max_iter=10000\n",
    ")\n",
    "\n",
    "full_pipeline = Pipeline(\n",
    "    steps=[(\"preprocesspipeline\", preprocess_pipeline),\n",
    "           (\"mlpclassifier\", mlp_classifier)]\n",
    ")\n",
    "\n",
    "# Experiment with different values of hyperparameters (the whole process can take 2-3 minutes) and choose the best values\n",
    "train_accs = []\n",
    "val_accs = []\n",
    "alphas = [0,0.01,0.1, 1, 10, 100]\n",
    "num_top_cp_values_s = [1, 3, 5, 7,9]\n",
    "best_val_acc = 0\n",
    "best_alpha = None\n",
    "best_num_top_cp_values = None\n",
    "for alpha in alphas:\n",
    "    for num_top_cp_values in num_top_cp_values_s:\n",
    "        # YOUR CODE HERE\n",
    "        full_pipeline.set_params(mlpclassifier__alpha = alpha)\n",
    "        full_pipeline.set_params(preprocesspipeline__adddrop__num_top_cp_values = num_top_cp_values)\n",
    "\n",
    "        full_pipeline.fit(train_X_df, train_y_sr)\n",
    "        train_acc = full_pipeline.score(train_X_df, train_y_sr) * 100\n",
    "        val_acc = full_pipeline.score(val_X_df, val_y_sr) * 100\n",
    "\n",
    "        train_accs.append(train_acc)\n",
    "        val_accs.append(val_acc)\n",
    "\n",
    "        if val_acc > best_val_acc:\n",
    "            best_val_acc = val_acc\n",
    "            best_alpha = alpha\n",
    "            best_num_top_cp_values = num_top_cp_values       "
   ]
  },
  {
   "cell_type": "code",
   "execution_count": 29,
   "metadata": {
    "id": "BAzogpDulVHC"
   },
   "outputs": [
    {
     "data": {
      "text/html": [
       "<style>#sk-container-id-2 {color: black;background-color: white;}#sk-container-id-2 pre{padding: 0;}#sk-container-id-2 div.sk-toggleable {background-color: white;}#sk-container-id-2 label.sk-toggleable__label {cursor: pointer;display: block;width: 100%;margin-bottom: 0;padding: 0.3em;box-sizing: border-box;text-align: center;}#sk-container-id-2 label.sk-toggleable__label-arrow:before {content: \"▸\";float: left;margin-right: 0.25em;color: #696969;}#sk-container-id-2 label.sk-toggleable__label-arrow:hover:before {color: black;}#sk-container-id-2 div.sk-estimator:hover label.sk-toggleable__label-arrow:before {color: black;}#sk-container-id-2 div.sk-toggleable__content {max-height: 0;max-width: 0;overflow: hidden;text-align: left;background-color: #f0f8ff;}#sk-container-id-2 div.sk-toggleable__content pre {margin: 0.2em;color: black;border-radius: 0.25em;background-color: #f0f8ff;}#sk-container-id-2 input.sk-toggleable__control:checked~div.sk-toggleable__content {max-height: 200px;max-width: 100%;overflow: auto;}#sk-container-id-2 input.sk-toggleable__control:checked~label.sk-toggleable__label-arrow:before {content: \"▾\";}#sk-container-id-2 div.sk-estimator input.sk-toggleable__control:checked~label.sk-toggleable__label {background-color: #d4ebff;}#sk-container-id-2 div.sk-label input.sk-toggleable__control:checked~label.sk-toggleable__label {background-color: #d4ebff;}#sk-container-id-2 input.sk-hidden--visually {border: 0;clip: rect(1px 1px 1px 1px);clip: rect(1px, 1px, 1px, 1px);height: 1px;margin: -1px;overflow: hidden;padding: 0;position: absolute;width: 1px;}#sk-container-id-2 div.sk-estimator {font-family: monospace;background-color: #f0f8ff;border: 1px dotted black;border-radius: 0.25em;box-sizing: border-box;margin-bottom: 0.5em;}#sk-container-id-2 div.sk-estimator:hover {background-color: #d4ebff;}#sk-container-id-2 div.sk-parallel-item::after {content: \"\";width: 100%;border-bottom: 1px solid gray;flex-grow: 1;}#sk-container-id-2 div.sk-label:hover label.sk-toggleable__label {background-color: #d4ebff;}#sk-container-id-2 div.sk-serial::before {content: \"\";position: absolute;border-left: 1px solid gray;box-sizing: border-box;top: 0;bottom: 0;left: 50%;z-index: 0;}#sk-container-id-2 div.sk-serial {display: flex;flex-direction: column;align-items: center;background-color: white;padding-right: 0.2em;padding-left: 0.2em;position: relative;}#sk-container-id-2 div.sk-item {position: relative;z-index: 1;}#sk-container-id-2 div.sk-parallel {display: flex;align-items: stretch;justify-content: center;background-color: white;position: relative;}#sk-container-id-2 div.sk-item::before, #sk-container-id-2 div.sk-parallel-item::before {content: \"\";position: absolute;border-left: 1px solid gray;box-sizing: border-box;top: 0;bottom: 0;left: 50%;z-index: -1;}#sk-container-id-2 div.sk-parallel-item {display: flex;flex-direction: column;z-index: 1;position: relative;background-color: white;}#sk-container-id-2 div.sk-parallel-item:first-child::after {align-self: flex-end;width: 50%;}#sk-container-id-2 div.sk-parallel-item:last-child::after {align-self: flex-start;width: 50%;}#sk-container-id-2 div.sk-parallel-item:only-child::after {width: 0;}#sk-container-id-2 div.sk-dashed-wrapped {border: 1px dashed gray;margin: 0 0.4em 0.5em 0.4em;box-sizing: border-box;padding-bottom: 0.4em;background-color: white;}#sk-container-id-2 div.sk-label label {font-family: monospace;font-weight: bold;display: inline-block;line-height: 1.2em;}#sk-container-id-2 div.sk-label-container {text-align: center;}#sk-container-id-2 div.sk-container {/* jupyter's `normalize.less` sets `[hidden] { display: none; }` but bootstrap.min.css set `[hidden] { display: none !important; }` so we also need the `!important` here to be able to override the default hidden behavior on the sphinx rendered scikit-learn.org. See: https://github.com/scikit-learn/scikit-learn/issues/21755 */display: inline-block !important;position: relative;}#sk-container-id-2 div.sk-text-repr-fallback {display: none;}</style><div id=\"sk-container-id-2\" class=\"sk-top-container\"><div class=\"sk-text-repr-fallback\"><pre>Pipeline(steps=[(&#x27;preprocesspipeline&#x27;,\n",
       "                 Pipeline(steps=[(&#x27;adddrop&#x27;,\n",
       "                                  ColAdderDropper(num_top_cp_values=9)),\n",
       "                                 (&#x27;transform&#x27;,\n",
       "                                  ColumnTransformer(transformers=[(&#x27;numeric&#x27;,\n",
       "                                                                   Pipeline(steps=[(&#x27;fill_mean&#x27;,\n",
       "                                                                                    SimpleImputer())]),\n",
       "                                                                   [&#x27;age&#x27;,\n",
       "                                                                    &#x27;chol&#x27;,\n",
       "                                                                    &#x27;oldpeak&#x27;,\n",
       "                                                                    &#x27;trestbps&#x27;]),\n",
       "                                                                  (&#x27;categorical&#x27;,\n",
       "                                                                   Pipeline(steps=[(&#x27;fill_mode&#x27;,\n",
       "                                                                                    SimpleImputer(strategy=&#x27;most_frequent&#x27;)),\n",
       "                                                                                   (&#x27;onehot&#x27;,\n",
       "                                                                                    OneHotEncoder(handle_unknown=&#x27;ignore&#x27;))]),\n",
       "                                                                   [&#x27;ca&#x27;,\n",
       "                                                                    &#x27;cp_reduced&#x27;,\n",
       "                                                                    &#x27;exang&#x27;,\n",
       "                                                                    &#x27;fbs&#x27;,\n",
       "                                                                    &#x27;restecg&#x27;,\n",
       "                                                                    &#x27;sex&#x27;,\n",
       "                                                                    &#x27;slope&#x27;,\n",
       "                                                                    &#x27;thal&#x27;])])),\n",
       "                                 (&#x27;scaler&#x27;, StandardScaler())])),\n",
       "                (&#x27;mlpclassifier&#x27;,\n",
       "                 MLPClassifier(alpha=100, hidden_layer_sizes=50, max_iter=10000,\n",
       "                               random_state=0, solver=&#x27;lbfgs&#x27;))])</pre><b>In a Jupyter environment, please rerun this cell to show the HTML representation or trust the notebook. <br />On GitHub, the HTML representation is unable to render, please try loading this page with nbviewer.org.</b></div><div class=\"sk-container\" hidden><div class=\"sk-item sk-dashed-wrapped\"><div class=\"sk-label-container\"><div class=\"sk-label sk-toggleable\"><input class=\"sk-toggleable__control sk-hidden--visually\" id=\"sk-estimator-id-10\" type=\"checkbox\" ><label for=\"sk-estimator-id-10\" class=\"sk-toggleable__label sk-toggleable__label-arrow\">Pipeline</label><div class=\"sk-toggleable__content\"><pre>Pipeline(steps=[(&#x27;preprocesspipeline&#x27;,\n",
       "                 Pipeline(steps=[(&#x27;adddrop&#x27;,\n",
       "                                  ColAdderDropper(num_top_cp_values=9)),\n",
       "                                 (&#x27;transform&#x27;,\n",
       "                                  ColumnTransformer(transformers=[(&#x27;numeric&#x27;,\n",
       "                                                                   Pipeline(steps=[(&#x27;fill_mean&#x27;,\n",
       "                                                                                    SimpleImputer())]),\n",
       "                                                                   [&#x27;age&#x27;,\n",
       "                                                                    &#x27;chol&#x27;,\n",
       "                                                                    &#x27;oldpeak&#x27;,\n",
       "                                                                    &#x27;trestbps&#x27;]),\n",
       "                                                                  (&#x27;categorical&#x27;,\n",
       "                                                                   Pipeline(steps=[(&#x27;fill_mode&#x27;,\n",
       "                                                                                    SimpleImputer(strategy=&#x27;most_frequent&#x27;)),\n",
       "                                                                                   (&#x27;onehot&#x27;,\n",
       "                                                                                    OneHotEncoder(handle_unknown=&#x27;ignore&#x27;))]),\n",
       "                                                                   [&#x27;ca&#x27;,\n",
       "                                                                    &#x27;cp_reduced&#x27;,\n",
       "                                                                    &#x27;exang&#x27;,\n",
       "                                                                    &#x27;fbs&#x27;,\n",
       "                                                                    &#x27;restecg&#x27;,\n",
       "                                                                    &#x27;sex&#x27;,\n",
       "                                                                    &#x27;slope&#x27;,\n",
       "                                                                    &#x27;thal&#x27;])])),\n",
       "                                 (&#x27;scaler&#x27;, StandardScaler())])),\n",
       "                (&#x27;mlpclassifier&#x27;,\n",
       "                 MLPClassifier(alpha=100, hidden_layer_sizes=50, max_iter=10000,\n",
       "                               random_state=0, solver=&#x27;lbfgs&#x27;))])</pre></div></div></div><div class=\"sk-serial\"><div class=\"sk-item\"><div class=\"sk-label-container\"><div class=\"sk-label sk-toggleable\"><input class=\"sk-toggleable__control sk-hidden--visually\" id=\"sk-estimator-id-11\" type=\"checkbox\" ><label for=\"sk-estimator-id-11\" class=\"sk-toggleable__label sk-toggleable__label-arrow\">preprocesspipeline: Pipeline</label><div class=\"sk-toggleable__content\"><pre>Pipeline(steps=[(&#x27;adddrop&#x27;, ColAdderDropper(num_top_cp_values=9)),\n",
       "                (&#x27;transform&#x27;,\n",
       "                 ColumnTransformer(transformers=[(&#x27;numeric&#x27;,\n",
       "                                                  Pipeline(steps=[(&#x27;fill_mean&#x27;,\n",
       "                                                                   SimpleImputer())]),\n",
       "                                                  [&#x27;age&#x27;, &#x27;chol&#x27;, &#x27;oldpeak&#x27;,\n",
       "                                                   &#x27;trestbps&#x27;]),\n",
       "                                                 (&#x27;categorical&#x27;,\n",
       "                                                  Pipeline(steps=[(&#x27;fill_mode&#x27;,\n",
       "                                                                   SimpleImputer(strategy=&#x27;most_frequent&#x27;)),\n",
       "                                                                  (&#x27;onehot&#x27;,\n",
       "                                                                   OneHotEncoder(handle_unknown=&#x27;ignore&#x27;))]),\n",
       "                                                  [&#x27;ca&#x27;, &#x27;cp_reduced&#x27;, &#x27;exang&#x27;,\n",
       "                                                   &#x27;fbs&#x27;, &#x27;restecg&#x27;, &#x27;sex&#x27;,\n",
       "                                                   &#x27;slope&#x27;, &#x27;thal&#x27;])])),\n",
       "                (&#x27;scaler&#x27;, StandardScaler())])</pre></div></div></div><div class=\"sk-serial\"><div class=\"sk-item\"><div class=\"sk-estimator sk-toggleable\"><input class=\"sk-toggleable__control sk-hidden--visually\" id=\"sk-estimator-id-12\" type=\"checkbox\" ><label for=\"sk-estimator-id-12\" class=\"sk-toggleable__label sk-toggleable__label-arrow\">ColAdderDropper</label><div class=\"sk-toggleable__content\"><pre>ColAdderDropper(num_top_cp_values=9)</pre></div></div></div><div class=\"sk-item sk-dashed-wrapped\"><div class=\"sk-label-container\"><div class=\"sk-label sk-toggleable\"><input class=\"sk-toggleable__control sk-hidden--visually\" id=\"sk-estimator-id-13\" type=\"checkbox\" ><label for=\"sk-estimator-id-13\" class=\"sk-toggleable__label sk-toggleable__label-arrow\">transform: ColumnTransformer</label><div class=\"sk-toggleable__content\"><pre>ColumnTransformer(transformers=[(&#x27;numeric&#x27;,\n",
       "                                 Pipeline(steps=[(&#x27;fill_mean&#x27;,\n",
       "                                                  SimpleImputer())]),\n",
       "                                 [&#x27;age&#x27;, &#x27;chol&#x27;, &#x27;oldpeak&#x27;, &#x27;trestbps&#x27;]),\n",
       "                                (&#x27;categorical&#x27;,\n",
       "                                 Pipeline(steps=[(&#x27;fill_mode&#x27;,\n",
       "                                                  SimpleImputer(strategy=&#x27;most_frequent&#x27;)),\n",
       "                                                 (&#x27;onehot&#x27;,\n",
       "                                                  OneHotEncoder(handle_unknown=&#x27;ignore&#x27;))]),\n",
       "                                 [&#x27;ca&#x27;, &#x27;cp_reduced&#x27;, &#x27;exang&#x27;, &#x27;fbs&#x27;, &#x27;restecg&#x27;,\n",
       "                                  &#x27;sex&#x27;, &#x27;slope&#x27;, &#x27;thal&#x27;])])</pre></div></div></div><div class=\"sk-parallel\"><div class=\"sk-parallel-item\"><div class=\"sk-item\"><div class=\"sk-label-container\"><div class=\"sk-label sk-toggleable\"><input class=\"sk-toggleable__control sk-hidden--visually\" id=\"sk-estimator-id-14\" type=\"checkbox\" ><label for=\"sk-estimator-id-14\" class=\"sk-toggleable__label sk-toggleable__label-arrow\">numeric</label><div class=\"sk-toggleable__content\"><pre>[&#x27;age&#x27;, &#x27;chol&#x27;, &#x27;oldpeak&#x27;, &#x27;trestbps&#x27;]</pre></div></div></div><div class=\"sk-serial\"><div class=\"sk-item\"><div class=\"sk-serial\"><div class=\"sk-item\"><div class=\"sk-estimator sk-toggleable\"><input class=\"sk-toggleable__control sk-hidden--visually\" id=\"sk-estimator-id-15\" type=\"checkbox\" ><label for=\"sk-estimator-id-15\" class=\"sk-toggleable__label sk-toggleable__label-arrow\">SimpleImputer</label><div class=\"sk-toggleable__content\"><pre>SimpleImputer()</pre></div></div></div></div></div></div></div></div><div class=\"sk-parallel-item\"><div class=\"sk-item\"><div class=\"sk-label-container\"><div class=\"sk-label sk-toggleable\"><input class=\"sk-toggleable__control sk-hidden--visually\" id=\"sk-estimator-id-16\" type=\"checkbox\" ><label for=\"sk-estimator-id-16\" class=\"sk-toggleable__label sk-toggleable__label-arrow\">categorical</label><div class=\"sk-toggleable__content\"><pre>[&#x27;ca&#x27;, &#x27;cp_reduced&#x27;, &#x27;exang&#x27;, &#x27;fbs&#x27;, &#x27;restecg&#x27;, &#x27;sex&#x27;, &#x27;slope&#x27;, &#x27;thal&#x27;]</pre></div></div></div><div class=\"sk-serial\"><div class=\"sk-item\"><div class=\"sk-serial\"><div class=\"sk-item\"><div class=\"sk-estimator sk-toggleable\"><input class=\"sk-toggleable__control sk-hidden--visually\" id=\"sk-estimator-id-17\" type=\"checkbox\" ><label for=\"sk-estimator-id-17\" class=\"sk-toggleable__label sk-toggleable__label-arrow\">SimpleImputer</label><div class=\"sk-toggleable__content\"><pre>SimpleImputer(strategy=&#x27;most_frequent&#x27;)</pre></div></div></div><div class=\"sk-item\"><div class=\"sk-estimator sk-toggleable\"><input class=\"sk-toggleable__control sk-hidden--visually\" id=\"sk-estimator-id-18\" type=\"checkbox\" ><label for=\"sk-estimator-id-18\" class=\"sk-toggleable__label sk-toggleable__label-arrow\">OneHotEncoder</label><div class=\"sk-toggleable__content\"><pre>OneHotEncoder(handle_unknown=&#x27;ignore&#x27;)</pre></div></div></div></div></div></div></div></div></div></div><div class=\"sk-item\"><div class=\"sk-estimator sk-toggleable\"><input class=\"sk-toggleable__control sk-hidden--visually\" id=\"sk-estimator-id-19\" type=\"checkbox\" ><label for=\"sk-estimator-id-19\" class=\"sk-toggleable__label sk-toggleable__label-arrow\">StandardScaler</label><div class=\"sk-toggleable__content\"><pre>StandardScaler()</pre></div></div></div></div></div><div class=\"sk-item\"><div class=\"sk-estimator sk-toggleable\"><input class=\"sk-toggleable__control sk-hidden--visually\" id=\"sk-estimator-id-20\" type=\"checkbox\" ><label for=\"sk-estimator-id-20\" class=\"sk-toggleable__label sk-toggleable__label-arrow\">MLPClassifier</label><div class=\"sk-toggleable__content\"><pre>MLPClassifier(alpha=100, hidden_layer_sizes=50, max_iter=10000, random_state=0,\n",
       "              solver=&#x27;lbfgs&#x27;)</pre></div></div></div></div></div></div></div>"
      ],
      "text/plain": [
       "Pipeline(steps=[('preprocesspipeline',\n",
       "                 Pipeline(steps=[('adddrop',\n",
       "                                  ColAdderDropper(num_top_cp_values=9)),\n",
       "                                 ('transform',\n",
       "                                  ColumnTransformer(transformers=[('numeric',\n",
       "                                                                   Pipeline(steps=[('fill_mean',\n",
       "                                                                                    SimpleImputer())]),\n",
       "                                                                   ['age',\n",
       "                                                                    'chol',\n",
       "                                                                    'oldpeak',\n",
       "                                                                    'trestbps']),\n",
       "                                                                  ('categorical',\n",
       "                                                                   Pipeline(steps=[('fill_mode',\n",
       "                                                                                    SimpleImputer(strategy='most_frequent')),\n",
       "                                                                                   ('onehot',\n",
       "                                                                                    OneHotEncoder(handle_unknown='ignore'))]),\n",
       "                                                                   ['ca',\n",
       "                                                                    'cp_reduced',\n",
       "                                                                    'exang',\n",
       "                                                                    'fbs',\n",
       "                                                                    'restecg',\n",
       "                                                                    'sex',\n",
       "                                                                    'slope',\n",
       "                                                                    'thal'])])),\n",
       "                                 ('scaler', StandardScaler())])),\n",
       "                ('mlpclassifier',\n",
       "                 MLPClassifier(alpha=100, hidden_layer_sizes=50, max_iter=10000,\n",
       "                               random_state=0, solver='lbfgs'))])"
      ]
     },
     "execution_count": 29,
     "metadata": {},
     "output_type": "execute_result"
    }
   ],
   "source": [
    "# TEST\n",
    "full_pipeline"
   ]
  },
  {
   "cell_type": "code",
   "execution_count": 30,
   "metadata": {
    "deletable": false,
    "editable": false,
    "id": "XoKMAgEulVHC",
    "nbgrader": {
     "cell_type": "code",
     "checksum": "f33688c1c8f4b1a71567209f5872b5e7",
     "grade": true,
     "grade_id": "cell-0b98eab69b5f1ff7",
     "locked": true,
     "points": 1.5,
     "schema_version": 3,
     "solution": false,
     "task": false
    }
   },
   "outputs": [],
   "source": [
    "# TEST\n",
    "assert round(best_val_acc, 2) == 85.71\n",
    "assert best_alpha == 1\n",
    "assert best_num_top_cp_values == 3"
   ]
  },
  {
   "cell_type": "code",
   "execution_count": 31,
   "metadata": {
    "id": "IFTBKkW5lVHC"
   },
   "outputs": [
    {
     "data": {
      "image/png": "[encoded data removed]",
      "text/plain": [
       "<Figure size 1000x500 with 2 Axes>"
      ]
     },
     "metadata": {},
     "output_type": "display_data"
    }
   ],
   "source": [
    "# Visualizing the result\n",
    "train_accs_df = pd.DataFrame(data=np.array(train_accs).reshape(len(alphas), -1),\n",
    "                             index=alphas, columns=num_top_cp_values_s)\n",
    "val_accs_df = pd.DataFrame(\n",
    "    data=np.array(val_accs).reshape(len(alphas), -1), \n",
    "    index=alphas, columns=num_top_cp_values_s)\n",
    "min_err = min(min(train_accs), min(val_accs))\n",
    "max_err = max(max(train_accs), max(val_accs))\n",
    "plt.figure(figsize=(10, 5))\n",
    "plt.subplot(1, 2, 1)\n",
    "sns.heatmap(train_accs_df, vmin=min_err, vmax=max_err, square=True, \n",
    "            annot=True, cbar=False, fmt='.2f', cmap='Reds')\n",
    "plt.title('train accuracies'); plt.xlabel('num_top_cp_values'); plt.ylabel('alpha')\n",
    "plt.subplot(1, 2, 2)\n",
    "sns.heatmap(val_accs_df, vmin=min_err, vmax=max_err, square=True, \n",
    "            annot=True, cbar=False, fmt='.2f', cmap='Reds')\n",
    "plt.title('validation accuracies'); plt.xlabel('num_top_cp_values'); plt.ylabel('alpha');"
   ]
  },
  {
   "cell_type": "markdown",
   "metadata": {},
   "source": [
    "Comment on the impact of the hyperparameter `alpha` (whatever you say, if you don't know, say you don't know):\n",
    "- How do you expect when `alpha` changes, how will the accuracy on the training set and validation set change? Why do you expect so?\n",
    "- Are the above results the same as your expectation? If not, why do you think that's the case?"
   ]
  },
  {
   "cell_type": "markdown",
   "metadata": {
    "deletable": false,
    "id": "rrIpJ6D6lVHC",
    "nbgrader": {
     "cell_type": "markdown",
     "checksum": "9e0471605e1a0872e36754fa0f485aa1",
     "grade": true,
     "grade_id": "cell-4debcfe69b8e605b",
     "locked": false,
     "points": 1,
     "schema_version": 3,
     "solution": true,
     "task": false
    }
   },
   "source": [
    "YOUR ANSWER HERE"
   ]
  },
  {
   "cell_type": "markdown",
   "metadata": {},
   "source": [
    "In the training set: As the alpha parameter increases, the accuracy decreases\n",
    "* Expectation: As the alpha parameter increases, the accuracy decreases in the validation set\n",
    "* Reality: On the contrary, increasing the alpha parameter increases the accuracy (in general)"
   ]
  },
  {
   "cell_type": "markdown",
   "metadata": {},
   "source": [
    "Comment on the impact of the `num_top_cp_values` hyperparameter (whatever you say, where you don't know, say you don't know):\n",
    "- How do you expect when `num_top_cp_values` changes, how will the accuracy on the training set and validation set change? Why do you expect so?\n",
    "- Are the above results the same as your expectation? If not, why do you think that's the case?"
   ]
  },
  {
   "cell_type": "markdown",
   "metadata": {
    "deletable": false,
    "id": "TSylFa2NlVHD",
    "nbgrader": {
     "cell_type": "markdown",
     "checksum": "49982bae0349935c9ca94046bf830735",
     "grade": true,
     "grade_id": "cell-94737f293bd3c2a8",
     "locked": false,
     "points": 1,
     "schema_version": 3,
     "solution": true,
     "task": false
    }
   },
   "source": [
    "YOUR ANSWER HERE"
   ]
  },
  {
   "cell_type": "markdown",
   "metadata": {},
   "source": [
    "The `num_top_cp_values` parameter doesn't seem to affect accuracy much, but it is quite small."
   ]
  },
  {
   "cell_type": "markdown",
   "metadata": {},
   "source": [
    "Finally, you will retrain `full_pipeline` on `X_df` and `y_sr` (training set + validation set) with `best_alpha` and `best_num_top_cp_values` found above to get the final model."
   ]
  },
  {
   "cell_type": "code",
   "execution_count": 32,
   "metadata": {
    "deletable": false,
    "id": "_H4FSj9FlVHD",
    "nbgrader": {
     "cell_type": "code",
     "checksum": "e771c0641435719860146ab39be71ef8",
     "grade": true,
     "grade_id": "cell-34157b0f98b9d3f5",
     "locked": false,
     "points": 0.5,
     "schema_version": 3,
     "solution": true,
     "task": false
    }
   },
   "outputs": [
    {
     "data": {
      "text/html": [
       "<style>#sk-container-id-3 {color: black;background-color: white;}#sk-container-id-3 pre{padding: 0;}#sk-container-id-3 div.sk-toggleable {background-color: white;}#sk-container-id-3 label.sk-toggleable__label {cursor: pointer;display: block;width: 100%;margin-bottom: 0;padding: 0.3em;box-sizing: border-box;text-align: center;}#sk-container-id-3 label.sk-toggleable__label-arrow:before {content: \"▸\";float: left;margin-right: 0.25em;color: #696969;}#sk-container-id-3 label.sk-toggleable__label-arrow:hover:before {color: black;}#sk-container-id-3 div.sk-estimator:hover label.sk-toggleable__label-arrow:before {color: black;}#sk-container-id-3 div.sk-toggleable__content {max-height: 0;max-width: 0;overflow: hidden;text-align: left;background-color: #f0f8ff;}#sk-container-id-3 div.sk-toggleable__content pre {margin: 0.2em;color: black;border-radius: 0.25em;background-color: #f0f8ff;}#sk-container-id-3 input.sk-toggleable__control:checked~div.sk-toggleable__content {max-height: 200px;max-width: 100%;overflow: auto;}#sk-container-id-3 input.sk-toggleable__control:checked~label.sk-toggleable__label-arrow:before {content: \"▾\";}#sk-container-id-3 div.sk-estimator input.sk-toggleable__control:checked~label.sk-toggleable__label {background-color: #d4ebff;}#sk-container-id-3 div.sk-label input.sk-toggleable__control:checked~label.sk-toggleable__label {background-color: #d4ebff;}#sk-container-id-3 input.sk-hidden--visually {border: 0;clip: rect(1px 1px 1px 1px);clip: rect(1px, 1px, 1px, 1px);height: 1px;margin: -1px;overflow: hidden;padding: 0;position: absolute;width: 1px;}#sk-container-id-3 div.sk-estimator {font-family: monospace;background-color: #f0f8ff;border: 1px dotted black;border-radius: 0.25em;box-sizing: border-box;margin-bottom: 0.5em;}#sk-container-id-3 div.sk-estimator:hover {background-color: #d4ebff;}#sk-container-id-3 div.sk-parallel-item::after {content: \"\";width: 100%;border-bottom: 1px solid gray;flex-grow: 1;}#sk-container-id-3 div.sk-label:hover label.sk-toggleable__label {background-color: #d4ebff;}#sk-container-id-3 div.sk-serial::before {content: \"\";position: absolute;border-left: 1px solid gray;box-sizing: border-box;top: 0;bottom: 0;left: 50%;z-index: 0;}#sk-container-id-3 div.sk-serial {display: flex;flex-direction: column;align-items: center;background-color: white;padding-right: 0.2em;padding-left: 0.2em;position: relative;}#sk-container-id-3 div.sk-item {position: relative;z-index: 1;}#sk-container-id-3 div.sk-parallel {display: flex;align-items: stretch;justify-content: center;background-color: white;position: relative;}#sk-container-id-3 div.sk-item::before, #sk-container-id-3 div.sk-parallel-item::before {content: \"\";position: absolute;border-left: 1px solid gray;box-sizing: border-box;top: 0;bottom: 0;left: 50%;z-index: -1;}#sk-container-id-3 div.sk-parallel-item {display: flex;flex-direction: column;z-index: 1;position: relative;background-color: white;}#sk-container-id-3 div.sk-parallel-item:first-child::after {align-self: flex-end;width: 50%;}#sk-container-id-3 div.sk-parallel-item:last-child::after {align-self: flex-start;width: 50%;}#sk-container-id-3 div.sk-parallel-item:only-child::after {width: 0;}#sk-container-id-3 div.sk-dashed-wrapped {border: 1px dashed gray;margin: 0 0.4em 0.5em 0.4em;box-sizing: border-box;padding-bottom: 0.4em;background-color: white;}#sk-container-id-3 div.sk-label label {font-family: monospace;font-weight: bold;display: inline-block;line-height: 1.2em;}#sk-container-id-3 div.sk-label-container {text-align: center;}#sk-container-id-3 div.sk-container {/* jupyter's `normalize.less` sets `[hidden] { display: none; }` but bootstrap.min.css set `[hidden] { display: none !important; }` so we also need the `!important` here to be able to override the default hidden behavior on the sphinx rendered scikit-learn.org. See: https://github.com/scikit-learn/scikit-learn/issues/21755 */display: inline-block !important;position: relative;}#sk-container-id-3 div.sk-text-repr-fallback {display: none;}</style><div id=\"sk-container-id-3\" class=\"sk-top-container\"><div class=\"sk-text-repr-fallback\"><pre>Pipeline(steps=[(&#x27;preprocesspipeline&#x27;,\n",
       "                 Pipeline(steps=[(&#x27;adddrop&#x27;, ColAdderDropper()),\n",
       "                                 (&#x27;transform&#x27;,\n",
       "                                  ColumnTransformer(transformers=[(&#x27;numeric&#x27;,\n",
       "                                                                   Pipeline(steps=[(&#x27;fill_mean&#x27;,\n",
       "                                                                                    SimpleImputer())]),\n",
       "                                                                   [&#x27;age&#x27;,\n",
       "                                                                    &#x27;chol&#x27;,\n",
       "                                                                    &#x27;oldpeak&#x27;,\n",
       "                                                                    &#x27;trestbps&#x27;]),\n",
       "                                                                  (&#x27;categorical&#x27;,\n",
       "                                                                   Pipeline(steps=[(&#x27;fill_mode&#x27;,\n",
       "                                                                                    SimpleImputer(strategy=&#x27;most_frequent&#x27;)),\n",
       "                                                                                   (&#x27;onehot&#x27;,\n",
       "                                                                                    OneHotEncoder(handle_unknown=&#x27;ignore&#x27;))]),\n",
       "                                                                   [&#x27;ca&#x27;,\n",
       "                                                                    &#x27;cp_reduced&#x27;,\n",
       "                                                                    &#x27;exang&#x27;,\n",
       "                                                                    &#x27;fbs&#x27;,\n",
       "                                                                    &#x27;restecg&#x27;,\n",
       "                                                                    &#x27;sex&#x27;,\n",
       "                                                                    &#x27;slope&#x27;,\n",
       "                                                                    &#x27;thal&#x27;])])),\n",
       "                                 (&#x27;scaler&#x27;, StandardScaler())])),\n",
       "                (&#x27;mlpclassifier&#x27;,\n",
       "                 MLPClassifier(alpha=1, hidden_layer_sizes=50, max_iter=10000,\n",
       "                               random_state=0, solver=&#x27;lbfgs&#x27;))])</pre><b>In a Jupyter environment, please rerun this cell to show the HTML representation or trust the notebook. <br />On GitHub, the HTML representation is unable to render, please try loading this page with nbviewer.org.</b></div><div class=\"sk-container\" hidden><div class=\"sk-item sk-dashed-wrapped\"><div class=\"sk-label-container\"><div class=\"sk-label sk-toggleable\"><input class=\"sk-toggleable__control sk-hidden--visually\" id=\"sk-estimator-id-21\" type=\"checkbox\" ><label for=\"sk-estimator-id-21\" class=\"sk-toggleable__label sk-toggleable__label-arrow\">Pipeline</label><div class=\"sk-toggleable__content\"><pre>Pipeline(steps=[(&#x27;preprocesspipeline&#x27;,\n",
       "                 Pipeline(steps=[(&#x27;adddrop&#x27;, ColAdderDropper()),\n",
       "                                 (&#x27;transform&#x27;,\n",
       "                                  ColumnTransformer(transformers=[(&#x27;numeric&#x27;,\n",
       "                                                                   Pipeline(steps=[(&#x27;fill_mean&#x27;,\n",
       "                                                                                    SimpleImputer())]),\n",
       "                                                                   [&#x27;age&#x27;,\n",
       "                                                                    &#x27;chol&#x27;,\n",
       "                                                                    &#x27;oldpeak&#x27;,\n",
       "                                                                    &#x27;trestbps&#x27;]),\n",
       "                                                                  (&#x27;categorical&#x27;,\n",
       "                                                                   Pipeline(steps=[(&#x27;fill_mode&#x27;,\n",
       "                                                                                    SimpleImputer(strategy=&#x27;most_frequent&#x27;)),\n",
       "                                                                                   (&#x27;onehot&#x27;,\n",
       "                                                                                    OneHotEncoder(handle_unknown=&#x27;ignore&#x27;))]),\n",
       "                                                                   [&#x27;ca&#x27;,\n",
       "                                                                    &#x27;cp_reduced&#x27;,\n",
       "                                                                    &#x27;exang&#x27;,\n",
       "                                                                    &#x27;fbs&#x27;,\n",
       "                                                                    &#x27;restecg&#x27;,\n",
       "                                                                    &#x27;sex&#x27;,\n",
       "                                                                    &#x27;slope&#x27;,\n",
       "                                                                    &#x27;thal&#x27;])])),\n",
       "                                 (&#x27;scaler&#x27;, StandardScaler())])),\n",
       "                (&#x27;mlpclassifier&#x27;,\n",
       "                 MLPClassifier(alpha=1, hidden_layer_sizes=50, max_iter=10000,\n",
       "                               random_state=0, solver=&#x27;lbfgs&#x27;))])</pre></div></div></div><div class=\"sk-serial\"><div class=\"sk-item\"><div class=\"sk-label-container\"><div class=\"sk-label sk-toggleable\"><input class=\"sk-toggleable__control sk-hidden--visually\" id=\"sk-estimator-id-22\" type=\"checkbox\" ><label for=\"sk-estimator-id-22\" class=\"sk-toggleable__label sk-toggleable__label-arrow\">preprocesspipeline: Pipeline</label><div class=\"sk-toggleable__content\"><pre>Pipeline(steps=[(&#x27;adddrop&#x27;, ColAdderDropper()),\n",
       "                (&#x27;transform&#x27;,\n",
       "                 ColumnTransformer(transformers=[(&#x27;numeric&#x27;,\n",
       "                                                  Pipeline(steps=[(&#x27;fill_mean&#x27;,\n",
       "                                                                   SimpleImputer())]),\n",
       "                                                  [&#x27;age&#x27;, &#x27;chol&#x27;, &#x27;oldpeak&#x27;,\n",
       "                                                   &#x27;trestbps&#x27;]),\n",
       "                                                 (&#x27;categorical&#x27;,\n",
       "                                                  Pipeline(steps=[(&#x27;fill_mode&#x27;,\n",
       "                                                                   SimpleImputer(strategy=&#x27;most_frequent&#x27;)),\n",
       "                                                                  (&#x27;onehot&#x27;,\n",
       "                                                                   OneHotEncoder(handle_unknown=&#x27;ignore&#x27;))]),\n",
       "                                                  [&#x27;ca&#x27;, &#x27;cp_reduced&#x27;, &#x27;exang&#x27;,\n",
       "                                                   &#x27;fbs&#x27;, &#x27;restecg&#x27;, &#x27;sex&#x27;,\n",
       "                                                   &#x27;slope&#x27;, &#x27;thal&#x27;])])),\n",
       "                (&#x27;scaler&#x27;, StandardScaler())])</pre></div></div></div><div class=\"sk-serial\"><div class=\"sk-item\"><div class=\"sk-estimator sk-toggleable\"><input class=\"sk-toggleable__control sk-hidden--visually\" id=\"sk-estimator-id-23\" type=\"checkbox\" ><label for=\"sk-estimator-id-23\" class=\"sk-toggleable__label sk-toggleable__label-arrow\">ColAdderDropper</label><div class=\"sk-toggleable__content\"><pre>ColAdderDropper()</pre></div></div></div><div class=\"sk-item sk-dashed-wrapped\"><div class=\"sk-label-container\"><div class=\"sk-label sk-toggleable\"><input class=\"sk-toggleable__control sk-hidden--visually\" id=\"sk-estimator-id-24\" type=\"checkbox\" ><label for=\"sk-estimator-id-24\" class=\"sk-toggleable__label sk-toggleable__label-arrow\">transform: ColumnTransformer</label><div class=\"sk-toggleable__content\"><pre>ColumnTransformer(transformers=[(&#x27;numeric&#x27;,\n",
       "                                 Pipeline(steps=[(&#x27;fill_mean&#x27;,\n",
       "                                                  SimpleImputer())]),\n",
       "                                 [&#x27;age&#x27;, &#x27;chol&#x27;, &#x27;oldpeak&#x27;, &#x27;trestbps&#x27;]),\n",
       "                                (&#x27;categorical&#x27;,\n",
       "                                 Pipeline(steps=[(&#x27;fill_mode&#x27;,\n",
       "                                                  SimpleImputer(strategy=&#x27;most_frequent&#x27;)),\n",
       "                                                 (&#x27;onehot&#x27;,\n",
       "                                                  OneHotEncoder(handle_unknown=&#x27;ignore&#x27;))]),\n",
       "                                 [&#x27;ca&#x27;, &#x27;cp_reduced&#x27;, &#x27;exang&#x27;, &#x27;fbs&#x27;, &#x27;restecg&#x27;,\n",
       "                                  &#x27;sex&#x27;, &#x27;slope&#x27;, &#x27;thal&#x27;])])</pre></div></div></div><div class=\"sk-parallel\"><div class=\"sk-parallel-item\"><div class=\"sk-item\"><div class=\"sk-label-container\"><div class=\"sk-label sk-toggleable\"><input class=\"sk-toggleable__control sk-hidden--visually\" id=\"sk-estimator-id-25\" type=\"checkbox\" ><label for=\"sk-estimator-id-25\" class=\"sk-toggleable__label sk-toggleable__label-arrow\">numeric</label><div class=\"sk-toggleable__content\"><pre>[&#x27;age&#x27;, &#x27;chol&#x27;, &#x27;oldpeak&#x27;, &#x27;trestbps&#x27;]</pre></div></div></div><div class=\"sk-serial\"><div class=\"sk-item\"><div class=\"sk-serial\"><div class=\"sk-item\"><div class=\"sk-estimator sk-toggleable\"><input class=\"sk-toggleable__control sk-hidden--visually\" id=\"sk-estimator-id-26\" type=\"checkbox\" ><label for=\"sk-estimator-id-26\" class=\"sk-toggleable__label sk-toggleable__label-arrow\">SimpleImputer</label><div class=\"sk-toggleable__content\"><pre>SimpleImputer()</pre></div></div></div></div></div></div></div></div><div class=\"sk-parallel-item\"><div class=\"sk-item\"><div class=\"sk-label-container\"><div class=\"sk-label sk-toggleable\"><input class=\"sk-toggleable__control sk-hidden--visually\" id=\"sk-estimator-id-27\" type=\"checkbox\" ><label for=\"sk-estimator-id-27\" class=\"sk-toggleable__label sk-toggleable__label-arrow\">categorical</label><div class=\"sk-toggleable__content\"><pre>[&#x27;ca&#x27;, &#x27;cp_reduced&#x27;, &#x27;exang&#x27;, &#x27;fbs&#x27;, &#x27;restecg&#x27;, &#x27;sex&#x27;, &#x27;slope&#x27;, &#x27;thal&#x27;]</pre></div></div></div><div class=\"sk-serial\"><div class=\"sk-item\"><div class=\"sk-serial\"><div class=\"sk-item\"><div class=\"sk-estimator sk-toggleable\"><input class=\"sk-toggleable__control sk-hidden--visually\" id=\"sk-estimator-id-28\" type=\"checkbox\" ><label for=\"sk-estimator-id-28\" class=\"sk-toggleable__label sk-toggleable__label-arrow\">SimpleImputer</label><div class=\"sk-toggleable__content\"><pre>SimpleImputer(strategy=&#x27;most_frequent&#x27;)</pre></div></div></div><div class=\"sk-item\"><div class=\"sk-estimator sk-toggleable\"><input class=\"sk-toggleable__control sk-hidden--visually\" id=\"sk-estimator-id-29\" type=\"checkbox\" ><label for=\"sk-estimator-id-29\" class=\"sk-toggleable__label sk-toggleable__label-arrow\">OneHotEncoder</label><div class=\"sk-toggleable__content\"><pre>OneHotEncoder(handle_unknown=&#x27;ignore&#x27;)</pre></div></div></div></div></div></div></div></div></div></div><div class=\"sk-item\"><div class=\"sk-estimator sk-toggleable\"><input class=\"sk-toggleable__control sk-hidden--visually\" id=\"sk-estimator-id-30\" type=\"checkbox\" ><label for=\"sk-estimator-id-30\" class=\"sk-toggleable__label sk-toggleable__label-arrow\">StandardScaler</label><div class=\"sk-toggleable__content\"><pre>StandardScaler()</pre></div></div></div></div></div><div class=\"sk-item\"><div class=\"sk-estimator sk-toggleable\"><input class=\"sk-toggleable__control sk-hidden--visually\" id=\"sk-estimator-id-31\" type=\"checkbox\" ><label for=\"sk-estimator-id-31\" class=\"sk-toggleable__label sk-toggleable__label-arrow\">MLPClassifier</label><div class=\"sk-toggleable__content\"><pre>MLPClassifier(alpha=1, hidden_layer_sizes=50, max_iter=10000, random_state=0,\n",
       "              solver=&#x27;lbfgs&#x27;)</pre></div></div></div></div></div></div></div>"
      ],
      "text/plain": [
       "Pipeline(steps=[('preprocesspipeline',\n",
       "                 Pipeline(steps=[('adddrop', ColAdderDropper()),\n",
       "                                 ('transform',\n",
       "                                  ColumnTransformer(transformers=[('numeric',\n",
       "                                                                   Pipeline(steps=[('fill_mean',\n",
       "                                                                                    SimpleImputer())]),\n",
       "                                                                   ['age',\n",
       "                                                                    'chol',\n",
       "                                                                    'oldpeak',\n",
       "                                                                    'trestbps']),\n",
       "                                                                  ('categorical',\n",
       "                                                                   Pipeline(steps=[('fill_mode',\n",
       "                                                                                    SimpleImputer(strategy='most_frequent')),\n",
       "                                                                                   ('onehot',\n",
       "                                                                                    OneHotEncoder(handle_unknown='ignore'))]),\n",
       "                                                                   ['ca',\n",
       "                                                                    'cp_reduced',\n",
       "                                                                    'exang',\n",
       "                                                                    'fbs',\n",
       "                                                                    'restecg',\n",
       "                                                                    'sex',\n",
       "                                                                    'slope',\n",
       "                                                                    'thal'])])),\n",
       "                                 ('scaler', StandardScaler())])),\n",
       "                ('mlpclassifier',\n",
       "                 MLPClassifier(alpha=1, hidden_layer_sizes=50, max_iter=10000,\n",
       "                               random_state=0, solver='lbfgs'))])"
      ]
     },
     "execution_count": 32,
     "metadata": {},
     "output_type": "execute_result"
    }
   ],
   "source": [
    "# YOUR CODE HERE\n",
    "full_pipeline.set_params(mlpclassifier__alpha = best_alpha)\n",
    "full_pipeline.set_params(preprocesspipeline__adddrop__num_top_cp_values = best_num_top_cp_values)\n",
    "\n",
    "full_pipeline.fit(X_df, y_sr)"
   ]
  },
  {
   "cell_type": "markdown",
   "metadata": {
    "Collapsed": "false",
    "id": "s7un-crLlVHD"
   },
   "source": [
    "### Evaluate your model(1đ)\n",
    "\n",
    "You will use the final model above to make predictions with the inputs in the test set (file \"lab03_test.csv\"). In order for me to be able to score (compare with the hidden groundtruth) you have to create a csv file with a single `target` column which is your predicted value (1 - has disease, and 0 - no). You name your file `my_preds.csv`."
   ]
  },
  {
   "cell_type": "code",
   "execution_count": 33,
   "metadata": {
    "id": "5jk7q3AaygtG"
   },
   "outputs": [],
   "source": [
    "test_X_df = pd.read_csv(\"lab03_test.csv\")"
   ]
  },
  {
   "cell_type": "code",
   "execution_count": 34,
   "metadata": {
    "id": "W6lbh5jeywFl"
   },
   "outputs": [],
   "source": [
    "test_X_df.to_csv(\"lab03_test.csv\",index=False)"
   ]
  },
  {
   "cell_type": "code",
   "execution_count": 35,
   "metadata": {
    "Collapsed": "false",
    "deletable": false,
    "id": "YXC5LEqNlVHE",
    "nbgrader": {
     "cell_type": "code",
     "checksum": "226b0f0ebb7e79c2866d02164cec9e2d",
     "grade": false,
     "grade_id": "cell-e184d7a3003ba334",
     "locked": false,
     "schema_version": 3,
     "solution": true,
     "task": false
    }
   },
   "outputs": [],
   "source": [
    "# YOUR CODE HERE\n",
    "pred = full_pipeline.predict(test_X_df)\n",
    "\n",
    "pred_df = pd.DataFrame()\n",
    "pred_df['target']=pd.Series(pred)\n",
    "\n",
    "pred_df.to_csv(\"my_preds.csv\", index=False)"
   ]
  },
  {
   "cell_type": "code",
   "execution_count": 36,
   "metadata": {
    "deletable": false,
    "editable": false,
    "id": "1d6trk_elVHE",
    "nbgrader": {
     "cell_type": "code",
     "checksum": "a1ff8fb8e8c561377393942df69da26c",
     "grade": true,
     "grade_id": "cell-dbdc218117501513",
     "locked": true,
     "points": 0.75,
     "schema_version": 3,
     "solution": false,
     "task": false
    }
   },
   "outputs": [],
   "source": [
    "# TEST\n",
    "my_preds_df = pd.read_csv('my_preds.csv')\n",
    "assert round(my_preds_df['target'].mean(), 3) == 0.574\n",
    "assert np.all(my_preds_df.iloc[:5].values.reshape(-1) == \\\n",
    "                                     np.array([0, 0, 1, 0, 0]))"
   ]
  },
  {
   "cell_type": "markdown",
   "metadata": {
    "id": "oy9yh-uEiiXr"
   },
   "source": [
    "### Experiment with other classification models (Bonus, maximum 2pts).\n",
    "\n",
    "In this section, you can try other classification models with the MLP above to optimize the accuracy on the validation (or test) set as possible.\n",
    "\n",
    "You can try on a subset of features to find the most optimal set of features. Or You can also try **fine turning** the hyperparameters of the above MLP model to find a more optimal set of parameters (such as `hidden_layer`, `activation`, `solver`, `learning_rate' `). The higher the result on your test set, the more points you will get💪💪💪\n",
    "\n",
    "\n"
   ]
  },
  {
   "cell_type": "code",
   "execution_count": 37,
   "metadata": {},
   "outputs": [
    {
     "name": "stderr",
     "output_type": "stream",
     "text": [
      "2022-12-15 14:47:42.133900: I tensorflow/core/platform/cpu_feature_guard.cc:193] This TensorFlow binary is optimized with oneAPI Deep Neural Network Library (oneDNN) to use the following CPU instructions in performance-critical operations:  SSE4.1 SSE4.2 AVX AVX2 FMA\n",
      "To enable them in other operations, rebuild TensorFlow with the appropriate compiler flags.\n"
     ]
    }
   ],
   "source": [
    "import tensorflow as tf\n",
    "from tensorflow import keras"
   ]
  },
  {
   "cell_type": "code",
   "execution_count": 45,
   "metadata": {},
   "outputs": [],
   "source": [
    "data = pd.read_csv('lab03_train.csv')\n",
    "y = data['target']\n",
    "x = data.drop(\"target\", axis=1)\n",
    "name_col = ['age','ca','chol','cp_reduced','exang','fbs','oldpeak','restecg','sex','slope' ,'thal' ,'trestbps']\n",
    "\n",
    "col_adderdropper = ColAdderDropper(num_top_cp_values=3)\n",
    "col_adderdropper.fit(x)\n",
    "\n",
    "x = col_adderdropper.transform(x)\n",
    "for name in name_col:\n",
    "    if len(set(x[name].dropna())) < 15:\n",
    "        x[name].fillna(x[name].mode()[0], inplace=True)\n",
    "    else:\n",
    "        x[name].fillna((x[name].mean()), inplace=True)\n",
    "x['sex'] = x['sex'].replace(['female','male'],[0,1])\n",
    "x_train, x_test, y_train, y_test = train_test_split(x, y, test_size=0.2)"
   ]
  },
  {
   "cell_type": "code",
   "execution_count": 46,
   "metadata": {},
   "outputs": [
    {
     "data": {
      "text/html": [
       "<div>\n",
       "<style scoped>\n",
       "    .dataframe tbody tr th:only-of-type {\n",
       "        vertical-align: middle;\n",
       "    }\n",
       "\n",
       "    .dataframe tbody tr th {\n",
       "        vertical-align: top;\n",
       "    }\n",
       "\n",
       "    .dataframe thead th {\n",
       "        text-align: right;\n",
       "    }\n",
       "</style>\n",
       "<table border=\"1\" class=\"dataframe\">\n",
       "  <thead>\n",
       "    <tr style=\"text-align: right;\">\n",
       "      <th></th>\n",
       "      <th>age</th>\n",
       "      <th>ca</th>\n",
       "      <th>chol</th>\n",
       "      <th>cp_reduced</th>\n",
       "      <th>exang</th>\n",
       "      <th>fbs</th>\n",
       "      <th>oldpeak</th>\n",
       "      <th>restecg</th>\n",
       "      <th>sex</th>\n",
       "      <th>slope</th>\n",
       "      <th>thal</th>\n",
       "      <th>trestbps</th>\n",
       "    </tr>\n",
       "  </thead>\n",
       "  <tbody>\n",
       "    <tr>\n",
       "      <th>98</th>\n",
       "      <td>41.00</td>\n",
       "      <td>0</td>\n",
       "      <td>250.00</td>\n",
       "      <td>2</td>\n",
       "      <td>0</td>\n",
       "      <td>0</td>\n",
       "      <td>0.00</td>\n",
       "      <td>1</td>\n",
       "      <td>1</td>\n",
       "      <td>2.00</td>\n",
       "      <td>2</td>\n",
       "      <td>112</td>\n",
       "    </tr>\n",
       "    <tr>\n",
       "      <th>49</th>\n",
       "      <td>69.00</td>\n",
       "      <td>3</td>\n",
       "      <td>254.00</td>\n",
       "      <td>2</td>\n",
       "      <td>0</td>\n",
       "      <td>0</td>\n",
       "      <td>2.00</td>\n",
       "      <td>0</td>\n",
       "      <td>1</td>\n",
       "      <td>1.00</td>\n",
       "      <td>3</td>\n",
       "      <td>140</td>\n",
       "    </tr>\n",
       "    <tr>\n",
       "      <th>38</th>\n",
       "      <td>59.00</td>\n",
       "      <td>2</td>\n",
       "      <td>176.00</td>\n",
       "      <td>0</td>\n",
       "      <td>0</td>\n",
       "      <td>1</td>\n",
       "      <td>1.08</td>\n",
       "      <td>0</td>\n",
       "      <td>1</td>\n",
       "      <td>1.00</td>\n",
       "      <td>1</td>\n",
       "      <td>164</td>\n",
       "    </tr>\n",
       "    <tr>\n",
       "      <th>105</th>\n",
       "      <td>54.00</td>\n",
       "      <td>0</td>\n",
       "      <td>239.00</td>\n",
       "      <td>0</td>\n",
       "      <td>0</td>\n",
       "      <td>0</td>\n",
       "      <td>1.20</td>\n",
       "      <td>1</td>\n",
       "      <td>1</td>\n",
       "      <td>2.00</td>\n",
       "      <td>2</td>\n",
       "      <td>140</td>\n",
       "    </tr>\n",
       "    <tr>\n",
       "      <th>3</th>\n",
       "      <td>63.00</td>\n",
       "      <td>0</td>\n",
       "      <td>245.86</td>\n",
       "      <td>0</td>\n",
       "      <td>1</td>\n",
       "      <td>0</td>\n",
       "      <td>0.00</td>\n",
       "      <td>1</td>\n",
       "      <td>0</td>\n",
       "      <td>1.00</td>\n",
       "      <td>2</td>\n",
       "      <td>124</td>\n",
       "    </tr>\n",
       "    <tr>\n",
       "      <th>...</th>\n",
       "      <td>...</td>\n",
       "      <td>...</td>\n",
       "      <td>...</td>\n",
       "      <td>...</td>\n",
       "      <td>...</td>\n",
       "      <td>...</td>\n",
       "      <td>...</td>\n",
       "      <td>...</td>\n",
       "      <td>...</td>\n",
       "      <td>...</td>\n",
       "      <td>...</td>\n",
       "      <td>...</td>\n",
       "    </tr>\n",
       "    <tr>\n",
       "      <th>50</th>\n",
       "      <td>54.82</td>\n",
       "      <td>1</td>\n",
       "      <td>177.00</td>\n",
       "      <td>0</td>\n",
       "      <td>1</td>\n",
       "      <td>0</td>\n",
       "      <td>0.00</td>\n",
       "      <td>1</td>\n",
       "      <td>1</td>\n",
       "      <td>2.00</td>\n",
       "      <td>3</td>\n",
       "      <td>140</td>\n",
       "    </tr>\n",
       "    <tr>\n",
       "      <th>154</th>\n",
       "      <td>44.00</td>\n",
       "      <td>0</td>\n",
       "      <td>226.00</td>\n",
       "      <td>2</td>\n",
       "      <td>0</td>\n",
       "      <td>0</td>\n",
       "      <td>0.00</td>\n",
       "      <td>1</td>\n",
       "      <td>1</td>\n",
       "      <td>2.00</td>\n",
       "      <td>2</td>\n",
       "      <td>120</td>\n",
       "    </tr>\n",
       "    <tr>\n",
       "      <th>75</th>\n",
       "      <td>54.00</td>\n",
       "      <td>0</td>\n",
       "      <td>309.00</td>\n",
       "      <td>1</td>\n",
       "      <td>0</td>\n",
       "      <td>0</td>\n",
       "      <td>1.08</td>\n",
       "      <td>1</td>\n",
       "      <td>1</td>\n",
       "      <td>2.00</td>\n",
       "      <td>3</td>\n",
       "      <td>108</td>\n",
       "    </tr>\n",
       "    <tr>\n",
       "      <th>28</th>\n",
       "      <td>67.00</td>\n",
       "      <td>0</td>\n",
       "      <td>237.00</td>\n",
       "      <td>0</td>\n",
       "      <td>0</td>\n",
       "      <td>0</td>\n",
       "      <td>1.00</td>\n",
       "      <td>1</td>\n",
       "      <td>1</td>\n",
       "      <td>1.00</td>\n",
       "      <td>2</td>\n",
       "      <td>120</td>\n",
       "    </tr>\n",
       "    <tr>\n",
       "      <th>219</th>\n",
       "      <td>66.00</td>\n",
       "      <td>1</td>\n",
       "      <td>212.00</td>\n",
       "      <td>0</td>\n",
       "      <td>1</td>\n",
       "      <td>0</td>\n",
       "      <td>0.10</td>\n",
       "      <td>0</td>\n",
       "      <td>1</td>\n",
       "      <td>2.00</td>\n",
       "      <td>2</td>\n",
       "      <td>112</td>\n",
       "    </tr>\n",
       "  </tbody>\n",
       "</table>\n",
       "<p>193 rows × 12 columns</p>\n",
       "</div>"
      ],
      "text/plain": [
       "      age  ca   chol  cp_reduced  exang  fbs  oldpeak  restecg  sex  slope  \\\n",
       "98  41.00   0 250.00           2      0    0     0.00        1    1   2.00   \n",
       "49  69.00   3 254.00           2      0    0     2.00        0    1   1.00   \n",
       "38  59.00   2 176.00           0      0    1     1.08        0    1   1.00   \n",
       "105 54.00   0 239.00           0      0    0     1.20        1    1   2.00   \n",
       "3   63.00   0 245.86           0      1    0     0.00        1    0   1.00   \n",
       "..    ...  ..    ...         ...    ...  ...      ...      ...  ...    ...   \n",
       "50  54.82   1 177.00           0      1    0     0.00        1    1   2.00   \n",
       "154 44.00   0 226.00           2      0    0     0.00        1    1   2.00   \n",
       "75  54.00   0 309.00           1      0    0     1.08        1    1   2.00   \n",
       "28  67.00   0 237.00           0      0    0     1.00        1    1   1.00   \n",
       "219 66.00   1 212.00           0      1    0     0.10        0    1   2.00   \n",
       "\n",
       "     thal  trestbps  \n",
       "98      2       112  \n",
       "49      3       140  \n",
       "38      1       164  \n",
       "105     2       140  \n",
       "3       2       124  \n",
       "..    ...       ...  \n",
       "50      3       140  \n",
       "154     2       120  \n",
       "75      3       108  \n",
       "28      2       120  \n",
       "219     2       112  \n",
       "\n",
       "[193 rows x 12 columns]"
      ]
     },
     "execution_count": 46,
     "metadata": {},
     "output_type": "execute_result"
    }
   ],
   "source": [
    "x_train"
   ]
  },
  {
   "cell_type": "code",
   "execution_count": 40,
   "metadata": {},
   "outputs": [
    {
     "data": {
      "text/html": [
       "<div>\n",
       "<style scoped>\n",
       "    .dataframe tbody tr th:only-of-type {\n",
       "        vertical-align: middle;\n",
       "    }\n",
       "\n",
       "    .dataframe tbody tr th {\n",
       "        vertical-align: top;\n",
       "    }\n",
       "\n",
       "    .dataframe thead th {\n",
       "        text-align: right;\n",
       "    }\n",
       "</style>\n",
       "<table border=\"1\" class=\"dataframe\">\n",
       "  <thead>\n",
       "    <tr style=\"text-align: right;\">\n",
       "      <th></th>\n",
       "      <th>column_name</th>\n",
       "      <th>percent_missing</th>\n",
       "    </tr>\n",
       "  </thead>\n",
       "  <tbody>\n",
       "    <tr>\n",
       "      <th>age</th>\n",
       "      <td>age</td>\n",
       "      <td>0.00</td>\n",
       "    </tr>\n",
       "    <tr>\n",
       "      <th>ca</th>\n",
       "      <td>ca</td>\n",
       "      <td>0.00</td>\n",
       "    </tr>\n",
       "    <tr>\n",
       "      <th>chol</th>\n",
       "      <td>chol</td>\n",
       "      <td>0.00</td>\n",
       "    </tr>\n",
       "    <tr>\n",
       "      <th>cp_reduced</th>\n",
       "      <td>cp_reduced</td>\n",
       "      <td>0.00</td>\n",
       "    </tr>\n",
       "    <tr>\n",
       "      <th>exang</th>\n",
       "      <td>exang</td>\n",
       "      <td>0.00</td>\n",
       "    </tr>\n",
       "    <tr>\n",
       "      <th>fbs</th>\n",
       "      <td>fbs</td>\n",
       "      <td>0.00</td>\n",
       "    </tr>\n",
       "    <tr>\n",
       "      <th>oldpeak</th>\n",
       "      <td>oldpeak</td>\n",
       "      <td>0.00</td>\n",
       "    </tr>\n",
       "    <tr>\n",
       "      <th>restecg</th>\n",
       "      <td>restecg</td>\n",
       "      <td>0.00</td>\n",
       "    </tr>\n",
       "    <tr>\n",
       "      <th>sex</th>\n",
       "      <td>sex</td>\n",
       "      <td>0.00</td>\n",
       "    </tr>\n",
       "    <tr>\n",
       "      <th>slope</th>\n",
       "      <td>slope</td>\n",
       "      <td>0.00</td>\n",
       "    </tr>\n",
       "    <tr>\n",
       "      <th>thal</th>\n",
       "      <td>thal</td>\n",
       "      <td>0.00</td>\n",
       "    </tr>\n",
       "    <tr>\n",
       "      <th>trestbps</th>\n",
       "      <td>trestbps</td>\n",
       "      <td>0.00</td>\n",
       "    </tr>\n",
       "  </tbody>\n",
       "</table>\n",
       "</div>"
      ],
      "text/plain": [
       "           column_name  percent_missing\n",
       "age                age             0.00\n",
       "ca                  ca             0.00\n",
       "chol              chol             0.00\n",
       "cp_reduced  cp_reduced             0.00\n",
       "exang            exang             0.00\n",
       "fbs                fbs             0.00\n",
       "oldpeak        oldpeak             0.00\n",
       "restecg        restecg             0.00\n",
       "sex                sex             0.00\n",
       "slope            slope             0.00\n",
       "thal              thal             0.00\n",
       "trestbps      trestbps             0.00"
      ]
     },
     "execution_count": 40,
     "metadata": {},
     "output_type": "execute_result"
    }
   ],
   "source": [
    "percent_missing = x.isnull().sum() * 100 / len(x)\n",
    "missing_value_x = pd.DataFrame({'column_name': x.columns,\n",
    "                                 'percent_missing': percent_missing})\n",
    "missing_value_x"
   ]
  },
  {
   "cell_type": "code",
   "execution_count": 41,
   "metadata": {},
   "outputs": [
    {
     "name": "stdout",
     "output_type": "stream",
     "text": [
      "Model: \"sequential\"\n",
      "_________________________________________________________________\n",
      " Layer (type)                Output Shape              Param #   \n",
      "=================================================================\n",
      " dense (Dense)               (None, 16)                208       \n",
      "                                                                 \n",
      " dense_1 (Dense)             (None, 8)                 136       \n",
      "                                                                 \n",
      " dense_2 (Dense)             (None, 4)                 36        \n",
      "                                                                 \n",
      " dense_3 (Dense)             (None, 2)                 10        \n",
      "                                                                 \n",
      " dense_4 (Dense)             (None, 2)                 6         \n",
      "                                                                 \n",
      "=================================================================\n",
      "Total params: 396\n",
      "Trainable params: 396\n",
      "Non-trainable params: 0\n",
      "_________________________________________________________________\n"
     ]
    },
    {
     "name": "stderr",
     "output_type": "stream",
     "text": [
      "2022-12-15 14:47:43.754434: I tensorflow/core/platform/cpu_feature_guard.cc:193] This TensorFlow binary is optimized with oneAPI Deep Neural Network Library (oneDNN) to use the following CPU instructions in performance-critical operations:  SSE4.1 SSE4.2 AVX AVX2 FMA\n",
      "To enable them in other operations, rebuild TensorFlow with the appropriate compiler flags.\n",
      "2022-12-15 14:47:43.756645: I tensorflow/core/common_runtime/process_util.cc:146] Creating new thread pool with default inter op setting: 2. Tune using inter_op_parallelism_threads for best performance.\n"
     ]
    }
   ],
   "source": [
    "model = keras.Sequential()\n",
    "\n",
    "model.add(keras.Input(shape=(12,)))\n",
    "model.add(keras.layers.Dense(16, activation='relu'))\n",
    "model.add(keras.layers.Dense(8, activation='relu'))\n",
    "model.add(keras.layers.Dense(4, activation='relu'))\n",
    "model.add(keras.layers.Dense(2, activation='relu'))\n",
    "model.add(keras.layers.Dense(2, activation='softmax'))\n",
    "\n",
    "model.summary()"
   ]
  },
  {
   "cell_type": "code",
   "execution_count": 42,
   "metadata": {},
   "outputs": [
    {
     "name": "stdout",
     "output_type": "stream",
     "text": [
      "Epoch 1/150\n",
      "7/7 [==============================] - 1s 44ms/step - loss: 3.1321 - accuracy: 0.4197 - val_loss: 2.3868 - val_accuracy: 0.5510\n",
      "Epoch 2/150\n",
      "7/7 [==============================] - 0s 19ms/step - loss: 2.7358 - accuracy: 0.5233 - val_loss: 1.6273 - val_accuracy: 0.5306\n",
      "Epoch 3/150\n",
      "7/7 [==============================] - 0s 17ms/step - loss: 2.1621 - accuracy: 0.4456 - val_loss: 1.9934 - val_accuracy: 0.4082\n",
      "Epoch 4/150\n",
      "7/7 [==============================] - 0s 17ms/step - loss: 2.1805 - accuracy: 0.4404 - val_loss: 1.4397 - val_accuracy: 0.5918\n",
      "Epoch 5/150\n",
      "7/7 [==============================] - 0s 19ms/step - loss: 2.0149 - accuracy: 0.4456 - val_loss: 2.0046 - val_accuracy: 0.5510\n",
      "Epoch 6/150\n",
      "7/7 [==============================] - 0s 18ms/step - loss: 1.9290 - accuracy: 0.4819 - val_loss: 1.3803 - val_accuracy: 0.5306\n",
      "Epoch 7/150\n",
      "7/7 [==============================] - 0s 17ms/step - loss: 1.8181 - accuracy: 0.3782 - val_loss: 1.4972 - val_accuracy: 0.4286\n",
      "Epoch 8/150\n",
      "7/7 [==============================] - 0s 23ms/step - loss: 1.7370 - accuracy: 0.4041 - val_loss: 1.3132 - val_accuracy: 0.5306\n",
      "Epoch 9/150\n",
      "7/7 [==============================] - 0s 20ms/step - loss: 1.5204 - accuracy: 0.4197 - val_loss: 1.2677 - val_accuracy: 0.5306\n",
      "Epoch 10/150\n",
      "7/7 [==============================] - 0s 15ms/step - loss: 1.4298 - accuracy: 0.4456 - val_loss: 1.2643 - val_accuracy: 0.4898\n",
      "Epoch 11/150\n",
      "7/7 [==============================] - 0s 17ms/step - loss: 1.3913 - accuracy: 0.4352 - val_loss: 1.2149 - val_accuracy: 0.5306\n",
      "Epoch 12/150\n",
      "7/7 [==============================] - 0s 16ms/step - loss: 1.3697 - accuracy: 0.4249 - val_loss: 1.1786 - val_accuracy: 0.5306\n",
      "Epoch 13/150\n",
      "7/7 [==============================] - 0s 16ms/step - loss: 1.3458 - accuracy: 0.4352 - val_loss: 1.2562 - val_accuracy: 0.5102\n",
      "Epoch 14/150\n",
      "7/7 [==============================] - 0s 22ms/step - loss: 1.4077 - accuracy: 0.4352 - val_loss: 1.1285 - val_accuracy: 0.5102\n",
      "Epoch 15/150\n",
      "7/7 [==============================] - 0s 27ms/step - loss: 1.2966 - accuracy: 0.4197 - val_loss: 1.1365 - val_accuracy: 0.5102\n",
      "Epoch 16/150\n",
      "7/7 [==============================] - 0s 26ms/step - loss: 1.3126 - accuracy: 0.3990 - val_loss: 1.1720 - val_accuracy: 0.5102\n",
      "Epoch 17/150\n",
      "7/7 [==============================] - 0s 34ms/step - loss: 1.2935 - accuracy: 0.4560 - val_loss: 1.0871 - val_accuracy: 0.5306\n",
      "Epoch 18/150\n",
      "7/7 [==============================] - 0s 20ms/step - loss: 1.2047 - accuracy: 0.4197 - val_loss: 1.0613 - val_accuracy: 0.5102\n",
      "Epoch 19/150\n",
      "7/7 [==============================] - 0s 23ms/step - loss: 1.2509 - accuracy: 0.4663 - val_loss: 1.1523 - val_accuracy: 0.5102\n",
      "Epoch 20/150\n",
      "7/7 [==============================] - 0s 27ms/step - loss: 1.3033 - accuracy: 0.4611 - val_loss: 1.0346 - val_accuracy: 0.5306\n",
      "Epoch 21/150\n",
      "7/7 [==============================] - 0s 27ms/step - loss: 1.1782 - accuracy: 0.4197 - val_loss: 1.1589 - val_accuracy: 0.5306\n",
      "Epoch 22/150\n",
      "7/7 [==============================] - 0s 20ms/step - loss: 1.2481 - accuracy: 0.4508 - val_loss: 1.0131 - val_accuracy: 0.5510\n",
      "Epoch 23/150\n",
      "7/7 [==============================] - 0s 16ms/step - loss: 1.2284 - accuracy: 0.5026 - val_loss: 1.1178 - val_accuracy: 0.5102\n",
      "Epoch 24/150\n",
      "7/7 [==============================] - 0s 21ms/step - loss: 1.2017 - accuracy: 0.4145 - val_loss: 1.0333 - val_accuracy: 0.5306\n",
      "Epoch 25/150\n",
      "7/7 [==============================] - 0s 15ms/step - loss: 1.0946 - accuracy: 0.4560 - val_loss: 0.9832 - val_accuracy: 0.5714\n",
      "Epoch 26/150\n",
      "7/7 [==============================] - 0s 17ms/step - loss: 1.1249 - accuracy: 0.4663 - val_loss: 1.0313 - val_accuracy: 0.5102\n",
      "Epoch 27/150\n",
      "7/7 [==============================] - 0s 24ms/step - loss: 1.0805 - accuracy: 0.4611 - val_loss: 0.9668 - val_accuracy: 0.5714\n",
      "Epoch 28/150\n",
      "7/7 [==============================] - 0s 23ms/step - loss: 1.0667 - accuracy: 0.4301 - val_loss: 1.0108 - val_accuracy: 0.5102\n",
      "Epoch 29/150\n",
      "7/7 [==============================] - 0s 19ms/step - loss: 1.1721 - accuracy: 0.4611 - val_loss: 1.0263 - val_accuracy: 0.5306\n",
      "Epoch 30/150\n",
      "7/7 [==============================] - 0s 25ms/step - loss: 1.0422 - accuracy: 0.4611 - val_loss: 0.9634 - val_accuracy: 0.5510\n",
      "Epoch 31/150\n",
      "7/7 [==============================] - 0s 21ms/step - loss: 1.0856 - accuracy: 0.4508 - val_loss: 0.9367 - val_accuracy: 0.5714\n",
      "Epoch 32/150\n",
      "7/7 [==============================] - 0s 23ms/step - loss: 1.0808 - accuracy: 0.4560 - val_loss: 0.9275 - val_accuracy: 0.5510\n",
      "Epoch 33/150\n",
      "7/7 [==============================] - 0s 18ms/step - loss: 1.0770 - accuracy: 0.4560 - val_loss: 1.0659 - val_accuracy: 0.5306\n",
      "Epoch 34/150\n",
      "7/7 [==============================] - 0s 18ms/step - loss: 1.0797 - accuracy: 0.4663 - val_loss: 0.9893 - val_accuracy: 0.5102\n",
      "Epoch 35/150\n",
      "7/7 [==============================] - 0s 25ms/step - loss: 1.0873 - accuracy: 0.4663 - val_loss: 0.9298 - val_accuracy: 0.5306\n",
      "Epoch 36/150\n",
      "7/7 [==============================] - 0s 14ms/step - loss: 0.9897 - accuracy: 0.4249 - val_loss: 0.8935 - val_accuracy: 0.5714\n",
      "Epoch 37/150\n",
      "7/7 [==============================] - 0s 14ms/step - loss: 1.0146 - accuracy: 0.4767 - val_loss: 0.9457 - val_accuracy: 0.5306\n",
      "Epoch 38/150\n",
      "7/7 [==============================] - 0s 17ms/step - loss: 0.9761 - accuracy: 0.4663 - val_loss: 0.8800 - val_accuracy: 0.6122\n",
      "Epoch 39/150\n",
      "7/7 [==============================] - 0s 19ms/step - loss: 0.9594 - accuracy: 0.4663 - val_loss: 0.8736 - val_accuracy: 0.5714\n",
      "Epoch 40/150\n",
      "7/7 [==============================] - 0s 24ms/step - loss: 0.9565 - accuracy: 0.4611 - val_loss: 0.8935 - val_accuracy: 0.5510\n",
      "Epoch 41/150\n",
      "7/7 [==============================] - 0s 37ms/step - loss: 1.0395 - accuracy: 0.4611 - val_loss: 0.8614 - val_accuracy: 0.6122\n",
      "Epoch 42/150\n",
      "7/7 [==============================] - 0s 18ms/step - loss: 0.9404 - accuracy: 0.4715 - val_loss: 0.8541 - val_accuracy: 0.6122\n",
      "Epoch 43/150\n",
      "7/7 [==============================] - 0s 19ms/step - loss: 0.9734 - accuracy: 0.4611 - val_loss: 0.8507 - val_accuracy: 0.5918\n",
      "Epoch 44/150\n",
      "7/7 [==============================] - 0s 15ms/step - loss: 1.0241 - accuracy: 0.4870 - val_loss: 0.9925 - val_accuracy: 0.5510\n",
      "Epoch 45/150\n",
      "7/7 [==============================] - 0s 14ms/step - loss: 0.9949 - accuracy: 0.4974 - val_loss: 0.8838 - val_accuracy: 0.4898\n",
      "Epoch 46/150\n",
      "7/7 [==============================] - 0s 17ms/step - loss: 1.0591 - accuracy: 0.4715 - val_loss: 0.8470 - val_accuracy: 0.5306\n",
      "Epoch 47/150\n",
      "7/7 [==============================] - 0s 17ms/step - loss: 0.9367 - accuracy: 0.4715 - val_loss: 0.8625 - val_accuracy: 0.5510\n",
      "Epoch 48/150\n",
      "7/7 [==============================] - 0s 16ms/step - loss: 0.9588 - accuracy: 0.5233 - val_loss: 0.8246 - val_accuracy: 0.5918\n",
      "Epoch 49/150\n",
      "7/7 [==============================] - 0s 23ms/step - loss: 0.9251 - accuracy: 0.4922 - val_loss: 1.0103 - val_accuracy: 0.5510\n",
      "Epoch 50/150\n",
      "7/7 [==============================] - 0s 21ms/step - loss: 0.9964 - accuracy: 0.5078 - val_loss: 0.8179 - val_accuracy: 0.5918\n",
      "Epoch 51/150\n",
      "7/7 [==============================] - 0s 23ms/step - loss: 0.9440 - accuracy: 0.4819 - val_loss: 0.8048 - val_accuracy: 0.6122\n",
      "Epoch 52/150\n",
      "7/7 [==============================] - 0s 18ms/step - loss: 0.9076 - accuracy: 0.4974 - val_loss: 0.8081 - val_accuracy: 0.5918\n",
      "Epoch 53/150\n",
      "7/7 [==============================] - 0s 23ms/step - loss: 1.0092 - accuracy: 0.4870 - val_loss: 0.8933 - val_accuracy: 0.5510\n",
      "Epoch 54/150\n",
      "7/7 [==============================] - 0s 24ms/step - loss: 0.8979 - accuracy: 0.5181 - val_loss: 0.8126 - val_accuracy: 0.5918\n",
      "Epoch 55/150\n",
      "7/7 [==============================] - 0s 22ms/step - loss: 0.8680 - accuracy: 0.4922 - val_loss: 0.8353 - val_accuracy: 0.5510\n",
      "Epoch 56/150\n",
      "7/7 [==============================] - 0s 16ms/step - loss: 0.8917 - accuracy: 0.5130 - val_loss: 0.7884 - val_accuracy: 0.6327\n",
      "Epoch 57/150\n",
      "7/7 [==============================] - 0s 19ms/step - loss: 0.8493 - accuracy: 0.4922 - val_loss: 0.8051 - val_accuracy: 0.5714\n",
      "Epoch 58/150\n",
      "7/7 [==============================] - 0s 24ms/step - loss: 1.0318 - accuracy: 0.4715 - val_loss: 0.7768 - val_accuracy: 0.6122\n",
      "Epoch 59/150\n",
      "7/7 [==============================] - 0s 22ms/step - loss: 0.9408 - accuracy: 0.4974 - val_loss: 0.9133 - val_accuracy: 0.5510\n",
      "Epoch 60/150\n",
      "7/7 [==============================] - 0s 15ms/step - loss: 0.8699 - accuracy: 0.5337 - val_loss: 0.9372 - val_accuracy: 0.5306\n",
      "Epoch 61/150\n",
      "7/7 [==============================] - 0s 18ms/step - loss: 0.9269 - accuracy: 0.4870 - val_loss: 0.7646 - val_accuracy: 0.6327\n",
      "Epoch 62/150\n",
      "7/7 [==============================] - 0s 16ms/step - loss: 0.8141 - accuracy: 0.4922 - val_loss: 0.7571 - val_accuracy: 0.6531\n",
      "Epoch 63/150\n",
      "7/7 [==============================] - 0s 19ms/step - loss: 0.8179 - accuracy: 0.4974 - val_loss: 0.7487 - val_accuracy: 0.6122\n",
      "Epoch 64/150\n",
      "7/7 [==============================] - 0s 21ms/step - loss: 0.8775 - accuracy: 0.5130 - val_loss: 0.7697 - val_accuracy: 0.5510\n",
      "Epoch 65/150\n",
      "7/7 [==============================] - 0s 15ms/step - loss: 0.8152 - accuracy: 0.5181 - val_loss: 0.7784 - val_accuracy: 0.5918\n",
      "Epoch 66/150\n",
      "7/7 [==============================] - 0s 14ms/step - loss: 0.8379 - accuracy: 0.5078 - val_loss: 0.7432 - val_accuracy: 0.6122\n",
      "Epoch 67/150\n",
      "7/7 [==============================] - 0s 19ms/step - loss: 0.8598 - accuracy: 0.4974 - val_loss: 0.7343 - val_accuracy: 0.6327\n",
      "Epoch 68/150\n",
      "7/7 [==============================] - 0s 21ms/step - loss: 0.9547 - accuracy: 0.4870 - val_loss: 0.7820 - val_accuracy: 0.5714\n",
      "Epoch 69/150\n",
      "7/7 [==============================] - 0s 18ms/step - loss: 0.8436 - accuracy: 0.5389 - val_loss: 0.7716 - val_accuracy: 0.5714\n",
      "Epoch 70/150\n",
      "7/7 [==============================] - 0s 19ms/step - loss: 0.8176 - accuracy: 0.5544 - val_loss: 0.8974 - val_accuracy: 0.5510\n",
      "Epoch 71/150\n",
      "7/7 [==============================] - 0s 15ms/step - loss: 0.8990 - accuracy: 0.5285 - val_loss: 0.7227 - val_accuracy: 0.6122\n",
      "Epoch 72/150\n",
      "7/7 [==============================] - 0s 17ms/step - loss: 0.7664 - accuracy: 0.4922 - val_loss: 0.7164 - val_accuracy: 0.6531\n",
      "Epoch 73/150\n",
      "7/7 [==============================] - 0s 28ms/step - loss: 0.8097 - accuracy: 0.5130 - val_loss: 0.7513 - val_accuracy: 0.5714\n",
      "Epoch 74/150\n",
      "7/7 [==============================] - 0s 28ms/step - loss: 0.7861 - accuracy: 0.5337 - val_loss: 0.7398 - val_accuracy: 0.5918\n",
      "Epoch 75/150\n",
      "7/7 [==============================] - 0s 23ms/step - loss: 0.8130 - accuracy: 0.5492 - val_loss: 0.7069 - val_accuracy: 0.6327\n",
      "Epoch 76/150\n",
      "7/7 [==============================] - 0s 21ms/step - loss: 0.9103 - accuracy: 0.4611 - val_loss: 0.7978 - val_accuracy: 0.5714\n",
      "Epoch 77/150\n",
      "7/7 [==============================] - 0s 26ms/step - loss: 0.8165 - accuracy: 0.5337 - val_loss: 0.7069 - val_accuracy: 0.6327\n",
      "Epoch 78/150\n",
      "7/7 [==============================] - 0s 16ms/step - loss: 0.7583 - accuracy: 0.5078 - val_loss: 0.7072 - val_accuracy: 0.6327\n",
      "Epoch 79/150\n",
      "7/7 [==============================] - 0s 18ms/step - loss: 0.7543 - accuracy: 0.5078 - val_loss: 0.7027 - val_accuracy: 0.6327\n",
      "Epoch 80/150\n",
      "7/7 [==============================] - 0s 15ms/step - loss: 0.7534 - accuracy: 0.5389 - val_loss: 0.7558 - val_accuracy: 0.5918\n",
      "Epoch 81/150\n",
      "7/7 [==============================] - 0s 18ms/step - loss: 0.8045 - accuracy: 0.4922 - val_loss: 0.6905 - val_accuracy: 0.6327\n",
      "Epoch 82/150\n",
      "7/7 [==============================] - 0s 24ms/step - loss: 0.7339 - accuracy: 0.5389 - val_loss: 0.6950 - val_accuracy: 0.6327\n",
      "Epoch 83/150\n",
      "7/7 [==============================] - 0s 21ms/step - loss: 0.7956 - accuracy: 0.5492 - val_loss: 0.6999 - val_accuracy: 0.5918\n",
      "Epoch 84/150\n",
      "7/7 [==============================] - 0s 20ms/step - loss: 0.7601 - accuracy: 0.5181 - val_loss: 0.7416 - val_accuracy: 0.5918\n",
      "Epoch 85/150\n",
      "7/7 [==============================] - 0s 19ms/step - loss: 0.7567 - accuracy: 0.5389 - val_loss: 0.6854 - val_accuracy: 0.6327\n",
      "Epoch 86/150\n",
      "7/7 [==============================] - 0s 22ms/step - loss: 0.7159 - accuracy: 0.5285 - val_loss: 0.7232 - val_accuracy: 0.6122\n",
      "Epoch 87/150\n",
      "7/7 [==============================] - 0s 20ms/step - loss: 0.8846 - accuracy: 0.4922 - val_loss: 0.6763 - val_accuracy: 0.6327\n",
      "Epoch 88/150\n",
      "7/7 [==============================] - 0s 40ms/step - loss: 0.8021 - accuracy: 0.5596 - val_loss: 0.8569 - val_accuracy: 0.5102\n",
      "Epoch 89/150\n",
      "7/7 [==============================] - 0s 31ms/step - loss: 0.7704 - accuracy: 0.5699 - val_loss: 0.6844 - val_accuracy: 0.6327\n",
      "Epoch 90/150\n",
      "7/7 [==============================] - 0s 15ms/step - loss: 0.7251 - accuracy: 0.5648 - val_loss: 0.7190 - val_accuracy: 0.6122\n",
      "Epoch 91/150\n",
      "7/7 [==============================] - 0s 16ms/step - loss: 0.7607 - accuracy: 0.5596 - val_loss: 0.6752 - val_accuracy: 0.6939\n",
      "Epoch 92/150\n",
      "7/7 [==============================] - 0s 17ms/step - loss: 0.8490 - accuracy: 0.5285 - val_loss: 0.7025 - val_accuracy: 0.6327\n",
      "Epoch 93/150\n",
      "7/7 [==============================] - 0s 22ms/step - loss: 0.7193 - accuracy: 0.5389 - val_loss: 0.7056 - val_accuracy: 0.6122\n",
      "Epoch 94/150\n",
      "7/7 [==============================] - 0s 23ms/step - loss: 0.7079 - accuracy: 0.5803 - val_loss: 0.6882 - val_accuracy: 0.5918\n",
      "Epoch 95/150\n",
      "7/7 [==============================] - 0s 23ms/step - loss: 0.7506 - accuracy: 0.5285 - val_loss: 0.6816 - val_accuracy: 0.5918\n",
      "Epoch 96/150\n",
      "7/7 [==============================] - 0s 23ms/step - loss: 0.9185 - accuracy: 0.5492 - val_loss: 0.7973 - val_accuracy: 0.5102\n",
      "Epoch 97/150\n",
      "7/7 [==============================] - 0s 18ms/step - loss: 0.7475 - accuracy: 0.5959 - val_loss: 0.7025 - val_accuracy: 0.6327\n",
      "Epoch 98/150\n",
      "7/7 [==============================] - 0s 25ms/step - loss: 0.7187 - accuracy: 0.5544 - val_loss: 0.6556 - val_accuracy: 0.6735\n",
      "Epoch 99/150\n",
      "7/7 [==============================] - 0s 22ms/step - loss: 0.7608 - accuracy: 0.5440 - val_loss: 0.7602 - val_accuracy: 0.5306\n",
      "Epoch 100/150\n",
      "7/7 [==============================] - 0s 21ms/step - loss: 0.7559 - accuracy: 0.5285 - val_loss: 0.6463 - val_accuracy: 0.6531\n",
      "Epoch 101/150\n",
      "7/7 [==============================] - 0s 20ms/step - loss: 0.6775 - accuracy: 0.5751 - val_loss: 0.6446 - val_accuracy: 0.6735\n",
      "Epoch 102/150\n",
      "7/7 [==============================] - 0s 18ms/step - loss: 0.7136 - accuracy: 0.5699 - val_loss: 0.6819 - val_accuracy: 0.6122\n",
      "Epoch 103/150\n",
      "7/7 [==============================] - 0s 21ms/step - loss: 0.6966 - accuracy: 0.5855 - val_loss: 0.6406 - val_accuracy: 0.6939\n",
      "Epoch 104/150\n",
      "7/7 [==============================] - 0s 19ms/step - loss: 0.6846 - accuracy: 0.5959 - val_loss: 0.6477 - val_accuracy: 0.6735\n",
      "Epoch 105/150\n",
      "7/7 [==============================] - 0s 24ms/step - loss: 0.7422 - accuracy: 0.5285 - val_loss: 0.6397 - val_accuracy: 0.6735\n",
      "Epoch 106/150\n",
      "7/7 [==============================] - 0s 35ms/step - loss: 0.7878 - accuracy: 0.5596 - val_loss: 0.8134 - val_accuracy: 0.5306\n",
      "Epoch 107/150\n",
      "7/7 [==============================] - 0s 23ms/step - loss: 0.7393 - accuracy: 0.5855 - val_loss: 0.6990 - val_accuracy: 0.5714\n",
      "Epoch 108/150\n",
      "7/7 [==============================] - 0s 21ms/step - loss: 0.8546 - accuracy: 0.5130 - val_loss: 0.6640 - val_accuracy: 0.6531\n",
      "Epoch 109/150\n",
      "7/7 [==============================] - 0s 53ms/step - loss: 0.7093 - accuracy: 0.5751 - val_loss: 0.7333 - val_accuracy: 0.5102\n",
      "Epoch 110/150\n",
      "7/7 [==============================] - 0s 33ms/step - loss: 0.7213 - accuracy: 0.5959 - val_loss: 0.6312 - val_accuracy: 0.6531\n",
      "Epoch 111/150\n",
      "7/7 [==============================] - 0s 51ms/step - loss: 0.6734 - accuracy: 0.6218 - val_loss: 0.6418 - val_accuracy: 0.6735\n",
      "Epoch 112/150\n",
      "7/7 [==============================] - 0s 48ms/step - loss: 0.6682 - accuracy: 0.6269 - val_loss: 0.6293 - val_accuracy: 0.6531\n",
      "Epoch 113/150\n",
      "7/7 [==============================] - 0s 38ms/step - loss: 0.6561 - accuracy: 0.6373 - val_loss: 0.6388 - val_accuracy: 0.6735\n",
      "Epoch 114/150\n",
      "7/7 [==============================] - 0s 49ms/step - loss: 0.6596 - accuracy: 0.6321 - val_loss: 0.6252 - val_accuracy: 0.6735\n",
      "Epoch 115/150\n",
      "7/7 [==============================] - 0s 32ms/step - loss: 0.6840 - accuracy: 0.5492 - val_loss: 0.6542 - val_accuracy: 0.6531\n",
      "Epoch 116/150\n",
      "7/7 [==============================] - 0s 23ms/step - loss: 0.6632 - accuracy: 0.5751 - val_loss: 0.6210 - val_accuracy: 0.6531\n",
      "Epoch 117/150\n"
     ]
    },
    {
     "name": "stdout",
     "output_type": "stream",
     "text": [
      "7/7 [==============================] - 0s 17ms/step - loss: 0.6417 - accuracy: 0.6528 - val_loss: 0.6262 - val_accuracy: 0.6735\n",
      "Epoch 118/150\n",
      "7/7 [==============================] - 0s 26ms/step - loss: 0.7007 - accuracy: 0.5699 - val_loss: 0.6145 - val_accuracy: 0.7143\n",
      "Epoch 119/150\n",
      "7/7 [==============================] - 0s 29ms/step - loss: 0.6800 - accuracy: 0.6114 - val_loss: 0.6149 - val_accuracy: 0.6939\n",
      "Epoch 120/150\n",
      "7/7 [==============================] - 0s 32ms/step - loss: 0.8802 - accuracy: 0.4819 - val_loss: 0.7030 - val_accuracy: 0.5714\n",
      "Epoch 121/150\n",
      "7/7 [==============================] - 0s 21ms/step - loss: 0.7176 - accuracy: 0.6010 - val_loss: 0.8213 - val_accuracy: 0.5714\n",
      "Epoch 122/150\n",
      "7/7 [==============================] - 0s 28ms/step - loss: 0.7208 - accuracy: 0.5907 - val_loss: 0.6281 - val_accuracy: 0.6735\n",
      "Epoch 123/150\n",
      "7/7 [==============================] - 0s 47ms/step - loss: 0.6473 - accuracy: 0.6010 - val_loss: 0.6246 - val_accuracy: 0.6735\n",
      "Epoch 124/150\n",
      "7/7 [==============================] - 0s 29ms/step - loss: 0.6428 - accuracy: 0.6477 - val_loss: 0.6177 - val_accuracy: 0.6735\n",
      "Epoch 125/150\n",
      "7/7 [==============================] - 0s 29ms/step - loss: 0.6787 - accuracy: 0.5648 - val_loss: 0.6174 - val_accuracy: 0.6735\n",
      "Epoch 126/150\n",
      "7/7 [==============================] - 0s 33ms/step - loss: 0.6589 - accuracy: 0.6062 - val_loss: 0.7073 - val_accuracy: 0.5102\n",
      "Epoch 127/150\n",
      "7/7 [==============================] - 0s 26ms/step - loss: 0.6530 - accuracy: 0.6166 - val_loss: 0.6233 - val_accuracy: 0.6735\n",
      "Epoch 128/150\n",
      "7/7 [==============================] - 0s 28ms/step - loss: 0.6389 - accuracy: 0.5907 - val_loss: 0.6103 - val_accuracy: 0.6735\n",
      "Epoch 129/150\n",
      "7/7 [==============================] - 0s 39ms/step - loss: 0.6232 - accuracy: 0.6632 - val_loss: 0.6088 - val_accuracy: 0.6939\n",
      "Epoch 130/150\n",
      "7/7 [==============================] - 0s 67ms/step - loss: 0.6327 - accuracy: 0.6425 - val_loss: 0.6081 - val_accuracy: 0.6939\n",
      "Epoch 131/150\n",
      "7/7 [==============================] - 0s 27ms/step - loss: 0.6790 - accuracy: 0.5855 - val_loss: 0.6798 - val_accuracy: 0.6122\n",
      "Epoch 132/150\n",
      "7/7 [==============================] - 0s 30ms/step - loss: 0.6818 - accuracy: 0.5648 - val_loss: 0.6260 - val_accuracy: 0.6531\n",
      "Epoch 133/150\n",
      "7/7 [==============================] - 0s 28ms/step - loss: 0.6890 - accuracy: 0.5907 - val_loss: 0.6268 - val_accuracy: 0.6531\n",
      "Epoch 134/150\n",
      "7/7 [==============================] - 0s 34ms/step - loss: 0.6236 - accuracy: 0.6373 - val_loss: 0.6012 - val_accuracy: 0.6939\n",
      "Epoch 135/150\n",
      "7/7 [==============================] - 0s 26ms/step - loss: 0.6225 - accuracy: 0.6373 - val_loss: 0.6542 - val_accuracy: 0.5510\n",
      "Epoch 136/150\n",
      "7/7 [==============================] - 0s 43ms/step - loss: 0.6548 - accuracy: 0.6166 - val_loss: 0.5983 - val_accuracy: 0.7143\n",
      "Epoch 137/150\n",
      "7/7 [==============================] - 0s 25ms/step - loss: 0.6142 - accuracy: 0.6425 - val_loss: 0.5966 - val_accuracy: 0.6939\n",
      "Epoch 138/150\n",
      "7/7 [==============================] - 0s 29ms/step - loss: 0.6099 - accuracy: 0.6891 - val_loss: 0.5955 - val_accuracy: 0.6939\n",
      "Epoch 139/150\n",
      "7/7 [==============================] - 0s 51ms/step - loss: 0.6153 - accuracy: 0.6632 - val_loss: 0.6286 - val_accuracy: 0.6531\n",
      "Epoch 140/150\n",
      "7/7 [==============================] - 0s 51ms/step - loss: 0.6379 - accuracy: 0.5959 - val_loss: 0.5924 - val_accuracy: 0.7143\n",
      "Epoch 141/150\n",
      "7/7 [==============================] - 0s 37ms/step - loss: 0.6075 - accuracy: 0.6684 - val_loss: 0.5935 - val_accuracy: 0.7347\n",
      "Epoch 142/150\n",
      "7/7 [==============================] - 0s 17ms/step - loss: 0.6145 - accuracy: 0.6632 - val_loss: 0.5900 - val_accuracy: 0.7143\n",
      "Epoch 143/150\n",
      "7/7 [==============================] - 0s 25ms/step - loss: 0.6431 - accuracy: 0.5959 - val_loss: 0.6183 - val_accuracy: 0.6531\n",
      "Epoch 144/150\n",
      "7/7 [==============================] - 0s 18ms/step - loss: 0.6159 - accuracy: 0.6632 - val_loss: 0.6147 - val_accuracy: 0.6531\n",
      "Epoch 145/150\n",
      "7/7 [==============================] - 0s 42ms/step - loss: 0.6223 - accuracy: 0.6580 - val_loss: 0.5857 - val_accuracy: 0.7551\n",
      "Epoch 146/150\n",
      "7/7 [==============================] - 0s 19ms/step - loss: 0.5928 - accuracy: 0.6943 - val_loss: 0.5995 - val_accuracy: 0.7143\n",
      "Epoch 147/150\n",
      "7/7 [==============================] - 0s 19ms/step - loss: 0.6405 - accuracy: 0.6062 - val_loss: 0.5817 - val_accuracy: 0.7755\n",
      "Epoch 148/150\n",
      "7/7 [==============================] - 0s 21ms/step - loss: 0.6783 - accuracy: 0.5855 - val_loss: 0.6946 - val_accuracy: 0.5510\n",
      "Epoch 149/150\n",
      "7/7 [==============================] - 0s 21ms/step - loss: 0.6570 - accuracy: 0.6580 - val_loss: 0.5821 - val_accuracy: 0.6939\n",
      "Epoch 150/150\n",
      "7/7 [==============================] - 0s 14ms/step - loss: 0.5946 - accuracy: 0.6839 - val_loss: 0.5777 - val_accuracy: 0.7347\n"
     ]
    }
   ],
   "source": [
    "opt = tf.keras.optimizers.Adam()\n",
    "model.compile(optimizer=opt, \n",
    "              loss='sparse_categorical_crossentropy',\n",
    "              metrics=['accuracy'])\n",
    "\n",
    "batch_size = 32\n",
    "history = model.fit(x_train, y_train, batch_size,\n",
    "                    validation_data=(x_test, y_test),\n",
    "                    epochs=150, verbose=1)"
   ]
  },
  {
   "cell_type": "markdown",
   "metadata": {},
   "source": [
    "- Accuracy on validation: ?"
   ]
  },
  {
   "cell_type": "code",
   "execution_count": null,
   "metadata": {},
   "outputs": [],
   "source": []
  }
 ],
 "metadata": {
  "colab": {
   "collapsed_sections": [
    "a4Um_o5blVGx",
    "Ih5D0w0WlVGy",
    "vLl5KluIlVGy",
    "LY1HXxl3lVG5",
    "QtmDTZWUlVG6",
    "zbGOiPEglVG8",
    "1b07tI86lVG_",
    "a6BCMtZElVHA",
    "HfvgdyEilVHB",
    "s7un-crLlVHD",
    "oy9yh-uEiiXr"
   ],
   "provenance": []
  },
  "kernelspec": {
   "display_name": "Python 3 (ipykernel)",
   "language": "python",
   "name": "python3"
  },
  "language_info": {
   "codemirror_mode": {
    "name": "ipython",
    "version": 3
   },
   "file_extension": ".py",
   "mimetype": "text/x-python",
   "name": "python",
   "nbconvert_exporter": "python",
   "pygments_lexer": "ipython3",
   "version": "3.10.6"
  },
  "toc": {
   "base_numbering": 1,
   "nav_menu": {
    "height": "153px",
    "width": "252px"
   },
   "number_sections": false,
   "sideBar": true,
   "skip_h1_title": false,
   "title_cell": "Table of Contents",
   "title_sidebar": "Contents",
   "toc_cell": false,
   "toc_position": {
    "height": "calc(100% - 180px)",
    "left": "10px",
    "top": "150px",
    "width": "176px"
   },
   "toc_section_display": "block",
   "toc_window_display": true
  },
  "toc-autonumbering": true
 },
 "nbformat": 4,
 "nbformat_minor": 1
}
