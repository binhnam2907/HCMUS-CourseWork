{
 "cells": [
  {
   "cell_type": "markdown",
   "id": "81e33c21",
   "metadata": {
    "colab_type": "text",
    "id": "joowx9GCrRAw"
   },
   "source": [
    "# Lab03: Logistic Regression.\n",
    "\n",
    "- Student ID: 20127567\n",
    "- Student name: Lê Nguyễn Bình Nam"
   ]
  },
  {
   "cell_type": "markdown",
   "id": "f4f1d521",
   "metadata": {
    "colab_type": "text",
    "id": "0XnaW0UKrRA0"
   },
   "source": [
    "**How to do your homework**\n",
    "\n",
    "\n",
    "You will work directly on this notebook; the word `TODO` indicate the parts you need to do.\n",
    "\n",
    "You can discuss ideas with classmates as well as finding information from the internet, book, etc...; but *this homework must be your*.\n",
    "\n",
    "**How to submit your homework**\n",
    "\n",
    "Before submitting, rerun the notebook (`Kernel` ->` Restart & Run All`).\n",
    "\n",
    "Then create a folder named `ID` (for example, if your ID is 1234567, then name the folder `1234567`). Copy file notebook to this folder, compress and submit it on moodle.\n",
    "\n",
    "**Contents:**\n",
    "- Logistic Regression."
   ]
  },
  {
   "cell_type": "markdown",
   "id": "51673795",
   "metadata": {
    "colab_type": "text",
    "id": "J53xGOE7rRA1"
   },
   "source": [
    "## 1. Feature Extraction"
   ]
  },
  {
   "cell_type": "markdown",
   "id": "dc78eb95",
   "metadata": {
    "colab_type": "text",
    "id": "kG06cwK8rRA3"
   },
   "source": [
    "### Import Library"
   ]
  },
  {
   "cell_type": "code",
   "execution_count": 43,
   "id": "a894d2db",
   "metadata": {},
   "outputs": [
    {
     "data": {
      "text/plain": [
       "Plots.GRBackend()"
      ]
     },
     "metadata": {},
     "output_type": "display_data"
    }
   ],
   "source": [
    "using Flux, Images, MLDatasets, Plots\n",
    "using Statistics, Distributions\n",
    "using MLJ \n",
    "gr()"
   ]
  },
  {
   "cell_type": "markdown",
   "id": "1705b618",
   "metadata": {
    "colab_type": "text",
    "id": "sPfHpi6orRBN"
   },
   "source": [
    "### Load data"
   ]
  },
  {
   "cell_type": "code",
   "execution_count": 44,
   "id": "a29abad1",
   "metadata": {},
   "outputs": [
    {
     "name": "stderr",
     "output_type": "stream",
     "text": [
      "┌ Warning: MNIST.traindata() is deprecated, use `MNIST(split=:train)[:]` instead.\n",
      "└ @ MLDatasets C:\\Users\\Admin\\.julia\\packages\\MLDatasets\\A3giY\\src\\datasets\\vision\\mnist.jl:187\n",
      "┌ Warning: MNIST.testdata() is deprecated, use `MNIST(split=:test)[:]` instead.\n",
      "└ @ MLDatasets C:\\Users\\Admin\\.julia\\packages\\MLDatasets\\A3giY\\src\\datasets\\vision\\mnist.jl:195\n"
     ]
    },
    {
     "data": {
      "text/plain": [
       "((60000, 784), (60000,), (10000, 784), (10000,))"
      ]
     },
     "metadata": {},
     "output_type": "display_data"
    }
   ],
   "source": [
    "train_x, train_y = MNIST.traindata(Int64);\n",
    "test_x, test_y = MNIST.testdata(Int64);\n",
    "\n",
    "train_x_flatten = Flux.flatten(train_x)'\n",
    "test_x_flatten = Flux.flatten(test_x)'\n",
    "\n",
    "size(train_x_flatten), size(train_y), size(test_x_flatten), size(test_y)"
   ]
  },
  {
   "cell_type": "markdown",
   "id": "102d5ef8",
   "metadata": {
    "colab_type": "text",
    "id": "x7D18ySErRBr"
   },
   "source": [
    "### Extract Features"
   ]
  },
  {
   "cell_type": "markdown",
   "id": "83f6cab6",
   "metadata": {
    "colab_type": "text",
    "id": "NlYT1LtnrRBt"
   },
   "source": [
    "So we basically have 70000 samples with each sample having 784 features - pixels in this case and a label - the digit the image represent.\n",
    "\n",
    "Let’s play around and see if we can extract any features from the pixels that can be more informative. First I’d like to know more about average intensity - that is the average value of a pixel in an image for the different digits"
   ]
  },
  {
   "cell_type": "code",
   "execution_count": 45,
   "id": "42d2e2ae",
   "metadata": {},
   "outputs": [
    {
     "name": "stdout",
     "output_type": "stream",
     "text": [
      "[34665.99307783218, 15193.648620587363, 29783.10775427996, 28294.706246941772, 24263.40893529613, 25739.57885998893, 27449.37090233187, 22896.377334397446, 30019.183900188003, 24508.181375021013]"
     ]
    }
   ],
   "source": [
    "function compute_average_intensity(x, y)\n",
    "    mean = zeros(10) # 10 is number of labels\n",
    "    #TODO compute average intensity for each label\n",
    "    count = zeros(10)\n",
    "    index = 0\n",
    "    for i in 1:60000\n",
    "        mean[y[i]+1] += sum(x[i,:])\n",
    "        count[y[i]+1] += 1\n",
    "        index +=1       \n",
    "    end\n",
    "    for i in 1:10\n",
    "        mean[i] = mean[i]/count[i]\n",
    "    end\n",
    "    return mean\n",
    "end\n",
    "\n",
    "l_mean = compute_average_intensity(train_x_flatten, train_y);\n",
    "print(l_mean)"
   ]
  },
  {
   "cell_type": "markdown",
   "id": "fb235f3d",
   "metadata": {
    "colab_type": "text",
    "id": "WMykV-q5rRB2"
   },
   "source": [
    "Plot the average intensity using matplotlib"
   ]
  },
  {
   "cell_type": "code",
   "execution_count": 46,
   "id": "baf91a21",
   "metadata": {},
   "outputs": [
    {
     "data": {
      "image/png": "[encoded data removed]",
      "image/svg+xml": "<?xml version=\"1.0\" encoding=\"utf-8\"?>\n<svg xmlns=\"http://www.w3.org/2000/svg\" xmlns:xlink=\"http://www.w3.org/1999/xlink\" width=\"600\" height=\"400\" viewBox=\"0 0 2400 1600\">\n<defs>\n  <clipPath id=\"clip680\">\n    <rect x=\"0\" y=\"0\" width=\"2400\" height=\"1600\"/>\n  </clipPath>\n</defs>\n<path clip-path=\"url(#clip680)\" d=\"\nM0 1600 L2400 1600 L2400 0 L0 0  Z\n  \" fill=\"#ffffff\" fill-rule=\"evenodd\" fill-opacity=\"1\"/>\n<defs>\n  <clipPath id=\"clip681\">\n    <rect x=\"480\" y=\"0\" width=\"1681\" height=\"1600\"/>\n  </clipPath>\n</defs>\n<path clip-path=\"url(#clip680)\" d=\"\nM276.274 1486.45 L2352.76 1486.45 L2352.76 47.2441 L276.274 47.2441  Z\n  \" fill=\"#ffffff\" fill-rule=\"evenodd\" fill-opacity=\"1\"/>\n<defs>\n  <clipPath id=\"clip682\">\n    <rect x=\"276\" y=\"47\" width=\"2077\" height=\"1440\"/>\n  </clipPath>\n</defs>\n<polyline clip-path=\"url(#clip682)\" style=\"stroke:#000000; stroke-linecap:round; stroke-linejoin:round; stroke-width:2; stroke-opacity:0.1; fill:none\" points=\"\n  465.915,1486.45 465.915,47.2441 \n  \"/>\n<polyline clip-path=\"url(#clip682)\" style=\"stroke:#000000; stroke-linecap:round; stroke-linejoin:round; stroke-width:2; stroke-opacity:0.1; fill:none\" points=\"\n  937.359,1486.45 937.359,47.2441 \n  \"/>\n<polyline clip-path=\"url(#clip682)\" style=\"stroke:#000000; stroke-linecap:round; stroke-linejoin:round; stroke-width:2; stroke-opacity:0.1; fill:none\" points=\"\n  1408.8,1486.45 1408.8,47.2441 \n  \"/>\n<polyline clip-path=\"url(#clip682)\" style=\"stroke:#000000; stroke-linecap:round; stroke-linejoin:round; stroke-width:2; stroke-opacity:0.1; fill:none\" points=\"\n  1880.25,1486.45 1880.25,47.2441 \n  \"/>\n<polyline clip-path=\"url(#clip682)\" style=\"stroke:#000000; stroke-linecap:round; stroke-linejoin:round; stroke-width:2; stroke-opacity:0.1; fill:none\" points=\"\n  2351.69,1486.45 2351.69,47.2441 \n  \"/>\n<polyline clip-path=\"url(#clip680)\" style=\"stroke:#000000; stroke-linecap:round; stroke-linejoin:round; stroke-width:4; stroke-opacity:1; fill:none\" points=\"\n  276.274,1486.45 2352.76,1486.45 \n  \"/>\n<polyline clip-path=\"url(#clip680)\" style=\"stroke:#000000; stroke-linecap:round; stroke-linejoin:round; stroke-width:4; stroke-opacity:1; fill:none\" points=\"\n  465.915,1486.45 465.915,1467.55 \n  \"/>\n<polyline clip-path=\"url(#clip680)\" style=\"stroke:#000000; stroke-linecap:round; stroke-linejoin:round; stroke-width:4; stroke-opacity:1; fill:none\" points=\"\n  937.359,1486.45 937.359,1467.55 \n  \"/>\n<polyline clip-path=\"url(#clip680)\" style=\"stroke:#000000; stroke-linecap:round; stroke-linejoin:round; stroke-width:4; stroke-opacity:1; fill:none\" points=\"\n  1408.8,1486.45 1408.8,1467.55 \n  \"/>\n<polyline clip-path=\"url(#clip680)\" style=\"stroke:#000000; stroke-linecap:round; stroke-linejoin:round; stroke-width:4; stroke-opacity:1; fill:none\" points=\"\n  1880.25,1486.45 1880.25,1467.55 \n  \"/>\n<polyline clip-path=\"url(#clip680)\" style=\"stroke:#000000; stroke-linecap:round; stroke-linejoin:round; stroke-width:4; stroke-opacity:1; fill:none\" points=\"\n  2351.69,1486.45 2351.69,1467.55 \n  \"/>\n<path clip-path=\"url(#clip680)\" d=\"M443.299 1517.37 Q439.688 1517.37 437.859 1520.93 Q436.054 1524.47 436.054 1531.6 Q436.054 1538.71 437.859 1542.27 Q439.688 1545.82 443.299 1545.82 Q446.933 1545.82 448.739 1542.27 Q450.568 1538.71 450.568 1531.6 Q450.568 1524.47 448.739 1520.93 Q446.933 1517.37 443.299 1517.37 M443.299 1513.66 Q449.109 1513.66 452.165 1518.27 Q455.244 1522.85 455.244 1531.6 Q455.244 1540.33 452.165 1544.94 Q449.109 1549.52 443.299 1549.52 Q437.489 1549.52 434.41 1544.94 Q431.355 1540.33 431.355 1531.6 Q431.355 1522.85 434.41 1518.27 Q437.489 1513.66 443.299 1513.66 Z\" fill=\"#000000\" fill-rule=\"evenodd\" fill-opacity=\"1\" /><path clip-path=\"url(#clip680)\" d=\"M463.461 1542.97 L468.345 1542.97 L468.345 1548.85 L463.461 1548.85 L463.461 1542.97 Z\" fill=\"#000000\" fill-rule=\"evenodd\" fill-opacity=\"1\" /><path clip-path=\"url(#clip680)\" d=\"M488.53 1517.37 Q484.919 1517.37 483.091 1520.93 Q481.285 1524.47 481.285 1531.6 Q481.285 1538.71 483.091 1542.27 Q484.919 1545.82 488.53 1545.82 Q492.165 1545.82 493.97 1542.27 Q495.799 1538.71 495.799 1531.6 Q495.799 1524.47 493.97 1520.93 Q492.165 1517.37 488.53 1517.37 M488.53 1513.66 Q494.341 1513.66 497.396 1518.27 Q500.475 1522.85 500.475 1531.6 Q500.475 1540.33 497.396 1544.94 Q494.341 1549.52 488.53 1549.52 Q482.72 1549.52 479.642 1544.94 Q476.586 1540.33 476.586 1531.6 Q476.586 1522.85 479.642 1518.27 Q482.72 1513.66 488.53 1513.66 Z\" fill=\"#000000\" fill-rule=\"evenodd\" fill-opacity=\"1\" /><path clip-path=\"url(#clip680)\" d=\"M909.095 1544.91 L925.415 1544.91 L925.415 1548.85 L903.471 1548.85 L903.471 1544.91 Q906.133 1542.16 910.716 1537.53 Q915.322 1532.88 916.503 1531.53 Q918.748 1529.01 919.628 1527.27 Q920.531 1525.51 920.531 1523.82 Q920.531 1521.07 918.586 1519.33 Q916.665 1517.6 913.563 1517.6 Q911.364 1517.6 908.91 1518.36 Q906.48 1519.13 903.702 1520.68 L903.702 1515.95 Q906.526 1514.82 908.98 1514.24 Q911.433 1513.66 913.47 1513.66 Q918.841 1513.66 922.035 1516.35 Q925.23 1519.03 925.23 1523.52 Q925.23 1525.65 924.419 1527.57 Q923.632 1529.47 921.526 1532.07 Q920.947 1532.74 917.845 1535.95 Q914.744 1539.15 909.095 1544.91 Z\" fill=\"#000000\" fill-rule=\"evenodd\" fill-opacity=\"1\" /><path clip-path=\"url(#clip680)\" d=\"M935.23 1542.97 L940.114 1542.97 L940.114 1548.85 L935.23 1548.85 L935.23 1542.97 Z\" fill=\"#000000\" fill-rule=\"evenodd\" fill-opacity=\"1\" /><path clip-path=\"url(#clip680)\" d=\"M950.345 1514.29 L968.702 1514.29 L968.702 1518.22 L954.628 1518.22 L954.628 1526.7 Q955.646 1526.35 956.665 1526.19 Q957.683 1526 958.702 1526 Q964.489 1526 967.868 1529.17 Q971.248 1532.34 971.248 1537.76 Q971.248 1543.34 967.776 1546.44 Q964.304 1549.52 957.984 1549.52 Q955.808 1549.52 953.54 1549.15 Q951.294 1548.78 948.887 1548.04 L948.887 1543.34 Q950.97 1544.47 953.192 1545.03 Q955.415 1545.58 957.892 1545.58 Q961.896 1545.58 964.234 1543.48 Q966.572 1541.37 966.572 1537.76 Q966.572 1534.15 964.234 1532.04 Q961.896 1529.94 957.892 1529.94 Q956.017 1529.94 954.142 1530.35 Q952.29 1530.77 950.345 1531.65 L950.345 1514.29 Z\" fill=\"#000000\" fill-rule=\"evenodd\" fill-opacity=\"1\" /><path clip-path=\"url(#clip680)\" d=\"M1375.97 1514.29 L1394.32 1514.29 L1394.32 1518.22 L1380.25 1518.22 L1380.25 1526.7 Q1381.27 1526.35 1382.29 1526.19 Q1383.31 1526 1384.32 1526 Q1390.11 1526 1393.49 1529.17 Q1396.87 1532.34 1396.87 1537.76 Q1396.87 1543.34 1393.4 1546.44 Q1389.93 1549.52 1383.61 1549.52 Q1381.43 1549.52 1379.16 1549.15 Q1376.92 1548.78 1374.51 1548.04 L1374.51 1543.34 Q1376.59 1544.47 1378.82 1545.03 Q1381.04 1545.58 1383.51 1545.58 Q1387.52 1545.58 1389.86 1543.48 Q1392.19 1541.37 1392.19 1537.76 Q1392.19 1534.15 1389.86 1532.04 Q1387.52 1529.94 1383.51 1529.94 Q1381.64 1529.94 1379.76 1530.35 Q1377.91 1530.77 1375.97 1531.65 L1375.97 1514.29 Z\" fill=\"#000000\" fill-rule=\"evenodd\" fill-opacity=\"1\" /><path clip-path=\"url(#clip680)\" d=\"M1406.08 1542.97 L1410.97 1542.97 L1410.97 1548.85 L1406.08 1548.85 L1406.08 1542.97 Z\" fill=\"#000000\" fill-rule=\"evenodd\" fill-opacity=\"1\" /><path clip-path=\"url(#clip680)\" d=\"M1431.15 1517.37 Q1427.54 1517.37 1425.71 1520.93 Q1423.91 1524.47 1423.91 1531.6 Q1423.91 1538.71 1425.71 1542.27 Q1427.54 1545.82 1431.15 1545.82 Q1434.79 1545.82 1436.59 1542.27 Q1438.42 1538.71 1438.42 1531.6 Q1438.42 1524.47 1436.59 1520.93 Q1434.79 1517.37 1431.15 1517.37 M1431.15 1513.66 Q1436.96 1513.66 1440.02 1518.27 Q1443.1 1522.85 1443.1 1531.6 Q1443.1 1540.33 1440.02 1544.94 Q1436.96 1549.52 1431.15 1549.52 Q1425.34 1549.52 1422.26 1544.94 Q1419.21 1540.33 1419.21 1531.6 Q1419.21 1522.85 1422.26 1518.27 Q1425.34 1513.66 1431.15 1513.66 Z\" fill=\"#000000\" fill-rule=\"evenodd\" fill-opacity=\"1\" /><path clip-path=\"url(#clip680)\" d=\"M1846.57 1514.29 L1868.79 1514.29 L1868.79 1516.28 L1856.24 1548.85 L1851.36 1548.85 L1863.16 1518.22 L1846.57 1518.22 L1846.57 1514.29 Z\" fill=\"#000000\" fill-rule=\"evenodd\" fill-opacity=\"1\" /><path clip-path=\"url(#clip680)\" d=\"M1877.91 1542.97 L1882.79 1542.97 L1882.79 1548.85 L1877.91 1548.85 L1877.91 1542.97 Z\" fill=\"#000000\" fill-rule=\"evenodd\" fill-opacity=\"1\" /><path clip-path=\"url(#clip680)\" d=\"M1893.03 1514.29 L1911.38 1514.29 L1911.38 1518.22 L1897.31 1518.22 L1897.31 1526.7 Q1898.33 1526.35 1899.35 1526.19 Q1900.36 1526 1901.38 1526 Q1907.17 1526 1910.55 1529.17 Q1913.93 1532.34 1913.93 1537.76 Q1913.93 1543.34 1910.46 1546.44 Q1906.98 1549.52 1900.66 1549.52 Q1898.49 1549.52 1896.22 1549.15 Q1893.97 1548.78 1891.57 1548.04 L1891.57 1543.34 Q1893.65 1544.47 1895.87 1545.03 Q1898.1 1545.58 1900.57 1545.58 Q1904.58 1545.58 1906.91 1543.48 Q1909.25 1541.37 1909.25 1537.76 Q1909.25 1534.15 1906.91 1532.04 Q1904.58 1529.94 1900.57 1529.94 Q1898.7 1529.94 1896.82 1530.35 Q1894.97 1530.77 1893.03 1531.65 L1893.03 1514.29 Z\" fill=\"#000000\" fill-rule=\"evenodd\" fill-opacity=\"1\" /><path clip-path=\"url(#clip680)\" d=\"M2303.76 1544.91 L2311.4 1544.91 L2311.4 1518.55 L2303.09 1520.21 L2303.09 1515.95 L2311.36 1514.29 L2316.03 1514.29 L2316.03 1544.91 L2323.67 1544.91 L2323.67 1548.85 L2303.76 1548.85 L2303.76 1544.91 Z\" fill=\"#000000\" fill-rule=\"evenodd\" fill-opacity=\"1\" /><path clip-path=\"url(#clip680)\" d=\"M2343.12 1517.37 Q2339.5 1517.37 2337.68 1520.93 Q2335.87 1524.47 2335.87 1531.6 Q2335.87 1538.71 2337.68 1542.27 Q2339.5 1545.82 2343.12 1545.82 Q2346.75 1545.82 2348.56 1542.27 Q2350.38 1538.71 2350.38 1531.6 Q2350.38 1524.47 2348.56 1520.93 Q2346.75 1517.37 2343.12 1517.37 M2343.12 1513.66 Q2348.93 1513.66 2351.98 1518.27 Q2355.06 1522.85 2355.06 1531.6 Q2355.06 1540.33 2351.98 1544.94 Q2348.93 1549.52 2343.12 1549.52 Q2337.31 1549.52 2334.23 1544.94 Q2331.17 1540.33 2331.17 1531.6 Q2331.17 1522.85 2334.23 1518.27 Q2337.31 1513.66 2343.12 1513.66 Z\" fill=\"#000000\" fill-rule=\"evenodd\" fill-opacity=\"1\" /><path clip-path=\"url(#clip680)\" d=\"M2363.28 1542.97 L2368.16 1542.97 L2368.16 1548.85 L2363.28 1548.85 L2363.28 1542.97 Z\" fill=\"#000000\" fill-rule=\"evenodd\" fill-opacity=\"1\" /><path clip-path=\"url(#clip680)\" d=\"M2388.35 1517.37 Q2384.74 1517.37 2382.91 1520.93 Q2381.1 1524.47 2381.1 1531.6 Q2381.1 1538.71 2382.91 1542.27 Q2384.74 1545.82 2388.35 1545.82 Q2391.98 1545.82 2393.79 1542.27 Q2395.62 1538.71 2395.62 1531.6 Q2395.62 1524.47 2393.79 1520.93 Q2391.98 1517.37 2388.35 1517.37 M2388.35 1513.66 Q2394.16 1513.66 2397.21 1518.27 Q2400.29 1522.85 2400.29 1531.6 Q2400.29 1540.33 2397.21 1544.94 Q2394.16 1549.52 2388.35 1549.52 Q2382.54 1549.52 2379.46 1544.94 Q2376.4 1540.33 2376.4 1531.6 Q2376.4 1522.85 2379.46 1518.27 Q2382.54 1513.66 2388.35 1513.66 Z\" fill=\"#000000\" fill-rule=\"evenodd\" fill-opacity=\"1\" /><polyline clip-path=\"url(#clip682)\" style=\"stroke:#000000; stroke-linecap:round; stroke-linejoin:round; stroke-width:2; stroke-opacity:0.1; fill:none\" points=\"\n  276.274,1445.72 2352.76,1445.72 \n  \"/>\n<polyline clip-path=\"url(#clip682)\" style=\"stroke:#000000; stroke-linecap:round; stroke-linejoin:round; stroke-width:2; stroke-opacity:0.1; fill:none\" points=\"\n  276.274,1054.05 2352.76,1054.05 \n  \"/>\n<polyline clip-path=\"url(#clip682)\" style=\"stroke:#000000; stroke-linecap:round; stroke-linejoin:round; stroke-width:2; stroke-opacity:0.1; fill:none\" points=\"\n  276.274,662.389 2352.76,662.389 \n  \"/>\n<polyline clip-path=\"url(#clip682)\" style=\"stroke:#000000; stroke-linecap:round; stroke-linejoin:round; stroke-width:2; stroke-opacity:0.1; fill:none\" points=\"\n  276.274,270.726 2352.76,270.726 \n  \"/>\n<polyline clip-path=\"url(#clip680)\" style=\"stroke:#000000; stroke-linecap:round; stroke-linejoin:round; stroke-width:4; stroke-opacity:1; fill:none\" points=\"\n  276.274,1486.45 276.274,47.2441 \n  \"/>\n<polyline clip-path=\"url(#clip680)\" style=\"stroke:#000000; stroke-linecap:round; stroke-linejoin:round; stroke-width:4; stroke-opacity:1; fill:none\" points=\"\n  276.274,1445.72 295.171,1445.72 \n  \"/>\n<polyline clip-path=\"url(#clip680)\" style=\"stroke:#000000; stroke-linecap:round; stroke-linejoin:round; stroke-width:4; stroke-opacity:1; fill:none\" points=\"\n  276.274,1054.05 295.171,1054.05 \n  \"/>\n<polyline clip-path=\"url(#clip680)\" style=\"stroke:#000000; stroke-linecap:round; stroke-linejoin:round; stroke-width:4; stroke-opacity:1; fill:none\" points=\"\n  276.274,662.389 295.171,662.389 \n  \"/>\n<polyline clip-path=\"url(#clip680)\" style=\"stroke:#000000; stroke-linecap:round; stroke-linejoin:round; stroke-width:4; stroke-opacity:1; fill:none\" points=\"\n  276.274,270.726 295.171,270.726 \n  \"/>\n<path clip-path=\"url(#clip680)\" d=\"M228.329 1431.51 Q224.718 1431.51 222.889 1435.08 Q221.084 1438.62 221.084 1445.75 Q221.084 1452.86 222.889 1456.42 Q224.718 1459.96 228.329 1459.96 Q231.963 1459.96 233.769 1456.42 Q235.598 1452.86 235.598 1445.75 Q235.598 1438.62 233.769 1435.08 Q231.963 1431.51 228.329 1431.51 M228.329 1427.81 Q234.139 1427.81 237.195 1432.42 Q240.274 1437 240.274 1445.75 Q240.274 1454.48 237.195 1459.08 Q234.139 1463.67 228.329 1463.67 Q222.519 1463.67 219.44 1459.08 Q216.385 1454.48 216.385 1445.75 Q216.385 1437 219.44 1432.42 Q222.519 1427.81 228.329 1427.81 Z\" fill=\"#000000\" fill-rule=\"evenodd\" fill-opacity=\"1\" /><path clip-path=\"url(#clip680)\" d=\"M53.3995 1073.84 L61.0384 1073.84 L61.0384 1047.48 L52.7282 1049.15 L52.7282 1044.89 L60.9921 1043.22 L65.668 1043.22 L65.668 1073.84 L73.3068 1073.84 L73.3068 1077.78 L53.3995 1077.78 L53.3995 1073.84 Z\" fill=\"#000000\" fill-rule=\"evenodd\" fill-opacity=\"1\" /><path clip-path=\"url(#clip680)\" d=\"M82.7512 1071.9 L87.6354 1071.9 L87.6354 1077.78 L82.7512 1077.78 L82.7512 1071.9 Z\" fill=\"#000000\" fill-rule=\"evenodd\" fill-opacity=\"1\" /><path clip-path=\"url(#clip680)\" d=\"M107.821 1046.3 Q104.209 1046.3 102.381 1049.86 Q100.575 1053.41 100.575 1060.53 Q100.575 1067.64 102.381 1071.21 Q104.209 1074.75 107.821 1074.75 Q111.455 1074.75 113.26 1071.21 Q115.089 1067.64 115.089 1060.53 Q115.089 1053.41 113.26 1049.86 Q111.455 1046.3 107.821 1046.3 M107.821 1042.6 Q113.631 1042.6 116.686 1047.2 Q119.765 1051.78 119.765 1060.53 Q119.765 1069.26 116.686 1073.87 Q113.631 1078.45 107.821 1078.45 Q102.01 1078.45 98.9317 1073.87 Q95.8761 1069.26 95.8761 1060.53 Q95.8761 1051.78 98.9317 1047.2 Q102.01 1042.6 107.821 1042.6 Z\" fill=\"#000000\" fill-rule=\"evenodd\" fill-opacity=\"1\" /><path clip-path=\"url(#clip680)\" d=\"M156.154 1052.32 L145.575 1062.94 L156.154 1073.52 L153.399 1076.32 L142.774 1065.7 L132.149 1076.32 L129.418 1073.52 L139.973 1062.94 L129.418 1052.32 L132.149 1049.52 L142.774 1060.14 L153.399 1049.52 L156.154 1052.32 Z\" fill=\"#000000\" fill-rule=\"evenodd\" fill-opacity=\"1\" /><path clip-path=\"url(#clip680)\" d=\"M168.515 1073.84 L176.153 1073.84 L176.153 1047.48 L167.843 1049.15 L167.843 1044.89 L176.107 1043.22 L180.783 1043.22 L180.783 1073.84 L188.422 1073.84 L188.422 1077.78 L168.515 1077.78 L168.515 1073.84 Z\" fill=\"#000000\" fill-rule=\"evenodd\" fill-opacity=\"1\" /><path clip-path=\"url(#clip680)\" d=\"M207.866 1046.3 Q204.255 1046.3 202.426 1049.86 Q200.621 1053.41 200.621 1060.53 Q200.621 1067.64 202.426 1071.21 Q204.255 1074.75 207.866 1074.75 Q211.501 1074.75 213.306 1071.21 Q215.135 1067.64 215.135 1060.53 Q215.135 1053.41 213.306 1049.86 Q211.501 1046.3 207.866 1046.3 M207.866 1042.6 Q213.676 1042.6 216.732 1047.2 Q219.811 1051.78 219.811 1060.53 Q219.811 1069.26 216.732 1073.87 Q213.676 1078.45 207.866 1078.45 Q202.056 1078.45 198.977 1073.87 Q195.922 1069.26 195.922 1060.53 Q195.922 1051.78 198.977 1047.2 Q202.056 1042.6 207.866 1042.6 Z\" fill=\"#000000\" fill-rule=\"evenodd\" fill-opacity=\"1\" /><path clip-path=\"url(#clip680)\" d=\"M232.487 1025.6 L222.895 1040.59 L232.487 1040.59 L232.487 1025.6 M231.49 1022.29 L236.267 1022.29 L236.267 1040.59 L240.274 1040.59 L240.274 1043.75 L236.267 1043.75 L236.267 1050.37 L232.487 1050.37 L232.487 1043.75 L219.811 1043.75 L219.811 1040.08 L231.49 1022.29 Z\" fill=\"#000000\" fill-rule=\"evenodd\" fill-opacity=\"1\" /><path clip-path=\"url(#clip680)\" d=\"M56.6171 682.182 L72.9365 682.182 L72.9365 686.117 L50.9921 686.117 L50.9921 682.182 Q53.6541 679.427 58.2375 674.797 Q62.8439 670.145 64.0245 668.802 Q66.2698 666.279 67.1494 664.543 Q68.0522 662.784 68.0522 661.094 Q68.0522 658.339 66.1078 656.603 Q64.1865 654.867 61.0847 654.867 Q58.8856 654.867 56.4319 655.631 Q54.0014 656.395 51.2236 657.946 L51.2236 653.224 Q54.0477 652.089 56.5014 651.511 Q58.955 650.932 60.9921 650.932 Q66.3624 650.932 69.5568 653.617 Q72.7513 656.302 72.7513 660.793 Q72.7513 662.923 71.9411 664.844 Q71.1541 666.742 69.0476 669.335 Q68.4689 670.006 65.367 673.223 Q62.2652 676.418 56.6171 682.182 Z\" fill=\"#000000\" fill-rule=\"evenodd\" fill-opacity=\"1\" /><path clip-path=\"url(#clip680)\" d=\"M82.7512 680.237 L87.6354 680.237 L87.6354 686.117 L82.7512 686.117 L82.7512 680.237 Z\" fill=\"#000000\" fill-rule=\"evenodd\" fill-opacity=\"1\" /><path clip-path=\"url(#clip680)\" d=\"M107.821 654.636 Q104.209 654.636 102.381 658.2 Q100.575 661.742 100.575 668.872 Q100.575 675.978 102.381 679.543 Q104.209 683.084 107.821 683.084 Q111.455 683.084 113.26 679.543 Q115.089 675.978 115.089 668.872 Q115.089 661.742 113.26 658.2 Q111.455 654.636 107.821 654.636 M107.821 650.932 Q113.631 650.932 116.686 655.538 Q119.765 660.122 119.765 668.872 Q119.765 677.598 116.686 682.205 Q113.631 686.788 107.821 686.788 Q102.01 686.788 98.9317 682.205 Q95.8761 677.598 95.8761 668.872 Q95.8761 660.122 98.9317 655.538 Q102.01 650.932 107.821 650.932 Z\" fill=\"#000000\" fill-rule=\"evenodd\" fill-opacity=\"1\" /><path clip-path=\"url(#clip680)\" d=\"M156.154 660.654 L145.575 671.279 L156.154 681.858 L153.399 684.659 L142.774 674.034 L132.149 684.659 L129.418 681.858 L139.973 671.279 L129.418 660.654 L132.149 657.853 L142.774 668.478 L153.399 657.853 L156.154 660.654 Z\" fill=\"#000000\" fill-rule=\"evenodd\" fill-opacity=\"1\" /><path clip-path=\"url(#clip680)\" d=\"M168.515 682.182 L176.153 682.182 L176.153 655.816 L167.843 657.483 L167.843 653.224 L176.107 651.557 L180.783 651.557 L180.783 682.182 L188.422 682.182 L188.422 686.117 L168.515 686.117 L168.515 682.182 Z\" fill=\"#000000\" fill-rule=\"evenodd\" fill-opacity=\"1\" /><path clip-path=\"url(#clip680)\" d=\"M207.866 654.636 Q204.255 654.636 202.426 658.2 Q200.621 661.742 200.621 668.872 Q200.621 675.978 202.426 679.543 Q204.255 683.084 207.866 683.084 Q211.501 683.084 213.306 679.543 Q215.135 675.978 215.135 668.872 Q215.135 661.742 213.306 658.2 Q211.501 654.636 207.866 654.636 M207.866 650.932 Q213.676 650.932 216.732 655.538 Q219.811 660.122 219.811 668.872 Q219.811 677.598 216.732 682.205 Q213.676 686.788 207.866 686.788 Q202.056 686.788 198.977 682.205 Q195.922 677.598 195.922 668.872 Q195.922 660.122 198.977 655.538 Q202.056 650.932 207.866 650.932 Z\" fill=\"#000000\" fill-rule=\"evenodd\" fill-opacity=\"1\" /><path clip-path=\"url(#clip680)\" d=\"M232.487 633.937 L222.895 648.926 L232.487 648.926 L232.487 633.937 M231.49 630.626 L236.267 630.626 L236.267 648.926 L240.274 648.926 L240.274 652.086 L236.267 652.086 L236.267 658.706 L232.487 658.706 L232.487 652.086 L219.811 652.086 L219.811 648.419 L231.49 630.626 Z\" fill=\"#000000\" fill-rule=\"evenodd\" fill-opacity=\"1\" /><path clip-path=\"url(#clip680)\" d=\"M66.7559 275.82 Q70.1124 276.537 71.9874 278.806 Q73.8855 281.074 73.8855 284.407 Q73.8855 289.523 70.367 292.324 Q66.8485 295.125 60.3671 295.125 Q58.1912 295.125 55.8764 294.685 Q53.5847 294.268 51.131 293.412 L51.131 288.898 Q53.0754 290.032 55.3903 290.611 Q57.7051 291.19 60.2282 291.19 Q64.6263 291.19 66.918 289.454 Q69.2328 287.718 69.2328 284.407 Q69.2328 281.352 67.08 279.639 Q64.9504 277.903 61.131 277.903 L57.1032 277.903 L57.1032 274.06 L61.3161 274.06 Q64.7652 274.06 66.5939 272.695 Q68.4226 271.306 68.4226 268.713 Q68.4226 266.051 66.5245 264.639 Q64.6495 263.204 61.131 263.204 Q59.2097 263.204 57.0106 263.62 Q54.8115 264.037 52.1727 264.917 L52.1727 260.75 Q54.8347 260.009 57.1495 259.639 Q59.4875 259.269 61.5476 259.269 Q66.8717 259.269 69.9735 261.699 Q73.0753 264.107 73.0753 268.227 Q73.0753 271.097 71.4318 273.088 Q69.7883 275.056 66.7559 275.82 Z\" fill=\"#000000\" fill-rule=\"evenodd\" fill-opacity=\"1\" /><path clip-path=\"url(#clip680)\" d=\"M82.7512 288.574 L87.6354 288.574 L87.6354 294.454 L82.7512 294.454 L82.7512 288.574 Z\" fill=\"#000000\" fill-rule=\"evenodd\" fill-opacity=\"1\" /><path clip-path=\"url(#clip680)\" d=\"M107.821 262.972 Q104.209 262.972 102.381 266.537 Q100.575 270.079 100.575 277.208 Q100.575 284.315 102.381 287.88 Q104.209 291.421 107.821 291.421 Q111.455 291.421 113.26 287.88 Q115.089 284.315 115.089 277.208 Q115.089 270.079 113.26 266.537 Q111.455 262.972 107.821 262.972 M107.821 259.269 Q113.631 259.269 116.686 263.875 Q119.765 268.458 119.765 277.208 Q119.765 285.935 116.686 290.542 Q113.631 295.125 107.821 295.125 Q102.01 295.125 98.9317 290.542 Q95.8761 285.935 95.8761 277.208 Q95.8761 268.458 98.9317 263.875 Q102.01 259.269 107.821 259.269 Z\" fill=\"#000000\" fill-rule=\"evenodd\" fill-opacity=\"1\" /><path clip-path=\"url(#clip680)\" d=\"M156.154 268.991 L145.575 279.616 L156.154 290.194 L153.399 292.995 L142.774 282.37 L132.149 292.995 L129.418 290.194 L139.973 279.616 L129.418 268.991 L132.149 266.19 L142.774 276.815 L153.399 266.19 L156.154 268.991 Z\" fill=\"#000000\" fill-rule=\"evenodd\" fill-opacity=\"1\" /><path clip-path=\"url(#clip680)\" d=\"M168.515 290.518 L176.153 290.518 L176.153 264.153 L167.843 265.82 L167.843 261.56 L176.107 259.894 L180.783 259.894 L180.783 290.518 L188.422 290.518 L188.422 294.454 L168.515 294.454 L168.515 290.518 Z\" fill=\"#000000\" fill-rule=\"evenodd\" fill-opacity=\"1\" /><path clip-path=\"url(#clip680)\" d=\"M207.866 262.972 Q204.255 262.972 202.426 266.537 Q200.621 270.079 200.621 277.208 Q200.621 284.315 202.426 287.88 Q204.255 291.421 207.866 291.421 Q211.501 291.421 213.306 287.88 Q215.135 284.315 215.135 277.208 Q215.135 270.079 213.306 266.537 Q211.501 262.972 207.866 262.972 M207.866 259.269 Q213.676 259.269 216.732 263.875 Q219.811 268.458 219.811 277.208 Q219.811 285.935 216.732 290.542 Q213.676 295.125 207.866 295.125 Q202.056 295.125 198.977 290.542 Q195.922 285.935 195.922 277.208 Q195.922 268.458 198.977 263.875 Q202.056 259.269 207.866 259.269 Z\" fill=\"#000000\" fill-rule=\"evenodd\" fill-opacity=\"1\" /><path clip-path=\"url(#clip680)\" d=\"M232.487 242.273 L222.895 257.263 L232.487 257.263 L232.487 242.273 M231.49 238.963 L236.267 238.963 L236.267 257.263 L240.274 257.263 L240.274 260.423 L236.267 260.423 L236.267 267.043 L232.487 267.043 L232.487 260.423 L219.811 260.423 L219.811 256.755 L231.49 238.963 Z\" fill=\"#000000\" fill-rule=\"evenodd\" fill-opacity=\"1\" /><path clip-path=\"url(#clip682)\" d=\"\nM390.484 87.9763 L390.484 1445.72 L541.346 1445.72 L541.346 87.9763 L390.484 87.9763 L390.484 87.9763  Z\n  \" fill=\"#009af9\" fill-rule=\"evenodd\" fill-opacity=\"1\"/>\n<polyline clip-path=\"url(#clip682)\" style=\"stroke:#000000; stroke-linecap:round; stroke-linejoin:round; stroke-width:4; stroke-opacity:1; fill:none\" points=\"\n  390.484,87.9763 390.484,1445.72 541.346,1445.72 541.346,87.9763 390.484,87.9763 \n  \"/>\n<path clip-path=\"url(#clip682)\" d=\"\nM579.061 850.636 L579.061 1445.72 L729.924 1445.72 L729.924 850.636 L579.061 850.636 L579.061 850.636  Z\n  \" fill=\"#009af9\" fill-rule=\"evenodd\" fill-opacity=\"1\"/>\n<polyline clip-path=\"url(#clip682)\" style=\"stroke:#000000; stroke-linecap:round; stroke-linejoin:round; stroke-width:4; stroke-opacity:1; fill:none\" points=\"\n  579.061,850.636 579.061,1445.72 729.924,1445.72 729.924,850.636 579.061,850.636 \n  \"/>\n<path clip-path=\"url(#clip682)\" d=\"\nM767.639 279.221 L767.639 1445.72 L918.501 1445.72 L918.501 279.221 L767.639 279.221 L767.639 279.221  Z\n  \" fill=\"#009af9\" fill-rule=\"evenodd\" fill-opacity=\"1\"/>\n<polyline clip-path=\"url(#clip682)\" style=\"stroke:#000000; stroke-linecap:round; stroke-linejoin:round; stroke-width:4; stroke-opacity:1; fill:none\" points=\"\n  767.639,279.221 767.639,1445.72 918.501,1445.72 918.501,279.221 767.639,279.221 \n  \"/>\n<path clip-path=\"url(#clip682)\" d=\"\nM956.217 337.516 L956.217 1445.72 L1107.08 1445.72 L1107.08 337.516 L956.217 337.516 L956.217 337.516  Z\n  \" fill=\"#009af9\" fill-rule=\"evenodd\" fill-opacity=\"1\"/>\n<polyline clip-path=\"url(#clip682)\" style=\"stroke:#000000; stroke-linecap:round; stroke-linejoin:round; stroke-width:4; stroke-opacity:1; fill:none\" points=\"\n  956.217,337.516 956.217,1445.72 1107.08,1445.72 1107.08,337.516 956.217,337.516 \n  \"/>\n<path clip-path=\"url(#clip682)\" d=\"\nM1144.79 495.407 L1144.79 1445.72 L1295.66 1445.72 L1295.66 495.407 L1144.79 495.407 L1144.79 495.407  Z\n  \" fill=\"#009af9\" fill-rule=\"evenodd\" fill-opacity=\"1\"/>\n<polyline clip-path=\"url(#clip682)\" style=\"stroke:#000000; stroke-linecap:round; stroke-linejoin:round; stroke-width:4; stroke-opacity:1; fill:none\" points=\"\n  1144.79,495.407 1144.79,1445.72 1295.66,1445.72 1295.66,495.407 1144.79,495.407 \n  \"/>\n<path clip-path=\"url(#clip682)\" d=\"\nM1333.37 437.591 L1333.37 1445.72 L1484.23 1445.72 L1484.23 437.591 L1333.37 437.591 L1333.37 437.591  Z\n  \" fill=\"#009af9\" fill-rule=\"evenodd\" fill-opacity=\"1\"/>\n<polyline clip-path=\"url(#clip682)\" style=\"stroke:#000000; stroke-linecap:round; stroke-linejoin:round; stroke-width:4; stroke-opacity:1; fill:none\" points=\"\n  1333.37,437.591 1333.37,1445.72 1484.23,1445.72 1484.23,437.591 1333.37,437.591 \n  \"/>\n<path clip-path=\"url(#clip682)\" d=\"\nM1521.95 370.625 L1521.95 1445.72 L1672.81 1445.72 L1672.81 370.625 L1521.95 370.625 L1521.95 370.625  Z\n  \" fill=\"#009af9\" fill-rule=\"evenodd\" fill-opacity=\"1\"/>\n<polyline clip-path=\"url(#clip682)\" style=\"stroke:#000000; stroke-linecap:round; stroke-linejoin:round; stroke-width:4; stroke-opacity:1; fill:none\" points=\"\n  1521.95,370.625 1521.95,1445.72 1672.81,1445.72 1672.81,370.625 1521.95,370.625 \n  \"/>\n<path clip-path=\"url(#clip682)\" d=\"\nM1710.53 548.949 L1710.53 1445.72 L1861.39 1445.72 L1861.39 548.949 L1710.53 548.949 L1710.53 548.949  Z\n  \" fill=\"#009af9\" fill-rule=\"evenodd\" fill-opacity=\"1\"/>\n<polyline clip-path=\"url(#clip682)\" style=\"stroke:#000000; stroke-linecap:round; stroke-linejoin:round; stroke-width:4; stroke-opacity:1; fill:none\" points=\"\n  1710.53,548.949 1710.53,1445.72 1861.39,1445.72 1861.39,548.949 1710.53,548.949 \n  \"/>\n<path clip-path=\"url(#clip682)\" d=\"\nM1899.11 269.975 L1899.11 1445.72 L2049.97 1445.72 L2049.97 269.975 L1899.11 269.975 L1899.11 269.975  Z\n  \" fill=\"#009af9\" fill-rule=\"evenodd\" fill-opacity=\"1\"/>\n<polyline clip-path=\"url(#clip682)\" style=\"stroke:#000000; stroke-linecap:round; stroke-linejoin:round; stroke-width:4; stroke-opacity:1; fill:none\" points=\"\n  1899.11,269.975 1899.11,1445.72 2049.97,1445.72 2049.97,269.975 1899.11,269.975 \n  \"/>\n<path clip-path=\"url(#clip682)\" d=\"\nM2087.68 485.82 L2087.68 1445.72 L2238.55 1445.72 L2238.55 485.82 L2087.68 485.82 L2087.68 485.82  Z\n  \" fill=\"#009af9\" fill-rule=\"evenodd\" fill-opacity=\"1\"/>\n<polyline clip-path=\"url(#clip682)\" style=\"stroke:#000000; stroke-linecap:round; stroke-linejoin:round; stroke-width:4; stroke-opacity:1; fill:none\" points=\"\n  2087.68,485.82 2087.68,1445.72 2238.55,1445.72 2238.55,485.82 2087.68,485.82 \n  \"/>\n<circle clip-path=\"url(#clip682)\" style=\"fill:#009af9; stroke:none; fill-opacity:0\" cx=\"465.915\" cy=\"87.9763\" r=\"2\"/>\n<circle clip-path=\"url(#clip682)\" style=\"fill:#009af9; stroke:none; fill-opacity:0\" cx=\"654.493\" cy=\"850.636\" r=\"2\"/>\n<circle clip-path=\"url(#clip682)\" style=\"fill:#009af9; stroke:none; fill-opacity:0\" cx=\"843.07\" cy=\"279.221\" r=\"2\"/>\n<circle clip-path=\"url(#clip682)\" style=\"fill:#009af9; stroke:none; fill-opacity:0\" cx=\"1031.65\" cy=\"337.516\" r=\"2\"/>\n<circle clip-path=\"url(#clip682)\" style=\"fill:#009af9; stroke:none; fill-opacity:0\" cx=\"1220.23\" cy=\"495.407\" r=\"2\"/>\n<circle clip-path=\"url(#clip682)\" style=\"fill:#009af9; stroke:none; fill-opacity:0\" cx=\"1408.8\" cy=\"437.591\" r=\"2\"/>\n<circle clip-path=\"url(#clip682)\" style=\"fill:#009af9; stroke:none; fill-opacity:0\" cx=\"1597.38\" cy=\"370.625\" r=\"2\"/>\n<circle clip-path=\"url(#clip682)\" style=\"fill:#009af9; stroke:none; fill-opacity:0\" cx=\"1785.96\" cy=\"548.949\" r=\"2\"/>\n<circle clip-path=\"url(#clip682)\" style=\"fill:#009af9; stroke:none; fill-opacity:0\" cx=\"1974.54\" cy=\"269.975\" r=\"2\"/>\n<circle clip-path=\"url(#clip682)\" style=\"fill:#009af9; stroke:none; fill-opacity:0\" cx=\"2163.11\" cy=\"485.82\" r=\"2\"/>\n</svg>\n",
      "text/html": [
       "<?xml version=\"1.0\" encoding=\"utf-8\"?>\n",
       "<svg xmlns=\"http://www.w3.org/2000/svg\" xmlns:xlink=\"http://www.w3.org/1999/xlink\" width=\"600\" height=\"400\" viewBox=\"0 0 2400 1600\">\n",
       "<defs>\n",
       "  <clipPath id=\"clip730\">\n",
       "    <rect x=\"0\" y=\"0\" width=\"2400\" height=\"1600\"/>\n",
       "  </clipPath>\n",
       "</defs>\n",
       "<path clip-path=\"url(#clip730)\" d=\"\n",
       "M0 1600 L2400 1600 L2400 0 L0 0  Z\n",
       "  \" fill=\"#ffffff\" fill-rule=\"evenodd\" fill-opacity=\"1\"/>\n",
       "<defs>\n",
       "  <clipPath id=\"clip731\">\n",
       "    <rect x=\"480\" y=\"0\" width=\"1681\" height=\"1600\"/>\n",
       "  </clipPath>\n",
       "</defs>\n",
       "<path clip-path=\"url(#clip730)\" d=\"\n",
       "M276.274 1486.45 L2352.76 1486.45 L2352.76 47.2441 L276.274 47.2441  Z\n",
       "  \" fill=\"#ffffff\" fill-rule=\"evenodd\" fill-opacity=\"1\"/>\n",
       "<defs>\n",
       "  <clipPath id=\"clip732\">\n",
       "    <rect x=\"276\" y=\"47\" width=\"2077\" height=\"1440\"/>\n",
       "  </clipPath>\n",
       "</defs>\n",
       "<polyline clip-path=\"url(#clip732)\" style=\"stroke:#000000; stroke-linecap:round; stroke-linejoin:round; stroke-width:2; stroke-opacity:0.1; fill:none\" points=\"\n",
       "  465.915,1486.45 465.915,47.2441 \n",
       "  \"/>\n",
       "<polyline clip-path=\"url(#clip732)\" style=\"stroke:#000000; stroke-linecap:round; stroke-linejoin:round; stroke-width:2; stroke-opacity:0.1; fill:none\" points=\"\n",
       "  937.359,1486.45 937.359,47.2441 \n",
       "  \"/>\n",
       "<polyline clip-path=\"url(#clip732)\" style=\"stroke:#000000; stroke-linecap:round; stroke-linejoin:round; stroke-width:2; stroke-opacity:0.1; fill:none\" points=\"\n",
       "  1408.8,1486.45 1408.8,47.2441 \n",
       "  \"/>\n",
       "<polyline clip-path=\"url(#clip732)\" style=\"stroke:#000000; stroke-linecap:round; stroke-linejoin:round; stroke-width:2; stroke-opacity:0.1; fill:none\" points=\"\n",
       "  1880.25,1486.45 1880.25,47.2441 \n",
       "  \"/>\n",
       "<polyline clip-path=\"url(#clip732)\" style=\"stroke:#000000; stroke-linecap:round; stroke-linejoin:round; stroke-width:2; stroke-opacity:0.1; fill:none\" points=\"\n",
       "  2351.69,1486.45 2351.69,47.2441 \n",
       "  \"/>\n",
       "<polyline clip-path=\"url(#clip730)\" style=\"stroke:#000000; stroke-linecap:round; stroke-linejoin:round; stroke-width:4; stroke-opacity:1; fill:none\" points=\"\n",
       "  276.274,1486.45 2352.76,1486.45 \n",
       "  \"/>\n",
       "<polyline clip-path=\"url(#clip730)\" style=\"stroke:#000000; stroke-linecap:round; stroke-linejoin:round; stroke-width:4; stroke-opacity:1; fill:none\" points=\"\n",
       "  465.915,1486.45 465.915,1467.55 \n",
       "  \"/>\n",
       "<polyline clip-path=\"url(#clip730)\" style=\"stroke:#000000; stroke-linecap:round; stroke-linejoin:round; stroke-width:4; stroke-opacity:1; fill:none\" points=\"\n",
       "  937.359,1486.45 937.359,1467.55 \n",
       "  \"/>\n",
       "<polyline clip-path=\"url(#clip730)\" style=\"stroke:#000000; stroke-linecap:round; stroke-linejoin:round; stroke-width:4; stroke-opacity:1; fill:none\" points=\"\n",
       "  1408.8,1486.45 1408.8,1467.55 \n",
       "  \"/>\n",
       "<polyline clip-path=\"url(#clip730)\" style=\"stroke:#000000; stroke-linecap:round; stroke-linejoin:round; stroke-width:4; stroke-opacity:1; fill:none\" points=\"\n",
       "  1880.25,1486.45 1880.25,1467.55 \n",
       "  \"/>\n",
       "<polyline clip-path=\"url(#clip730)\" style=\"stroke:#000000; stroke-linecap:round; stroke-linejoin:round; stroke-width:4; stroke-opacity:1; fill:none\" points=\"\n",
       "  2351.69,1486.45 2351.69,1467.55 \n",
       "  \"/>\n",
       "<path clip-path=\"url(#clip730)\" d=\"M443.299 1517.37 Q439.688 1517.37 437.859 1520.93 Q436.054 1524.47 436.054 1531.6 Q436.054 1538.71 437.859 1542.27 Q439.688 1545.82 443.299 1545.82 Q446.933 1545.82 448.739 1542.27 Q450.568 1538.71 450.568 1531.6 Q450.568 1524.47 448.739 1520.93 Q446.933 1517.37 443.299 1517.37 M443.299 1513.66 Q449.109 1513.66 452.165 1518.27 Q455.244 1522.85 455.244 1531.6 Q455.244 1540.33 452.165 1544.94 Q449.109 1549.52 443.299 1549.52 Q437.489 1549.52 434.41 1544.94 Q431.355 1540.33 431.355 1531.6 Q431.355 1522.85 434.41 1518.27 Q437.489 1513.66 443.299 1513.66 Z\" fill=\"#000000\" fill-rule=\"evenodd\" fill-opacity=\"1\" /><path clip-path=\"url(#clip730)\" d=\"M463.461 1542.97 L468.345 1542.97 L468.345 1548.85 L463.461 1548.85 L463.461 1542.97 Z\" fill=\"#000000\" fill-rule=\"evenodd\" fill-opacity=\"1\" /><path clip-path=\"url(#clip730)\" d=\"M488.53 1517.37 Q484.919 1517.37 483.091 1520.93 Q481.285 1524.47 481.285 1531.6 Q481.285 1538.71 483.091 1542.27 Q484.919 1545.82 488.53 1545.82 Q492.165 1545.82 493.97 1542.27 Q495.799 1538.71 495.799 1531.6 Q495.799 1524.47 493.97 1520.93 Q492.165 1517.37 488.53 1517.37 M488.53 1513.66 Q494.341 1513.66 497.396 1518.27 Q500.475 1522.85 500.475 1531.6 Q500.475 1540.33 497.396 1544.94 Q494.341 1549.52 488.53 1549.52 Q482.72 1549.52 479.642 1544.94 Q476.586 1540.33 476.586 1531.6 Q476.586 1522.85 479.642 1518.27 Q482.72 1513.66 488.53 1513.66 Z\" fill=\"#000000\" fill-rule=\"evenodd\" fill-opacity=\"1\" /><path clip-path=\"url(#clip730)\" d=\"M909.095 1544.91 L925.415 1544.91 L925.415 1548.85 L903.471 1548.85 L903.471 1544.91 Q906.133 1542.16 910.716 1537.53 Q915.322 1532.88 916.503 1531.53 Q918.748 1529.01 919.628 1527.27 Q920.531 1525.51 920.531 1523.82 Q920.531 1521.07 918.586 1519.33 Q916.665 1517.6 913.563 1517.6 Q911.364 1517.6 908.91 1518.36 Q906.48 1519.13 903.702 1520.68 L903.702 1515.95 Q906.526 1514.82 908.98 1514.24 Q911.433 1513.66 913.47 1513.66 Q918.841 1513.66 922.035 1516.35 Q925.23 1519.03 925.23 1523.52 Q925.23 1525.65 924.419 1527.57 Q923.632 1529.47 921.526 1532.07 Q920.947 1532.74 917.845 1535.95 Q914.744 1539.15 909.095 1544.91 Z\" fill=\"#000000\" fill-rule=\"evenodd\" fill-opacity=\"1\" /><path clip-path=\"url(#clip730)\" d=\"M935.23 1542.97 L940.114 1542.97 L940.114 1548.85 L935.23 1548.85 L935.23 1542.97 Z\" fill=\"#000000\" fill-rule=\"evenodd\" fill-opacity=\"1\" /><path clip-path=\"url(#clip730)\" d=\"M950.345 1514.29 L968.702 1514.29 L968.702 1518.22 L954.628 1518.22 L954.628 1526.7 Q955.646 1526.35 956.665 1526.19 Q957.683 1526 958.702 1526 Q964.489 1526 967.868 1529.17 Q971.248 1532.34 971.248 1537.76 Q971.248 1543.34 967.776 1546.44 Q964.304 1549.52 957.984 1549.52 Q955.808 1549.52 953.54 1549.15 Q951.294 1548.78 948.887 1548.04 L948.887 1543.34 Q950.97 1544.47 953.192 1545.03 Q955.415 1545.58 957.892 1545.58 Q961.896 1545.58 964.234 1543.48 Q966.572 1541.37 966.572 1537.76 Q966.572 1534.15 964.234 1532.04 Q961.896 1529.94 957.892 1529.94 Q956.017 1529.94 954.142 1530.35 Q952.29 1530.77 950.345 1531.65 L950.345 1514.29 Z\" fill=\"#000000\" fill-rule=\"evenodd\" fill-opacity=\"1\" /><path clip-path=\"url(#clip730)\" d=\"M1375.97 1514.29 L1394.32 1514.29 L1394.32 1518.22 L1380.25 1518.22 L1380.25 1526.7 Q1381.27 1526.35 1382.29 1526.19 Q1383.31 1526 1384.32 1526 Q1390.11 1526 1393.49 1529.17 Q1396.87 1532.34 1396.87 1537.76 Q1396.87 1543.34 1393.4 1546.44 Q1389.93 1549.52 1383.61 1549.52 Q1381.43 1549.52 1379.16 1549.15 Q1376.92 1548.78 1374.51 1548.04 L1374.51 1543.34 Q1376.59 1544.47 1378.82 1545.03 Q1381.04 1545.58 1383.51 1545.58 Q1387.52 1545.58 1389.86 1543.48 Q1392.19 1541.37 1392.19 1537.76 Q1392.19 1534.15 1389.86 1532.04 Q1387.52 1529.94 1383.51 1529.94 Q1381.64 1529.94 1379.76 1530.35 Q1377.91 1530.77 1375.97 1531.65 L1375.97 1514.29 Z\" fill=\"#000000\" fill-rule=\"evenodd\" fill-opacity=\"1\" /><path clip-path=\"url(#clip730)\" d=\"M1406.08 1542.97 L1410.97 1542.97 L1410.97 1548.85 L1406.08 1548.85 L1406.08 1542.97 Z\" fill=\"#000000\" fill-rule=\"evenodd\" fill-opacity=\"1\" /><path clip-path=\"url(#clip730)\" d=\"M1431.15 1517.37 Q1427.54 1517.37 1425.71 1520.93 Q1423.91 1524.47 1423.91 1531.6 Q1423.91 1538.71 1425.71 1542.27 Q1427.54 1545.82 1431.15 1545.82 Q1434.79 1545.82 1436.59 1542.27 Q1438.42 1538.71 1438.42 1531.6 Q1438.42 1524.47 1436.59 1520.93 Q1434.79 1517.37 1431.15 1517.37 M1431.15 1513.66 Q1436.96 1513.66 1440.02 1518.27 Q1443.1 1522.85 1443.1 1531.6 Q1443.1 1540.33 1440.02 1544.94 Q1436.96 1549.52 1431.15 1549.52 Q1425.34 1549.52 1422.26 1544.94 Q1419.21 1540.33 1419.21 1531.6 Q1419.21 1522.85 1422.26 1518.27 Q1425.34 1513.66 1431.15 1513.66 Z\" fill=\"#000000\" fill-rule=\"evenodd\" fill-opacity=\"1\" /><path clip-path=\"url(#clip730)\" d=\"M1846.57 1514.29 L1868.79 1514.29 L1868.79 1516.28 L1856.24 1548.85 L1851.36 1548.85 L1863.16 1518.22 L1846.57 1518.22 L1846.57 1514.29 Z\" fill=\"#000000\" fill-rule=\"evenodd\" fill-opacity=\"1\" /><path clip-path=\"url(#clip730)\" d=\"M1877.91 1542.97 L1882.79 1542.97 L1882.79 1548.85 L1877.91 1548.85 L1877.91 1542.97 Z\" fill=\"#000000\" fill-rule=\"evenodd\" fill-opacity=\"1\" /><path clip-path=\"url(#clip730)\" d=\"M1893.03 1514.29 L1911.38 1514.29 L1911.38 1518.22 L1897.31 1518.22 L1897.31 1526.7 Q1898.33 1526.35 1899.35 1526.19 Q1900.36 1526 1901.38 1526 Q1907.17 1526 1910.55 1529.17 Q1913.93 1532.34 1913.93 1537.76 Q1913.93 1543.34 1910.46 1546.44 Q1906.98 1549.52 1900.66 1549.52 Q1898.49 1549.52 1896.22 1549.15 Q1893.97 1548.78 1891.57 1548.04 L1891.57 1543.34 Q1893.65 1544.47 1895.87 1545.03 Q1898.1 1545.58 1900.57 1545.58 Q1904.58 1545.58 1906.91 1543.48 Q1909.25 1541.37 1909.25 1537.76 Q1909.25 1534.15 1906.91 1532.04 Q1904.58 1529.94 1900.57 1529.94 Q1898.7 1529.94 1896.82 1530.35 Q1894.97 1530.77 1893.03 1531.65 L1893.03 1514.29 Z\" fill=\"#000000\" fill-rule=\"evenodd\" fill-opacity=\"1\" /><path clip-path=\"url(#clip730)\" d=\"M2303.76 1544.91 L2311.4 1544.91 L2311.4 1518.55 L2303.09 1520.21 L2303.09 1515.95 L2311.36 1514.29 L2316.03 1514.29 L2316.03 1544.91 L2323.67 1544.91 L2323.67 1548.85 L2303.76 1548.85 L2303.76 1544.91 Z\" fill=\"#000000\" fill-rule=\"evenodd\" fill-opacity=\"1\" /><path clip-path=\"url(#clip730)\" d=\"M2343.12 1517.37 Q2339.5 1517.37 2337.68 1520.93 Q2335.87 1524.47 2335.87 1531.6 Q2335.87 1538.71 2337.68 1542.27 Q2339.5 1545.82 2343.12 1545.82 Q2346.75 1545.82 2348.56 1542.27 Q2350.38 1538.71 2350.38 1531.6 Q2350.38 1524.47 2348.56 1520.93 Q2346.75 1517.37 2343.12 1517.37 M2343.12 1513.66 Q2348.93 1513.66 2351.98 1518.27 Q2355.06 1522.85 2355.06 1531.6 Q2355.06 1540.33 2351.98 1544.94 Q2348.93 1549.52 2343.12 1549.52 Q2337.31 1549.52 2334.23 1544.94 Q2331.17 1540.33 2331.17 1531.6 Q2331.17 1522.85 2334.23 1518.27 Q2337.31 1513.66 2343.12 1513.66 Z\" fill=\"#000000\" fill-rule=\"evenodd\" fill-opacity=\"1\" /><path clip-path=\"url(#clip730)\" d=\"M2363.28 1542.97 L2368.16 1542.97 L2368.16 1548.85 L2363.28 1548.85 L2363.28 1542.97 Z\" fill=\"#000000\" fill-rule=\"evenodd\" fill-opacity=\"1\" /><path clip-path=\"url(#clip730)\" d=\"M2388.35 1517.37 Q2384.74 1517.37 2382.91 1520.93 Q2381.1 1524.47 2381.1 1531.6 Q2381.1 1538.71 2382.91 1542.27 Q2384.74 1545.82 2388.35 1545.82 Q2391.98 1545.82 2393.79 1542.27 Q2395.62 1538.71 2395.62 1531.6 Q2395.62 1524.47 2393.79 1520.93 Q2391.98 1517.37 2388.35 1517.37 M2388.35 1513.66 Q2394.16 1513.66 2397.21 1518.27 Q2400.29 1522.85 2400.29 1531.6 Q2400.29 1540.33 2397.21 1544.94 Q2394.16 1549.52 2388.35 1549.52 Q2382.54 1549.52 2379.46 1544.94 Q2376.4 1540.33 2376.4 1531.6 Q2376.4 1522.85 2379.46 1518.27 Q2382.54 1513.66 2388.35 1513.66 Z\" fill=\"#000000\" fill-rule=\"evenodd\" fill-opacity=\"1\" /><polyline clip-path=\"url(#clip732)\" style=\"stroke:#000000; stroke-linecap:round; stroke-linejoin:round; stroke-width:2; stroke-opacity:0.1; fill:none\" points=\"\n",
       "  276.274,1445.72 2352.76,1445.72 \n",
       "  \"/>\n",
       "<polyline clip-path=\"url(#clip732)\" style=\"stroke:#000000; stroke-linecap:round; stroke-linejoin:round; stroke-width:2; stroke-opacity:0.1; fill:none\" points=\"\n",
       "  276.274,1054.05 2352.76,1054.05 \n",
       "  \"/>\n",
       "<polyline clip-path=\"url(#clip732)\" style=\"stroke:#000000; stroke-linecap:round; stroke-linejoin:round; stroke-width:2; stroke-opacity:0.1; fill:none\" points=\"\n",
       "  276.274,662.389 2352.76,662.389 \n",
       "  \"/>\n",
       "<polyline clip-path=\"url(#clip732)\" style=\"stroke:#000000; stroke-linecap:round; stroke-linejoin:round; stroke-width:2; stroke-opacity:0.1; fill:none\" points=\"\n",
       "  276.274,270.726 2352.76,270.726 \n",
       "  \"/>\n",
       "<polyline clip-path=\"url(#clip730)\" style=\"stroke:#000000; stroke-linecap:round; stroke-linejoin:round; stroke-width:4; stroke-opacity:1; fill:none\" points=\"\n",
       "  276.274,1486.45 276.274,47.2441 \n",
       "  \"/>\n",
       "<polyline clip-path=\"url(#clip730)\" style=\"stroke:#000000; stroke-linecap:round; stroke-linejoin:round; stroke-width:4; stroke-opacity:1; fill:none\" points=\"\n",
       "  276.274,1445.72 295.171,1445.72 \n",
       "  \"/>\n",
       "<polyline clip-path=\"url(#clip730)\" style=\"stroke:#000000; stroke-linecap:round; stroke-linejoin:round; stroke-width:4; stroke-opacity:1; fill:none\" points=\"\n",
       "  276.274,1054.05 295.171,1054.05 \n",
       "  \"/>\n",
       "<polyline clip-path=\"url(#clip730)\" style=\"stroke:#000000; stroke-linecap:round; stroke-linejoin:round; stroke-width:4; stroke-opacity:1; fill:none\" points=\"\n",
       "  276.274,662.389 295.171,662.389 \n",
       "  \"/>\n",
       "<polyline clip-path=\"url(#clip730)\" style=\"stroke:#000000; stroke-linecap:round; stroke-linejoin:round; stroke-width:4; stroke-opacity:1; fill:none\" points=\"\n",
       "  276.274,270.726 295.171,270.726 \n",
       "  \"/>\n",
       "<path clip-path=\"url(#clip730)\" d=\"M228.329 1431.51 Q224.718 1431.51 222.889 1435.08 Q221.084 1438.62 221.084 1445.75 Q221.084 1452.86 222.889 1456.42 Q224.718 1459.96 228.329 1459.96 Q231.963 1459.96 233.769 1456.42 Q235.598 1452.86 235.598 1445.75 Q235.598 1438.62 233.769 1435.08 Q231.963 1431.51 228.329 1431.51 M228.329 1427.81 Q234.139 1427.81 237.195 1432.42 Q240.274 1437 240.274 1445.75 Q240.274 1454.48 237.195 1459.08 Q234.139 1463.67 228.329 1463.67 Q222.519 1463.67 219.44 1459.08 Q216.385 1454.48 216.385 1445.75 Q216.385 1437 219.44 1432.42 Q222.519 1427.81 228.329 1427.81 Z\" fill=\"#000000\" fill-rule=\"evenodd\" fill-opacity=\"1\" /><path clip-path=\"url(#clip730)\" d=\"M53.3995 1073.84 L61.0384 1073.84 L61.0384 1047.48 L52.7282 1049.15 L52.7282 1044.89 L60.9921 1043.22 L65.668 1043.22 L65.668 1073.84 L73.3068 1073.84 L73.3068 1077.78 L53.3995 1077.78 L53.3995 1073.84 Z\" fill=\"#000000\" fill-rule=\"evenodd\" fill-opacity=\"1\" /><path clip-path=\"url(#clip730)\" d=\"M82.7512 1071.9 L87.6354 1071.9 L87.6354 1077.78 L82.7512 1077.78 L82.7512 1071.9 Z\" fill=\"#000000\" fill-rule=\"evenodd\" fill-opacity=\"1\" /><path clip-path=\"url(#clip730)\" d=\"M107.821 1046.3 Q104.209 1046.3 102.381 1049.86 Q100.575 1053.41 100.575 1060.53 Q100.575 1067.64 102.381 1071.21 Q104.209 1074.75 107.821 1074.75 Q111.455 1074.75 113.26 1071.21 Q115.089 1067.64 115.089 1060.53 Q115.089 1053.41 113.26 1049.86 Q111.455 1046.3 107.821 1046.3 M107.821 1042.6 Q113.631 1042.6 116.686 1047.2 Q119.765 1051.78 119.765 1060.53 Q119.765 1069.26 116.686 1073.87 Q113.631 1078.45 107.821 1078.45 Q102.01 1078.45 98.9317 1073.87 Q95.8761 1069.26 95.8761 1060.53 Q95.8761 1051.78 98.9317 1047.2 Q102.01 1042.6 107.821 1042.6 Z\" fill=\"#000000\" fill-rule=\"evenodd\" fill-opacity=\"1\" /><path clip-path=\"url(#clip730)\" d=\"M156.154 1052.32 L145.575 1062.94 L156.154 1073.52 L153.399 1076.32 L142.774 1065.7 L132.149 1076.32 L129.418 1073.52 L139.973 1062.94 L129.418 1052.32 L132.149 1049.52 L142.774 1060.14 L153.399 1049.52 L156.154 1052.32 Z\" fill=\"#000000\" fill-rule=\"evenodd\" fill-opacity=\"1\" /><path clip-path=\"url(#clip730)\" d=\"M168.515 1073.84 L176.153 1073.84 L176.153 1047.48 L167.843 1049.15 L167.843 1044.89 L176.107 1043.22 L180.783 1043.22 L180.783 1073.84 L188.422 1073.84 L188.422 1077.78 L168.515 1077.78 L168.515 1073.84 Z\" fill=\"#000000\" fill-rule=\"evenodd\" fill-opacity=\"1\" /><path clip-path=\"url(#clip730)\" d=\"M207.866 1046.3 Q204.255 1046.3 202.426 1049.86 Q200.621 1053.41 200.621 1060.53 Q200.621 1067.64 202.426 1071.21 Q204.255 1074.75 207.866 1074.75 Q211.501 1074.75 213.306 1071.21 Q215.135 1067.64 215.135 1060.53 Q215.135 1053.41 213.306 1049.86 Q211.501 1046.3 207.866 1046.3 M207.866 1042.6 Q213.676 1042.6 216.732 1047.2 Q219.811 1051.78 219.811 1060.53 Q219.811 1069.26 216.732 1073.87 Q213.676 1078.45 207.866 1078.45 Q202.056 1078.45 198.977 1073.87 Q195.922 1069.26 195.922 1060.53 Q195.922 1051.78 198.977 1047.2 Q202.056 1042.6 207.866 1042.6 Z\" fill=\"#000000\" fill-rule=\"evenodd\" fill-opacity=\"1\" /><path clip-path=\"url(#clip730)\" d=\"M232.487 1025.6 L222.895 1040.59 L232.487 1040.59 L232.487 1025.6 M231.49 1022.29 L236.267 1022.29 L236.267 1040.59 L240.274 1040.59 L240.274 1043.75 L236.267 1043.75 L236.267 1050.37 L232.487 1050.37 L232.487 1043.75 L219.811 1043.75 L219.811 1040.08 L231.49 1022.29 Z\" fill=\"#000000\" fill-rule=\"evenodd\" fill-opacity=\"1\" /><path clip-path=\"url(#clip730)\" d=\"M56.6171 682.182 L72.9365 682.182 L72.9365 686.117 L50.9921 686.117 L50.9921 682.182 Q53.6541 679.427 58.2375 674.797 Q62.8439 670.145 64.0245 668.802 Q66.2698 666.279 67.1494 664.543 Q68.0522 662.784 68.0522 661.094 Q68.0522 658.339 66.1078 656.603 Q64.1865 654.867 61.0847 654.867 Q58.8856 654.867 56.4319 655.631 Q54.0014 656.395 51.2236 657.946 L51.2236 653.224 Q54.0477 652.089 56.5014 651.511 Q58.955 650.932 60.9921 650.932 Q66.3624 650.932 69.5568 653.617 Q72.7513 656.302 72.7513 660.793 Q72.7513 662.923 71.9411 664.844 Q71.1541 666.742 69.0476 669.335 Q68.4689 670.006 65.367 673.223 Q62.2652 676.418 56.6171 682.182 Z\" fill=\"#000000\" fill-rule=\"evenodd\" fill-opacity=\"1\" /><path clip-path=\"url(#clip730)\" d=\"M82.7512 680.237 L87.6354 680.237 L87.6354 686.117 L82.7512 686.117 L82.7512 680.237 Z\" fill=\"#000000\" fill-rule=\"evenodd\" fill-opacity=\"1\" /><path clip-path=\"url(#clip730)\" d=\"M107.821 654.636 Q104.209 654.636 102.381 658.2 Q100.575 661.742 100.575 668.872 Q100.575 675.978 102.381 679.543 Q104.209 683.084 107.821 683.084 Q111.455 683.084 113.26 679.543 Q115.089 675.978 115.089 668.872 Q115.089 661.742 113.26 658.2 Q111.455 654.636 107.821 654.636 M107.821 650.932 Q113.631 650.932 116.686 655.538 Q119.765 660.122 119.765 668.872 Q119.765 677.598 116.686 682.205 Q113.631 686.788 107.821 686.788 Q102.01 686.788 98.9317 682.205 Q95.8761 677.598 95.8761 668.872 Q95.8761 660.122 98.9317 655.538 Q102.01 650.932 107.821 650.932 Z\" fill=\"#000000\" fill-rule=\"evenodd\" fill-opacity=\"1\" /><path clip-path=\"url(#clip730)\" d=\"M156.154 660.654 L145.575 671.279 L156.154 681.858 L153.399 684.659 L142.774 674.034 L132.149 684.659 L129.418 681.858 L139.973 671.279 L129.418 660.654 L132.149 657.853 L142.774 668.478 L153.399 657.853 L156.154 660.654 Z\" fill=\"#000000\" fill-rule=\"evenodd\" fill-opacity=\"1\" /><path clip-path=\"url(#clip730)\" d=\"M168.515 682.182 L176.153 682.182 L176.153 655.816 L167.843 657.483 L167.843 653.224 L176.107 651.557 L180.783 651.557 L180.783 682.182 L188.422 682.182 L188.422 686.117 L168.515 686.117 L168.515 682.182 Z\" fill=\"#000000\" fill-rule=\"evenodd\" fill-opacity=\"1\" /><path clip-path=\"url(#clip730)\" d=\"M207.866 654.636 Q204.255 654.636 202.426 658.2 Q200.621 661.742 200.621 668.872 Q200.621 675.978 202.426 679.543 Q204.255 683.084 207.866 683.084 Q211.501 683.084 213.306 679.543 Q215.135 675.978 215.135 668.872 Q215.135 661.742 213.306 658.2 Q211.501 654.636 207.866 654.636 M207.866 650.932 Q213.676 650.932 216.732 655.538 Q219.811 660.122 219.811 668.872 Q219.811 677.598 216.732 682.205 Q213.676 686.788 207.866 686.788 Q202.056 686.788 198.977 682.205 Q195.922 677.598 195.922 668.872 Q195.922 660.122 198.977 655.538 Q202.056 650.932 207.866 650.932 Z\" fill=\"#000000\" fill-rule=\"evenodd\" fill-opacity=\"1\" /><path clip-path=\"url(#clip730)\" d=\"M232.487 633.937 L222.895 648.926 L232.487 648.926 L232.487 633.937 M231.49 630.626 L236.267 630.626 L236.267 648.926 L240.274 648.926 L240.274 652.086 L236.267 652.086 L236.267 658.706 L232.487 658.706 L232.487 652.086 L219.811 652.086 L219.811 648.419 L231.49 630.626 Z\" fill=\"#000000\" fill-rule=\"evenodd\" fill-opacity=\"1\" /><path clip-path=\"url(#clip730)\" d=\"M66.7559 275.82 Q70.1124 276.537 71.9874 278.806 Q73.8855 281.074 73.8855 284.407 Q73.8855 289.523 70.367 292.324 Q66.8485 295.125 60.3671 295.125 Q58.1912 295.125 55.8764 294.685 Q53.5847 294.268 51.131 293.412 L51.131 288.898 Q53.0754 290.032 55.3903 290.611 Q57.7051 291.19 60.2282 291.19 Q64.6263 291.19 66.918 289.454 Q69.2328 287.718 69.2328 284.407 Q69.2328 281.352 67.08 279.639 Q64.9504 277.903 61.131 277.903 L57.1032 277.903 L57.1032 274.06 L61.3161 274.06 Q64.7652 274.06 66.5939 272.695 Q68.4226 271.306 68.4226 268.713 Q68.4226 266.051 66.5245 264.639 Q64.6495 263.204 61.131 263.204 Q59.2097 263.204 57.0106 263.62 Q54.8115 264.037 52.1727 264.917 L52.1727 260.75 Q54.8347 260.009 57.1495 259.639 Q59.4875 259.269 61.5476 259.269 Q66.8717 259.269 69.9735 261.699 Q73.0753 264.107 73.0753 268.227 Q73.0753 271.097 71.4318 273.088 Q69.7883 275.056 66.7559 275.82 Z\" fill=\"#000000\" fill-rule=\"evenodd\" fill-opacity=\"1\" /><path clip-path=\"url(#clip730)\" d=\"M82.7512 288.574 L87.6354 288.574 L87.6354 294.454 L82.7512 294.454 L82.7512 288.574 Z\" fill=\"#000000\" fill-rule=\"evenodd\" fill-opacity=\"1\" /><path clip-path=\"url(#clip730)\" d=\"M107.821 262.972 Q104.209 262.972 102.381 266.537 Q100.575 270.079 100.575 277.208 Q100.575 284.315 102.381 287.88 Q104.209 291.421 107.821 291.421 Q111.455 291.421 113.26 287.88 Q115.089 284.315 115.089 277.208 Q115.089 270.079 113.26 266.537 Q111.455 262.972 107.821 262.972 M107.821 259.269 Q113.631 259.269 116.686 263.875 Q119.765 268.458 119.765 277.208 Q119.765 285.935 116.686 290.542 Q113.631 295.125 107.821 295.125 Q102.01 295.125 98.9317 290.542 Q95.8761 285.935 95.8761 277.208 Q95.8761 268.458 98.9317 263.875 Q102.01 259.269 107.821 259.269 Z\" fill=\"#000000\" fill-rule=\"evenodd\" fill-opacity=\"1\" /><path clip-path=\"url(#clip730)\" d=\"M156.154 268.991 L145.575 279.616 L156.154 290.194 L153.399 292.995 L142.774 282.37 L132.149 292.995 L129.418 290.194 L139.973 279.616 L129.418 268.991 L132.149 266.19 L142.774 276.815 L153.399 266.19 L156.154 268.991 Z\" fill=\"#000000\" fill-rule=\"evenodd\" fill-opacity=\"1\" /><path clip-path=\"url(#clip730)\" d=\"M168.515 290.518 L176.153 290.518 L176.153 264.153 L167.843 265.82 L167.843 261.56 L176.107 259.894 L180.783 259.894 L180.783 290.518 L188.422 290.518 L188.422 294.454 L168.515 294.454 L168.515 290.518 Z\" fill=\"#000000\" fill-rule=\"evenodd\" fill-opacity=\"1\" /><path clip-path=\"url(#clip730)\" d=\"M207.866 262.972 Q204.255 262.972 202.426 266.537 Q200.621 270.079 200.621 277.208 Q200.621 284.315 202.426 287.88 Q204.255 291.421 207.866 291.421 Q211.501 291.421 213.306 287.88 Q215.135 284.315 215.135 277.208 Q215.135 270.079 213.306 266.537 Q211.501 262.972 207.866 262.972 M207.866 259.269 Q213.676 259.269 216.732 263.875 Q219.811 268.458 219.811 277.208 Q219.811 285.935 216.732 290.542 Q213.676 295.125 207.866 295.125 Q202.056 295.125 198.977 290.542 Q195.922 285.935 195.922 277.208 Q195.922 268.458 198.977 263.875 Q202.056 259.269 207.866 259.269 Z\" fill=\"#000000\" fill-rule=\"evenodd\" fill-opacity=\"1\" /><path clip-path=\"url(#clip730)\" d=\"M232.487 242.273 L222.895 257.263 L232.487 257.263 L232.487 242.273 M231.49 238.963 L236.267 238.963 L236.267 257.263 L240.274 257.263 L240.274 260.423 L236.267 260.423 L236.267 267.043 L232.487 267.043 L232.487 260.423 L219.811 260.423 L219.811 256.755 L231.49 238.963 Z\" fill=\"#000000\" fill-rule=\"evenodd\" fill-opacity=\"1\" /><path clip-path=\"url(#clip732)\" d=\"\n",
       "M390.484 87.9763 L390.484 1445.72 L541.346 1445.72 L541.346 87.9763 L390.484 87.9763 L390.484 87.9763  Z\n",
       "  \" fill=\"#009af9\" fill-rule=\"evenodd\" fill-opacity=\"1\"/>\n",
       "<polyline clip-path=\"url(#clip732)\" style=\"stroke:#000000; stroke-linecap:round; stroke-linejoin:round; stroke-width:4; stroke-opacity:1; fill:none\" points=\"\n",
       "  390.484,87.9763 390.484,1445.72 541.346,1445.72 541.346,87.9763 390.484,87.9763 \n",
       "  \"/>\n",
       "<path clip-path=\"url(#clip732)\" d=\"\n",
       "M579.061 850.636 L579.061 1445.72 L729.924 1445.72 L729.924 850.636 L579.061 850.636 L579.061 850.636  Z\n",
       "  \" fill=\"#009af9\" fill-rule=\"evenodd\" fill-opacity=\"1\"/>\n",
       "<polyline clip-path=\"url(#clip732)\" style=\"stroke:#000000; stroke-linecap:round; stroke-linejoin:round; stroke-width:4; stroke-opacity:1; fill:none\" points=\"\n",
       "  579.061,850.636 579.061,1445.72 729.924,1445.72 729.924,850.636 579.061,850.636 \n",
       "  \"/>\n",
       "<path clip-path=\"url(#clip732)\" d=\"\n",
       "M767.639 279.221 L767.639 1445.72 L918.501 1445.72 L918.501 279.221 L767.639 279.221 L767.639 279.221  Z\n",
       "  \" fill=\"#009af9\" fill-rule=\"evenodd\" fill-opacity=\"1\"/>\n",
       "<polyline clip-path=\"url(#clip732)\" style=\"stroke:#000000; stroke-linecap:round; stroke-linejoin:round; stroke-width:4; stroke-opacity:1; fill:none\" points=\"\n",
       "  767.639,279.221 767.639,1445.72 918.501,1445.72 918.501,279.221 767.639,279.221 \n",
       "  \"/>\n",
       "<path clip-path=\"url(#clip732)\" d=\"\n",
       "M956.217 337.516 L956.217 1445.72 L1107.08 1445.72 L1107.08 337.516 L956.217 337.516 L956.217 337.516  Z\n",
       "  \" fill=\"#009af9\" fill-rule=\"evenodd\" fill-opacity=\"1\"/>\n",
       "<polyline clip-path=\"url(#clip732)\" style=\"stroke:#000000; stroke-linecap:round; stroke-linejoin:round; stroke-width:4; stroke-opacity:1; fill:none\" points=\"\n",
       "  956.217,337.516 956.217,1445.72 1107.08,1445.72 1107.08,337.516 956.217,337.516 \n",
       "  \"/>\n",
       "<path clip-path=\"url(#clip732)\" d=\"\n",
       "M1144.79 495.407 L1144.79 1445.72 L1295.66 1445.72 L1295.66 495.407 L1144.79 495.407 L1144.79 495.407  Z\n",
       "  \" fill=\"#009af9\" fill-rule=\"evenodd\" fill-opacity=\"1\"/>\n",
       "<polyline clip-path=\"url(#clip732)\" style=\"stroke:#000000; stroke-linecap:round; stroke-linejoin:round; stroke-width:4; stroke-opacity:1; fill:none\" points=\"\n",
       "  1144.79,495.407 1144.79,1445.72 1295.66,1445.72 1295.66,495.407 1144.79,495.407 \n",
       "  \"/>\n",
       "<path clip-path=\"url(#clip732)\" d=\"\n",
       "M1333.37 437.591 L1333.37 1445.72 L1484.23 1445.72 L1484.23 437.591 L1333.37 437.591 L1333.37 437.591  Z\n",
       "  \" fill=\"#009af9\" fill-rule=\"evenodd\" fill-opacity=\"1\"/>\n",
       "<polyline clip-path=\"url(#clip732)\" style=\"stroke:#000000; stroke-linecap:round; stroke-linejoin:round; stroke-width:4; stroke-opacity:1; fill:none\" points=\"\n",
       "  1333.37,437.591 1333.37,1445.72 1484.23,1445.72 1484.23,437.591 1333.37,437.591 \n",
       "  \"/>\n",
       "<path clip-path=\"url(#clip732)\" d=\"\n",
       "M1521.95 370.625 L1521.95 1445.72 L1672.81 1445.72 L1672.81 370.625 L1521.95 370.625 L1521.95 370.625  Z\n",
       "  \" fill=\"#009af9\" fill-rule=\"evenodd\" fill-opacity=\"1\"/>\n",
       "<polyline clip-path=\"url(#clip732)\" style=\"stroke:#000000; stroke-linecap:round; stroke-linejoin:round; stroke-width:4; stroke-opacity:1; fill:none\" points=\"\n",
       "  1521.95,370.625 1521.95,1445.72 1672.81,1445.72 1672.81,370.625 1521.95,370.625 \n",
       "  \"/>\n",
       "<path clip-path=\"url(#clip732)\" d=\"\n",
       "M1710.53 548.949 L1710.53 1445.72 L1861.39 1445.72 L1861.39 548.949 L1710.53 548.949 L1710.53 548.949  Z\n",
       "  \" fill=\"#009af9\" fill-rule=\"evenodd\" fill-opacity=\"1\"/>\n",
       "<polyline clip-path=\"url(#clip732)\" style=\"stroke:#000000; stroke-linecap:round; stroke-linejoin:round; stroke-width:4; stroke-opacity:1; fill:none\" points=\"\n",
       "  1710.53,548.949 1710.53,1445.72 1861.39,1445.72 1861.39,548.949 1710.53,548.949 \n",
       "  \"/>\n",
       "<path clip-path=\"url(#clip732)\" d=\"\n",
       "M1899.11 269.975 L1899.11 1445.72 L2049.97 1445.72 L2049.97 269.975 L1899.11 269.975 L1899.11 269.975  Z\n",
       "  \" fill=\"#009af9\" fill-rule=\"evenodd\" fill-opacity=\"1\"/>\n",
       "<polyline clip-path=\"url(#clip732)\" style=\"stroke:#000000; stroke-linecap:round; stroke-linejoin:round; stroke-width:4; stroke-opacity:1; fill:none\" points=\"\n",
       "  1899.11,269.975 1899.11,1445.72 2049.97,1445.72 2049.97,269.975 1899.11,269.975 \n",
       "  \"/>\n",
       "<path clip-path=\"url(#clip732)\" d=\"\n",
       "M2087.68 485.82 L2087.68 1445.72 L2238.55 1445.72 L2238.55 485.82 L2087.68 485.82 L2087.68 485.82  Z\n",
       "  \" fill=\"#009af9\" fill-rule=\"evenodd\" fill-opacity=\"1\"/>\n",
       "<polyline clip-path=\"url(#clip732)\" style=\"stroke:#000000; stroke-linecap:round; stroke-linejoin:round; stroke-width:4; stroke-opacity:1; fill:none\" points=\"\n",
       "  2087.68,485.82 2087.68,1445.72 2238.55,1445.72 2238.55,485.82 2087.68,485.82 \n",
       "  \"/>\n",
       "<circle clip-path=\"url(#clip732)\" style=\"fill:#009af9; stroke:none; fill-opacity:0\" cx=\"465.915\" cy=\"87.9763\" r=\"2\"/>\n",
       "<circle clip-path=\"url(#clip732)\" style=\"fill:#009af9; stroke:none; fill-opacity:0\" cx=\"654.493\" cy=\"850.636\" r=\"2\"/>\n",
       "<circle clip-path=\"url(#clip732)\" style=\"fill:#009af9; stroke:none; fill-opacity:0\" cx=\"843.07\" cy=\"279.221\" r=\"2\"/>\n",
       "<circle clip-path=\"url(#clip732)\" style=\"fill:#009af9; stroke:none; fill-opacity:0\" cx=\"1031.65\" cy=\"337.516\" r=\"2\"/>\n",
       "<circle clip-path=\"url(#clip732)\" style=\"fill:#009af9; stroke:none; fill-opacity:0\" cx=\"1220.23\" cy=\"495.407\" r=\"2\"/>\n",
       "<circle clip-path=\"url(#clip732)\" style=\"fill:#009af9; stroke:none; fill-opacity:0\" cx=\"1408.8\" cy=\"437.591\" r=\"2\"/>\n",
       "<circle clip-path=\"url(#clip732)\" style=\"fill:#009af9; stroke:none; fill-opacity:0\" cx=\"1597.38\" cy=\"370.625\" r=\"2\"/>\n",
       "<circle clip-path=\"url(#clip732)\" style=\"fill:#009af9; stroke:none; fill-opacity:0\" cx=\"1785.96\" cy=\"548.949\" r=\"2\"/>\n",
       "<circle clip-path=\"url(#clip732)\" style=\"fill:#009af9; stroke:none; fill-opacity:0\" cx=\"1974.54\" cy=\"269.975\" r=\"2\"/>\n",
       "<circle clip-path=\"url(#clip732)\" style=\"fill:#009af9; stroke:none; fill-opacity:0\" cx=\"2163.11\" cy=\"485.82\" r=\"2\"/>\n",
       "</svg>\n"
      ]
     },
     "metadata": {},
     "output_type": "display_data"
    }
   ],
   "source": [
    "bar(0:9, l_mean, legend=false)"
   ]
  },
  {
   "cell_type": "markdown",
   "id": "ec8766a0",
   "metadata": {
    "colab_type": "text",
    "id": "sABXrPHwrRCU"
   },
   "source": [
    "As we can see there are some differences in intensity. The digit “1” is the less intense while the digit “0” is the most intense. So this new feature seems to have some predictive value if you wanted to know if say your digit is a “1” or not."
   ]
  },
  {
   "cell_type": "code",
   "execution_count": 47,
   "id": "504bc748",
   "metadata": {},
   "outputs": [
    {
     "data": {
      "text/plain": [
       "(60000, 1)"
      ]
     },
     "metadata": {},
     "output_type": "display_data"
    }
   ],
   "source": [
    "#TODO compute average intensity for each data sample\n",
    "intensity = sum(train_x_flatten,dims=2) ./ 784\n",
    "size(intensity)"
   ]
  },
  {
   "cell_type": "markdown",
   "id": "498e0421",
   "metadata": {
    "colab_type": "text",
    "id": "xff4VjFerRCn"
   },
   "source": [
    "Some digits are symmetric (1, 3, 8, 0) some are not (2, 4, 5, 6, 9). Creating a new feature capturing this could be useful. Specifically, we calculate $s = -\\frac{s_1 + s_2}{2}$ for each image:\n",
    "- $s_1$: flip the image along y-axis and compute the mean value of result\n",
    "- $s_2$: flip the image along x-axis and compute the mean value of result"
   ]
  },
  {
   "cell_type": "code",
   "execution_count": 48,
   "id": "13b9bbd9",
   "metadata": {},
   "outputs": [
    {
     "data": {
      "text/plain": [
       "(60000,)"
      ]
     },
     "metadata": {},
     "output_type": "display_data"
    }
   ],
   "source": [
    "function compute_symmetry(train_x)\n",
    "    symmetry = []\n",
    "    for i in 1:size(train_x)[1]\n",
    "        img = reshape(train_x[i,:], (28,28))\n",
    "        s1 = mean(abs.(img - reverse(img, dims=1)))\n",
    "        s2 = mean(abs.(img - reverse(img, dims=2)))\n",
    "        s = -0.5 .* (s1 + s2)\n",
    "        append!(symmetry, s)\n",
    "    end\n",
    "    return symmetry\n",
    "end\n",
    "\n",
    "symmetry = compute_symmetry(train_x_flatten)\n",
    "size(symmetry)"
   ]
  },
  {
   "cell_type": "markdown",
   "id": "a8b78faf",
   "metadata": {},
   "source": [
    "Visualize 10 samples in order to illustrate symmetry"
   ]
  },
  {
   "cell_type": "code",
   "execution_count": 49,
   "id": "4b8b85e5",
   "metadata": {},
   "outputs": [
    {
     "data": {
      "text/html": [
       "<table><tbody><tr><td style='text-align:center;vertical-align:middle; margin: 0.5em;border:1px #90999f solid;border-collapse:collapse'><img style='max-width: 100px; max-height:100px;display:inline' src=\"data:image/png;base64,iVBORw0KGgoAAAANSUhEUgAAAHAAAABwCAAAAADji6uXAAAABGdBTUEAALGPC/xhBQAAAAFzUkdCAK7OHOkAAAAgY0hSTQAAeiYAAICEAAD6AAAAgOgAAHUwAADqYAAAOpgAABdwnLpRPAAAARlJREFUaAW9wUtuYgEQwEC35PtfuWfBAiUI3oeMqyQmMYlJTGISk5jEJCYxiUlMYhKTmMQkJjGJSUwuWq4ZfpKYxCQmB5a/JTGJSUw+WL4zvJKYxCQmf2Q4R2ISk5h8MMDy3gDLNRKTmMTkwADLq+FhuEZiEpOYnDA8LE8LDNdJTGISk5jEJCYxuWCA5Wl5Gs6RmMQkJhcNsLxaYDgmMYlJTG4YYHm1wPCZxCQmMblpgOU6iUlMYvKF4WF5WmB4T2ISk5jctNwjMYlJTC5aPhs+k5jEJCYnLceGYxKTmMTkwHLOcI7EJCYxeWM5Z7hGYhKTmPyynDPcIzGJSUwuGr4jMYlJTH4Z/i+JSUxiEpOYxCQmMYlJTGL/AOuLGMQ6CbkDAAAAAElFTkSuQmCC\"></td><td style='text-align:center;vertical-align:middle; margin: 0.5em;border:1px #90999f solid;border-collapse:collapse'><img style='max-width: 100px; max-height:100px;display:inline' src=\"data:image/png;base64,iVBORw0KGgoAAAANSUhEUgAAAHAAAABwCAAAAADji6uXAAAABGdBTUEAALGPC/xhBQAAAAFzUkdCAK7OHOkAAAAgY0hSTQAAeiYAAICEAAD6AAAAgOgAAHUwAADqYAAAOpgAABdwnLpRPAAAAQJJREFUaAW9wUGOg0AQwECP5P9/ufeQU0QgBFhXSUxiEpOYxCQmMYlJTGISk5jEJCYxickNw9bimMQkJjG5aLhGYhKTmFww7BteFp9JTGISkx8M90lMYhKTmMQkJjE5aXiGxCQmMTlh+G7xMrwMsNiSmMQkJl8Mny2ukZjEJCYHhudJTGISkx8s7pOYxCQmJy2eITGJSUx2DP9DYhKTmDxkOEdiEpOYnLA4NmwtPpOYxCQmNw3vFsckJjGJyQ3Du8V3EpOYxOSE4TkSk5jE5AGL8yQmMYnJDYvfSUxiEpMdCxj2La6RmMQkJgcWz5OYxCQmMYlJTGISk5jEJCYxiUlMYn+JIhO/PQpEBAAAAABJRU5ErkJg\"></td><td style='text-align:center;vertical-align:middle; margin: 0.5em;border:1px #90999f solid;border-collapse:collapse'><img style='max-width: 100px; max-height:100px;display:inline' src=\"data:image/png;base64,iVBORw0KGgoAAAANSUhEUgAAAHAAAABwCAAAAADji6uXAAAABGdBTUEAALGPC/xhBQAAAAFzUkdCAK7OHOkAAAAgY0hSTQAAeiYAAICEAAD6AAAAgOgAAHUwAADqYAAAOpgAABdwnLpRPAAAAOFJREFUaAW9wUkOAkEQwLC0lP9/uThwALGOoCe2xCQmMYlJTGISk5jEJCYxiUlMYhKTmMQkJjGJyWbDzeKZxCQmMXkwXC3OITGJSUw2Gr6TmMQkJidZvCYxiUlMYhKTmMTkznA+iUlMYrLJcIzEJCYxiUlMYhKTPwyvLd6TmMQkJgcM+0hMYhKTN4bfLD6TmMQkJncWMHy2eDYcJzGJSUweLM4lMYlJTGISk5jEJCYxiUlMYhKTmMQkJjGJSUxiEpOYxCQmMYlJTGISk5jEZIPFcRKTmMQkJjGJSUxiEpOYxC6wPQvAxfFFGAAAAABJRU5ErkJg\"></td><td style='text-align:center;vertical-align:middle; margin: 0.5em;border:1px #90999f solid;border-collapse:collapse'><img style='max-width: 100px; max-height:100px;display:inline' src=\"data:image/png;base64,iVBORw0KGgoAAAANSUhEUgAAAHAAAABwCAAAAADji6uXAAAABGdBTUEAALGPC/xhBQAAAAFzUkdCAK7OHOkAAAAgY0hSTQAAeiYAAICEAAD6AAAAgOgAAHUwAADqYAAAOpgAABdwnLpRPAAAAOVJREFUaAW9wUFqwDAQwEAZ9P8vb88lpYkToxmJSUxiEpOYxCQmMYlJTGISk5jEJCYxiUlMYhKTQ4bfFn+TmMQkJgcMz0lMYhKTmMQkJjH5aNgjMYlJTD4Yrhb/k5jEJCYHLe5JTGISk5eGdyQmMYnJC8PV4hmJSUxiEpOYxCQmm4arxXMSk5jEZMNwtdgjMYlJTGISk5jE5KHharFPYhKTmMQkJjGJyUuLdyQmMYnJA8M5EpOYxOTGcJbEJCYx2bT4RmISk5jEJCYxiUlMYhKTmNxYnCUxiUlMYhKTmMQkJjGJSewHh+wMwBjFURMAAAAASUVORK5C\"></td><td style='text-align:center;vertical-align:middle; margin: 0.5em;border:1px #90999f solid;border-collapse:collapse'><img style='max-width: 100px; max-height:100px;display:inline' src=\"data:image/png;base64,iVBORw0KGgoAAAANSUhEUgAAAHAAAABwCAAAAADji6uXAAAABGdBTUEAALGPC/xhBQAAAAFzUkdCAK7OHOkAAAAgY0hSTQAAeiYAAICEAAD6AAAAgOgAAHUwAADqYAAAOpgAABdwnLpRPAAAAQFJREFUaAW9wUGO20AQwEA2wP9/uXPYQxA4tqVZgVUSk5jEJCYxiUlMYhKTmMQkJjGJSUxiEpOYxCQmMYlJTGISk5jEJCY3Ld8N70lMYhKTG5bfk5jEJCYXLM+RmMQkJoeGH8s9EpOYxOSL5dXw3vCZxCQmMflgeTX8WF4N30lMYhKTN5Z/DX8t5yQmMYnJRctnwzUSk5jE5AHDdRKTmMTkjQGW50lMYhKTD4b/W85JTGISk5jEJCYxOTDAckZiEpOYHFjOSUxiEpOYxCQmMYlJTGISkwMDLGckJjGJyQMWGK6RmMQkJg9ZYPhOYhKTmBwaYLlPYhKTmPzCcJ/EJCaxP4awE8CyhygFAAAAAElFTkSuQmCC\"></td><td style='text-align:center;vertical-align:middle; margin: 0.5em;border:1px #90999f solid;border-collapse:collapse'><img style='max-width: 100px; max-height:100px;display:inline' src=\"data:image/png;base64,iVBORw0KGgoAAAANSUhEUgAAAHAAAABwCAAAAADji6uXAAAABGdBTUEAALGPC/xhBQAAAAFzUkdCAK7OHOkAAAAgY0hSTQAAeiYAAICEAAD6AAAAgOgAAHUwAADqYAAAOpgAABdwnLpRPAAAAQ1JREFUaAW9wTFywgAQwEDdjP7/5UuRggIbjEm0KzGJSUxiEpOYxCQmMYlJTGISk5jEJCYxiUlMYvKF5dnwmsQkJjG5YblPYhKTmHxgeW+B4ZzEJCYxuWD5OxKTmMTkSwMs10lMYhKTLwyfk5jEJCY3DPdJTGISkwuGvyMxiUlMbljuk5jEJCYXLdcMr0lMYhKTN5bPLDCck5jEJCYvLMcGWM4tMByTmMQkJieWYwMs7y0Pw4PEJCYxObAcG2B5NsByjcQkJjH5wPJs+DU8LOckJjGJyReGY8M5iUlMYnLTcI/EJCYx+cDwPYlJTGJyYPg/EpOYxCQmMYlJTGISk5jEJCYxiUlMYhKTmMR+AEzLFsHwL8oLAAAAAElFTkSuQmCC\"></td><td style='text-align:center;vertical-align:middle; margin: 0.5em;border:1px #90999f solid;border-collapse:collapse'><img style='max-width: 100px; max-height:100px;display:inline' src=\"data:image/png;base64,iVBORw0KGgoAAAANSUhEUgAAAHAAAABwCAAAAADji6uXAAAABGdBTUEAALGPC/xhBQAAAAFzUkdCAK7OHOkAAAAgY0hSTQAAeiYAAICEAAD6AAAAgOgAAHUwAADqYAAAOpgAABdwnLpRPAAAANlJREFUaAW9wbFtBDEABDEKmP5blmNH/vszlsxYxjKWsYxlLGMZy1jGMpaxjGUsYxnLQ9dvxzMZy1jG8sD1XsYylrGMZSxjGcsDB9c7GctYxvLA9V7GMpaxvHRxfC5jGctYHji43slYxjKWhw6u72UsYxnLWMYylrGMZSxjGctYxjKWsYxlLGMZy1jGMpax/IOL4zMZy1jGMpaxjGUsYxnLWMbyhYPrt4vjbxnLWMYylrGMZSxjGctYxjKWsYxlLF86vpOxjGUsYxnLWMYylrGMZSxjGctYxn4A32YLwPT9QrYAAAAASUVORK5C\"></td><td style='text-align:center;vertical-align:middle; margin: 0.5em;border:1px #90999f solid;border-collapse:collapse'><img style='max-width: 100px; max-height:100px;display:inline' src=\"data:image/png;base64,iVBORw0KGgoAAAANSUhEUgAAAHAAAABwCAAAAADji6uXAAAABGdBTUEAALGPC/xhBQAAAAFzUkdCAK7OHOkAAAAgY0hSTQAAeiYAAICEAAD6AAAAgOgAAHUwAADqYAAAOpgAABdwnLpRPAAAAP9JREFUaAW9wVFOwzAUAMG1tPe/8uMTIRJqp2VnJCYxiUlMYhKTmMQkJjGJSUxiEpOYxCQmMYlJTA4M+xbXJCYxicmG4dwAi98kJjGJSUxiEpOYxCQmMYnJA4ufhn0Sk5jEZMPi3OKaxCQmMXnTcEZiEpOYPDQ8IzGJSUw2DGcW9yQmMYnJC8O+xWsSk5jE5IMGWPxNYhKTmLywgOFzJCYxicmGxb3hjMQkJjGJSUxiEpMbw7fFteGcxCQmMbkw/G14TmISk5hsGPYsXpOYxCQmH7LYIzGJSUzetDgjMYlJTC4sYLi3eE5iEpOY3Fj8D4lJTGISk5jEJCYxiUlMYl/UrBLBewH0uQAAAABJRU5ErkJg\"></td><td style='text-align:center;vertical-align:middle; margin: 0.5em;border:1px #90999f solid;border-collapse:collapse'><img style='max-width: 100px; max-height:100px;display:inline' src=\"data:image/png;base64,iVBORw0KGgoAAAANSUhEUgAAAHAAAABwCAAAAADji6uXAAAABGdBTUEAALGPC/xhBQAAAAFzUkdCAK7OHOkAAAAgY0hSTQAAeiYAAICEAAD6AAAAgOgAAHUwAADqYAAAOpgAABdwnLpRPAAAAMhJREFUaAW9wbENwDAMwDAZ0P8vu2PXJgVESkxiEpOYxCQmMYlJTGISk5jEJCYxiUlMYhKTmBxaXsM5iUlMYvLDAsMZiUlMYhKTmMQkJjGJSUxiEpOYxCQmMYlJTGISk5jEJCaHBljuSUxiEpOYxCQmMYlJTGISk5jEJCYxiUlMYhKTnxYYvpOYxCQmMYlJTGJyYYDljsQkJjGJSUxiEpOYxCQmMYlJTGISk5jEJCYxiUlMYhKTS8MdiUlMYhKTmMQkJjGJSUxiD80uBsIuYeKkAAAAAElFTkSuQmCC\"></td><td style='text-align:center;vertical-align:middle; margin: 0.5em;border:1px #90999f solid;border-collapse:collapse'><img style='max-width: 100px; max-height:100px;display:inline' src=\"data:image/png;base64,iVBORw0KGgoAAAANSUhEUgAAAHAAAABwCAAAAADji6uXAAAABGdBTUEAALGPC/xhBQAAAAFzUkdCAK7OHOkAAAAgY0hSTQAAeiYAAICEAAD6AAAAgOgAAHUwAADqYAAAOpgAABdwnLpRPAAAAQhJREFUaAW9wUmKw1AUwEA90P2v/HvRi2DieAiOqiQmMYlJTGISk5jEJCYxiUlMYhKTmMTkRxb/hi2JSUxi8gOLzyQmMYnJwxbHJCYxickPDe8kJjGJyU2Ll2FrcU5iEpOY/MiwT2ISk5g8ZHGNxCQmMblhsW9xncQkJjG5aLE17BuOSUxiEpMLFlvDy+IeiUlMYnJgsW+xbzgnMYlJTB4yXCMxiUlMPljcs/g3HJOYxCQmFwwvi8+GcxKTmMTkxPAsiUlMYvLB8G6xNdwnMYlJTGISk5jE5KLF1vAdiUlMYvKF4XsSk5jEJCYxiUlMLhqeITGJSUxiEpOYxCQmMYlJTGISk5jE/gCVNBPB/mKP8wAAAABJRU5ErkJg\"></td></tr></tbody></table><div><small>(a vector displayed as a row to save space)</small></div>"
      ],
      "text/plain": [
       "10-element Vector{Base.ReinterpretArray{Gray{Float32}, 2, Float32, Matrix{Float32}, true}}:\n",
       " [Gray{Float32}(0.0f0) Gray{Float32}(0.0f0) … Gray{Float32}(0.0f0) Gray{Float32}(0.0f0); Gray{Float32}(0.0f0) Gray{Float32}(0.0f0) … Gray{Float32}(0.0f0) Gray{Float32}(0.0f0); … ; Gray{Float32}(0.0f0) Gray{Float32}(0.0f0) … Gray{Float32}(0.0f0) Gray{Float32}(0.0f0); Gray{Float32}(0.0f0) Gray{Float32}(0.0f0) … Gray{Float32}(0.0f0) Gray{Float32}(0.0f0)]\n",
       " [Gray{Float32}(0.0f0) Gray{Float32}(0.0f0) … Gray{Float32}(0.0f0) Gray{Float32}(0.0f0); Gray{Float32}(0.0f0) Gray{Float32}(0.0f0) … Gray{Float32}(0.0f0) Gray{Float32}(0.0f0); … ; Gray{Float32}(0.0f0) Gray{Float32}(0.0f0) … Gray{Float32}(0.0f0) Gray{Float32}(0.0f0); Gray{Float32}(0.0f0) Gray{Float32}(0.0f0) … Gray{Float32}(0.0f0) Gray{Float32}(0.0f0)]\n",
       " [Gray{Float32}(0.0f0) Gray{Float32}(0.0f0) … Gray{Float32}(0.0f0) Gray{Float32}(0.0f0); Gray{Float32}(0.0f0) Gray{Float32}(0.0f0) … Gray{Float32}(0.0f0) Gray{Float32}(0.0f0); … ; Gray{Float32}(0.0f0) Gray{Float32}(0.0f0) … Gray{Float32}(0.0f0) Gray{Float32}(0.0f0); Gray{Float32}(0.0f0) Gray{Float32}(0.0f0) … Gray{Float32}(0.0f0) Gray{Float32}(0.0f0)]\n",
       " [Gray{Float32}(0.0f0) Gray{Float32}(0.0f0) … Gray{Float32}(0.0f0) Gray{Float32}(0.0f0); Gray{Float32}(0.0f0) Gray{Float32}(0.0f0) … Gray{Float32}(0.0f0) Gray{Float32}(0.0f0); … ; Gray{Float32}(0.0f0) Gray{Float32}(0.0f0) … Gray{Float32}(0.0f0) Gray{Float32}(0.0f0); Gray{Float32}(0.0f0) Gray{Float32}(0.0f0) … Gray{Float32}(0.0f0) Gray{Float32}(0.0f0)]\n",
       " [Gray{Float32}(0.0f0) Gray{Float32}(0.0f0) … Gray{Float32}(0.0f0) Gray{Float32}(0.0f0); Gray{Float32}(0.0f0) Gray{Float32}(0.0f0) … Gray{Float32}(0.0f0) Gray{Float32}(0.0f0); … ; Gray{Float32}(0.0f0) Gray{Float32}(0.0f0) … Gray{Float32}(0.0f0) Gray{Float32}(0.0f0); Gray{Float32}(0.0f0) Gray{Float32}(0.0f0) … Gray{Float32}(0.0f0) Gray{Float32}(0.0f0)]\n",
       " [Gray{Float32}(0.0f0) Gray{Float32}(0.0f0) … Gray{Float32}(0.0f0) Gray{Float32}(0.0f0); Gray{Float32}(0.0f0) Gray{Float32}(0.0f0) … Gray{Float32}(0.0f0) Gray{Float32}(0.0f0); … ; Gray{Float32}(0.0f0) Gray{Float32}(0.0f0) … Gray{Float32}(0.0f0) Gray{Float32}(0.0f0); Gray{Float32}(0.0f0) Gray{Float32}(0.0f0) … Gray{Float32}(0.0f0) Gray{Float32}(0.0f0)]\n",
       " [Gray{Float32}(0.0f0) Gray{Float32}(0.0f0) … Gray{Float32}(0.0f0) Gray{Float32}(0.0f0); Gray{Float32}(0.0f0) Gray{Float32}(0.0f0) … Gray{Float32}(0.0f0) Gray{Float32}(0.0f0); … ; Gray{Float32}(0.0f0) Gray{Float32}(0.0f0) … Gray{Float32}(0.0f0) Gray{Float32}(0.0f0); Gray{Float32}(0.0f0) Gray{Float32}(0.0f0) … Gray{Float32}(0.0f0) Gray{Float32}(0.0f0)]\n",
       " [Gray{Float32}(0.0f0) Gray{Float32}(0.0f0) … Gray{Float32}(0.0f0) Gray{Float32}(0.0f0); Gray{Float32}(0.0f0) Gray{Float32}(0.0f0) … Gray{Float32}(0.0f0) Gray{Float32}(0.0f0); … ; Gray{Float32}(0.0f0) Gray{Float32}(0.0f0) … Gray{Float32}(0.0f0) Gray{Float32}(0.0f0); Gray{Float32}(0.0f0) Gray{Float32}(0.0f0) … Gray{Float32}(0.0f0) Gray{Float32}(0.0f0)]\n",
       " [Gray{Float32}(0.0f0) Gray{Float32}(0.0f0) … Gray{Float32}(0.0f0) Gray{Float32}(0.0f0); Gray{Float32}(0.0f0) Gray{Float32}(0.0f0) … Gray{Float32}(0.0f0) Gray{Float32}(0.0f0); … ; Gray{Float32}(0.0f0) Gray{Float32}(0.0f0) … Gray{Float32}(0.0f0) Gray{Float32}(0.0f0); Gray{Float32}(0.0f0) Gray{Float32}(0.0f0) … Gray{Float32}(0.0f0) Gray{Float32}(0.0f0)]\n",
       " [Gray{Float32}(0.0f0) Gray{Float32}(0.0f0) … Gray{Float32}(0.0f0) Gray{Float32}(0.0f0); Gray{Float32}(0.0f0) Gray{Float32}(0.0f0) … Gray{Float32}(0.0f0) Gray{Float32}(0.0f0); … ; Gray{Float32}(0.0f0) Gray{Float32}(0.0f0) … Gray{Float32}(0.0f0) Gray{Float32}(0.0f0); Gray{Float32}(0.0f0) Gray{Float32}(0.0f0) … Gray{Float32}(0.0f0) Gray{Float32}(0.0f0)]"
      ]
     },
     "metadata": {},
     "output_type": "display_data"
    }
   ],
   "source": [
    "num_img = 10\n",
    "img_flat = train_x_flatten[1:num_img,:]\n",
    "img = [reshape(img_flat[i,:], (28,28))' for i in 1:num_img]\n",
    "[colorview(Gray, Float32.(img[i])) for i in 1:num_img]"
   ]
  },
  {
   "cell_type": "code",
   "execution_count": 50,
   "id": "9710ae50",
   "metadata": {},
   "outputs": [
    {
     "data": {
      "text/html": [
       "<table><tbody><tr><td style='text-align:center;vertical-align:middle; margin: 0.5em;border:1px #90999f solid;border-collapse:collapse'><img style='max-width: 100px; max-height:100px;display:inline' src=\"data:image/png;base64,iVBORw0KGgoAAAANSUhEUgAAAHAAAABwCAAAAADji6uXAAAABGdBTUEAALGPC/xhBQAAAAFzUkdCAK7OHOkAAAAgY0hSTQAAeiYAAICEAAD6AAAAgOgAAHUwAADqYAAAOpgAABdwnLpRPAAAARhJREFUaAW9wUFOwwAQwECv5P9/eTn0UAElTVLhGYlJTGISk5jEJCYxiUlMYhKTDy3Hhu8kJjGJyU3LPRKTmMTkouWc4TWJSUxictJyznBMYhKTmJywvDecIzGJSUzeWI4N10hMYhKTA8vfhnskJjGJyQXD5yQmMYnJgQGWp+VhuE9iEpOY3LDAcI/EJCYxeWOA5bcFhuskJjGJyQkDLL8tMFwjMYlJTE4anpanBYbzJCYxiUlMYhKTmNwwwPK0PAzvSUxiEpOTlocBltcWGI5JTGISk4uWYwsMf5OYxCQmLyz/R2ISk5j8sHxmOCYxiUlMPjRcIzGJSUx+GP6XxCQmMYlJTGISk5jEJCYxiUlMYhKTmMQkJrEvpmAawI0E0F8AAAAASUVORK5C\"></td><td style='text-align:center;vertical-align:middle; margin: 0.5em;border:1px #90999f solid;border-collapse:collapse'><img style='max-width: 100px; max-height:100px;display:inline' src=\"data:image/png;base64,iVBORw0KGgoAAAANSUhEUgAAAHAAAABwCAAAAADji6uXAAAABGdBTUEAALGPC/xhBQAAAAFzUkdCAK7OHOkAAAAgY0hSTQAAeiYAAICEAAD6AAAAgOgAAHUwAADqYAAAOpgAABdwnLpRPAAAAQNJREFUaAW9wTFuw0AQwEAuwP9/+VK4CixZylnhjMQkJjGJSUxiEpOYxCQmMYlJTGISk5hsWpwbzklMYhKTDYvPFjAck5jEJCZ/sPiexCQmMblh8RyJSUxismE4trgmMYlJTC4sfhu+IzGJSUxOLN4N35OYxCQmBxbvhs8W90hMYhKTC8OzJCYxick/GM5JTGISkwcs7pOYxCQmmxZ7JCYxicnDhs8kJjGJyU2La8M1iUlMYnJggMXL4p7hHolJTGLygOE+iUlMYhKTmMQkJl8Y/k5iEpOYnBheFseGPRKTmMRkw7BPYhKTmFwYniUxiUlMYhKTmMQkJjGJSUxiEpOYxH4A58URw47uoDUAAAAASUVORK5C\"></td><td style='text-align:center;vertical-align:middle; margin: 0.5em;border:1px #90999f solid;border-collapse:collapse'><img style='max-width: 100px; max-height:100px;display:inline' src=\"data:image/png;base64,iVBORw0KGgoAAAANSUhEUgAAAHAAAABwCAAAAADji6uXAAAABGdBTUEAALGPC/xhBQAAAAFzUkdCAK7OHOkAAAAgY0hSTQAAeiYAAICEAAD6AAAAgOgAAHUwAADqYAAAOpgAABdwnLpRPAAAAOBJREFUaAW9wUEOglAUwMC+pPe/8ndJSBBFoTMSk5jEJCYxiUlMYhKTmMQkJh8sNsP/JCYxiUlMYhKTmMQkJjGJSUxiEpOYxCQmMYlJTGISk5jEJCYxiUlMYhKTmPxpcW7Yk5jEJCYXLK5bwLCRmMQkJicW1wybxTGJSUxi8oPhdxKTmMTkjcXecA+JSUxiEpOYxCQmXxjuIzGJSUweNuxJTGISk5jEJCYxObB4jsQkJjH5YLiXxCQmMXnIcExiEpOYHBieIzGJSUxiEpOYxCQmMYlJTGISk5jEJCYxiUnsBR1SCcScxkxGAAAAAElFTkSuQmCC\"></td><td style='text-align:center;vertical-align:middle; margin: 0.5em;border:1px #90999f solid;border-collapse:collapse'><img style='max-width: 100px; max-height:100px;display:inline' src=\"data:image/png;base64,iVBORw0KGgoAAAANSUhEUgAAAHAAAABwCAAAAADji6uXAAAABGdBTUEAALGPC/xhBQAAAAFzUkdCAK7OHOkAAAAgY0hSTQAAeiYAAICEAAD6AAAAgOgAAHUwAADqYAAAOpgAABdwnLpRPAAAAOZJREFUaAW9wUGOg0AQwEC35P9/eXKO2GxgIK6SmMQkJjGJSUxiEpOYxCQmMblp8W74n8QkJjGJSUxiEpOYxCQmMdm02CMxiUlMHjR8JzGJSUweMpwjMYlJTDYs9klMYhKTmMQkJjG5aHE0nCcxiUlMYhKTmMTkgsXRcI3EJCYxOWlxNFwnMYlJTGISk5jE5ITF0bBHYhKTmGwY9klMYhKTLxbPkpjEJCYfLP423CMxiUlMLhjuk5jEJCYxiUlMYnLS8AyJSUxi8sHwGxKTmMQkJjGJSUxiEpOYxCQmMYlJTGISk5jEXvC3CsSgEMRuAAAAAElFTkSuQmCC\"></td><td style='text-align:center;vertical-align:middle; margin: 0.5em;border:1px #90999f solid;border-collapse:collapse'><img style='max-width: 100px; max-height:100px;display:inline' src=\"data:image/png;base64,iVBORw0KGgoAAAANSUhEUgAAAHAAAABwCAAAAADji6uXAAAABGdBTUEAALGPC/xhBQAAAAFzUkdCAK7OHOkAAAAgY0hSTQAAeiYAAICEAAD6AAAAgOgAAHUwAADqYAAAOpgAABdwnLpRPAAAAQFJREFUaAW9wUluwwAMwEAK4P+/rB56KIJsjp1yRmISk5jE5IDl1nCexCQmMTlhgeEciUlMYnLAAMt3SExiEpODBliuk5jEJCYnLTB8TmISk5jEJCYxiUlMYhKTmJw0nCMxiUlMTlpg+JzEJCYxiUlMYhKTC5bHhuckJjGJyT9YYHhMYhKTmBy0fIfEJCYxOWB5bPizHCMxiUlMThp+LfeG5yQmMYnJG8ut4c9yb3hNYhKTmLywPLfcG96TmMQkJh9arpGYxCQmXzAcJzGJSUwuGj4jMYlJTF4Yvk9iEpOYxCQmMYlJTGISk5jEJCYxiUlMYhKTmMQkJjGJSUxiEpPYD9T9EsLiq5gXAAAAAElFTkSuQmCC\"></td><td style='text-align:center;vertical-align:middle; margin: 0.5em;border:1px #90999f solid;border-collapse:collapse'><img style='max-width: 100px; max-height:100px;display:inline' src=\"data:image/png;base64,iVBORw0KGgoAAAANSUhEUgAAAHAAAABwCAAAAADji6uXAAAABGdBTUEAALGPC/xhBQAAAAFzUkdCAK7OHOkAAAAgY0hSTQAAeiYAAICEAAD6AAAAgOgAAHUwAADqYAAAOpgAABdwnLpRPAAAAQ1JREFUaAW9wUFuwgAQwECv5P9/eXtsEZAmAXlGYhKTmMQkJjGJSUxiEpOYxCQmMYlJTGISk5jE5AuW14ZnEpOYxOSm5R6JSUxicsNyn8QkJjH5Y3k0PFs+IzGJSUwOLL8GWJ4NsJwnMYlJTE5ang2wvDa8JjGJSUz+GH4txwZYXhvek5jEJCZvDLC8t7w2HJOYxCQmBwZYzhnOkZjEJCYHlmPDdRKTmMTkguFzEpOYxOQDy6PhfxKTmMTkhuU+iUlMYnLR8hmJSUxicsHyOYlJTGLyBcN5EpOYxOTAAMt7w3USk5jE5IbhPolJTGLyj+G7JCYxiUlMYhKTmMQkJjGJSUxiEpOYxCQmMYn9AInrFsHOe5wjAAAAAElFTkSuQmCC\"></td><td style='text-align:center;vertical-align:middle; margin: 0.5em;border:1px #90999f solid;border-collapse:collapse'><img style='max-width: 100px; max-height:100px;display:inline' src=\"data:image/png;base64,iVBORw0KGgoAAAANSUhEUgAAAHAAAABwCAAAAADji6uXAAAABGdBTUEAALGPC/xhBQAAAAFzUkdCAK7OHOkAAAAgY0hSTQAAeiYAAICEAAD6AAAAgOgAAHUwAADqYAAAOpgAABdwnLpRPAAAANdJREFUaAW9wTFqwEAABDEdzP+/fKlDGjuGlTKWsYxlLGMZy1jGMpaxjGUsYxnLWMbywPXX8T8Zy1jGMpaxjGUsYxnLWMYylrGMZSwPHFy/XRzvZSxjGctYxjKWsYxlLGMZy0MH13cZy1jGMpaxjGUsYxnLWMYylrGMZSxjGctYxjKWsYxlLB9cHO9kLGMZy0cXx3MZy1jG8sLB9U3GMpaxfHS8k7GMZSwfXRzPZSxjGctYxjKWsXx0vJOxjGUsLx3fZCxjGctYxjKWsYxlLGMZy1jGMpaxH7YvCcTh0WjRAAAAAElFTkSuQmCC\"></td><td style='text-align:center;vertical-align:middle; margin: 0.5em;border:1px #90999f solid;border-collapse:collapse'><img style='max-width: 100px; max-height:100px;display:inline' src=\"data:image/png;base64,iVBORw0KGgoAAAANSUhEUgAAAHAAAABwCAAAAADji6uXAAAABGdBTUEAALGPC/xhBQAAAAFzUkdCAK7OHOkAAAAgY0hSTQAAeiYAAICEAAD6AAAAgOgAAHUwAADqYAAAOpgAABdwnLpRPAAAAP5JREFUaAW9wUFuhEAQwEC35P9/eXJeBXYgEFdJTGISk5jEJCYxiUlMYhKTmDywODcck5jEJCY3La5ZwPCbxCQmMblo8Q6JSUxicsHiPRKTmMRkY3Fu+LTYk5jEJCZ/MOwNxyQmMYnJTcO5YU9iEpOYxCQmMYnJTYtzw57EJCYxedEChu8kJjGJycYAi/dITGISky8W9wx7EpOYxOTE4rvhbyQmMYnJTcMzEpOYxOSG4TmJSUxicmBxzeLTsCcxiUlMblg8JzGJSUxiEpOYxCQmMYlJTA4MsLhuuE5iEpOYnBj+h8QkJjGJSUxiEpOYxCQmMYlJTGISk5jEJCaxH7x5EcMRGDWnAAAAAElFTkSuQmCC\"></td><td style='text-align:center;vertical-align:middle; margin: 0.5em;border:1px #90999f solid;border-collapse:collapse'><img style='max-width: 100px; max-height:100px;display:inline' src=\"data:image/png;base64,iVBORw0KGgoAAAANSUhEUgAAAHAAAABwCAAAAADji6uXAAAABGdBTUEAALGPC/xhBQAAAAFzUkdCAK7OHOkAAAAgY0hSTQAAeiYAAICEAAD6AAAAgOgAAHUwAADqYAAAOpgAABdwnLpRPAAAAMhJREFUaAW9wbENA0EMwDAZ0P4rO2Xq8wMiJSYxiUlMYhKTmMQkJjGJSUweLH/DjcQkJjGJSUxiEpOYxCQmMYlJTGISk5jEJCYxiUlMYhKTowWGdxKTmMQkJjGJSUweDLB8IzGJSUxiEpOYxCQmMYlJTGISk5jEJCYxiUlMPlhgeCMxiUlMYhKTmMQkJjGJSUxiEpOYxCQmMYlJTGISk5jE5NEAy53EJCYxORjuJCYxiUlMYhKTmMQkJjGJSUxiEpOYxCQmMYn9AFyNBsLNRdQsAAAAAElFTkSuQmCC\"></td><td style='text-align:center;vertical-align:middle; margin: 0.5em;border:1px #90999f solid;border-collapse:collapse'><img style='max-width: 100px; max-height:100px;display:inline' src=\"data:image/png;base64,iVBORw0KGgoAAAANSUhEUgAAAHAAAABwCAAAAADji6uXAAAABGdBTUEAALGPC/xhBQAAAAFzUkdCAK7OHOkAAAAgY0hSTQAAeiYAAICEAAD6AAAAgOgAAHUwAADqYAAAOpgAABdwnLpRPAAAAQhJREFUaAW9wUFuwkAQAMEeqf//5c0hB2SC8UKgqyQmMYlJTGISk5jEJCYxiUlMYhKTmMTkHxY3wx6JSUxiEpOYxCQmb1q8R2ISk5i8YXE07JOYxCQmMYlJTGKyYXFuOFr8Gh6TmMQkJh+0uCYxiUlMLiyeW7xGYhKTmFwYfi32DeckJjGJyYbF50hMYhKTC4uj4WZxNFyTmMQkJi8YbhZHwx6JSUxicmJxbnE07JOYxCQmm4bHhtdITGISkw3D50hMYhKTBxbfIzGJSUwuDH8N75OYxCQmdxbfJTGJSUyeGD5PYhKTmJwYvkNiEpOY3Bm+S2ISk5jEJCYxiUlMYhKTmMQkJjGJ/QCSfxLDf5alBwAAAABJRU5ErkJg\"></td></tr></tbody></table><div><small>(a vector displayed as a row to save space)</small></div>"
      ],
      "text/plain": [
       "10-element Vector{Base.ReinterpretArray{Gray{Float32}, 2, Float32, Matrix{Float32}, true}}:\n",
       " [Gray{Float32}(0.0f0) Gray{Float32}(0.0f0) … Gray{Float32}(0.0f0) Gray{Float32}(0.0f0); Gray{Float32}(0.0f0) Gray{Float32}(0.0f0) … Gray{Float32}(0.0f0) Gray{Float32}(0.0f0); … ; Gray{Float32}(0.0f0) Gray{Float32}(0.0f0) … Gray{Float32}(0.0f0) Gray{Float32}(0.0f0); Gray{Float32}(0.0f0) Gray{Float32}(0.0f0) … Gray{Float32}(0.0f0) Gray{Float32}(0.0f0)]\n",
       " [Gray{Float32}(0.0f0) Gray{Float32}(0.0f0) … Gray{Float32}(0.0f0) Gray{Float32}(0.0f0); Gray{Float32}(0.0f0) Gray{Float32}(0.0f0) … Gray{Float32}(0.0f0) Gray{Float32}(0.0f0); … ; Gray{Float32}(0.0f0) Gray{Float32}(0.0f0) … Gray{Float32}(0.0f0) Gray{Float32}(0.0f0); Gray{Float32}(0.0f0) Gray{Float32}(0.0f0) … Gray{Float32}(0.0f0) Gray{Float32}(0.0f0)]\n",
       " [Gray{Float32}(0.0f0) Gray{Float32}(0.0f0) … Gray{Float32}(0.0f0) Gray{Float32}(0.0f0); Gray{Float32}(0.0f0) Gray{Float32}(0.0f0) … Gray{Float32}(0.0f0) Gray{Float32}(0.0f0); … ; Gray{Float32}(0.0f0) Gray{Float32}(0.0f0) … Gray{Float32}(0.0f0) Gray{Float32}(0.0f0); Gray{Float32}(0.0f0) Gray{Float32}(0.0f0) … Gray{Float32}(0.0f0) Gray{Float32}(0.0f0)]\n",
       " [Gray{Float32}(0.0f0) Gray{Float32}(0.0f0) … Gray{Float32}(0.0f0) Gray{Float32}(0.0f0); Gray{Float32}(0.0f0) Gray{Float32}(0.0f0) … Gray{Float32}(0.0f0) Gray{Float32}(0.0f0); … ; Gray{Float32}(0.0f0) Gray{Float32}(0.0f0) … Gray{Float32}(0.0f0) Gray{Float32}(0.0f0); Gray{Float32}(0.0f0) Gray{Float32}(0.0f0) … Gray{Float32}(0.0f0) Gray{Float32}(0.0f0)]\n",
       " [Gray{Float32}(0.0f0) Gray{Float32}(0.0f0) … Gray{Float32}(0.0f0) Gray{Float32}(0.0f0); Gray{Float32}(0.0f0) Gray{Float32}(0.0f0) … Gray{Float32}(0.0f0) Gray{Float32}(0.0f0); … ; Gray{Float32}(0.0f0) Gray{Float32}(0.0f0) … Gray{Float32}(0.0f0) Gray{Float32}(0.0f0); Gray{Float32}(0.0f0) Gray{Float32}(0.0f0) … Gray{Float32}(0.0f0) Gray{Float32}(0.0f0)]\n",
       " [Gray{Float32}(0.0f0) Gray{Float32}(0.0f0) … Gray{Float32}(0.0f0) Gray{Float32}(0.0f0); Gray{Float32}(0.0f0) Gray{Float32}(0.0f0) … Gray{Float32}(0.0f0) Gray{Float32}(0.0f0); … ; Gray{Float32}(0.0f0) Gray{Float32}(0.0f0) … Gray{Float32}(0.0f0) Gray{Float32}(0.0f0); Gray{Float32}(0.0f0) Gray{Float32}(0.0f0) … Gray{Float32}(0.0f0) Gray{Float32}(0.0f0)]\n",
       " [Gray{Float32}(0.0f0) Gray{Float32}(0.0f0) … Gray{Float32}(0.0f0) Gray{Float32}(0.0f0); Gray{Float32}(0.0f0) Gray{Float32}(0.0f0) … Gray{Float32}(0.0f0) Gray{Float32}(0.0f0); … ; Gray{Float32}(0.0f0) Gray{Float32}(0.0f0) … Gray{Float32}(0.0f0) Gray{Float32}(0.0f0); Gray{Float32}(0.0f0) Gray{Float32}(0.0f0) … Gray{Float32}(0.0f0) Gray{Float32}(0.0f0)]\n",
       " [Gray{Float32}(0.0f0) Gray{Float32}(0.0f0) … Gray{Float32}(0.0f0) Gray{Float32}(0.0f0); Gray{Float32}(0.0f0) Gray{Float32}(0.0f0) … Gray{Float32}(0.0f0) Gray{Float32}(0.0f0); … ; Gray{Float32}(0.0f0) Gray{Float32}(0.0f0) … Gray{Float32}(0.0f0) Gray{Float32}(0.0f0); Gray{Float32}(0.0f0) Gray{Float32}(0.0f0) … Gray{Float32}(0.0f0) Gray{Float32}(0.0f0)]\n",
       " [Gray{Float32}(0.0f0) Gray{Float32}(0.0f0) … Gray{Float32}(0.0f0) Gray{Float32}(0.0f0); Gray{Float32}(0.0f0) Gray{Float32}(0.0f0) … Gray{Float32}(0.0f0) Gray{Float32}(0.0f0); … ; Gray{Float32}(0.0f0) Gray{Float32}(0.0f0) … Gray{Float32}(0.0f0) Gray{Float32}(0.0f0); Gray{Float32}(0.0f0) Gray{Float32}(0.0f0) … Gray{Float32}(0.0f0) Gray{Float32}(0.0f0)]\n",
       " [Gray{Float32}(0.0f0) Gray{Float32}(0.0f0) … Gray{Float32}(0.0f0) Gray{Float32}(0.0f0); Gray{Float32}(0.0f0) Gray{Float32}(0.0f0) … Gray{Float32}(0.0f0) Gray{Float32}(0.0f0); … ; Gray{Float32}(0.0f0) Gray{Float32}(0.0f0) … Gray{Float32}(0.0f0) Gray{Float32}(0.0f0); Gray{Float32}(0.0f0) Gray{Float32}(0.0f0) … Gray{Float32}(0.0f0) Gray{Float32}(0.0f0)]"
      ]
     },
     "metadata": {},
     "output_type": "display_data"
    }
   ],
   "source": [
    "img_reverse_flat = reverse(img_flat, dims=2)\n",
    "img_reverse = [reshape(img_reverse_flat[i,:], (28,28))' for i in 1:num_img]\n",
    "[colorview(Gray, Float32.(img_reverse[i])) for i in 1:num_img]"
   ]
  },
  {
   "cell_type": "markdown",
   "id": "42848d50",
   "metadata": {
    "colab_type": "text",
    "id": "7PP8w2NqrRC3"
   },
   "source": [
    "Our new training data will have 60000 samples and 2 features: intensity, symmetry."
   ]
  },
  {
   "cell_type": "code",
   "execution_count": 51,
   "id": "d544a8b6",
   "metadata": {},
   "outputs": [
    {
     "data": {
      "text/plain": [
       "(60000, 2)"
      ]
     },
     "metadata": {},
     "output_type": "display_data"
    }
   ],
   "source": [
    "#TODO create X_new by horizontal stack intensity and symmetry\n",
    "train_x_new =  hcat(intensity, symmetry)\n",
    "size(train_x_new)"
   ]
  },
  {
   "cell_type": "markdown",
   "id": "d2457f30",
   "metadata": {
    "colab_type": "text",
    "id": "M3_pISperRDF"
   },
   "source": [
    "## 2. Training "
   ]
  },
  {
   "cell_type": "markdown",
   "id": "94cac8eb",
   "metadata": {
    "colab_type": "text",
    "id": "6-AXlZ4DrRDG"
   },
   "source": [
    "Usually logistic regression is a good first choice for classification. In this homework we use logistic regression for classifying digit 1 images and not digit 1's images."
   ]
  },
  {
   "cell_type": "markdown",
   "id": "bb6ac92a",
   "metadata": {
    "colab_type": "text",
    "id": "0pprRrTyrRDH"
   },
   "source": [
    "### Normalize data\n",
    "\n",
    "In data process, you will first process training data. The parameter obtained in the process will be reused for processing test set\n",
    "\n",
    "First normalize data using Z-score normalization"
   ]
  },
  {
   "cell_type": "markdown",
   "id": "298c3c5b",
   "metadata": {},
   "source": [
    "- **TODO: Study about Z-score normalization**\n",
    "\n",
    "    - The normal distribution is an extremely important probability distribution in many fields. It is a family of distributions of the same general form, differing only in mean and standard deviation (severity of dispersion).\n",
    "- The average value: \n",
    "$$\\mu=\\frac{1}{n}\\sum_{i=1}^{n}x_i$$\n",
    "- Standard deviation:\n",
    "$$\\sigma=\\sqrt{\\frac{1}{n-1}\\sum_{i=1}^{n}(x_i-\\mu)^2}$$\n",
    "- Given any data point, we can estimate its distance from the mean by standard deviation. Specifically:\n",
    "$$z=\\frac{x-\\mu}{\\sigma}$$\n",
    "- So, the Z-score is a measure that measures the distance of a value from the mean by standard deviation, and it follows a normal distribution.\n",
    "- **TODO: Why should we normalize data?**\n",
    "    - Bring data attributes to a single form, easy to process, update, train, compare, etc.\n",
    "    - For large data tables, data is reduced, thereby increasing processing speed, saving memory, etc.\n",
    "    - Remove redundant data, abnormal data, etc."
   ]
  },
  {
   "cell_type": "code",
   "execution_count": 52,
   "id": "63b44763",
   "metadata": {},
   "outputs": [
    {
     "data": {
      "image/png": "[encoded data removed]",
      "image/svg+xml": "<?xml version=\"1.0\" encoding=\"utf-8\"?>\n<svg xmlns=\"http://www.w3.org/2000/svg\" xmlns:xlink=\"http://www.w3.org/1999/xlink\" width=\"600\" height=\"400\" viewBox=\"0 0 2400 1600\">\n<defs>\n  <clipPath id=\"clip770\">\n    <rect x=\"0\" y=\"0\" width=\"2400\" height=\"1600\"/>\n  </clipPath>\n</defs>\n<path clip-path=\"url(#clip770)\" d=\"\nM0 1600 L2400 1600 L2400 0 L0 0  Z\n  \" fill=\"#ffffff\" fill-rule=\"evenodd\" fill-opacity=\"1\"/>\n<defs>\n  <clipPath id=\"clip771\">\n    <rect x=\"480\" y=\"0\" width=\"1681\" height=\"1600\"/>\n  </clipPath>\n</defs>\n<path clip-path=\"url(#clip770)\" d=\"\nM224.098 1486.45 L2352.76 1486.45 L2352.76 47.2441 L224.098 47.2441  Z\n  \" fill=\"#ffffff\" fill-rule=\"evenodd\" fill-opacity=\"1\"/>\n<defs>\n  <clipPath id=\"clip772\">\n    <rect x=\"224\" y=\"47\" width=\"2130\" height=\"1440\"/>\n  </clipPath>\n</defs>\n<polyline clip-path=\"url(#clip772)\" style=\"stroke:#000000; stroke-linecap:round; stroke-linejoin:round; stroke-width:2; stroke-opacity:0.1; fill:none\" points=\"\n  418.504,1486.45 418.504,47.2441 \n  \"/>\n<polyline clip-path=\"url(#clip772)\" style=\"stroke:#000000; stroke-linecap:round; stroke-linejoin:round; stroke-width:2; stroke-opacity:0.1; fill:none\" points=\"\n  901.795,1486.45 901.795,47.2441 \n  \"/>\n<polyline clip-path=\"url(#clip772)\" style=\"stroke:#000000; stroke-linecap:round; stroke-linejoin:round; stroke-width:2; stroke-opacity:0.1; fill:none\" points=\"\n  1385.08,1486.45 1385.08,47.2441 \n  \"/>\n<polyline clip-path=\"url(#clip772)\" style=\"stroke:#000000; stroke-linecap:round; stroke-linejoin:round; stroke-width:2; stroke-opacity:0.1; fill:none\" points=\"\n  1868.38,1486.45 1868.38,47.2441 \n  \"/>\n<polyline clip-path=\"url(#clip772)\" style=\"stroke:#000000; stroke-linecap:round; stroke-linejoin:round; stroke-width:2; stroke-opacity:0.1; fill:none\" points=\"\n  2351.67,1486.45 2351.67,47.2441 \n  \"/>\n<polyline clip-path=\"url(#clip770)\" style=\"stroke:#000000; stroke-linecap:round; stroke-linejoin:round; stroke-width:4; stroke-opacity:1; fill:none\" points=\"\n  224.098,1486.45 2352.76,1486.45 \n  \"/>\n<polyline clip-path=\"url(#clip770)\" style=\"stroke:#000000; stroke-linecap:round; stroke-linejoin:round; stroke-width:4; stroke-opacity:1; fill:none\" points=\"\n  418.504,1486.45 418.504,1467.55 \n  \"/>\n<polyline clip-path=\"url(#clip770)\" style=\"stroke:#000000; stroke-linecap:round; stroke-linejoin:round; stroke-width:4; stroke-opacity:1; fill:none\" points=\"\n  901.795,1486.45 901.795,1467.55 \n  \"/>\n<polyline clip-path=\"url(#clip770)\" style=\"stroke:#000000; stroke-linecap:round; stroke-linejoin:round; stroke-width:4; stroke-opacity:1; fill:none\" points=\"\n  1385.08,1486.45 1385.08,1467.55 \n  \"/>\n<polyline clip-path=\"url(#clip770)\" style=\"stroke:#000000; stroke-linecap:round; stroke-linejoin:round; stroke-width:4; stroke-opacity:1; fill:none\" points=\"\n  1868.38,1486.45 1868.38,1467.55 \n  \"/>\n<polyline clip-path=\"url(#clip770)\" style=\"stroke:#000000; stroke-linecap:round; stroke-linejoin:round; stroke-width:4; stroke-opacity:1; fill:none\" points=\"\n  2351.67,1486.45 2351.67,1467.55 \n  \"/>\n<path clip-path=\"url(#clip770)\" d=\"M395.889 1517.37 Q392.278 1517.37 390.449 1520.93 Q388.643 1524.47 388.643 1531.6 Q388.643 1538.71 390.449 1542.27 Q392.278 1545.82 395.889 1545.82 Q399.523 1545.82 401.328 1542.27 Q403.157 1538.71 403.157 1531.6 Q403.157 1524.47 401.328 1520.93 Q399.523 1517.37 395.889 1517.37 M395.889 1513.66 Q401.699 1513.66 404.754 1518.27 Q407.833 1522.85 407.833 1531.6 Q407.833 1540.33 404.754 1544.94 Q401.699 1549.52 395.889 1549.52 Q390.079 1549.52 387 1544.94 Q383.944 1540.33 383.944 1531.6 Q383.944 1522.85 387 1518.27 Q390.079 1513.66 395.889 1513.66 Z\" fill=\"#000000\" fill-rule=\"evenodd\" fill-opacity=\"1\" /><path clip-path=\"url(#clip770)\" d=\"M416.051 1542.97 L420.935 1542.97 L420.935 1548.85 L416.051 1548.85 L416.051 1542.97 Z\" fill=\"#000000\" fill-rule=\"evenodd\" fill-opacity=\"1\" /><path clip-path=\"url(#clip770)\" d=\"M441.12 1517.37 Q437.509 1517.37 435.68 1520.93 Q433.875 1524.47 433.875 1531.6 Q433.875 1538.71 435.68 1542.27 Q437.509 1545.82 441.12 1545.82 Q444.754 1545.82 446.56 1542.27 Q448.388 1538.71 448.388 1531.6 Q448.388 1524.47 446.56 1520.93 Q444.754 1517.37 441.12 1517.37 M441.12 1513.66 Q446.93 1513.66 449.986 1518.27 Q453.064 1522.85 453.064 1531.6 Q453.064 1540.33 449.986 1544.94 Q446.93 1549.52 441.12 1549.52 Q435.31 1549.52 432.231 1544.94 Q429.176 1540.33 429.176 1531.6 Q429.176 1522.85 432.231 1518.27 Q435.31 1513.66 441.12 1513.66 Z\" fill=\"#000000\" fill-rule=\"evenodd\" fill-opacity=\"1\" /><path clip-path=\"url(#clip770)\" d=\"M873.531 1544.91 L889.85 1544.91 L889.85 1548.85 L867.906 1548.85 L867.906 1544.91 Q870.568 1542.16 875.151 1537.53 Q879.758 1532.88 880.938 1531.53 Q883.184 1529.01 884.063 1527.27 Q884.966 1525.51 884.966 1523.82 Q884.966 1521.07 883.022 1519.33 Q881.1 1517.6 877.998 1517.6 Q875.799 1517.6 873.346 1518.36 Q870.915 1519.13 868.137 1520.68 L868.137 1515.95 Q870.961 1514.82 873.415 1514.24 Q875.869 1513.66 877.906 1513.66 Q883.276 1513.66 886.471 1516.35 Q889.665 1519.03 889.665 1523.52 Q889.665 1525.65 888.855 1527.57 Q888.068 1529.47 885.961 1532.07 Q885.383 1532.74 882.281 1535.95 Q879.179 1539.15 873.531 1544.91 Z\" fill=\"#000000\" fill-rule=\"evenodd\" fill-opacity=\"1\" /><path clip-path=\"url(#clip770)\" d=\"M899.665 1542.97 L904.549 1542.97 L904.549 1548.85 L899.665 1548.85 L899.665 1542.97 Z\" fill=\"#000000\" fill-rule=\"evenodd\" fill-opacity=\"1\" /><path clip-path=\"url(#clip770)\" d=\"M914.781 1514.29 L933.137 1514.29 L933.137 1518.22 L919.063 1518.22 L919.063 1526.7 Q920.082 1526.35 921.1 1526.19 Q922.119 1526 923.137 1526 Q928.924 1526 932.304 1529.17 Q935.683 1532.34 935.683 1537.76 Q935.683 1543.34 932.211 1546.44 Q928.739 1549.52 922.42 1549.52 Q920.244 1549.52 917.975 1549.15 Q915.73 1548.78 913.322 1548.04 L913.322 1543.34 Q915.406 1544.47 917.628 1545.03 Q919.85 1545.58 922.327 1545.58 Q926.332 1545.58 928.669 1543.48 Q931.007 1541.37 931.007 1537.76 Q931.007 1534.15 928.669 1532.04 Q926.332 1529.94 922.327 1529.94 Q920.452 1529.94 918.577 1530.35 Q916.725 1530.77 914.781 1531.65 L914.781 1514.29 Z\" fill=\"#000000\" fill-rule=\"evenodd\" fill-opacity=\"1\" /><path clip-path=\"url(#clip770)\" d=\"M1352.25 1514.29 L1370.61 1514.29 L1370.61 1518.22 L1356.53 1518.22 L1356.53 1526.7 Q1357.55 1526.35 1358.57 1526.19 Q1359.59 1526 1360.61 1526 Q1366.39 1526 1369.77 1529.17 Q1373.15 1532.34 1373.15 1537.76 Q1373.15 1543.34 1369.68 1546.44 Q1366.21 1549.52 1359.89 1549.52 Q1357.71 1549.52 1355.44 1549.15 Q1353.2 1548.78 1350.79 1548.04 L1350.79 1543.34 Q1352.87 1544.47 1355.1 1545.03 Q1357.32 1545.58 1359.8 1545.58 Q1363.8 1545.58 1366.14 1543.48 Q1368.48 1541.37 1368.48 1537.76 Q1368.48 1534.15 1366.14 1532.04 Q1363.8 1529.94 1359.8 1529.94 Q1357.92 1529.94 1356.05 1530.35 Q1354.19 1530.77 1352.25 1531.65 L1352.25 1514.29 Z\" fill=\"#000000\" fill-rule=\"evenodd\" fill-opacity=\"1\" /><path clip-path=\"url(#clip770)\" d=\"M1382.37 1542.97 L1387.25 1542.97 L1387.25 1548.85 L1382.37 1548.85 L1382.37 1542.97 Z\" fill=\"#000000\" fill-rule=\"evenodd\" fill-opacity=\"1\" /><path clip-path=\"url(#clip770)\" d=\"M1407.43 1517.37 Q1403.82 1517.37 1401.99 1520.93 Q1400.19 1524.47 1400.19 1531.6 Q1400.19 1538.71 1401.99 1542.27 Q1403.82 1545.82 1407.43 1545.82 Q1411.07 1545.82 1412.87 1542.27 Q1414.7 1538.71 1414.7 1531.6 Q1414.7 1524.47 1412.87 1520.93 Q1411.07 1517.37 1407.43 1517.37 M1407.43 1513.66 Q1413.24 1513.66 1416.3 1518.27 Q1419.38 1522.85 1419.38 1531.6 Q1419.38 1540.33 1416.3 1544.94 Q1413.24 1549.52 1407.43 1549.52 Q1401.62 1549.52 1398.55 1544.94 Q1395.49 1540.33 1395.49 1531.6 Q1395.49 1522.85 1398.55 1518.27 Q1401.62 1513.66 1407.43 1513.66 Z\" fill=\"#000000\" fill-rule=\"evenodd\" fill-opacity=\"1\" /><path clip-path=\"url(#clip770)\" d=\"M1834.69 1514.29 L1856.92 1514.29 L1856.92 1516.28 L1844.37 1548.85 L1839.49 1548.85 L1851.29 1518.22 L1834.69 1518.22 L1834.69 1514.29 Z\" fill=\"#000000\" fill-rule=\"evenodd\" fill-opacity=\"1\" /><path clip-path=\"url(#clip770)\" d=\"M1866.04 1542.97 L1870.92 1542.97 L1870.92 1548.85 L1866.04 1548.85 L1866.04 1542.97 Z\" fill=\"#000000\" fill-rule=\"evenodd\" fill-opacity=\"1\" /><path clip-path=\"url(#clip770)\" d=\"M1881.15 1514.29 L1899.51 1514.29 L1899.51 1518.22 L1885.44 1518.22 L1885.44 1526.7 Q1886.45 1526.35 1887.47 1526.19 Q1888.49 1526 1889.51 1526 Q1895.3 1526 1898.68 1529.17 Q1902.06 1532.34 1902.06 1537.76 Q1902.06 1543.34 1898.58 1546.44 Q1895.11 1549.52 1888.79 1549.52 Q1886.62 1549.52 1884.35 1549.15 Q1882.1 1548.78 1879.69 1548.04 L1879.69 1543.34 Q1881.78 1544.47 1884 1545.03 Q1886.22 1545.58 1888.7 1545.58 Q1892.7 1545.58 1895.04 1543.48 Q1897.38 1541.37 1897.38 1537.76 Q1897.38 1534.15 1895.04 1532.04 Q1892.7 1529.94 1888.7 1529.94 Q1886.82 1529.94 1884.95 1530.35 Q1883.1 1530.77 1881.15 1531.65 L1881.15 1514.29 Z\" fill=\"#000000\" fill-rule=\"evenodd\" fill-opacity=\"1\" /><path clip-path=\"url(#clip770)\" d=\"M2303.74 1544.91 L2311.38 1544.91 L2311.38 1518.55 L2303.07 1520.21 L2303.07 1515.95 L2311.33 1514.29 L2316.01 1514.29 L2316.01 1544.91 L2323.64 1544.91 L2323.64 1548.85 L2303.74 1548.85 L2303.74 1544.91 Z\" fill=\"#000000\" fill-rule=\"evenodd\" fill-opacity=\"1\" /><path clip-path=\"url(#clip770)\" d=\"M2343.09 1517.37 Q2339.48 1517.37 2337.65 1520.93 Q2335.84 1524.47 2335.84 1531.6 Q2335.84 1538.71 2337.65 1542.27 Q2339.48 1545.82 2343.09 1545.82 Q2346.72 1545.82 2348.53 1542.27 Q2350.36 1538.71 2350.36 1531.6 Q2350.36 1524.47 2348.53 1520.93 Q2346.72 1517.37 2343.09 1517.37 M2343.09 1513.66 Q2348.9 1513.66 2351.95 1518.27 Q2355.03 1522.85 2355.03 1531.6 Q2355.03 1540.33 2351.95 1544.94 Q2348.9 1549.52 2343.09 1549.52 Q2337.28 1549.52 2334.2 1544.94 Q2331.14 1540.33 2331.14 1531.6 Q2331.14 1522.85 2334.2 1518.27 Q2337.28 1513.66 2343.09 1513.66 Z\" fill=\"#000000\" fill-rule=\"evenodd\" fill-opacity=\"1\" /><path clip-path=\"url(#clip770)\" d=\"M2363.25 1542.97 L2368.14 1542.97 L2368.14 1548.85 L2363.25 1548.85 L2363.25 1542.97 Z\" fill=\"#000000\" fill-rule=\"evenodd\" fill-opacity=\"1\" /><path clip-path=\"url(#clip770)\" d=\"M2388.32 1517.37 Q2384.71 1517.37 2382.88 1520.93 Q2381.08 1524.47 2381.08 1531.6 Q2381.08 1538.71 2382.88 1542.27 Q2384.71 1545.82 2388.32 1545.82 Q2391.95 1545.82 2393.76 1542.27 Q2395.59 1538.71 2395.59 1531.6 Q2395.59 1524.47 2393.76 1520.93 Q2391.95 1517.37 2388.32 1517.37 M2388.32 1513.66 Q2394.13 1513.66 2397.19 1518.27 Q2400.26 1522.85 2400.26 1531.6 Q2400.26 1540.33 2397.19 1544.94 Q2394.13 1549.52 2388.32 1549.52 Q2382.51 1549.52 2379.43 1544.94 Q2376.38 1540.33 2376.38 1531.6 Q2376.38 1522.85 2379.43 1518.27 Q2382.51 1513.66 2388.32 1513.66 Z\" fill=\"#000000\" fill-rule=\"evenodd\" fill-opacity=\"1\" /><polyline clip-path=\"url(#clip772)\" style=\"stroke:#000000; stroke-linecap:round; stroke-linejoin:round; stroke-width:2; stroke-opacity:0.1; fill:none\" points=\"\n  224.098,1413.62 2352.76,1413.62 \n  \"/>\n<polyline clip-path=\"url(#clip772)\" style=\"stroke:#000000; stroke-linecap:round; stroke-linejoin:round; stroke-width:2; stroke-opacity:0.1; fill:none\" points=\"\n  224.098,1056.64 2352.76,1056.64 \n  \"/>\n<polyline clip-path=\"url(#clip772)\" style=\"stroke:#000000; stroke-linecap:round; stroke-linejoin:round; stroke-width:2; stroke-opacity:0.1; fill:none\" points=\"\n  224.098,699.671 2352.76,699.671 \n  \"/>\n<polyline clip-path=\"url(#clip772)\" style=\"stroke:#000000; stroke-linecap:round; stroke-linejoin:round; stroke-width:2; stroke-opacity:0.1; fill:none\" points=\"\n  224.098,342.698 2352.76,342.698 \n  \"/>\n<polyline clip-path=\"url(#clip770)\" style=\"stroke:#000000; stroke-linecap:round; stroke-linejoin:round; stroke-width:4; stroke-opacity:1; fill:none\" points=\"\n  224.098,1486.45 224.098,47.2441 \n  \"/>\n<polyline clip-path=\"url(#clip770)\" style=\"stroke:#000000; stroke-linecap:round; stroke-linejoin:round; stroke-width:4; stroke-opacity:1; fill:none\" points=\"\n  224.098,1413.62 242.996,1413.62 \n  \"/>\n<polyline clip-path=\"url(#clip770)\" style=\"stroke:#000000; stroke-linecap:round; stroke-linejoin:round; stroke-width:4; stroke-opacity:1; fill:none\" points=\"\n  224.098,1056.64 242.996,1056.64 \n  \"/>\n<polyline clip-path=\"url(#clip770)\" style=\"stroke:#000000; stroke-linecap:round; stroke-linejoin:round; stroke-width:4; stroke-opacity:1; fill:none\" points=\"\n  224.098,699.671 242.996,699.671 \n  \"/>\n<polyline clip-path=\"url(#clip770)\" style=\"stroke:#000000; stroke-linecap:round; stroke-linejoin:round; stroke-width:4; stroke-opacity:1; fill:none\" points=\"\n  224.098,342.698 242.996,342.698 \n  \"/>\n<path clip-path=\"url(#clip770)\" d=\"M50.9921 1414.07 L80.6679 1414.07 L80.6679 1418 L50.9921 1418 L50.9921 1414.07 Z\" fill=\"#000000\" fill-rule=\"evenodd\" fill-opacity=\"1\" /><path clip-path=\"url(#clip770)\" d=\"M100.76 1399.42 Q97.1493 1399.42 95.3206 1402.98 Q93.515 1406.52 93.515 1413.65 Q93.515 1420.76 95.3206 1424.32 Q97.1493 1427.86 100.76 1427.86 Q104.395 1427.86 106.2 1424.32 Q108.029 1420.76 108.029 1413.65 Q108.029 1406.52 106.2 1402.98 Q104.395 1399.42 100.76 1399.42 M100.76 1395.71 Q106.571 1395.71 109.626 1400.32 Q112.705 1404.9 112.705 1413.65 Q112.705 1422.38 109.626 1426.98 Q106.571 1431.57 100.76 1431.57 Q94.9502 1431.57 91.8715 1426.98 Q88.816 1422.38 88.816 1413.65 Q88.816 1404.9 91.8715 1400.32 Q94.9502 1395.71 100.76 1395.71 Z\" fill=\"#000000\" fill-rule=\"evenodd\" fill-opacity=\"1\" /><path clip-path=\"url(#clip770)\" d=\"M120.922 1425.02 L125.807 1425.02 L125.807 1430.9 L120.922 1430.9 L120.922 1425.02 Z\" fill=\"#000000\" fill-rule=\"evenodd\" fill-opacity=\"1\" /><path clip-path=\"url(#clip770)\" d=\"M136.802 1426.96 L144.441 1426.96 L144.441 1400.6 L136.131 1402.26 L136.131 1398 L144.394 1396.34 L149.07 1396.34 L149.07 1426.96 L156.709 1426.96 L156.709 1430.9 L136.802 1430.9 L136.802 1426.96 Z\" fill=\"#000000\" fill-rule=\"evenodd\" fill-opacity=\"1\" /><path clip-path=\"url(#clip770)\" d=\"M176.153 1399.42 Q172.542 1399.42 170.714 1402.98 Q168.908 1406.52 168.908 1413.65 Q168.908 1420.76 170.714 1424.32 Q172.542 1427.86 176.153 1427.86 Q179.788 1427.86 181.593 1424.32 Q183.422 1420.76 183.422 1413.65 Q183.422 1406.52 181.593 1402.98 Q179.788 1399.42 176.153 1399.42 M176.153 1395.71 Q181.964 1395.71 185.019 1400.32 Q188.098 1404.9 188.098 1413.65 Q188.098 1422.38 185.019 1426.98 Q181.964 1431.57 176.153 1431.57 Q170.343 1431.57 167.265 1426.98 Q164.209 1422.38 164.209 1413.65 Q164.209 1404.9 167.265 1400.32 Q170.343 1395.71 176.153 1395.71 Z\" fill=\"#000000\" fill-rule=\"evenodd\" fill-opacity=\"1\" /><path clip-path=\"url(#clip770)\" d=\"M51.9875 1057.1 L81.6633 1057.1 L81.6633 1061.03 L51.9875 1061.03 L51.9875 1057.1 Z\" fill=\"#000000\" fill-rule=\"evenodd\" fill-opacity=\"1\" /><path clip-path=\"url(#clip770)\" d=\"M101.756 1042.44 Q98.1447 1042.44 96.316 1046.01 Q94.5104 1049.55 94.5104 1056.68 Q94.5104 1063.78 96.316 1067.35 Q98.1447 1070.89 101.756 1070.89 Q105.39 1070.89 107.196 1067.35 Q109.024 1063.78 109.024 1056.68 Q109.024 1049.55 107.196 1046.01 Q105.39 1042.44 101.756 1042.44 M101.756 1038.74 Q107.566 1038.74 110.621 1043.35 Q113.7 1047.93 113.7 1056.68 Q113.7 1065.41 110.621 1070.01 Q107.566 1074.59 101.756 1074.59 Q95.9456 1074.59 92.8669 1070.01 Q89.8114 1065.41 89.8114 1056.68 Q89.8114 1047.93 92.8669 1043.35 Q95.9456 1038.74 101.756 1038.74 Z\" fill=\"#000000\" fill-rule=\"evenodd\" fill-opacity=\"1\" /><path clip-path=\"url(#clip770)\" d=\"M121.918 1068.04 L126.802 1068.04 L126.802 1073.92 L121.918 1073.92 L121.918 1068.04 Z\" fill=\"#000000\" fill-rule=\"evenodd\" fill-opacity=\"1\" /><path clip-path=\"url(#clip770)\" d=\"M146.987 1042.44 Q143.376 1042.44 141.547 1046.01 Q139.742 1049.55 139.742 1056.68 Q139.742 1063.78 141.547 1067.35 Q143.376 1070.89 146.987 1070.89 Q150.621 1070.89 152.427 1067.35 Q154.255 1063.78 154.255 1056.68 Q154.255 1049.55 152.427 1046.01 Q150.621 1042.44 146.987 1042.44 M146.987 1038.74 Q152.797 1038.74 155.853 1043.35 Q158.931 1047.93 158.931 1056.68 Q158.931 1065.41 155.853 1070.01 Q152.797 1074.59 146.987 1074.59 Q141.177 1074.59 138.098 1070.01 Q135.043 1065.41 135.043 1056.68 Q135.043 1047.93 138.098 1043.35 Q141.177 1038.74 146.987 1038.74 Z\" fill=\"#000000\" fill-rule=\"evenodd\" fill-opacity=\"1\" /><path clip-path=\"url(#clip770)\" d=\"M167.195 1039.36 L185.552 1039.36 L185.552 1043.3 L171.478 1043.3 L171.478 1051.77 Q172.496 1051.42 173.515 1051.26 Q174.533 1051.08 175.552 1051.08 Q181.339 1051.08 184.718 1054.25 Q188.098 1057.42 188.098 1062.84 Q188.098 1068.41 184.626 1071.52 Q181.153 1074.59 174.834 1074.59 Q172.658 1074.59 170.39 1074.22 Q168.144 1073.85 165.737 1073.11 L165.737 1068.41 Q167.82 1069.55 170.042 1070.1 Q172.265 1070.66 174.741 1070.66 Q178.746 1070.66 181.084 1068.55 Q183.422 1066.45 183.422 1062.84 Q183.422 1059.22 181.084 1057.12 Q178.746 1055.01 174.741 1055.01 Q172.866 1055.01 170.991 1055.43 Q169.14 1055.85 167.195 1056.72 L167.195 1039.36 Z\" fill=\"#000000\" fill-rule=\"evenodd\" fill-opacity=\"1\" /><path clip-path=\"url(#clip770)\" d=\"M100.76 685.47 Q97.1493 685.47 95.3206 689.034 Q93.515 692.576 93.515 699.706 Q93.515 706.812 95.3206 710.377 Q97.1493 713.919 100.76 713.919 Q104.395 713.919 106.2 710.377 Q108.029 706.812 108.029 699.706 Q108.029 692.576 106.2 689.034 Q104.395 685.47 100.76 685.47 M100.76 681.766 Q106.571 681.766 109.626 686.372 Q112.705 690.956 112.705 699.706 Q112.705 708.432 109.626 713.039 Q106.571 717.622 100.76 717.622 Q94.9502 717.622 91.8715 713.039 Q88.816 708.432 88.816 699.706 Q88.816 690.956 91.8715 686.372 Q94.9502 681.766 100.76 681.766 Z\" fill=\"#000000\" fill-rule=\"evenodd\" fill-opacity=\"1\" /><path clip-path=\"url(#clip770)\" d=\"M120.922 711.071 L125.807 711.071 L125.807 716.951 L120.922 716.951 L120.922 711.071 Z\" fill=\"#000000\" fill-rule=\"evenodd\" fill-opacity=\"1\" /><path clip-path=\"url(#clip770)\" d=\"M145.992 685.47 Q142.381 685.47 140.552 689.034 Q138.746 692.576 138.746 699.706 Q138.746 706.812 140.552 710.377 Q142.381 713.919 145.992 713.919 Q149.626 713.919 151.431 710.377 Q153.26 706.812 153.26 699.706 Q153.26 692.576 151.431 689.034 Q149.626 685.47 145.992 685.47 M145.992 681.766 Q151.802 681.766 154.857 686.372 Q157.936 690.956 157.936 699.706 Q157.936 708.432 154.857 713.039 Q151.802 717.622 145.992 717.622 Q140.181 717.622 137.103 713.039 Q134.047 708.432 134.047 699.706 Q134.047 690.956 137.103 686.372 Q140.181 681.766 145.992 681.766 Z\" fill=\"#000000\" fill-rule=\"evenodd\" fill-opacity=\"1\" /><path clip-path=\"url(#clip770)\" d=\"M176.153 685.47 Q172.542 685.47 170.714 689.034 Q168.908 692.576 168.908 699.706 Q168.908 706.812 170.714 710.377 Q172.542 713.919 176.153 713.919 Q179.788 713.919 181.593 710.377 Q183.422 706.812 183.422 699.706 Q183.422 692.576 181.593 689.034 Q179.788 685.47 176.153 685.47 M176.153 681.766 Q181.964 681.766 185.019 686.372 Q188.098 690.956 188.098 699.706 Q188.098 708.432 185.019 713.039 Q181.964 717.622 176.153 717.622 Q170.343 717.622 167.265 713.039 Q164.209 708.432 164.209 699.706 Q164.209 690.956 167.265 686.372 Q170.343 681.766 176.153 681.766 Z\" fill=\"#000000\" fill-rule=\"evenodd\" fill-opacity=\"1\" /><path clip-path=\"url(#clip770)\" d=\"M101.756 328.497 Q98.1447 328.497 96.316 332.062 Q94.5104 335.603 94.5104 342.733 Q94.5104 349.839 96.316 353.404 Q98.1447 356.946 101.756 356.946 Q105.39 356.946 107.196 353.404 Q109.024 349.839 109.024 342.733 Q109.024 335.603 107.196 332.062 Q105.39 328.497 101.756 328.497 M101.756 324.793 Q107.566 324.793 110.621 329.4 Q113.7 333.983 113.7 342.733 Q113.7 351.46 110.621 356.066 Q107.566 360.649 101.756 360.649 Q95.9456 360.649 92.8669 356.066 Q89.8114 351.46 89.8114 342.733 Q89.8114 333.983 92.8669 329.4 Q95.9456 324.793 101.756 324.793 Z\" fill=\"#000000\" fill-rule=\"evenodd\" fill-opacity=\"1\" /><path clip-path=\"url(#clip770)\" d=\"M121.918 354.099 L126.802 354.099 L126.802 359.978 L121.918 359.978 L121.918 354.099 Z\" fill=\"#000000\" fill-rule=\"evenodd\" fill-opacity=\"1\" /><path clip-path=\"url(#clip770)\" d=\"M146.987 328.497 Q143.376 328.497 141.547 332.062 Q139.742 335.603 139.742 342.733 Q139.742 349.839 141.547 353.404 Q143.376 356.946 146.987 356.946 Q150.621 356.946 152.427 353.404 Q154.255 349.839 154.255 342.733 Q154.255 335.603 152.427 332.062 Q150.621 328.497 146.987 328.497 M146.987 324.793 Q152.797 324.793 155.853 329.4 Q158.931 333.983 158.931 342.733 Q158.931 351.46 155.853 356.066 Q152.797 360.649 146.987 360.649 Q141.177 360.649 138.098 356.066 Q135.043 351.46 135.043 342.733 Q135.043 333.983 138.098 329.4 Q141.177 324.793 146.987 324.793 Z\" fill=\"#000000\" fill-rule=\"evenodd\" fill-opacity=\"1\" /><path clip-path=\"url(#clip770)\" d=\"M167.195 325.418 L185.552 325.418 L185.552 329.353 L171.478 329.353 L171.478 337.826 Q172.496 337.478 173.515 337.316 Q174.533 337.131 175.552 337.131 Q181.339 337.131 184.718 340.302 Q188.098 343.474 188.098 348.89 Q188.098 354.469 184.626 357.571 Q181.153 360.649 174.834 360.649 Q172.658 360.649 170.39 360.279 Q168.144 359.909 165.737 359.168 L165.737 354.469 Q167.82 355.603 170.042 356.159 Q172.265 356.714 174.741 356.714 Q178.746 356.714 181.084 354.608 Q183.422 352.501 183.422 348.89 Q183.422 345.279 181.084 343.173 Q178.746 341.066 174.741 341.066 Q172.866 341.066 170.991 341.483 Q169.14 341.9 167.195 342.779 L167.195 325.418 Z\" fill=\"#000000\" fill-rule=\"evenodd\" fill-opacity=\"1\" /><path clip-path=\"url(#clip772)\" d=\"\nM341.178 87.9763 L341.178 699.671 L495.831 699.671 L495.831 87.9763 L341.178 87.9763 L341.178 87.9763  Z\n  \" fill=\"#009af9\" fill-rule=\"evenodd\" fill-opacity=\"1\"/>\n<polyline clip-path=\"url(#clip772)\" style=\"stroke:#000000; stroke-linecap:round; stroke-linejoin:round; stroke-width:4; stroke-opacity:1; fill:none\" points=\"\n  341.178,87.9763 341.178,699.671 495.831,699.671 495.831,87.9763 341.178,87.9763 \n  \"/>\n<path clip-path=\"url(#clip772)\" d=\"\nM534.494 825.405 L534.494 699.671 L689.147 699.671 L689.147 825.405 L534.494 825.405 L534.494 825.405  Z\n  \" fill=\"#009af9\" fill-rule=\"evenodd\" fill-opacity=\"1\"/>\n<polyline clip-path=\"url(#clip772)\" style=\"stroke:#000000; stroke-linecap:round; stroke-linejoin:round; stroke-width:4; stroke-opacity:1; fill:none\" points=\"\n  534.494,825.405 534.494,699.671 689.147,699.671 689.147,825.405 534.494,825.405 \n  \"/>\n<path clip-path=\"url(#clip772)\" d=\"\nM727.81 968.18 L727.81 699.671 L882.463 699.671 L882.463 968.18 L727.81 968.18 L727.81 968.18  Z\n  \" fill=\"#009af9\" fill-rule=\"evenodd\" fill-opacity=\"1\"/>\n<polyline clip-path=\"url(#clip772)\" style=\"stroke:#000000; stroke-linecap:round; stroke-linejoin:round; stroke-width:4; stroke-opacity:1; fill:none\" points=\"\n  727.81,968.18 727.81,699.671 882.463,699.671 882.463,968.18 727.81,968.18 \n  \"/>\n<path clip-path=\"url(#clip772)\" d=\"\nM921.126 628.028 L921.126 699.671 L1075.78 699.671 L1075.78 628.028 L921.126 628.028 L921.126 628.028  Z\n  \" fill=\"#009af9\" fill-rule=\"evenodd\" fill-opacity=\"1\"/>\n<polyline clip-path=\"url(#clip772)\" style=\"stroke:#000000; stroke-linecap:round; stroke-linejoin:round; stroke-width:4; stroke-opacity:1; fill:none\" points=\"\n  921.126,628.028 921.126,699.671 1075.78,699.671 1075.78,628.028 921.126,628.028 \n  \"/>\n<path clip-path=\"url(#clip772)\" d=\"\nM1114.44 474.547 L1114.44 699.671 L1269.1 699.671 L1269.1 474.547 L1114.44 474.547 L1114.44 474.547  Z\n  \" fill=\"#009af9\" fill-rule=\"evenodd\" fill-opacity=\"1\"/>\n<polyline clip-path=\"url(#clip772)\" style=\"stroke:#000000; stroke-linecap:round; stroke-linejoin:round; stroke-width:4; stroke-opacity:1; fill:none\" points=\"\n  1114.44,474.547 1114.44,699.671 1269.1,699.671 1269.1,474.547 1114.44,474.547 \n  \"/>\n<path clip-path=\"url(#clip772)\" d=\"\nM1307.76 1445.72 L1307.76 699.671 L1462.41 699.671 L1462.41 1445.72 L1307.76 1445.72 L1307.76 1445.72  Z\n  \" fill=\"#009af9\" fill-rule=\"evenodd\" fill-opacity=\"1\"/>\n<polyline clip-path=\"url(#clip772)\" style=\"stroke:#000000; stroke-linecap:round; stroke-linejoin:round; stroke-width:4; stroke-opacity:1; fill:none\" points=\"\n  1307.76,1445.72 1307.76,699.671 1462.41,699.671 1462.41,1445.72 1307.76,1445.72 \n  \"/>\n<path clip-path=\"url(#clip772)\" d=\"\nM1501.07 475.141 L1501.07 699.671 L1655.73 699.671 L1655.73 475.141 L1501.07 475.141 L1501.07 475.141  Z\n  \" fill=\"#009af9\" fill-rule=\"evenodd\" fill-opacity=\"1\"/>\n<polyline clip-path=\"url(#clip772)\" style=\"stroke:#000000; stroke-linecap:round; stroke-linejoin:round; stroke-width:4; stroke-opacity:1; fill:none\" points=\"\n  1501.07,475.141 1501.07,699.671 1655.73,699.671 1655.73,475.141 1501.07,475.141 \n  \"/>\n<path clip-path=\"url(#clip772)\" d=\"\nM1694.39 1224.64 L1694.39 699.671 L1849.04 699.671 L1849.04 1224.64 L1694.39 1224.64 L1694.39 1224.64  Z\n  \" fill=\"#009af9\" fill-rule=\"evenodd\" fill-opacity=\"1\"/>\n<polyline clip-path=\"url(#clip772)\" style=\"stroke:#000000; stroke-linecap:round; stroke-linejoin:round; stroke-width:4; stroke-opacity:1; fill:none\" points=\"\n  1694.39,1224.64 1694.39,699.671 1849.04,699.671 1849.04,1224.64 1694.39,1224.64 \n  \"/>\n<path clip-path=\"url(#clip772)\" d=\"\nM1887.71 487.083 L1887.71 699.671 L2042.36 699.671 L2042.36 487.083 L1887.71 487.083 L1887.71 487.083  Z\n  \" fill=\"#009af9\" fill-rule=\"evenodd\" fill-opacity=\"1\"/>\n<polyline clip-path=\"url(#clip772)\" style=\"stroke:#000000; stroke-linecap:round; stroke-linejoin:round; stroke-width:4; stroke-opacity:1; fill:none\" points=\"\n  1887.71,487.083 1887.71,699.671 2042.36,699.671 2042.36,487.083 1887.71,487.083 \n  \"/>\n<path clip-path=\"url(#clip772)\" d=\"\nM2081.02 391.951 L2081.02 699.671 L2235.68 699.671 L2235.68 391.951 L2081.02 391.951 L2081.02 391.951  Z\n  \" fill=\"#009af9\" fill-rule=\"evenodd\" fill-opacity=\"1\"/>\n<polyline clip-path=\"url(#clip772)\" style=\"stroke:#000000; stroke-linecap:round; stroke-linejoin:round; stroke-width:4; stroke-opacity:1; fill:none\" points=\"\n  2081.02,391.951 2081.02,699.671 2235.68,699.671 2235.68,391.951 2081.02,391.951 \n  \"/>\n<circle clip-path=\"url(#clip772)\" style=\"fill:#009af9; stroke:none; fill-opacity:0\" cx=\"418.504\" cy=\"87.9763\" r=\"2\"/>\n<circle clip-path=\"url(#clip772)\" style=\"fill:#009af9; stroke:none; fill-opacity:0\" cx=\"611.82\" cy=\"825.405\" r=\"2\"/>\n<circle clip-path=\"url(#clip772)\" style=\"fill:#009af9; stroke:none; fill-opacity:0\" cx=\"805.137\" cy=\"968.18\" r=\"2\"/>\n<circle clip-path=\"url(#clip772)\" style=\"fill:#009af9; stroke:none; fill-opacity:0\" cx=\"998.453\" cy=\"628.028\" r=\"2\"/>\n<circle clip-path=\"url(#clip772)\" style=\"fill:#009af9; stroke:none; fill-opacity:0\" cx=\"1191.77\" cy=\"474.547\" r=\"2\"/>\n<circle clip-path=\"url(#clip772)\" style=\"fill:#009af9; stroke:none; fill-opacity:0\" cx=\"1385.08\" cy=\"1445.72\" r=\"2\"/>\n<circle clip-path=\"url(#clip772)\" style=\"fill:#009af9; stroke:none; fill-opacity:0\" cx=\"1578.4\" cy=\"475.141\" r=\"2\"/>\n<circle clip-path=\"url(#clip772)\" style=\"fill:#009af9; stroke:none; fill-opacity:0\" cx=\"1771.72\" cy=\"1224.64\" r=\"2\"/>\n<circle clip-path=\"url(#clip772)\" style=\"fill:#009af9; stroke:none; fill-opacity:0\" cx=\"1965.03\" cy=\"487.083\" r=\"2\"/>\n<circle clip-path=\"url(#clip772)\" style=\"fill:#009af9; stroke:none; fill-opacity:0\" cx=\"2158.35\" cy=\"391.951\" r=\"2\"/>\n</svg>\n",
      "text/html": [
       "<?xml version=\"1.0\" encoding=\"utf-8\"?>\n",
       "<svg xmlns=\"http://www.w3.org/2000/svg\" xmlns:xlink=\"http://www.w3.org/1999/xlink\" width=\"600\" height=\"400\" viewBox=\"0 0 2400 1600\">\n",
       "<defs>\n",
       "  <clipPath id=\"clip820\">\n",
       "    <rect x=\"0\" y=\"0\" width=\"2400\" height=\"1600\"/>\n",
       "  </clipPath>\n",
       "</defs>\n",
       "<path clip-path=\"url(#clip820)\" d=\"\n",
       "M0 1600 L2400 1600 L2400 0 L0 0  Z\n",
       "  \" fill=\"#ffffff\" fill-rule=\"evenodd\" fill-opacity=\"1\"/>\n",
       "<defs>\n",
       "  <clipPath id=\"clip821\">\n",
       "    <rect x=\"480\" y=\"0\" width=\"1681\" height=\"1600\"/>\n",
       "  </clipPath>\n",
       "</defs>\n",
       "<path clip-path=\"url(#clip820)\" d=\"\n",
       "M224.098 1486.45 L2352.76 1486.45 L2352.76 47.2441 L224.098 47.2441  Z\n",
       "  \" fill=\"#ffffff\" fill-rule=\"evenodd\" fill-opacity=\"1\"/>\n",
       "<defs>\n",
       "  <clipPath id=\"clip822\">\n",
       "    <rect x=\"224\" y=\"47\" width=\"2130\" height=\"1440\"/>\n",
       "  </clipPath>\n",
       "</defs>\n",
       "<polyline clip-path=\"url(#clip822)\" style=\"stroke:#000000; stroke-linecap:round; stroke-linejoin:round; stroke-width:2; stroke-opacity:0.1; fill:none\" points=\"\n",
       "  418.504,1486.45 418.504,47.2441 \n",
       "  \"/>\n",
       "<polyline clip-path=\"url(#clip822)\" style=\"stroke:#000000; stroke-linecap:round; stroke-linejoin:round; stroke-width:2; stroke-opacity:0.1; fill:none\" points=\"\n",
       "  901.795,1486.45 901.795,47.2441 \n",
       "  \"/>\n",
       "<polyline clip-path=\"url(#clip822)\" style=\"stroke:#000000; stroke-linecap:round; stroke-linejoin:round; stroke-width:2; stroke-opacity:0.1; fill:none\" points=\"\n",
       "  1385.08,1486.45 1385.08,47.2441 \n",
       "  \"/>\n",
       "<polyline clip-path=\"url(#clip822)\" style=\"stroke:#000000; stroke-linecap:round; stroke-linejoin:round; stroke-width:2; stroke-opacity:0.1; fill:none\" points=\"\n",
       "  1868.38,1486.45 1868.38,47.2441 \n",
       "  \"/>\n",
       "<polyline clip-path=\"url(#clip822)\" style=\"stroke:#000000; stroke-linecap:round; stroke-linejoin:round; stroke-width:2; stroke-opacity:0.1; fill:none\" points=\"\n",
       "  2351.67,1486.45 2351.67,47.2441 \n",
       "  \"/>\n",
       "<polyline clip-path=\"url(#clip820)\" style=\"stroke:#000000; stroke-linecap:round; stroke-linejoin:round; stroke-width:4; stroke-opacity:1; fill:none\" points=\"\n",
       "  224.098,1486.45 2352.76,1486.45 \n",
       "  \"/>\n",
       "<polyline clip-path=\"url(#clip820)\" style=\"stroke:#000000; stroke-linecap:round; stroke-linejoin:round; stroke-width:4; stroke-opacity:1; fill:none\" points=\"\n",
       "  418.504,1486.45 418.504,1467.55 \n",
       "  \"/>\n",
       "<polyline clip-path=\"url(#clip820)\" style=\"stroke:#000000; stroke-linecap:round; stroke-linejoin:round; stroke-width:4; stroke-opacity:1; fill:none\" points=\"\n",
       "  901.795,1486.45 901.795,1467.55 \n",
       "  \"/>\n",
       "<polyline clip-path=\"url(#clip820)\" style=\"stroke:#000000; stroke-linecap:round; stroke-linejoin:round; stroke-width:4; stroke-opacity:1; fill:none\" points=\"\n",
       "  1385.08,1486.45 1385.08,1467.55 \n",
       "  \"/>\n",
       "<polyline clip-path=\"url(#clip820)\" style=\"stroke:#000000; stroke-linecap:round; stroke-linejoin:round; stroke-width:4; stroke-opacity:1; fill:none\" points=\"\n",
       "  1868.38,1486.45 1868.38,1467.55 \n",
       "  \"/>\n",
       "<polyline clip-path=\"url(#clip820)\" style=\"stroke:#000000; stroke-linecap:round; stroke-linejoin:round; stroke-width:4; stroke-opacity:1; fill:none\" points=\"\n",
       "  2351.67,1486.45 2351.67,1467.55 \n",
       "  \"/>\n",
       "<path clip-path=\"url(#clip820)\" d=\"M395.889 1517.37 Q392.278 1517.37 390.449 1520.93 Q388.643 1524.47 388.643 1531.6 Q388.643 1538.71 390.449 1542.27 Q392.278 1545.82 395.889 1545.82 Q399.523 1545.82 401.328 1542.27 Q403.157 1538.71 403.157 1531.6 Q403.157 1524.47 401.328 1520.93 Q399.523 1517.37 395.889 1517.37 M395.889 1513.66 Q401.699 1513.66 404.754 1518.27 Q407.833 1522.85 407.833 1531.6 Q407.833 1540.33 404.754 1544.94 Q401.699 1549.52 395.889 1549.52 Q390.079 1549.52 387 1544.94 Q383.944 1540.33 383.944 1531.6 Q383.944 1522.85 387 1518.27 Q390.079 1513.66 395.889 1513.66 Z\" fill=\"#000000\" fill-rule=\"evenodd\" fill-opacity=\"1\" /><path clip-path=\"url(#clip820)\" d=\"M416.051 1542.97 L420.935 1542.97 L420.935 1548.85 L416.051 1548.85 L416.051 1542.97 Z\" fill=\"#000000\" fill-rule=\"evenodd\" fill-opacity=\"1\" /><path clip-path=\"url(#clip820)\" d=\"M441.12 1517.37 Q437.509 1517.37 435.68 1520.93 Q433.875 1524.47 433.875 1531.6 Q433.875 1538.71 435.68 1542.27 Q437.509 1545.82 441.12 1545.82 Q444.754 1545.82 446.56 1542.27 Q448.388 1538.71 448.388 1531.6 Q448.388 1524.47 446.56 1520.93 Q444.754 1517.37 441.12 1517.37 M441.12 1513.66 Q446.93 1513.66 449.986 1518.27 Q453.064 1522.85 453.064 1531.6 Q453.064 1540.33 449.986 1544.94 Q446.93 1549.52 441.12 1549.52 Q435.31 1549.52 432.231 1544.94 Q429.176 1540.33 429.176 1531.6 Q429.176 1522.85 432.231 1518.27 Q435.31 1513.66 441.12 1513.66 Z\" fill=\"#000000\" fill-rule=\"evenodd\" fill-opacity=\"1\" /><path clip-path=\"url(#clip820)\" d=\"M873.531 1544.91 L889.85 1544.91 L889.85 1548.85 L867.906 1548.85 L867.906 1544.91 Q870.568 1542.16 875.151 1537.53 Q879.758 1532.88 880.938 1531.53 Q883.184 1529.01 884.063 1527.27 Q884.966 1525.51 884.966 1523.82 Q884.966 1521.07 883.022 1519.33 Q881.1 1517.6 877.998 1517.6 Q875.799 1517.6 873.346 1518.36 Q870.915 1519.13 868.137 1520.68 L868.137 1515.95 Q870.961 1514.82 873.415 1514.24 Q875.869 1513.66 877.906 1513.66 Q883.276 1513.66 886.471 1516.35 Q889.665 1519.03 889.665 1523.52 Q889.665 1525.65 888.855 1527.57 Q888.068 1529.47 885.961 1532.07 Q885.383 1532.74 882.281 1535.95 Q879.179 1539.15 873.531 1544.91 Z\" fill=\"#000000\" fill-rule=\"evenodd\" fill-opacity=\"1\" /><path clip-path=\"url(#clip820)\" d=\"M899.665 1542.97 L904.549 1542.97 L904.549 1548.85 L899.665 1548.85 L899.665 1542.97 Z\" fill=\"#000000\" fill-rule=\"evenodd\" fill-opacity=\"1\" /><path clip-path=\"url(#clip820)\" d=\"M914.781 1514.29 L933.137 1514.29 L933.137 1518.22 L919.063 1518.22 L919.063 1526.7 Q920.082 1526.35 921.1 1526.19 Q922.119 1526 923.137 1526 Q928.924 1526 932.304 1529.17 Q935.683 1532.34 935.683 1537.76 Q935.683 1543.34 932.211 1546.44 Q928.739 1549.52 922.42 1549.52 Q920.244 1549.52 917.975 1549.15 Q915.73 1548.78 913.322 1548.04 L913.322 1543.34 Q915.406 1544.47 917.628 1545.03 Q919.85 1545.58 922.327 1545.58 Q926.332 1545.58 928.669 1543.48 Q931.007 1541.37 931.007 1537.76 Q931.007 1534.15 928.669 1532.04 Q926.332 1529.94 922.327 1529.94 Q920.452 1529.94 918.577 1530.35 Q916.725 1530.77 914.781 1531.65 L914.781 1514.29 Z\" fill=\"#000000\" fill-rule=\"evenodd\" fill-opacity=\"1\" /><path clip-path=\"url(#clip820)\" d=\"M1352.25 1514.29 L1370.61 1514.29 L1370.61 1518.22 L1356.53 1518.22 L1356.53 1526.7 Q1357.55 1526.35 1358.57 1526.19 Q1359.59 1526 1360.61 1526 Q1366.39 1526 1369.77 1529.17 Q1373.15 1532.34 1373.15 1537.76 Q1373.15 1543.34 1369.68 1546.44 Q1366.21 1549.52 1359.89 1549.52 Q1357.71 1549.52 1355.44 1549.15 Q1353.2 1548.78 1350.79 1548.04 L1350.79 1543.34 Q1352.87 1544.47 1355.1 1545.03 Q1357.32 1545.58 1359.8 1545.58 Q1363.8 1545.58 1366.14 1543.48 Q1368.48 1541.37 1368.48 1537.76 Q1368.48 1534.15 1366.14 1532.04 Q1363.8 1529.94 1359.8 1529.94 Q1357.92 1529.94 1356.05 1530.35 Q1354.19 1530.77 1352.25 1531.65 L1352.25 1514.29 Z\" fill=\"#000000\" fill-rule=\"evenodd\" fill-opacity=\"1\" /><path clip-path=\"url(#clip820)\" d=\"M1382.37 1542.97 L1387.25 1542.97 L1387.25 1548.85 L1382.37 1548.85 L1382.37 1542.97 Z\" fill=\"#000000\" fill-rule=\"evenodd\" fill-opacity=\"1\" /><path clip-path=\"url(#clip820)\" d=\"M1407.43 1517.37 Q1403.82 1517.37 1401.99 1520.93 Q1400.19 1524.47 1400.19 1531.6 Q1400.19 1538.71 1401.99 1542.27 Q1403.82 1545.82 1407.43 1545.82 Q1411.07 1545.82 1412.87 1542.27 Q1414.7 1538.71 1414.7 1531.6 Q1414.7 1524.47 1412.87 1520.93 Q1411.07 1517.37 1407.43 1517.37 M1407.43 1513.66 Q1413.24 1513.66 1416.3 1518.27 Q1419.38 1522.85 1419.38 1531.6 Q1419.38 1540.33 1416.3 1544.94 Q1413.24 1549.52 1407.43 1549.52 Q1401.62 1549.52 1398.55 1544.94 Q1395.49 1540.33 1395.49 1531.6 Q1395.49 1522.85 1398.55 1518.27 Q1401.62 1513.66 1407.43 1513.66 Z\" fill=\"#000000\" fill-rule=\"evenodd\" fill-opacity=\"1\" /><path clip-path=\"url(#clip820)\" d=\"M1834.69 1514.29 L1856.92 1514.29 L1856.92 1516.28 L1844.37 1548.85 L1839.49 1548.85 L1851.29 1518.22 L1834.69 1518.22 L1834.69 1514.29 Z\" fill=\"#000000\" fill-rule=\"evenodd\" fill-opacity=\"1\" /><path clip-path=\"url(#clip820)\" d=\"M1866.04 1542.97 L1870.92 1542.97 L1870.92 1548.85 L1866.04 1548.85 L1866.04 1542.97 Z\" fill=\"#000000\" fill-rule=\"evenodd\" fill-opacity=\"1\" /><path clip-path=\"url(#clip820)\" d=\"M1881.15 1514.29 L1899.51 1514.29 L1899.51 1518.22 L1885.44 1518.22 L1885.44 1526.7 Q1886.45 1526.35 1887.47 1526.19 Q1888.49 1526 1889.51 1526 Q1895.3 1526 1898.68 1529.17 Q1902.06 1532.34 1902.06 1537.76 Q1902.06 1543.34 1898.58 1546.44 Q1895.11 1549.52 1888.79 1549.52 Q1886.62 1549.52 1884.35 1549.15 Q1882.1 1548.78 1879.69 1548.04 L1879.69 1543.34 Q1881.78 1544.47 1884 1545.03 Q1886.22 1545.58 1888.7 1545.58 Q1892.7 1545.58 1895.04 1543.48 Q1897.38 1541.37 1897.38 1537.76 Q1897.38 1534.15 1895.04 1532.04 Q1892.7 1529.94 1888.7 1529.94 Q1886.82 1529.94 1884.95 1530.35 Q1883.1 1530.77 1881.15 1531.65 L1881.15 1514.29 Z\" fill=\"#000000\" fill-rule=\"evenodd\" fill-opacity=\"1\" /><path clip-path=\"url(#clip820)\" d=\"M2303.74 1544.91 L2311.38 1544.91 L2311.38 1518.55 L2303.07 1520.21 L2303.07 1515.95 L2311.33 1514.29 L2316.01 1514.29 L2316.01 1544.91 L2323.64 1544.91 L2323.64 1548.85 L2303.74 1548.85 L2303.74 1544.91 Z\" fill=\"#000000\" fill-rule=\"evenodd\" fill-opacity=\"1\" /><path clip-path=\"url(#clip820)\" d=\"M2343.09 1517.37 Q2339.48 1517.37 2337.65 1520.93 Q2335.84 1524.47 2335.84 1531.6 Q2335.84 1538.71 2337.65 1542.27 Q2339.48 1545.82 2343.09 1545.82 Q2346.72 1545.82 2348.53 1542.27 Q2350.36 1538.71 2350.36 1531.6 Q2350.36 1524.47 2348.53 1520.93 Q2346.72 1517.37 2343.09 1517.37 M2343.09 1513.66 Q2348.9 1513.66 2351.95 1518.27 Q2355.03 1522.85 2355.03 1531.6 Q2355.03 1540.33 2351.95 1544.94 Q2348.9 1549.52 2343.09 1549.52 Q2337.28 1549.52 2334.2 1544.94 Q2331.14 1540.33 2331.14 1531.6 Q2331.14 1522.85 2334.2 1518.27 Q2337.28 1513.66 2343.09 1513.66 Z\" fill=\"#000000\" fill-rule=\"evenodd\" fill-opacity=\"1\" /><path clip-path=\"url(#clip820)\" d=\"M2363.25 1542.97 L2368.14 1542.97 L2368.14 1548.85 L2363.25 1548.85 L2363.25 1542.97 Z\" fill=\"#000000\" fill-rule=\"evenodd\" fill-opacity=\"1\" /><path clip-path=\"url(#clip820)\" d=\"M2388.32 1517.37 Q2384.71 1517.37 2382.88 1520.93 Q2381.08 1524.47 2381.08 1531.6 Q2381.08 1538.71 2382.88 1542.27 Q2384.71 1545.82 2388.32 1545.82 Q2391.95 1545.82 2393.76 1542.27 Q2395.59 1538.71 2395.59 1531.6 Q2395.59 1524.47 2393.76 1520.93 Q2391.95 1517.37 2388.32 1517.37 M2388.32 1513.66 Q2394.13 1513.66 2397.19 1518.27 Q2400.26 1522.85 2400.26 1531.6 Q2400.26 1540.33 2397.19 1544.94 Q2394.13 1549.52 2388.32 1549.52 Q2382.51 1549.52 2379.43 1544.94 Q2376.38 1540.33 2376.38 1531.6 Q2376.38 1522.85 2379.43 1518.27 Q2382.51 1513.66 2388.32 1513.66 Z\" fill=\"#000000\" fill-rule=\"evenodd\" fill-opacity=\"1\" /><polyline clip-path=\"url(#clip822)\" style=\"stroke:#000000; stroke-linecap:round; stroke-linejoin:round; stroke-width:2; stroke-opacity:0.1; fill:none\" points=\"\n",
       "  224.098,1413.62 2352.76,1413.62 \n",
       "  \"/>\n",
       "<polyline clip-path=\"url(#clip822)\" style=\"stroke:#000000; stroke-linecap:round; stroke-linejoin:round; stroke-width:2; stroke-opacity:0.1; fill:none\" points=\"\n",
       "  224.098,1056.64 2352.76,1056.64 \n",
       "  \"/>\n",
       "<polyline clip-path=\"url(#clip822)\" style=\"stroke:#000000; stroke-linecap:round; stroke-linejoin:round; stroke-width:2; stroke-opacity:0.1; fill:none\" points=\"\n",
       "  224.098,699.671 2352.76,699.671 \n",
       "  \"/>\n",
       "<polyline clip-path=\"url(#clip822)\" style=\"stroke:#000000; stroke-linecap:round; stroke-linejoin:round; stroke-width:2; stroke-opacity:0.1; fill:none\" points=\"\n",
       "  224.098,342.698 2352.76,342.698 \n",
       "  \"/>\n",
       "<polyline clip-path=\"url(#clip820)\" style=\"stroke:#000000; stroke-linecap:round; stroke-linejoin:round; stroke-width:4; stroke-opacity:1; fill:none\" points=\"\n",
       "  224.098,1486.45 224.098,47.2441 \n",
       "  \"/>\n",
       "<polyline clip-path=\"url(#clip820)\" style=\"stroke:#000000; stroke-linecap:round; stroke-linejoin:round; stroke-width:4; stroke-opacity:1; fill:none\" points=\"\n",
       "  224.098,1413.62 242.996,1413.62 \n",
       "  \"/>\n",
       "<polyline clip-path=\"url(#clip820)\" style=\"stroke:#000000; stroke-linecap:round; stroke-linejoin:round; stroke-width:4; stroke-opacity:1; fill:none\" points=\"\n",
       "  224.098,1056.64 242.996,1056.64 \n",
       "  \"/>\n",
       "<polyline clip-path=\"url(#clip820)\" style=\"stroke:#000000; stroke-linecap:round; stroke-linejoin:round; stroke-width:4; stroke-opacity:1; fill:none\" points=\"\n",
       "  224.098,699.671 242.996,699.671 \n",
       "  \"/>\n",
       "<polyline clip-path=\"url(#clip820)\" style=\"stroke:#000000; stroke-linecap:round; stroke-linejoin:round; stroke-width:4; stroke-opacity:1; fill:none\" points=\"\n",
       "  224.098,342.698 242.996,342.698 \n",
       "  \"/>\n",
       "<path clip-path=\"url(#clip820)\" d=\"M50.9921 1414.07 L80.6679 1414.07 L80.6679 1418 L50.9921 1418 L50.9921 1414.07 Z\" fill=\"#000000\" fill-rule=\"evenodd\" fill-opacity=\"1\" /><path clip-path=\"url(#clip820)\" d=\"M100.76 1399.42 Q97.1493 1399.42 95.3206 1402.98 Q93.515 1406.52 93.515 1413.65 Q93.515 1420.76 95.3206 1424.32 Q97.1493 1427.86 100.76 1427.86 Q104.395 1427.86 106.2 1424.32 Q108.029 1420.76 108.029 1413.65 Q108.029 1406.52 106.2 1402.98 Q104.395 1399.42 100.76 1399.42 M100.76 1395.71 Q106.571 1395.71 109.626 1400.32 Q112.705 1404.9 112.705 1413.65 Q112.705 1422.38 109.626 1426.98 Q106.571 1431.57 100.76 1431.57 Q94.9502 1431.57 91.8715 1426.98 Q88.816 1422.38 88.816 1413.65 Q88.816 1404.9 91.8715 1400.32 Q94.9502 1395.71 100.76 1395.71 Z\" fill=\"#000000\" fill-rule=\"evenodd\" fill-opacity=\"1\" /><path clip-path=\"url(#clip820)\" d=\"M120.922 1425.02 L125.807 1425.02 L125.807 1430.9 L120.922 1430.9 L120.922 1425.02 Z\" fill=\"#000000\" fill-rule=\"evenodd\" fill-opacity=\"1\" /><path clip-path=\"url(#clip820)\" d=\"M136.802 1426.96 L144.441 1426.96 L144.441 1400.6 L136.131 1402.26 L136.131 1398 L144.394 1396.34 L149.07 1396.34 L149.07 1426.96 L156.709 1426.96 L156.709 1430.9 L136.802 1430.9 L136.802 1426.96 Z\" fill=\"#000000\" fill-rule=\"evenodd\" fill-opacity=\"1\" /><path clip-path=\"url(#clip820)\" d=\"M176.153 1399.42 Q172.542 1399.42 170.714 1402.98 Q168.908 1406.52 168.908 1413.65 Q168.908 1420.76 170.714 1424.32 Q172.542 1427.86 176.153 1427.86 Q179.788 1427.86 181.593 1424.32 Q183.422 1420.76 183.422 1413.65 Q183.422 1406.52 181.593 1402.98 Q179.788 1399.42 176.153 1399.42 M176.153 1395.71 Q181.964 1395.71 185.019 1400.32 Q188.098 1404.9 188.098 1413.65 Q188.098 1422.38 185.019 1426.98 Q181.964 1431.57 176.153 1431.57 Q170.343 1431.57 167.265 1426.98 Q164.209 1422.38 164.209 1413.65 Q164.209 1404.9 167.265 1400.32 Q170.343 1395.71 176.153 1395.71 Z\" fill=\"#000000\" fill-rule=\"evenodd\" fill-opacity=\"1\" /><path clip-path=\"url(#clip820)\" d=\"M51.9875 1057.1 L81.6633 1057.1 L81.6633 1061.03 L51.9875 1061.03 L51.9875 1057.1 Z\" fill=\"#000000\" fill-rule=\"evenodd\" fill-opacity=\"1\" /><path clip-path=\"url(#clip820)\" d=\"M101.756 1042.44 Q98.1447 1042.44 96.316 1046.01 Q94.5104 1049.55 94.5104 1056.68 Q94.5104 1063.78 96.316 1067.35 Q98.1447 1070.89 101.756 1070.89 Q105.39 1070.89 107.196 1067.35 Q109.024 1063.78 109.024 1056.68 Q109.024 1049.55 107.196 1046.01 Q105.39 1042.44 101.756 1042.44 M101.756 1038.74 Q107.566 1038.74 110.621 1043.35 Q113.7 1047.93 113.7 1056.68 Q113.7 1065.41 110.621 1070.01 Q107.566 1074.59 101.756 1074.59 Q95.9456 1074.59 92.8669 1070.01 Q89.8114 1065.41 89.8114 1056.68 Q89.8114 1047.93 92.8669 1043.35 Q95.9456 1038.74 101.756 1038.74 Z\" fill=\"#000000\" fill-rule=\"evenodd\" fill-opacity=\"1\" /><path clip-path=\"url(#clip820)\" d=\"M121.918 1068.04 L126.802 1068.04 L126.802 1073.92 L121.918 1073.92 L121.918 1068.04 Z\" fill=\"#000000\" fill-rule=\"evenodd\" fill-opacity=\"1\" /><path clip-path=\"url(#clip820)\" d=\"M146.987 1042.44 Q143.376 1042.44 141.547 1046.01 Q139.742 1049.55 139.742 1056.68 Q139.742 1063.78 141.547 1067.35 Q143.376 1070.89 146.987 1070.89 Q150.621 1070.89 152.427 1067.35 Q154.255 1063.78 154.255 1056.68 Q154.255 1049.55 152.427 1046.01 Q150.621 1042.44 146.987 1042.44 M146.987 1038.74 Q152.797 1038.74 155.853 1043.35 Q158.931 1047.93 158.931 1056.68 Q158.931 1065.41 155.853 1070.01 Q152.797 1074.59 146.987 1074.59 Q141.177 1074.59 138.098 1070.01 Q135.043 1065.41 135.043 1056.68 Q135.043 1047.93 138.098 1043.35 Q141.177 1038.74 146.987 1038.74 Z\" fill=\"#000000\" fill-rule=\"evenodd\" fill-opacity=\"1\" /><path clip-path=\"url(#clip820)\" d=\"M167.195 1039.36 L185.552 1039.36 L185.552 1043.3 L171.478 1043.3 L171.478 1051.77 Q172.496 1051.42 173.515 1051.26 Q174.533 1051.08 175.552 1051.08 Q181.339 1051.08 184.718 1054.25 Q188.098 1057.42 188.098 1062.84 Q188.098 1068.41 184.626 1071.52 Q181.153 1074.59 174.834 1074.59 Q172.658 1074.59 170.39 1074.22 Q168.144 1073.85 165.737 1073.11 L165.737 1068.41 Q167.82 1069.55 170.042 1070.1 Q172.265 1070.66 174.741 1070.66 Q178.746 1070.66 181.084 1068.55 Q183.422 1066.45 183.422 1062.84 Q183.422 1059.22 181.084 1057.12 Q178.746 1055.01 174.741 1055.01 Q172.866 1055.01 170.991 1055.43 Q169.14 1055.85 167.195 1056.72 L167.195 1039.36 Z\" fill=\"#000000\" fill-rule=\"evenodd\" fill-opacity=\"1\" /><path clip-path=\"url(#clip820)\" d=\"M100.76 685.47 Q97.1493 685.47 95.3206 689.034 Q93.515 692.576 93.515 699.706 Q93.515 706.812 95.3206 710.377 Q97.1493 713.919 100.76 713.919 Q104.395 713.919 106.2 710.377 Q108.029 706.812 108.029 699.706 Q108.029 692.576 106.2 689.034 Q104.395 685.47 100.76 685.47 M100.76 681.766 Q106.571 681.766 109.626 686.372 Q112.705 690.956 112.705 699.706 Q112.705 708.432 109.626 713.039 Q106.571 717.622 100.76 717.622 Q94.9502 717.622 91.8715 713.039 Q88.816 708.432 88.816 699.706 Q88.816 690.956 91.8715 686.372 Q94.9502 681.766 100.76 681.766 Z\" fill=\"#000000\" fill-rule=\"evenodd\" fill-opacity=\"1\" /><path clip-path=\"url(#clip820)\" d=\"M120.922 711.071 L125.807 711.071 L125.807 716.951 L120.922 716.951 L120.922 711.071 Z\" fill=\"#000000\" fill-rule=\"evenodd\" fill-opacity=\"1\" /><path clip-path=\"url(#clip820)\" d=\"M145.992 685.47 Q142.381 685.47 140.552 689.034 Q138.746 692.576 138.746 699.706 Q138.746 706.812 140.552 710.377 Q142.381 713.919 145.992 713.919 Q149.626 713.919 151.431 710.377 Q153.26 706.812 153.26 699.706 Q153.26 692.576 151.431 689.034 Q149.626 685.47 145.992 685.47 M145.992 681.766 Q151.802 681.766 154.857 686.372 Q157.936 690.956 157.936 699.706 Q157.936 708.432 154.857 713.039 Q151.802 717.622 145.992 717.622 Q140.181 717.622 137.103 713.039 Q134.047 708.432 134.047 699.706 Q134.047 690.956 137.103 686.372 Q140.181 681.766 145.992 681.766 Z\" fill=\"#000000\" fill-rule=\"evenodd\" fill-opacity=\"1\" /><path clip-path=\"url(#clip820)\" d=\"M176.153 685.47 Q172.542 685.47 170.714 689.034 Q168.908 692.576 168.908 699.706 Q168.908 706.812 170.714 710.377 Q172.542 713.919 176.153 713.919 Q179.788 713.919 181.593 710.377 Q183.422 706.812 183.422 699.706 Q183.422 692.576 181.593 689.034 Q179.788 685.47 176.153 685.47 M176.153 681.766 Q181.964 681.766 185.019 686.372 Q188.098 690.956 188.098 699.706 Q188.098 708.432 185.019 713.039 Q181.964 717.622 176.153 717.622 Q170.343 717.622 167.265 713.039 Q164.209 708.432 164.209 699.706 Q164.209 690.956 167.265 686.372 Q170.343 681.766 176.153 681.766 Z\" fill=\"#000000\" fill-rule=\"evenodd\" fill-opacity=\"1\" /><path clip-path=\"url(#clip820)\" d=\"M101.756 328.497 Q98.1447 328.497 96.316 332.062 Q94.5104 335.603 94.5104 342.733 Q94.5104 349.839 96.316 353.404 Q98.1447 356.946 101.756 356.946 Q105.39 356.946 107.196 353.404 Q109.024 349.839 109.024 342.733 Q109.024 335.603 107.196 332.062 Q105.39 328.497 101.756 328.497 M101.756 324.793 Q107.566 324.793 110.621 329.4 Q113.7 333.983 113.7 342.733 Q113.7 351.46 110.621 356.066 Q107.566 360.649 101.756 360.649 Q95.9456 360.649 92.8669 356.066 Q89.8114 351.46 89.8114 342.733 Q89.8114 333.983 92.8669 329.4 Q95.9456 324.793 101.756 324.793 Z\" fill=\"#000000\" fill-rule=\"evenodd\" fill-opacity=\"1\" /><path clip-path=\"url(#clip820)\" d=\"M121.918 354.099 L126.802 354.099 L126.802 359.978 L121.918 359.978 L121.918 354.099 Z\" fill=\"#000000\" fill-rule=\"evenodd\" fill-opacity=\"1\" /><path clip-path=\"url(#clip820)\" d=\"M146.987 328.497 Q143.376 328.497 141.547 332.062 Q139.742 335.603 139.742 342.733 Q139.742 349.839 141.547 353.404 Q143.376 356.946 146.987 356.946 Q150.621 356.946 152.427 353.404 Q154.255 349.839 154.255 342.733 Q154.255 335.603 152.427 332.062 Q150.621 328.497 146.987 328.497 M146.987 324.793 Q152.797 324.793 155.853 329.4 Q158.931 333.983 158.931 342.733 Q158.931 351.46 155.853 356.066 Q152.797 360.649 146.987 360.649 Q141.177 360.649 138.098 356.066 Q135.043 351.46 135.043 342.733 Q135.043 333.983 138.098 329.4 Q141.177 324.793 146.987 324.793 Z\" fill=\"#000000\" fill-rule=\"evenodd\" fill-opacity=\"1\" /><path clip-path=\"url(#clip820)\" d=\"M167.195 325.418 L185.552 325.418 L185.552 329.353 L171.478 329.353 L171.478 337.826 Q172.496 337.478 173.515 337.316 Q174.533 337.131 175.552 337.131 Q181.339 337.131 184.718 340.302 Q188.098 343.474 188.098 348.89 Q188.098 354.469 184.626 357.571 Q181.153 360.649 174.834 360.649 Q172.658 360.649 170.39 360.279 Q168.144 359.909 165.737 359.168 L165.737 354.469 Q167.82 355.603 170.042 356.159 Q172.265 356.714 174.741 356.714 Q178.746 356.714 181.084 354.608 Q183.422 352.501 183.422 348.89 Q183.422 345.279 181.084 343.173 Q178.746 341.066 174.741 341.066 Q172.866 341.066 170.991 341.483 Q169.14 341.9 167.195 342.779 L167.195 325.418 Z\" fill=\"#000000\" fill-rule=\"evenodd\" fill-opacity=\"1\" /><path clip-path=\"url(#clip822)\" d=\"\n",
       "M341.178 87.9763 L341.178 699.671 L495.831 699.671 L495.831 87.9763 L341.178 87.9763 L341.178 87.9763  Z\n",
       "  \" fill=\"#009af9\" fill-rule=\"evenodd\" fill-opacity=\"1\"/>\n",
       "<polyline clip-path=\"url(#clip822)\" style=\"stroke:#000000; stroke-linecap:round; stroke-linejoin:round; stroke-width:4; stroke-opacity:1; fill:none\" points=\"\n",
       "  341.178,87.9763 341.178,699.671 495.831,699.671 495.831,87.9763 341.178,87.9763 \n",
       "  \"/>\n",
       "<path clip-path=\"url(#clip822)\" d=\"\n",
       "M534.494 825.405 L534.494 699.671 L689.147 699.671 L689.147 825.405 L534.494 825.405 L534.494 825.405  Z\n",
       "  \" fill=\"#009af9\" fill-rule=\"evenodd\" fill-opacity=\"1\"/>\n",
       "<polyline clip-path=\"url(#clip822)\" style=\"stroke:#000000; stroke-linecap:round; stroke-linejoin:round; stroke-width:4; stroke-opacity:1; fill:none\" points=\"\n",
       "  534.494,825.405 534.494,699.671 689.147,699.671 689.147,825.405 534.494,825.405 \n",
       "  \"/>\n",
       "<path clip-path=\"url(#clip822)\" d=\"\n",
       "M727.81 968.18 L727.81 699.671 L882.463 699.671 L882.463 968.18 L727.81 968.18 L727.81 968.18  Z\n",
       "  \" fill=\"#009af9\" fill-rule=\"evenodd\" fill-opacity=\"1\"/>\n",
       "<polyline clip-path=\"url(#clip822)\" style=\"stroke:#000000; stroke-linecap:round; stroke-linejoin:round; stroke-width:4; stroke-opacity:1; fill:none\" points=\"\n",
       "  727.81,968.18 727.81,699.671 882.463,699.671 882.463,968.18 727.81,968.18 \n",
       "  \"/>\n",
       "<path clip-path=\"url(#clip822)\" d=\"\n",
       "M921.126 628.028 L921.126 699.671 L1075.78 699.671 L1075.78 628.028 L921.126 628.028 L921.126 628.028  Z\n",
       "  \" fill=\"#009af9\" fill-rule=\"evenodd\" fill-opacity=\"1\"/>\n",
       "<polyline clip-path=\"url(#clip822)\" style=\"stroke:#000000; stroke-linecap:round; stroke-linejoin:round; stroke-width:4; stroke-opacity:1; fill:none\" points=\"\n",
       "  921.126,628.028 921.126,699.671 1075.78,699.671 1075.78,628.028 921.126,628.028 \n",
       "  \"/>\n",
       "<path clip-path=\"url(#clip822)\" d=\"\n",
       "M1114.44 474.547 L1114.44 699.671 L1269.1 699.671 L1269.1 474.547 L1114.44 474.547 L1114.44 474.547  Z\n",
       "  \" fill=\"#009af9\" fill-rule=\"evenodd\" fill-opacity=\"1\"/>\n",
       "<polyline clip-path=\"url(#clip822)\" style=\"stroke:#000000; stroke-linecap:round; stroke-linejoin:round; stroke-width:4; stroke-opacity:1; fill:none\" points=\"\n",
       "  1114.44,474.547 1114.44,699.671 1269.1,699.671 1269.1,474.547 1114.44,474.547 \n",
       "  \"/>\n",
       "<path clip-path=\"url(#clip822)\" d=\"\n",
       "M1307.76 1445.72 L1307.76 699.671 L1462.41 699.671 L1462.41 1445.72 L1307.76 1445.72 L1307.76 1445.72  Z\n",
       "  \" fill=\"#009af9\" fill-rule=\"evenodd\" fill-opacity=\"1\"/>\n",
       "<polyline clip-path=\"url(#clip822)\" style=\"stroke:#000000; stroke-linecap:round; stroke-linejoin:round; stroke-width:4; stroke-opacity:1; fill:none\" points=\"\n",
       "  1307.76,1445.72 1307.76,699.671 1462.41,699.671 1462.41,1445.72 1307.76,1445.72 \n",
       "  \"/>\n",
       "<path clip-path=\"url(#clip822)\" d=\"\n",
       "M1501.07 475.141 L1501.07 699.671 L1655.73 699.671 L1655.73 475.141 L1501.07 475.141 L1501.07 475.141  Z\n",
       "  \" fill=\"#009af9\" fill-rule=\"evenodd\" fill-opacity=\"1\"/>\n",
       "<polyline clip-path=\"url(#clip822)\" style=\"stroke:#000000; stroke-linecap:round; stroke-linejoin:round; stroke-width:4; stroke-opacity:1; fill:none\" points=\"\n",
       "  1501.07,475.141 1501.07,699.671 1655.73,699.671 1655.73,475.141 1501.07,475.141 \n",
       "  \"/>\n",
       "<path clip-path=\"url(#clip822)\" d=\"\n",
       "M1694.39 1224.64 L1694.39 699.671 L1849.04 699.671 L1849.04 1224.64 L1694.39 1224.64 L1694.39 1224.64  Z\n",
       "  \" fill=\"#009af9\" fill-rule=\"evenodd\" fill-opacity=\"1\"/>\n",
       "<polyline clip-path=\"url(#clip822)\" style=\"stroke:#000000; stroke-linecap:round; stroke-linejoin:round; stroke-width:4; stroke-opacity:1; fill:none\" points=\"\n",
       "  1694.39,1224.64 1694.39,699.671 1849.04,699.671 1849.04,1224.64 1694.39,1224.64 \n",
       "  \"/>\n",
       "<path clip-path=\"url(#clip822)\" d=\"\n",
       "M1887.71 487.083 L1887.71 699.671 L2042.36 699.671 L2042.36 487.083 L1887.71 487.083 L1887.71 487.083  Z\n",
       "  \" fill=\"#009af9\" fill-rule=\"evenodd\" fill-opacity=\"1\"/>\n",
       "<polyline clip-path=\"url(#clip822)\" style=\"stroke:#000000; stroke-linecap:round; stroke-linejoin:round; stroke-width:4; stroke-opacity:1; fill:none\" points=\"\n",
       "  1887.71,487.083 1887.71,699.671 2042.36,699.671 2042.36,487.083 1887.71,487.083 \n",
       "  \"/>\n",
       "<path clip-path=\"url(#clip822)\" d=\"\n",
       "M2081.02 391.951 L2081.02 699.671 L2235.68 699.671 L2235.68 391.951 L2081.02 391.951 L2081.02 391.951  Z\n",
       "  \" fill=\"#009af9\" fill-rule=\"evenodd\" fill-opacity=\"1\"/>\n",
       "<polyline clip-path=\"url(#clip822)\" style=\"stroke:#000000; stroke-linecap:round; stroke-linejoin:round; stroke-width:4; stroke-opacity:1; fill:none\" points=\"\n",
       "  2081.02,391.951 2081.02,699.671 2235.68,699.671 2235.68,391.951 2081.02,391.951 \n",
       "  \"/>\n",
       "<circle clip-path=\"url(#clip822)\" style=\"fill:#009af9; stroke:none; fill-opacity:0\" cx=\"418.504\" cy=\"87.9763\" r=\"2\"/>\n",
       "<circle clip-path=\"url(#clip822)\" style=\"fill:#009af9; stroke:none; fill-opacity:0\" cx=\"611.82\" cy=\"825.405\" r=\"2\"/>\n",
       "<circle clip-path=\"url(#clip822)\" style=\"fill:#009af9; stroke:none; fill-opacity:0\" cx=\"805.137\" cy=\"968.18\" r=\"2\"/>\n",
       "<circle clip-path=\"url(#clip822)\" style=\"fill:#009af9; stroke:none; fill-opacity:0\" cx=\"998.453\" cy=\"628.028\" r=\"2\"/>\n",
       "<circle clip-path=\"url(#clip822)\" style=\"fill:#009af9; stroke:none; fill-opacity:0\" cx=\"1191.77\" cy=\"474.547\" r=\"2\"/>\n",
       "<circle clip-path=\"url(#clip822)\" style=\"fill:#009af9; stroke:none; fill-opacity:0\" cx=\"1385.08\" cy=\"1445.72\" r=\"2\"/>\n",
       "<circle clip-path=\"url(#clip822)\" style=\"fill:#009af9; stroke:none; fill-opacity:0\" cx=\"1578.4\" cy=\"475.141\" r=\"2\"/>\n",
       "<circle clip-path=\"url(#clip822)\" style=\"fill:#009af9; stroke:none; fill-opacity:0\" cx=\"1771.72\" cy=\"1224.64\" r=\"2\"/>\n",
       "<circle clip-path=\"url(#clip822)\" style=\"fill:#009af9; stroke:none; fill-opacity:0\" cx=\"1965.03\" cy=\"487.083\" r=\"2\"/>\n",
       "<circle clip-path=\"url(#clip822)\" style=\"fill:#009af9; stroke:none; fill-opacity:0\" cx=\"2158.35\" cy=\"391.951\" r=\"2\"/>\n",
       "</svg>\n"
      ]
     },
     "metadata": {},
     "output_type": "display_data"
    }
   ],
   "source": [
    "function normalize(x_train, mean_=nothing, std_=nothing)\n",
    "    if mean_ == nothing && std_ == nothing\n",
    "        #TODO normalize x_train\n",
    "        #return `normalized_train_x`, `mean_`, `std_`\n",
    "        #mean_ and std_ will be re-used to pre-process test set\n",
    "        mean_ = mean(x_train)\n",
    "        std_ = std(x_train)\n",
    "        normalized_train_x = (x_train .- mean_)./std_\n",
    "        return normalized_train_x, mean_, std_\n",
    "    end\n",
    "    normalized_train_x = (x_train .- mean_)./std_\n",
    "    return normalized_train_x\n",
    "    #return `normalized_train_x` calculated by using mean_ and std_ (both of them are passed and not null)\n",
    "end\n",
    "\n",
    "normalized_train_x, mean_, std_ = normalize(train_x_new)\n",
    "\n",
    "s_mean = compute_average_intensity(normalized_train_x, train_y)\n",
    "bar(0:9, s_mean, legend=false)"
   ]
  },
  {
   "cell_type": "markdown",
   "id": "ff7aa29a",
   "metadata": {
    "colab_type": "text",
    "id": "KRLBISDqrRDW"
   },
   "source": [
    "### Construct  data"
   ]
  },
  {
   "cell_type": "code",
   "execution_count": 53,
   "id": "efe8d064",
   "metadata": {},
   "outputs": [
    {
     "data": {
      "text/plain": [
       "(60000, 1)"
      ]
     },
     "metadata": {},
     "output_type": "display_data"
    }
   ],
   "source": [
    "# change the label: y=1 -> stay unchanged, y!=1 -> y=0\n",
    "train_y_new = reshape(deepcopy(train_y), (size(train_y)[1], 1))\n",
    "train_y_new[train_y_new .!= 1] .= 0\n",
    "size(train_y_new)"
   ]
  },
  {
   "cell_type": "code",
   "execution_count": 54,
   "id": "98dfb0f9",
   "metadata": {},
   "outputs": [
    {
     "data": {
      "text/plain": [
       "(60000, 3)"
      ]
     },
     "metadata": {},
     "output_type": "display_data"
    }
   ],
   "source": [
    "# contruct data by adding ones\n",
    "add_one_train_x = hcat(ones(size(normalized_train_x)[1],), normalized_train_x)\n",
    "size(add_one_train_x)"
   ]
  },
  {
   "cell_type": "markdown",
   "id": "ef20783b",
   "metadata": {
    "colab_type": "text",
    "id": "CIeY4oA8rRDo"
   },
   "source": [
    "### Sigmoid function and derivative of the sigmoid function"
   ]
  },
  {
   "cell_type": "code",
   "execution_count": 55,
   "id": "08a7c92c",
   "metadata": {},
   "outputs": [
    {
     "data": {
      "text/plain": [
       "sigmoid_deriv (generic function with 1 method)"
      ]
     },
     "metadata": {},
     "output_type": "display_data"
    }
   ],
   "source": [
    "function sigmoid_activation(x)\n",
    "    \"\"\"\n",
    "    Compute the sigmoid activation value for a given input\n",
    "    \"\"\"\n",
    "    return 1.0 ./ (1.0 .+ exp.(-x))\n",
    "end\n",
    "\n",
    "function sigmoid_deriv(x)\n",
    "    \"\"\"\n",
    "    Compute the derivative of the sigmoid function ASSUMING\n",
    "    that the input 'x' has already been passed through the sigmoid\n",
    "    activation function\n",
    "    \"\"\"\n",
    "    return x .* (1 .- x)\n",
    "end"
   ]
  },
  {
   "cell_type": "markdown",
   "id": "b378bcda",
   "metadata": {
    "colab_type": "text",
    "id": "bvFr3X38rRD0"
   },
   "source": [
    "### Compute output"
   ]
  },
  {
   "cell_type": "code",
   "execution_count": 56,
   "id": "37b4e61f",
   "metadata": {},
   "outputs": [
    {
     "data": {
      "text/plain": [
       "predict (generic function with 1 method)"
      ]
     },
     "metadata": {},
     "output_type": "display_data"
    }
   ],
   "source": [
    "function compute_h(W, X)\n",
    "    \"\"\"\n",
    "    Compute output: Take the inner product between our features 'X' and the weight\n",
    "    matrix 'W'\n",
    "    \"\"\"\n",
    "    return X*W\n",
    "end\n",
    "\n",
    "function predict(W, X)\n",
    "    \"\"\"\n",
    "    Take the inner product between our features and weight matrix, \n",
    "    then pass this value through our sigmoid activation\n",
    "    \"\"\"\n",
    "    preds = sigmoid_activation(compute_h(W, X))\n",
    "\n",
    "    # apply a step function to threshold the outputs to binary\n",
    "    # class labels\n",
    "    preds[preds .<= 0.5] .= 0\n",
    "    preds[preds .> 0] .= 1\n",
    "\n",
    "    return preds\n",
    "end"
   ]
  },
  {
   "cell_type": "markdown",
   "id": "d4a09ea4",
   "metadata": {},
   "source": [
    "### Compute gradient"
   ]
  },
  {
   "cell_type": "markdown",
   "id": "7d90076f",
   "metadata": {},
   "source": [
    "**Loss Function: Average negative log likelihood**\n",
    "$$\\mathcal{L}=\\dfrac{1}{N} \\sum_{i=1}^{N} -\\left(y^{i}\\ln h_{\\mathbf{w}}\\left(\\mathbf{x}^{i}\\right)+\\left(1-y^{i}\\right)\\ln \\left(1-h_{\\mathbf{w}}\\left(x^{i}\\right)\\right)\\right) $$\n",
    "\n",
    "\n",
    "$$\\text{Sigmoid Activation: } z= \\sigma \\left(h\\right)= \\dfrac{1}{1+e^{-h}}$$\n",
    "\n",
    "$$\\text{Cross-entropy: } J(w)=-\\left({ylog(z)+(1-y)log(1-z)}\\right)$$\n",
    "\n",
    "$$\\text{Chain rule: } \\dfrac{\\partial J(w)}{\\partial w}=\\dfrac{\\partial J(w)}{\\partial z} \\dfrac{\\partial z}{\\partial h}\\dfrac{\\partial h}{\\partial w}  $$\n",
    "\n",
    "$$\\dfrac{\\partial J(w)}{\\partial z}=-\\left(\\dfrac{y}{z}-\\dfrac{1-y}{1-z}\\right)=\\dfrac{z-y}{z(1-z)}$$\n",
    "\n",
    "$$\\dfrac{\\partial z}{\\partial h}=z(1-z)$$\n",
    "\n",
    "$$\\dfrac{\\partial h}{\\partial w}=X$$\n",
    "\n",
    "$$\\dfrac{\\partial J(w)}{\\partial w}=X^T(z-y)$$"
   ]
  },
  {
   "cell_type": "code",
   "execution_count": 57,
   "id": "8a7fe449",
   "metadata": {},
   "outputs": [
    {
     "data": {
      "text/plain": [
       "compute_gradient (generic function with 1 method)"
      ]
     },
     "metadata": {},
     "output_type": "display_data"
    }
   ],
   "source": [
    "function compute_gradient(error, train_x)\n",
    "    \"\"\"\n",
    "    This is the gradient descent update of \"average negative loglikelihood\" loss function. \n",
    "    In lab02 our loss function is \"sum squared error\".\n",
    "    \"\"\"\n",
    "    #TODO compute gradient\n",
    "\n",
    "    gradient = transpose(train_x)* sigmoid_deriv(error) ./size(train_x)[1]\n",
    "    return gradient\n",
    "end"
   ]
  },
  {
   "cell_type": "code",
   "execution_count": 58,
   "id": "cd44a9dc",
   "metadata": {},
   "outputs": [
    {
     "data": {
      "text/plain": [
       "train (generic function with 1 method)"
      ]
     },
     "metadata": {},
     "output_type": "display_data"
    }
   ],
   "source": [
    "function train(W, train_x, train_y, learning_rate, num_epochs)\n",
    "    losses = []\n",
    "    for epoch in 1:num_epochs\n",
    "        y_hat = sigmoid_activation(compute_h(W, train_x))\n",
    "        error = y_hat - train_y\n",
    "        append!(losses, mean(-1 .* train_y .* log.(y_hat) .- (1 .- train_y) .* log.(1 .- y_hat)))\n",
    "        grad = compute_gradient(error, train_x)\n",
    "        W -= learning_rate * grad\n",
    "\n",
    "        if epoch == 1 || epoch % 50 == 0\n",
    "            print(\"Epoch=$epoch; Loss=$(losses[end])\\n\")\n",
    "        end\n",
    "    end\n",
    "    return W, losses\n",
    "end"
   ]
  },
  {
   "cell_type": "markdown",
   "id": "c7f5f22e",
   "metadata": {
    "colab_type": "text",
    "id": "ovhGMiV6rREb"
   },
   "source": [
    "### Train our model"
   ]
  },
  {
   "cell_type": "code",
   "execution_count": 59,
   "id": "73ee3728",
   "metadata": {
    "scrolled": true
   },
   "outputs": [
    {
     "name": "stdout",
     "output_type": "stream",
     "text": [
      "Epoch=1; Loss=0.3567971204318478\n",
      "Epoch=50; Loss=0.3403444018605973\n"
     ]
    },
    {
     "name": "stdout",
     "output_type": "stream",
     "text": [
      "Epoch=100; Loss=0.3272720535221945\n"
     ]
    },
    {
     "name": "stdout",
     "output_type": "stream",
     "text": [
      "Epoch=150; Loss=0.31699990195694605\n"
     ]
    },
    {
     "name": "stdout",
     "output_type": "stream",
     "text": [
      "Epoch=200; Loss=0.3088329631935993\n"
     ]
    },
    {
     "name": "stdout",
     "output_type": "stream",
     "text": [
      "Epoch=250; Loss=0.3022660336373715\n",
      "Epoch=300; Loss=0.2969287089344482\n"
     ]
    },
    {
     "name": "stdout",
     "output_type": "stream",
     "text": [
      "Epoch=350; Loss=0.29254669629870333\n"
     ]
    },
    {
     "name": "stdout",
     "output_type": "stream",
     "text": [
      "Epoch=400; Loss=0.28891471846618066\n"
     ]
    },
    {
     "name": "stdout",
     "output_type": "stream",
     "text": [
      "Epoch=450; Loss=0.28587749819921293\n"
     ]
    },
    {
     "name": "stdout",
     "output_type": "stream",
     "text": [
      "Epoch=500; Loss=0.2833163367457699\n"
     ]
    },
    {
     "name": "stdout",
     "output_type": "stream",
     "text": [
      "Epoch=550; Loss=0.28113956633941095\n",
      "Epoch=600; Loss=0.27927569780801326\n"
     ]
    },
    {
     "name": "stdout",
     "output_type": "stream",
     "text": [
      "Epoch=650; Loss=0.2776684560544756\n"
     ]
    },
    {
     "name": "stdout",
     "output_type": "stream",
     "text": [
      "Epoch=700; Loss=0.27627314877758097\n",
      "Epoch=750; Loss=0.2750539850543095\n"
     ]
    },
    {
     "name": "stdout",
     "output_type": "stream",
     "text": [
      "Epoch=800; Loss=0.2739820767865384\n"
     ]
    },
    {
     "name": "stdout",
     "output_type": "stream",
     "text": [
      "Epoch=850; Loss=0.2730339355231403\n"
     ]
    },
    {
     "name": "stdout",
     "output_type": "stream",
     "text": [
      "Epoch=900; Loss=0.27219033186164443\n"
     ]
    },
    {
     "name": "stdout",
     "output_type": "stream",
     "text": [
      "Epoch=950; Loss=0.2714354225516542\n"
     ]
    },
    {
     "name": "stdout",
     "output_type": "stream",
     "text": [
      "Epoch=1000; Loss=0.27075607692825393\n"
     ]
    },
    {
     "name": "stdout",
     "output_type": "stream",
     "text": [
      "Epoch=1050; Loss=0.27014135298878833\n"
     ]
    },
    {
     "name": "stdout",
     "output_type": "stream",
     "text": [
      "Epoch=1100; Loss=0.26958208670906686\n"
     ]
    },
    {
     "name": "stdout",
     "output_type": "stream",
     "text": [
      "Epoch=1150; Loss=0.2690705677151648\n",
      "Epoch=1200; Loss=0.2686002813051333\n"
     ]
    },
    {
     "name": "stdout",
     "output_type": "stream",
     "text": [
      "Epoch=1250; Loss=0.26816570182280786\n",
      "Epoch=1300; Loss=0.26776212605933797\n"
     ]
    },
    {
     "name": "stdout",
     "output_type": "stream",
     "text": [
      "Epoch=1350; Loss=0.2673855380720216\n"
     ]
    },
    {
     "name": "stdout",
     "output_type": "stream",
     "text": [
      "Epoch=1400; Loss=0.2670324988290362\n",
      "Epoch=1450; Loss=0.2667000556007108\n"
     ]
    },
    {
     "name": "stdout",
     "output_type": "stream",
     "text": [
      "Epoch=1500; Loss=0.2663856671577088\n"
     ]
    },
    {
     "name": "stdout",
     "output_type": "stream",
     "text": [
      "Epoch=1550; Loss=0.2660871417009818\n",
      "Epoch=1600; Loss=0.2658025851080912\n"
     ]
    },
    {
     "name": "stdout",
     "output_type": "stream",
     "text": [
      "Epoch=1650; Loss=0.26553035758700805\n",
      "Epoch=1700; Loss=0.26526903721966233\n"
     ]
    },
    {
     "name": "stdout",
     "output_type": "stream",
     "text": [
      "Epoch=1750; Loss=0.2650173891813628\n"
     ]
    },
    {
     "name": "stdout",
     "output_type": "stream",
     "text": [
      "Epoch=1800; Loss=0.2647743396595795\n"
     ]
    },
    {
     "name": "stdout",
     "output_type": "stream",
     "text": [
      "Epoch=1850; Loss=0.26453895368208885\n"
     ]
    },
    {
     "name": "stdout",
     "output_type": "stream",
     "text": [
      "Epoch=1900; Loss=0.2643104162118424\n"
     ]
    },
    {
     "name": "stdout",
     "output_type": "stream",
     "text": [
      "Epoch=1950; Loss=0.2640880159830068\n"
     ]
    },
    {
     "name": "stdout",
     "output_type": "stream",
     "text": [
      "Epoch=2000; Loss=0.26387113164616705\n"
     ]
    }
   ],
   "source": [
    "W = rand(Normal(), (size(add_one_train_x)[2], 1))\n",
    "\n",
    "num_epochs=2000\n",
    "learning_rate=0.01\n",
    "W, losses = train(W, add_one_train_x, train_y_new, learning_rate, num_epochs);"
   ]
  },
  {
   "cell_type": "code",
   "execution_count": 60,
   "id": "ac5a2524",
   "metadata": {},
   "outputs": [
    {
     "data": {
      "image/png": "[encoded data removed]",
      "image/svg+xml": "<?xml version=\"1.0\" encoding=\"utf-8\"?>\n<svg xmlns=\"http://www.w3.org/2000/svg\" xmlns:xlink=\"http://www.w3.org/1999/xlink\" width=\"600\" height=\"400\" viewBox=\"0 0 2400 1600\">\n<defs>\n  <clipPath id=\"clip860\">\n    <rect x=\"0\" y=\"0\" width=\"2400\" height=\"1600\"/>\n  </clipPath>\n</defs>\n<path clip-path=\"url(#clip860)\" d=\"\nM0 1600 L2400 1600 L2400 0 L0 0  Z\n  \" fill=\"#ffffff\" fill-rule=\"evenodd\" fill-opacity=\"1\"/>\n<defs>\n  <clipPath id=\"clip861\">\n    <rect x=\"480\" y=\"0\" width=\"1681\" height=\"1600\"/>\n  </clipPath>\n</defs>\n<path clip-path=\"url(#clip860)\" d=\"\nM186.76 1486.45 L2352.76 1486.45 L2352.76 47.2441 L186.76 47.2441  Z\n  \" fill=\"#ffffff\" fill-rule=\"evenodd\" fill-opacity=\"1\"/>\n<defs>\n  <clipPath id=\"clip862\">\n    <rect x=\"186\" y=\"47\" width=\"2167\" height=\"1440\"/>\n  </clipPath>\n</defs>\n<polyline clip-path=\"url(#clip862)\" style=\"stroke:#000000; stroke-linecap:round; stroke-linejoin:round; stroke-width:2; stroke-opacity:0.1; fill:none\" points=\"\n  247.04,1486.45 247.04,47.2441 \n  \"/>\n<polyline clip-path=\"url(#clip862)\" style=\"stroke:#000000; stroke-linecap:round; stroke-linejoin:round; stroke-width:2; stroke-opacity:0.1; fill:none\" points=\"\n  758.143,1486.45 758.143,47.2441 \n  \"/>\n<polyline clip-path=\"url(#clip862)\" style=\"stroke:#000000; stroke-linecap:round; stroke-linejoin:round; stroke-width:2; stroke-opacity:0.1; fill:none\" points=\"\n  1269.25,1486.45 1269.25,47.2441 \n  \"/>\n<polyline clip-path=\"url(#clip862)\" style=\"stroke:#000000; stroke-linecap:round; stroke-linejoin:round; stroke-width:2; stroke-opacity:0.1; fill:none\" points=\"\n  1780.35,1486.45 1780.35,47.2441 \n  \"/>\n<polyline clip-path=\"url(#clip862)\" style=\"stroke:#000000; stroke-linecap:round; stroke-linejoin:round; stroke-width:2; stroke-opacity:0.1; fill:none\" points=\"\n  2291.45,1486.45 2291.45,47.2441 \n  \"/>\n<polyline clip-path=\"url(#clip860)\" style=\"stroke:#000000; stroke-linecap:round; stroke-linejoin:round; stroke-width:4; stroke-opacity:1; fill:none\" points=\"\n  186.76,1486.45 2352.76,1486.45 \n  \"/>\n<polyline clip-path=\"url(#clip860)\" style=\"stroke:#000000; stroke-linecap:round; stroke-linejoin:round; stroke-width:4; stroke-opacity:1; fill:none\" points=\"\n  247.04,1486.45 247.04,1467.55 \n  \"/>\n<polyline clip-path=\"url(#clip860)\" style=\"stroke:#000000; stroke-linecap:round; stroke-linejoin:round; stroke-width:4; stroke-opacity:1; fill:none\" points=\"\n  758.143,1486.45 758.143,1467.55 \n  \"/>\n<polyline clip-path=\"url(#clip860)\" style=\"stroke:#000000; stroke-linecap:round; stroke-linejoin:round; stroke-width:4; stroke-opacity:1; fill:none\" points=\"\n  1269.25,1486.45 1269.25,1467.55 \n  \"/>\n<polyline clip-path=\"url(#clip860)\" style=\"stroke:#000000; stroke-linecap:round; stroke-linejoin:round; stroke-width:4; stroke-opacity:1; fill:none\" points=\"\n  1780.35,1486.45 1780.35,1467.55 \n  \"/>\n<polyline clip-path=\"url(#clip860)\" style=\"stroke:#000000; stroke-linecap:round; stroke-linejoin:round; stroke-width:4; stroke-opacity:1; fill:none\" points=\"\n  2291.45,1486.45 2291.45,1467.55 \n  \"/>\n<path clip-path=\"url(#clip860)\" d=\"M247.04 1517.37 Q243.429 1517.37 241.6 1520.93 Q239.794 1524.47 239.794 1531.6 Q239.794 1538.71 241.6 1542.27 Q243.429 1545.82 247.04 1545.82 Q250.674 1545.82 252.479 1542.27 Q254.308 1538.71 254.308 1531.6 Q254.308 1524.47 252.479 1520.93 Q250.674 1517.37 247.04 1517.37 M247.04 1513.66 Q252.85 1513.66 255.905 1518.27 Q258.984 1522.85 258.984 1531.6 Q258.984 1540.33 255.905 1544.94 Q252.85 1549.52 247.04 1549.52 Q241.23 1549.52 238.151 1544.94 Q235.095 1540.33 235.095 1531.6 Q235.095 1522.85 238.151 1518.27 Q241.23 1513.66 247.04 1513.66 Z\" fill=\"#000000\" fill-rule=\"evenodd\" fill-opacity=\"1\" /><path clip-path=\"url(#clip860)\" d=\"M717.762 1514.29 L736.118 1514.29 L736.118 1518.22 L722.044 1518.22 L722.044 1526.7 Q723.062 1526.35 724.081 1526.19 Q725.099 1526 726.118 1526 Q731.905 1526 735.285 1529.17 Q738.664 1532.34 738.664 1537.76 Q738.664 1543.34 735.192 1546.44 Q731.72 1549.52 725.4 1549.52 Q723.224 1549.52 720.956 1549.15 Q718.711 1548.78 716.303 1548.04 L716.303 1543.34 Q718.387 1544.47 720.609 1545.03 Q722.831 1545.58 725.308 1545.58 Q729.312 1545.58 731.65 1543.48 Q733.988 1541.37 733.988 1537.76 Q733.988 1534.15 731.65 1532.04 Q729.312 1529.94 725.308 1529.94 Q723.433 1529.94 721.558 1530.35 Q719.706 1530.77 717.762 1531.65 L717.762 1514.29 Z\" fill=\"#000000\" fill-rule=\"evenodd\" fill-opacity=\"1\" /><path clip-path=\"url(#clip860)\" d=\"M757.877 1517.37 Q754.266 1517.37 752.437 1520.93 Q750.632 1524.47 750.632 1531.6 Q750.632 1538.71 752.437 1542.27 Q754.266 1545.82 757.877 1545.82 Q761.511 1545.82 763.317 1542.27 Q765.146 1538.71 765.146 1531.6 Q765.146 1524.47 763.317 1520.93 Q761.511 1517.37 757.877 1517.37 M757.877 1513.66 Q763.687 1513.66 766.743 1518.27 Q769.821 1522.85 769.821 1531.6 Q769.821 1540.33 766.743 1544.94 Q763.687 1549.52 757.877 1549.52 Q752.067 1549.52 748.988 1544.94 Q745.933 1540.33 745.933 1531.6 Q745.933 1522.85 748.988 1518.27 Q752.067 1513.66 757.877 1513.66 Z\" fill=\"#000000\" fill-rule=\"evenodd\" fill-opacity=\"1\" /><path clip-path=\"url(#clip860)\" d=\"M788.039 1517.37 Q784.428 1517.37 782.599 1520.93 Q780.794 1524.47 780.794 1531.6 Q780.794 1538.71 782.599 1542.27 Q784.428 1545.82 788.039 1545.82 Q791.673 1545.82 793.479 1542.27 Q795.307 1538.71 795.307 1531.6 Q795.307 1524.47 793.479 1520.93 Q791.673 1517.37 788.039 1517.37 M788.039 1513.66 Q793.849 1513.66 796.905 1518.27 Q799.983 1522.85 799.983 1531.6 Q799.983 1540.33 796.905 1544.94 Q793.849 1549.52 788.039 1549.52 Q782.229 1549.52 779.15 1544.94 Q776.095 1540.33 776.095 1531.6 Q776.095 1522.85 779.15 1518.27 Q782.229 1513.66 788.039 1513.66 Z\" fill=\"#000000\" fill-rule=\"evenodd\" fill-opacity=\"1\" /><path clip-path=\"url(#clip860)\" d=\"M1213.77 1544.91 L1221.41 1544.91 L1221.41 1518.55 L1213.1 1520.21 L1213.1 1515.95 L1221.37 1514.29 L1226.04 1514.29 L1226.04 1544.91 L1233.68 1544.91 L1233.68 1548.85 L1213.77 1548.85 L1213.77 1544.91 Z\" fill=\"#000000\" fill-rule=\"evenodd\" fill-opacity=\"1\" /><path clip-path=\"url(#clip860)\" d=\"M1253.12 1517.37 Q1249.51 1517.37 1247.68 1520.93 Q1245.88 1524.47 1245.88 1531.6 Q1245.88 1538.71 1247.68 1542.27 Q1249.51 1545.82 1253.12 1545.82 Q1256.76 1545.82 1258.56 1542.27 Q1260.39 1538.71 1260.39 1531.6 Q1260.39 1524.47 1258.56 1520.93 Q1256.76 1517.37 1253.12 1517.37 M1253.12 1513.66 Q1258.93 1513.66 1261.99 1518.27 Q1265.07 1522.85 1265.07 1531.6 Q1265.07 1540.33 1261.99 1544.94 Q1258.93 1549.52 1253.12 1549.52 Q1247.31 1549.52 1244.24 1544.94 Q1241.18 1540.33 1241.18 1531.6 Q1241.18 1522.85 1244.24 1518.27 Q1247.31 1513.66 1253.12 1513.66 Z\" fill=\"#000000\" fill-rule=\"evenodd\" fill-opacity=\"1\" /><path clip-path=\"url(#clip860)\" d=\"M1283.29 1517.37 Q1279.68 1517.37 1277.85 1520.93 Q1276.04 1524.47 1276.04 1531.6 Q1276.04 1538.71 1277.85 1542.27 Q1279.68 1545.82 1283.29 1545.82 Q1286.92 1545.82 1288.73 1542.27 Q1290.55 1538.71 1290.55 1531.6 Q1290.55 1524.47 1288.73 1520.93 Q1286.92 1517.37 1283.29 1517.37 M1283.29 1513.66 Q1289.1 1513.66 1292.15 1518.27 Q1295.23 1522.85 1295.23 1531.6 Q1295.23 1540.33 1292.15 1544.94 Q1289.1 1549.52 1283.29 1549.52 Q1277.48 1549.52 1274.4 1544.94 Q1271.34 1540.33 1271.34 1531.6 Q1271.34 1522.85 1274.4 1518.27 Q1277.48 1513.66 1283.29 1513.66 Z\" fill=\"#000000\" fill-rule=\"evenodd\" fill-opacity=\"1\" /><path clip-path=\"url(#clip860)\" d=\"M1313.45 1517.37 Q1309.84 1517.37 1308.01 1520.93 Q1306.2 1524.47 1306.2 1531.6 Q1306.2 1538.71 1308.01 1542.27 Q1309.84 1545.82 1313.45 1545.82 Q1317.08 1545.82 1318.89 1542.27 Q1320.72 1538.71 1320.72 1531.6 Q1320.72 1524.47 1318.89 1520.93 Q1317.08 1517.37 1313.45 1517.37 M1313.45 1513.66 Q1319.26 1513.66 1322.31 1518.27 Q1325.39 1522.85 1325.39 1531.6 Q1325.39 1540.33 1322.31 1544.94 Q1319.26 1549.52 1313.45 1549.52 Q1307.64 1549.52 1304.56 1544.94 Q1301.5 1540.33 1301.5 1531.6 Q1301.5 1522.85 1304.56 1518.27 Q1307.64 1513.66 1313.45 1513.66 Z\" fill=\"#000000\" fill-rule=\"evenodd\" fill-opacity=\"1\" /><path clip-path=\"url(#clip860)\" d=\"M1724.88 1544.91 L1732.52 1544.91 L1732.52 1518.55 L1724.2 1520.21 L1724.2 1515.95 L1732.47 1514.29 L1737.14 1514.29 L1737.14 1544.91 L1744.78 1544.91 L1744.78 1548.85 L1724.88 1548.85 L1724.88 1544.91 Z\" fill=\"#000000\" fill-rule=\"evenodd\" fill-opacity=\"1\" /><path clip-path=\"url(#clip860)\" d=\"M1754.27 1514.29 L1772.63 1514.29 L1772.63 1518.22 L1758.56 1518.22 L1758.56 1526.7 Q1759.58 1526.35 1760.59 1526.19 Q1761.61 1526 1762.63 1526 Q1768.42 1526 1771.8 1529.17 Q1775.18 1532.34 1775.18 1537.76 Q1775.18 1543.34 1771.7 1546.44 Q1768.23 1549.52 1761.91 1549.52 Q1759.74 1549.52 1757.47 1549.15 Q1755.22 1548.78 1752.82 1548.04 L1752.82 1543.34 Q1754.9 1544.47 1757.12 1545.03 Q1759.34 1545.58 1761.82 1545.58 Q1765.83 1545.58 1768.16 1543.48 Q1770.5 1541.37 1770.5 1537.76 Q1770.5 1534.15 1768.16 1532.04 Q1765.83 1529.94 1761.82 1529.94 Q1759.95 1529.94 1758.07 1530.35 Q1756.22 1530.77 1754.27 1531.65 L1754.27 1514.29 Z\" fill=\"#000000\" fill-rule=\"evenodd\" fill-opacity=\"1\" /><path clip-path=\"url(#clip860)\" d=\"M1794.39 1517.37 Q1790.78 1517.37 1788.95 1520.93 Q1787.14 1524.47 1787.14 1531.6 Q1787.14 1538.71 1788.95 1542.27 Q1790.78 1545.82 1794.39 1545.82 Q1798.02 1545.82 1799.83 1542.27 Q1801.66 1538.71 1801.66 1531.6 Q1801.66 1524.47 1799.83 1520.93 Q1798.02 1517.37 1794.39 1517.37 M1794.39 1513.66 Q1800.2 1513.66 1803.26 1518.27 Q1806.33 1522.85 1806.33 1531.6 Q1806.33 1540.33 1803.26 1544.94 Q1800.2 1549.52 1794.39 1549.52 Q1788.58 1549.52 1785.5 1544.94 Q1782.45 1540.33 1782.45 1531.6 Q1782.45 1522.85 1785.5 1518.27 Q1788.58 1513.66 1794.39 1513.66 Z\" fill=\"#000000\" fill-rule=\"evenodd\" fill-opacity=\"1\" /><path clip-path=\"url(#clip860)\" d=\"M1824.55 1517.37 Q1820.94 1517.37 1819.11 1520.93 Q1817.31 1524.47 1817.31 1531.6 Q1817.31 1538.71 1819.11 1542.27 Q1820.94 1545.82 1824.55 1545.82 Q1828.19 1545.82 1829.99 1542.27 Q1831.82 1538.71 1831.82 1531.6 Q1831.82 1524.47 1829.99 1520.93 Q1828.19 1517.37 1824.55 1517.37 M1824.55 1513.66 Q1830.36 1513.66 1833.42 1518.27 Q1836.5 1522.85 1836.5 1531.6 Q1836.5 1540.33 1833.42 1544.94 Q1830.36 1549.52 1824.55 1549.52 Q1818.74 1549.52 1815.66 1544.94 Q1812.61 1540.33 1812.61 1531.6 Q1812.61 1522.85 1815.66 1518.27 Q1818.74 1513.66 1824.55 1513.66 Z\" fill=\"#000000\" fill-rule=\"evenodd\" fill-opacity=\"1\" /><path clip-path=\"url(#clip860)\" d=\"M2240.07 1544.91 L2256.38 1544.91 L2256.38 1548.85 L2234.44 1548.85 L2234.44 1544.91 Q2237.1 1542.16 2241.69 1537.53 Q2246.29 1532.88 2247.47 1531.53 Q2249.72 1529.01 2250.6 1527.27 Q2251.5 1525.51 2251.5 1523.82 Q2251.5 1521.07 2249.56 1519.33 Q2247.63 1517.6 2244.53 1517.6 Q2242.33 1517.6 2239.88 1518.36 Q2237.45 1519.13 2234.67 1520.68 L2234.67 1515.95 Q2237.5 1514.82 2239.95 1514.24 Q2242.4 1513.66 2244.44 1513.66 Q2249.81 1513.66 2253.01 1516.35 Q2256.2 1519.03 2256.2 1523.52 Q2256.2 1525.65 2255.39 1527.57 Q2254.6 1529.47 2252.5 1532.07 Q2251.92 1532.74 2248.82 1535.95 Q2245.71 1539.15 2240.07 1544.91 Z\" fill=\"#000000\" fill-rule=\"evenodd\" fill-opacity=\"1\" /><path clip-path=\"url(#clip860)\" d=\"M2276.2 1517.37 Q2272.59 1517.37 2270.76 1520.93 Q2268.95 1524.47 2268.95 1531.6 Q2268.95 1538.71 2270.76 1542.27 Q2272.59 1545.82 2276.2 1545.82 Q2279.83 1545.82 2281.64 1542.27 Q2283.47 1538.71 2283.47 1531.6 Q2283.47 1524.47 2281.64 1520.93 Q2279.83 1517.37 2276.2 1517.37 M2276.2 1513.66 Q2282.01 1513.66 2285.07 1518.27 Q2288.14 1522.85 2288.14 1531.6 Q2288.14 1540.33 2285.07 1544.94 Q2282.01 1549.52 2276.2 1549.52 Q2270.39 1549.52 2267.31 1544.94 Q2264.26 1540.33 2264.26 1531.6 Q2264.26 1522.85 2267.31 1518.27 Q2270.39 1513.66 2276.2 1513.66 Z\" fill=\"#000000\" fill-rule=\"evenodd\" fill-opacity=\"1\" /><path clip-path=\"url(#clip860)\" d=\"M2306.36 1517.37 Q2302.75 1517.37 2300.92 1520.93 Q2299.12 1524.47 2299.12 1531.6 Q2299.12 1538.71 2300.92 1542.27 Q2302.75 1545.82 2306.36 1545.82 Q2310 1545.82 2311.8 1542.27 Q2313.63 1538.71 2313.63 1531.6 Q2313.63 1524.47 2311.8 1520.93 Q2310 1517.37 2306.36 1517.37 M2306.36 1513.66 Q2312.17 1513.66 2315.23 1518.27 Q2318.31 1522.85 2318.31 1531.6 Q2318.31 1540.33 2315.23 1544.94 Q2312.17 1549.52 2306.36 1549.52 Q2300.55 1549.52 2297.47 1544.94 Q2294.42 1540.33 2294.42 1531.6 Q2294.42 1522.85 2297.47 1518.27 Q2300.55 1513.66 2306.36 1513.66 Z\" fill=\"#000000\" fill-rule=\"evenodd\" fill-opacity=\"1\" /><path clip-path=\"url(#clip860)\" d=\"M2336.52 1517.37 Q2332.91 1517.37 2331.08 1520.93 Q2329.28 1524.47 2329.28 1531.6 Q2329.28 1538.71 2331.08 1542.27 Q2332.91 1545.82 2336.52 1545.82 Q2340.16 1545.82 2341.96 1542.27 Q2343.79 1538.71 2343.79 1531.6 Q2343.79 1524.47 2341.96 1520.93 Q2340.16 1517.37 2336.52 1517.37 M2336.52 1513.66 Q2342.33 1513.66 2345.39 1518.27 Q2348.47 1522.85 2348.47 1531.6 Q2348.47 1540.33 2345.39 1544.94 Q2342.33 1549.52 2336.52 1549.52 Q2330.71 1549.52 2327.63 1544.94 Q2324.58 1540.33 2324.58 1531.6 Q2324.58 1522.85 2327.63 1518.27 Q2330.71 1513.66 2336.52 1513.66 Z\" fill=\"#000000\" fill-rule=\"evenodd\" fill-opacity=\"1\" /><polyline clip-path=\"url(#clip862)\" style=\"stroke:#000000; stroke-linecap:round; stroke-linejoin:round; stroke-width:2; stroke-opacity:0.1; fill:none\" points=\"\n  186.76,1210.06 2352.76,1210.06 \n  \"/>\n<polyline clip-path=\"url(#clip862)\" style=\"stroke:#000000; stroke-linecap:round; stroke-linejoin:round; stroke-width:2; stroke-opacity:0.1; fill:none\" points=\"\n  186.76,917.838 2352.76,917.838 \n  \"/>\n<polyline clip-path=\"url(#clip862)\" style=\"stroke:#000000; stroke-linecap:round; stroke-linejoin:round; stroke-width:2; stroke-opacity:0.1; fill:none\" points=\"\n  186.76,625.618 2352.76,625.618 \n  \"/>\n<polyline clip-path=\"url(#clip862)\" style=\"stroke:#000000; stroke-linecap:round; stroke-linejoin:round; stroke-width:2; stroke-opacity:0.1; fill:none\" points=\"\n  186.76,333.399 2352.76,333.399 \n  \"/>\n<polyline clip-path=\"url(#clip860)\" style=\"stroke:#000000; stroke-linecap:round; stroke-linejoin:round; stroke-width:4; stroke-opacity:1; fill:none\" points=\"\n  186.76,1486.45 186.76,47.2441 \n  \"/>\n<polyline clip-path=\"url(#clip860)\" style=\"stroke:#000000; stroke-linecap:round; stroke-linejoin:round; stroke-width:4; stroke-opacity:1; fill:none\" points=\"\n  186.76,1210.06 205.658,1210.06 \n  \"/>\n<polyline clip-path=\"url(#clip860)\" style=\"stroke:#000000; stroke-linecap:round; stroke-linejoin:round; stroke-width:4; stroke-opacity:1; fill:none\" points=\"\n  186.76,917.838 205.658,917.838 \n  \"/>\n<polyline clip-path=\"url(#clip860)\" style=\"stroke:#000000; stroke-linecap:round; stroke-linejoin:round; stroke-width:4; stroke-opacity:1; fill:none\" points=\"\n  186.76,625.618 205.658,625.618 \n  \"/>\n<polyline clip-path=\"url(#clip860)\" style=\"stroke:#000000; stroke-linecap:round; stroke-linejoin:round; stroke-width:4; stroke-opacity:1; fill:none\" points=\"\n  186.76,333.399 205.658,333.399 \n  \"/>\n<path clip-path=\"url(#clip860)\" d=\"M63.5152 1195.86 Q59.9041 1195.86 58.0754 1199.42 Q56.2699 1202.96 56.2699 1210.09 Q56.2699 1217.2 58.0754 1220.76 Q59.9041 1224.3 63.5152 1224.3 Q67.1494 1224.3 68.955 1220.76 Q70.7837 1217.2 70.7837 1210.09 Q70.7837 1202.96 68.955 1199.42 Q67.1494 1195.86 63.5152 1195.86 M63.5152 1192.15 Q69.3254 1192.15 72.3809 1196.76 Q75.4596 1201.34 75.4596 1210.09 Q75.4596 1218.82 72.3809 1223.43 Q69.3254 1228.01 63.5152 1228.01 Q57.7051 1228.01 54.6264 1223.43 Q51.5708 1218.82 51.5708 1210.09 Q51.5708 1201.34 54.6264 1196.76 Q57.7051 1192.15 63.5152 1192.15 Z\" fill=\"#000000\" fill-rule=\"evenodd\" fill-opacity=\"1\" /><path clip-path=\"url(#clip860)\" d=\"M83.6771 1221.46 L88.5614 1221.46 L88.5614 1227.34 L83.6771 1227.34 L83.6771 1221.46 Z\" fill=\"#000000\" fill-rule=\"evenodd\" fill-opacity=\"1\" /><path clip-path=\"url(#clip860)\" d=\"M102.774 1223.4 L119.094 1223.4 L119.094 1227.34 L97.1493 1227.34 L97.1493 1223.4 Q99.8113 1220.65 104.395 1216.02 Q109.001 1211.37 110.182 1210.02 Q112.427 1207.5 113.307 1205.76 Q114.209 1204 114.209 1202.31 Q114.209 1199.56 112.265 1197.82 Q110.344 1196.09 107.242 1196.09 Q105.043 1196.09 102.589 1196.85 Q100.159 1197.62 97.3808 1199.17 L97.3808 1194.44 Q100.205 1193.31 102.659 1192.73 Q105.112 1192.15 107.149 1192.15 Q112.52 1192.15 115.714 1194.84 Q118.908 1197.52 118.908 1202.01 Q118.908 1204.14 118.098 1206.06 Q117.311 1207.96 115.205 1210.55 Q114.626 1211.23 111.524 1214.44 Q108.422 1217.64 102.774 1223.4 Z\" fill=\"#000000\" fill-rule=\"evenodd\" fill-opacity=\"1\" /><path clip-path=\"url(#clip860)\" d=\"M138.908 1210.93 Q135.575 1210.93 133.654 1212.71 Q131.756 1214.49 131.756 1217.62 Q131.756 1220.74 133.654 1222.52 Q135.575 1224.3 138.908 1224.3 Q142.242 1224.3 144.163 1222.52 Q146.084 1220.72 146.084 1217.62 Q146.084 1214.49 144.163 1212.71 Q142.265 1210.93 138.908 1210.93 M134.232 1208.93 Q131.223 1208.19 129.533 1206.13 Q127.867 1204.07 127.867 1201.11 Q127.867 1196.97 130.807 1194.56 Q133.769 1192.15 138.908 1192.15 Q144.07 1192.15 147.01 1194.56 Q149.95 1196.97 149.95 1201.11 Q149.95 1204.07 148.26 1206.13 Q146.593 1208.19 143.607 1208.93 Q146.987 1209.72 148.862 1212.01 Q150.76 1214.3 150.76 1217.62 Q150.76 1222.64 147.681 1225.32 Q144.626 1228.01 138.908 1228.01 Q133.191 1228.01 130.112 1225.32 Q127.057 1222.64 127.057 1217.62 Q127.057 1214.3 128.955 1212.01 Q130.853 1209.72 134.232 1208.93 M132.519 1201.55 Q132.519 1204.24 134.186 1205.74 Q135.876 1207.24 138.908 1207.24 Q141.918 1207.24 143.607 1205.74 Q145.32 1204.24 145.32 1201.55 Q145.32 1198.87 143.607 1197.36 Q141.918 1195.86 138.908 1195.86 Q135.876 1195.86 134.186 1197.36 Q132.519 1198.87 132.519 1201.55 Z\" fill=\"#000000\" fill-rule=\"evenodd\" fill-opacity=\"1\" /><path clip-path=\"url(#clip860)\" d=\"M63.4226 903.636 Q59.8115 903.636 57.9828 907.201 Q56.1773 910.743 56.1773 917.872 Q56.1773 924.979 57.9828 928.544 Q59.8115 932.085 63.4226 932.085 Q67.0569 932.085 68.8624 928.544 Q70.6911 924.979 70.6911 917.872 Q70.6911 910.743 68.8624 907.201 Q67.0569 903.636 63.4226 903.636 M63.4226 899.933 Q69.2328 899.933 72.2883 904.539 Q75.367 909.122 75.367 917.872 Q75.367 926.599 72.2883 931.206 Q69.2328 935.789 63.4226 935.789 Q57.6125 935.789 54.5338 931.206 Q51.4782 926.599 51.4782 917.872 Q51.4782 909.122 54.5338 904.539 Q57.6125 899.933 63.4226 899.933 Z\" fill=\"#000000\" fill-rule=\"evenodd\" fill-opacity=\"1\" /><path clip-path=\"url(#clip860)\" d=\"M83.5845 929.238 L88.4688 929.238 L88.4688 935.118 L83.5845 935.118 L83.5845 929.238 Z\" fill=\"#000000\" fill-rule=\"evenodd\" fill-opacity=\"1\" /><path clip-path=\"url(#clip860)\" d=\"M112.82 916.483 Q116.177 917.201 118.052 919.47 Q119.95 921.738 119.95 925.071 Q119.95 930.187 116.432 932.988 Q112.913 935.789 106.432 935.789 Q104.256 935.789 101.941 935.349 Q99.6493 934.932 97.1956 934.076 L97.1956 929.562 Q99.14 930.696 101.455 931.275 Q103.77 931.854 106.293 931.854 Q110.691 931.854 112.983 930.118 Q115.297 928.382 115.297 925.071 Q115.297 922.016 113.145 920.303 Q111.015 918.567 107.196 918.567 L103.168 918.567 L103.168 914.724 L107.381 914.724 Q110.83 914.724 112.658 913.359 Q114.487 911.97 114.487 909.377 Q114.487 906.715 112.589 905.303 Q110.714 903.868 107.196 903.868 Q105.274 903.868 103.075 904.284 Q100.876 904.701 98.2372 905.581 L98.2372 901.414 Q100.899 900.673 103.214 900.303 Q105.552 899.933 107.612 899.933 Q112.936 899.933 116.038 902.363 Q119.14 904.771 119.14 908.891 Q119.14 911.761 117.496 913.752 Q115.853 915.72 112.82 916.483 Z\" fill=\"#000000\" fill-rule=\"evenodd\" fill-opacity=\"1\" /><path clip-path=\"url(#clip860)\" d=\"M138.816 903.636 Q135.205 903.636 133.376 907.201 Q131.57 910.743 131.57 917.872 Q131.57 924.979 133.376 928.544 Q135.205 932.085 138.816 932.085 Q142.45 932.085 144.256 928.544 Q146.084 924.979 146.084 917.872 Q146.084 910.743 144.256 907.201 Q142.45 903.636 138.816 903.636 M138.816 899.933 Q144.626 899.933 147.681 904.539 Q150.76 909.122 150.76 917.872 Q150.76 926.599 147.681 931.206 Q144.626 935.789 138.816 935.789 Q133.006 935.789 129.927 931.206 Q126.871 926.599 126.871 917.872 Q126.871 909.122 129.927 904.539 Q133.006 899.933 138.816 899.933 Z\" fill=\"#000000\" fill-rule=\"evenodd\" fill-opacity=\"1\" /><path clip-path=\"url(#clip860)\" d=\"M65.0198 611.417 Q61.4087 611.417 59.58 614.982 Q57.7745 618.523 57.7745 625.653 Q57.7745 632.759 59.58 636.324 Q61.4087 639.866 65.0198 639.866 Q68.6541 639.866 70.4596 636.324 Q72.2883 632.759 72.2883 625.653 Q72.2883 618.523 70.4596 614.982 Q68.6541 611.417 65.0198 611.417 M65.0198 607.713 Q70.83 607.713 73.8855 612.32 Q76.9642 616.903 76.9642 625.653 Q76.9642 634.38 73.8855 638.986 Q70.83 643.569 65.0198 643.569 Q59.2097 643.569 56.131 638.986 Q53.0754 634.38 53.0754 625.653 Q53.0754 616.903 56.131 612.32 Q59.2097 607.713 65.0198 607.713 Z\" fill=\"#000000\" fill-rule=\"evenodd\" fill-opacity=\"1\" /><path clip-path=\"url(#clip860)\" d=\"M85.1818 637.019 L90.066 637.019 L90.066 642.898 L85.1818 642.898 L85.1818 637.019 Z\" fill=\"#000000\" fill-rule=\"evenodd\" fill-opacity=\"1\" /><path clip-path=\"url(#clip860)\" d=\"M114.418 624.264 Q117.774 624.982 119.649 627.25 Q121.547 629.519 121.547 632.852 Q121.547 637.968 118.029 640.769 Q114.51 643.569 108.029 643.569 Q105.853 643.569 103.538 643.13 Q101.246 642.713 98.7928 641.856 L98.7928 637.343 Q100.737 638.477 103.052 639.056 Q105.367 639.634 107.89 639.634 Q112.288 639.634 114.58 637.898 Q116.895 636.162 116.895 632.852 Q116.895 629.796 114.742 628.083 Q112.612 626.347 108.793 626.347 L104.765 626.347 L104.765 622.505 L108.978 622.505 Q112.427 622.505 114.256 621.139 Q116.084 619.75 116.084 617.158 Q116.084 614.496 114.186 613.083 Q112.311 611.648 108.793 611.648 Q106.871 611.648 104.672 612.065 Q102.473 612.482 99.8345 613.361 L99.8345 609.195 Q102.496 608.454 104.811 608.084 Q107.149 607.713 109.209 607.713 Q114.533 607.713 117.635 610.144 Q120.737 612.551 120.737 616.671 Q120.737 619.542 119.094 621.533 Q117.45 623.5 114.418 624.264 Z\" fill=\"#000000\" fill-rule=\"evenodd\" fill-opacity=\"1\" /><path clip-path=\"url(#clip860)\" d=\"M134.441 638.963 L150.76 638.963 L150.76 642.898 L128.816 642.898 L128.816 638.963 Q131.478 636.208 136.061 631.579 Q140.668 626.926 141.848 625.583 Q144.093 623.06 144.973 621.324 Q145.876 619.565 145.876 617.875 Q145.876 615.121 143.931 613.384 Q142.01 611.648 138.908 611.648 Q136.709 611.648 134.256 612.412 Q131.825 613.176 129.047 614.727 L129.047 610.005 Q131.871 608.871 134.325 608.292 Q136.779 607.713 138.816 607.713 Q144.186 607.713 147.38 610.398 Q150.575 613.083 150.575 617.574 Q150.575 619.704 149.765 621.625 Q148.978 623.523 146.871 626.116 Q146.293 626.787 143.191 630.005 Q140.089 633.199 134.441 638.963 Z\" fill=\"#000000\" fill-rule=\"evenodd\" fill-opacity=\"1\" /><path clip-path=\"url(#clip860)\" d=\"M62.9365 319.197 Q59.3254 319.197 57.4967 322.762 Q55.6912 326.304 55.6912 333.433 Q55.6912 340.54 57.4967 344.105 Q59.3254 347.646 62.9365 347.646 Q66.5707 347.646 68.3763 344.105 Q70.205 340.54 70.205 333.433 Q70.205 326.304 68.3763 322.762 Q66.5707 319.197 62.9365 319.197 M62.9365 315.494 Q68.7467 315.494 71.8022 320.1 Q74.8809 324.683 74.8809 333.433 Q74.8809 342.16 71.8022 346.767 Q68.7467 351.35 62.9365 351.35 Q57.1264 351.35 54.0477 346.767 Q50.9921 342.16 50.9921 333.433 Q50.9921 324.683 54.0477 320.1 Q57.1264 315.494 62.9365 315.494 Z\" fill=\"#000000\" fill-rule=\"evenodd\" fill-opacity=\"1\" /><path clip-path=\"url(#clip860)\" d=\"M83.0984 344.799 L87.9827 344.799 L87.9827 350.679 L83.0984 350.679 L83.0984 344.799 Z\" fill=\"#000000\" fill-rule=\"evenodd\" fill-opacity=\"1\" /><path clip-path=\"url(#clip860)\" d=\"M112.334 332.044 Q115.691 332.762 117.566 335.031 Q119.464 337.299 119.464 340.632 Q119.464 345.748 115.945 348.549 Q112.427 351.35 105.946 351.35 Q103.77 351.35 101.455 350.91 Q99.1632 350.493 96.7095 349.637 L96.7095 345.123 Q98.6539 346.257 100.969 346.836 Q103.284 347.415 105.807 347.415 Q110.205 347.415 112.496 345.679 Q114.811 343.943 114.811 340.632 Q114.811 337.577 112.658 335.864 Q110.529 334.128 106.709 334.128 L102.682 334.128 L102.682 330.285 L106.895 330.285 Q110.344 330.285 112.172 328.919 Q114.001 327.531 114.001 324.938 Q114.001 322.276 112.103 320.864 Q110.228 319.429 106.709 319.429 Q104.788 319.429 102.589 319.845 Q100.39 320.262 97.7511 321.142 L97.7511 316.975 Q100.413 316.234 102.728 315.864 Q105.066 315.494 107.126 315.494 Q112.45 315.494 115.552 317.924 Q118.654 320.332 118.654 324.452 Q118.654 327.322 117.01 329.313 Q115.367 331.281 112.334 332.044 Z\" fill=\"#000000\" fill-rule=\"evenodd\" fill-opacity=\"1\" /><path clip-path=\"url(#clip860)\" d=\"M141.177 320.193 L129.371 338.642 L141.177 338.642 L141.177 320.193 M139.95 316.119 L145.83 316.119 L145.83 338.642 L150.76 338.642 L150.76 342.531 L145.83 342.531 L145.83 350.679 L141.177 350.679 L141.177 342.531 L125.575 342.531 L125.575 338.017 L139.95 316.119 Z\" fill=\"#000000\" fill-rule=\"evenodd\" fill-opacity=\"1\" /><polyline clip-path=\"url(#clip862)\" style=\"stroke:#009af9; stroke-linecap:round; stroke-linejoin:round; stroke-width:4; stroke-opacity:1; fill:none\" points=\"\n  248.062,87.9763 249.084,93.52 250.106,99.0346 251.128,104.52 252.151,109.977 253.173,115.405 254.195,120.805 255.217,126.176 256.24,131.519 257.262,136.835 \n  258.284,142.122 259.306,147.382 260.328,152.615 261.351,157.82 262.373,162.998 263.395,168.149 264.417,173.274 265.439,178.371 266.462,183.443 267.484,188.488 \n  268.506,193.507 269.528,198.5 270.55,203.467 271.573,208.408 272.595,213.324 273.617,218.215 274.639,223.08 275.661,227.92 276.684,232.736 277.706,237.527 \n  278.728,242.293 279.75,247.034 280.773,251.752 281.795,256.445 282.817,261.114 283.839,265.759 284.861,270.381 285.884,274.979 286.906,279.553 287.928,284.105 \n  288.95,288.633 289.972,293.138 290.995,297.62 292.017,302.08 293.039,306.517 294.061,310.931 295.083,315.323 296.106,319.693 297.128,324.041 298.15,328.367 \n  299.172,332.671 300.194,336.953 301.217,341.214 302.239,345.453 303.261,349.671 304.283,353.868 305.305,358.044 306.328,362.199 307.35,366.333 308.372,370.447 \n  309.394,374.54 310.417,378.613 311.439,382.665 312.461,386.697 313.483,390.709 314.505,394.701 315.528,398.673 316.55,402.626 317.572,406.559 318.594,410.472 \n  319.616,414.367 320.639,418.241 321.661,422.097 322.683,425.934 323.705,429.752 324.727,433.551 325.75,437.331 326.772,441.093 327.794,444.836 328.816,448.561 \n  329.838,452.268 330.861,455.957 331.883,459.627 332.905,463.28 333.927,466.914 334.949,470.532 335.972,474.131 336.994,477.713 338.016,481.277 339.038,484.825 \n  340.061,488.355 341.083,491.867 342.105,495.363 343.127,498.842 344.149,502.304 345.172,505.75 346.194,509.179 347.216,512.591 348.238,515.987 349.26,519.366 \n  350.283,522.73 351.305,526.077 352.327,529.408 353.349,532.723 354.371,536.022 355.394,539.306 356.416,542.574 357.438,545.826 358.46,549.063 359.482,552.284 \n  360.505,555.49 361.527,558.681 362.549,561.856 363.571,565.017 364.594,568.162 365.616,571.293 366.638,574.409 367.66,577.51 368.682,580.596 369.705,583.668 \n  370.727,586.726 371.749,589.769 372.771,592.798 373.793,595.812 374.816,598.813 375.838,601.799 376.86,604.771 377.882,607.73 378.904,610.674 379.927,613.605 \n  380.949,616.522 381.971,619.426 382.993,622.316 384.015,625.193 385.038,628.056 386.06,630.906 387.082,633.743 388.104,636.567 389.126,639.377 390.149,642.175 \n  391.171,644.96 392.193,647.732 393.215,650.491 394.238,653.237 395.26,655.971 396.282,658.692 397.304,661.401 398.326,664.097 399.349,666.781 400.371,669.452 \n  401.393,672.112 402.415,674.759 403.437,677.394 404.46,680.018 405.482,682.629 406.504,685.228 407.526,687.816 408.548,690.392 409.571,692.956 410.593,695.508 \n  411.615,698.049 412.637,700.579 413.659,703.097 414.682,705.604 415.704,708.099 416.726,710.583 417.748,713.056 418.77,715.518 419.793,717.969 420.815,720.409 \n  421.837,722.838 422.859,725.256 423.882,727.663 424.904,730.06 425.926,732.445 426.948,734.82 427.97,737.185 428.993,739.539 430.015,741.883 431.037,744.216 \n  432.059,746.539 433.081,748.851 434.104,751.154 435.126,753.446 436.148,755.728 437.17,758 438.192,760.262 439.215,762.514 440.237,764.756 441.259,766.988 \n  442.281,769.21 443.303,771.423 444.326,773.626 445.348,775.819 446.37,778.003 447.392,780.177 448.414,782.342 449.437,784.497 450.459,786.643 451.481,788.779 \n  452.503,790.907 453.526,793.025 454.548,795.134 455.57,797.233 456.592,799.324 457.614,801.405 458.637,803.478 459.659,805.542 460.681,807.596 461.703,809.642 \n  462.725,811.679 463.748,813.708 464.77,815.727 465.792,817.738 466.814,819.74 467.836,821.734 468.859,823.719 469.881,825.696 470.903,827.664 471.925,829.624 \n  472.947,831.576 473.97,833.519 474.992,835.454 476.014,837.381 477.036,839.299 478.059,841.21 479.081,843.112 480.103,845.007 481.125,846.893 482.147,848.771 \n  483.17,850.642 484.192,852.504 485.214,854.359 486.236,856.206 487.258,858.045 488.281,859.877 489.303,861.7 490.325,863.517 491.347,865.325 492.369,867.126 \n  493.392,868.92 494.414,870.706 495.436,872.484 496.458,874.255 497.48,876.019 498.503,877.775 499.525,879.525 500.547,881.266 501.569,883.001 502.591,884.729 \n  503.614,886.449 504.636,888.162 505.658,889.869 506.68,891.568 507.703,893.26 508.725,894.945 509.747,896.623 510.769,898.295 511.791,899.959 512.814,901.617 \n  513.836,903.268 514.858,904.912 515.88,906.55 516.902,908.181 517.925,909.805 518.947,911.422 519.969,913.033 520.991,914.638 522.013,916.236 523.036,917.827 \n  524.058,919.412 525.08,920.991 526.102,922.563 527.124,924.129 528.147,925.688 529.169,927.241 530.191,928.788 531.213,930.329 532.235,931.864 533.258,933.392 \n  534.28,934.914 535.302,936.43 536.324,937.941 537.347,939.445 538.369,940.943 539.391,942.435 540.413,943.921 541.435,945.401 542.458,946.875 543.48,948.344 \n  544.502,949.806 545.524,951.263 546.546,952.714 547.569,954.16 548.591,955.599 549.613,957.033 550.635,958.461 551.657,959.884 552.68,961.301 553.702,962.712 \n  554.724,964.118 555.746,965.518 556.768,966.913 557.791,968.303 558.813,969.687 559.835,971.065 560.857,972.438 561.879,973.806 562.902,975.168 563.924,976.526 \n  564.946,977.877 565.968,979.224 566.991,980.565 568.013,981.901 569.035,983.232 570.057,984.558 571.079,985.879 572.102,987.194 573.124,988.505 574.146,989.81 \n  575.168,991.111 576.19,992.406 577.213,993.696 578.235,994.982 579.257,996.262 580.279,997.538 581.301,998.809 582.324,1000.07 583.346,1001.34 584.368,1002.59 \n  585.39,1003.84 586.412,1005.09 587.435,1006.33 588.457,1007.57 589.479,1008.8 590.501,1010.03 591.524,1011.25 592.546,1012.47 593.568,1013.68 594.59,1014.89 \n  595.612,1016.1 596.635,1017.3 597.657,1018.49 598.679,1019.68 599.701,1020.87 600.723,1022.05 601.746,1023.23 602.768,1024.4 603.79,1025.57 604.812,1026.74 \n  605.834,1027.9 606.857,1029.05 607.879,1030.21 608.901,1031.35 609.923,1032.5 610.945,1033.63 611.968,1034.77 612.99,1035.9 614.012,1037.02 615.034,1038.15 \n  616.056,1039.26 617.079,1040.38 618.101,1041.49 619.123,1042.59 620.145,1043.69 621.168,1044.79 622.19,1045.88 623.212,1046.97 624.234,1048.06 625.256,1049.14 \n  626.279,1050.22 627.301,1051.29 628.323,1052.36 629.345,1053.42 630.367,1054.48 631.39,1055.54 632.412,1056.6 633.434,1057.65 634.456,1058.69 635.478,1059.73 \n  636.501,1060.77 637.523,1061.81 638.545,1062.84 639.567,1063.86 640.589,1064.89 641.612,1065.91 642.634,1066.92 643.656,1067.94 644.678,1068.95 645.7,1069.95 \n  646.723,1070.95 647.745,1071.95 648.767,1072.94 649.789,1073.93 650.812,1074.92 651.834,1075.91 652.856,1076.89 653.878,1077.86 654.9,1078.83 655.923,1079.8 \n  656.945,1080.77 657.967,1081.73 658.989,1082.69 660.011,1083.65 661.034,1084.6 662.056,1085.55 663.078,1086.5 664.1,1087.44 665.122,1088.38 666.145,1089.31 \n  667.167,1090.25 668.189,1091.17 669.211,1092.1 670.233,1093.02 671.256,1093.94 672.278,1094.86 673.3,1095.77 674.322,1096.68 675.345,1097.59 676.367,1098.49 \n  677.389,1099.39 678.411,1100.29 679.433,1101.18 680.456,1102.07 681.478,1102.96 682.5,1103.84 683.522,1104.73 684.544,1105.6 685.567,1106.48 686.589,1107.35 \n  687.611,1108.22 688.633,1109.09 689.655,1109.95 690.678,1110.81 691.7,1111.67 692.722,1112.52 693.744,1113.37 694.766,1114.22 695.789,1115.07 696.811,1115.91 \n  697.833,1116.75 698.855,1117.59 699.877,1118.42 700.9,1119.25 701.922,1120.08 702.944,1120.91 703.966,1121.73 704.989,1122.55 706.011,1123.37 707.033,1124.18 \n  708.055,1124.99 709.077,1125.8 710.1,1126.61 711.122,1127.41 712.144,1128.21 713.166,1129.01 714.188,1129.8 715.211,1130.6 716.233,1131.39 717.255,1132.17 \n  718.277,1132.96 719.299,1133.74 720.322,1134.52 721.344,1135.3 722.366,1136.07 723.388,1136.84 724.41,1137.61 725.433,1138.38 726.455,1139.14 727.477,1139.9 \n  728.499,1140.66 729.521,1141.42 730.544,1142.17 731.566,1142.92 732.588,1143.67 733.61,1144.42 734.633,1145.16 735.655,1145.9 736.677,1146.64 737.699,1147.38 \n  738.721,1148.11 739.744,1148.84 740.766,1149.57 741.788,1150.3 742.81,1151.02 743.832,1151.74 744.855,1152.46 745.877,1153.18 746.899,1153.89 747.921,1154.61 \n  748.943,1155.32 749.966,1156.02 750.988,1156.73 752.01,1157.43 753.032,1158.13 754.054,1158.83 755.077,1159.53 756.099,1160.22 757.121,1160.91 758.143,1161.6 \n  759.165,1162.29 760.188,1162.97 761.21,1163.66 762.232,1164.34 763.254,1165.02 764.277,1165.69 765.299,1166.37 766.321,1167.04 767.343,1167.71 768.365,1168.38 \n  769.388,1169.04 770.41,1169.7 771.432,1170.37 772.454,1171.02 773.476,1171.68 774.499,1172.34 775.521,1172.99 776.543,1173.64 777.565,1174.29 778.587,1174.93 \n  779.61,1175.58 780.632,1176.22 781.654,1176.86 782.676,1177.5 783.698,1178.14 784.721,1178.77 785.743,1179.4 786.765,1180.03 787.787,1180.66 788.81,1181.29 \n  789.832,1181.91 790.854,1182.53 791.876,1183.15 792.898,1183.77 793.921,1184.39 794.943,1185 795.965,1185.62 796.987,1186.23 798.009,1186.83 799.032,1187.44 \n  800.054,1188.05 801.076,1188.65 802.098,1189.25 803.12,1189.85 804.143,1190.45 805.165,1191.04 806.187,1191.64 807.209,1192.23 808.231,1192.82 809.254,1193.41 \n  810.276,1193.99 811.298,1194.58 812.32,1195.16 813.342,1195.74 814.365,1196.32 815.387,1196.9 816.409,1197.47 817.431,1198.05 818.454,1198.62 819.476,1199.19 \n  820.498,1199.76 821.52,1200.33 822.542,1200.89 823.565,1201.45 824.587,1202.02 825.609,1202.58 826.631,1203.13 827.653,1203.69 828.676,1204.25 829.698,1204.8 \n  830.72,1205.35 831.742,1205.9 832.764,1206.45 833.787,1206.99 834.809,1207.54 835.831,1208.08 836.853,1208.62 837.875,1209.16 838.898,1209.7 839.92,1210.24 \n  840.942,1210.77 841.964,1211.31 842.986,1211.84 844.009,1212.37 845.031,1212.9 846.053,1213.42 847.075,1213.95 848.098,1214.47 849.12,1215 850.142,1215.52 \n  851.164,1216.04 852.186,1216.55 853.209,1217.07 854.231,1217.58 855.253,1218.1 856.275,1218.61 857.297,1219.12 858.32,1219.63 859.342,1220.13 860.364,1220.64 \n  861.386,1221.14 862.408,1221.65 863.431,1222.15 864.453,1222.65 865.475,1223.15 866.497,1223.64 867.519,1224.14 868.542,1224.63 869.564,1225.12 870.586,1225.61 \n  871.608,1226.1 872.63,1226.59 873.653,1227.08 874.675,1227.56 875.697,1228.05 876.719,1228.53 877.742,1229.01 878.764,1229.49 879.786,1229.97 880.808,1230.44 \n  881.83,1230.92 882.853,1231.39 883.875,1231.87 884.897,1232.34 885.919,1232.81 886.941,1233.27 887.964,1233.74 888.986,1234.21 890.008,1234.67 891.03,1235.13 \n  892.052,1235.6 893.075,1236.06 894.097,1236.52 895.119,1236.97 896.141,1237.43 897.163,1237.89 898.186,1238.34 899.208,1238.79 900.23,1239.24 901.252,1239.69 \n  902.275,1240.14 903.297,1240.59 904.319,1241.04 905.341,1241.48 906.363,1241.92 907.386,1242.37 908.408,1242.81 909.43,1243.25 910.452,1243.69 911.474,1244.12 \n  912.497,1244.56 913.519,1244.99 914.541,1245.43 915.563,1245.86 916.585,1246.29 917.608,1246.72 918.63,1247.15 919.652,1247.58 920.674,1248 921.696,1248.43 \n  922.719,1248.85 923.741,1249.28 924.763,1249.7 925.785,1250.12 926.807,1250.54 927.83,1250.96 928.852,1251.37 929.874,1251.79 930.896,1252.2 931.919,1252.62 \n  932.941,1253.03 933.963,1253.44 934.985,1253.85 936.007,1254.26 937.03,1254.67 938.052,1255.08 939.074,1255.48 940.096,1255.89 941.118,1256.29 942.141,1256.69 \n  943.163,1257.09 944.185,1257.49 945.207,1257.89 946.229,1258.29 947.252,1258.69 948.274,1259.08 949.296,1259.48 950.318,1259.87 951.34,1260.26 952.363,1260.65 \n  953.385,1261.04 954.407,1261.43 955.429,1261.82 956.451,1262.21 957.474,1262.6 958.496,1262.98 959.518,1263.36 960.54,1263.75 961.563,1264.13 962.585,1264.51 \n  963.607,1264.89 964.629,1265.27 965.651,1265.65 966.674,1266.02 967.696,1266.4 968.718,1266.77 969.74,1267.15 970.762,1267.52 971.785,1267.89 972.807,1268.26 \n  973.829,1268.63 974.851,1269 975.873,1269.37 976.896,1269.74 977.918,1270.1 978.94,1270.47 979.962,1270.83 980.984,1271.2 982.007,1271.56 983.029,1271.92 \n  984.051,1272.28 985.073,1272.64 986.096,1273 987.118,1273.35 988.14,1273.71 989.162,1274.07 990.184,1274.42 991.207,1274.77 992.229,1275.13 993.251,1275.48 \n  994.273,1275.83 995.295,1276.18 996.318,1276.53 997.34,1276.88 998.362,1277.22 999.384,1277.57 1000.41,1277.91 1001.43,1278.26 1002.45,1278.6 1003.47,1278.95 \n  1004.5,1279.29 1005.52,1279.63 1006.54,1279.97 1007.56,1280.31 1008.58,1280.65 1009.61,1280.98 1010.63,1281.32 1011.65,1281.65 1012.67,1281.99 1013.7,1282.32 \n  1014.72,1282.66 1015.74,1282.99 1016.76,1283.32 1017.78,1283.65 1018.81,1283.98 1019.83,1284.31 1020.85,1284.64 1021.87,1284.96 1022.89,1285.29 1023.92,1285.62 \n  1024.94,1285.94 1025.96,1286.26 1026.98,1286.59 1028.01,1286.91 1029.03,1287.23 1030.05,1287.55 1031.07,1287.87 1032.09,1288.19 1033.12,1288.51 1034.14,1288.83 \n  1035.16,1289.14 1036.18,1289.46 1037.21,1289.77 1038.23,1290.09 1039.25,1290.4 1040.27,1290.71 1041.29,1291.02 1042.32,1291.34 1043.34,1291.65 1044.36,1291.95 \n  1045.38,1292.26 1046.41,1292.57 1047.43,1292.88 1048.45,1293.18 1049.47,1293.49 1050.49,1293.8 1051.52,1294.1 1052.54,1294.4 1053.56,1294.71 1054.58,1295.01 \n  1055.61,1295.31 1056.63,1295.61 1057.65,1295.91 1058.67,1296.21 1059.69,1296.51 1060.72,1296.8 1061.74,1297.1 1062.76,1297.4 1063.78,1297.69 1064.81,1297.98 \n  1065.83,1298.28 1066.85,1298.57 1067.87,1298.86 1068.89,1299.16 1069.92,1299.45 1070.94,1299.74 1071.96,1300.03 1072.98,1300.31 1074.01,1300.6 1075.03,1300.89 \n  1076.05,1301.18 1077.07,1301.46 1078.09,1301.75 1079.12,1302.03 1080.14,1302.32 1081.16,1302.6 1082.18,1302.88 1083.21,1303.16 1084.23,1303.45 1085.25,1303.73 \n  1086.27,1304.01 1087.29,1304.29 1088.32,1304.56 1089.34,1304.84 1090.36,1305.12 1091.38,1305.4 1092.41,1305.67 1093.43,1305.95 1094.45,1306.22 1095.47,1306.49 \n  1096.49,1306.77 1097.52,1307.04 1098.54,1307.31 1099.56,1307.58 1100.58,1307.85 1101.6,1308.12 1102.63,1308.39 1103.65,1308.66 1104.67,1308.93 1105.69,1309.2 \n  1106.72,1309.46 1107.74,1309.73 1108.76,1310 1109.78,1310.26 1110.8,1310.53 1111.83,1310.79 1112.85,1311.05 1113.87,1311.32 1114.89,1311.58 1115.92,1311.84 \n  1116.94,1312.1 1117.96,1312.36 1118.98,1312.62 1120,1312.88 1121.03,1313.14 1122.05,1313.39 1123.07,1313.65 1124.09,1313.91 1125.12,1314.16 1126.14,1314.42 \n  1127.16,1314.67 1128.18,1314.93 1129.2,1315.18 1130.23,1315.43 1131.25,1315.68 1132.27,1315.94 1133.29,1316.19 1134.32,1316.44 1135.34,1316.69 1136.36,1316.94 \n  1137.38,1317.19 1138.4,1317.44 1139.43,1317.68 1140.45,1317.93 1141.47,1318.18 1142.49,1318.42 1143.52,1318.67 1144.54,1318.91 1145.56,1319.16 1146.58,1319.4 \n  1147.6,1319.64 1148.63,1319.89 1149.65,1320.13 1150.67,1320.37 1151.69,1320.61 1152.72,1320.85 1153.74,1321.09 1154.76,1321.33 1155.78,1321.57 1156.8,1321.81 \n  1157.83,1322.05 1158.85,1322.28 1159.87,1322.52 1160.89,1322.76 1161.92,1322.99 1162.94,1323.23 1163.96,1323.46 1164.98,1323.7 1166,1323.93 1167.03,1324.16 \n  1168.05,1324.4 1169.07,1324.63 1170.09,1324.86 1171.12,1325.09 1172.14,1325.32 1173.16,1325.55 1174.18,1325.78 1175.2,1326.01 1176.23,1326.24 1177.25,1326.47 \n  1178.27,1326.69 1179.29,1326.92 1180.31,1327.15 1181.34,1327.37 1182.36,1327.6 1183.38,1327.82 1184.4,1328.05 1185.43,1328.27 1186.45,1328.5 1187.47,1328.72 \n  1188.49,1328.94 1189.51,1329.16 1190.54,1329.39 1191.56,1329.61 1192.58,1329.83 1193.6,1330.05 1194.63,1330.27 1195.65,1330.49 1196.67,1330.71 1197.69,1330.92 \n  1198.71,1331.14 1199.74,1331.36 1200.76,1331.58 1201.78,1331.79 1202.8,1332.01 1203.83,1332.22 1204.85,1332.44 1205.87,1332.65 1206.89,1332.87 1207.91,1333.08 \n  1208.94,1333.3 1209.96,1333.51 1210.98,1333.72 1212,1333.93 1213.03,1334.14 1214.05,1334.35 1215.07,1334.57 1216.09,1334.78 1217.11,1334.98 1218.14,1335.19 \n  1219.16,1335.4 1220.18,1335.61 1221.2,1335.82 1222.23,1336.03 1223.25,1336.23 1224.27,1336.44 1225.29,1336.65 1226.31,1336.85 1227.34,1337.06 1228.36,1337.26 \n  1229.38,1337.47 1230.4,1337.67 1231.43,1337.87 1232.45,1338.08 1233.47,1338.28 1234.49,1338.48 1235.51,1338.68 1236.54,1338.89 1237.56,1339.09 1238.58,1339.29 \n  1239.6,1339.49 1240.63,1339.69 1241.65,1339.89 1242.67,1340.09 1243.69,1340.28 1244.71,1340.48 1245.74,1340.68 1246.76,1340.88 1247.78,1341.07 1248.8,1341.27 \n  1249.82,1341.47 1250.85,1341.66 1251.87,1341.86 1252.89,1342.05 1253.91,1342.25 1254.94,1342.44 1255.96,1342.64 1256.98,1342.83 1258,1343.02 1259.02,1343.21 \n  1260.05,1343.41 1261.07,1343.6 1262.09,1343.79 1263.11,1343.98 1264.14,1344.17 1265.16,1344.36 1266.18,1344.55 1267.2,1344.74 1268.22,1344.93 1269.25,1345.12 \n  1270.27,1345.31 1271.29,1345.5 1272.31,1345.68 1273.34,1345.87 1274.36,1346.06 1275.38,1346.24 1276.4,1346.43 1277.42,1346.62 1278.45,1346.8 1279.47,1346.99 \n  1280.49,1347.17 1281.51,1347.36 1282.54,1347.54 1283.56,1347.72 1284.58,1347.91 1285.6,1348.09 1286.62,1348.27 1287.65,1348.45 1288.67,1348.64 1289.69,1348.82 \n  1290.71,1349 1291.74,1349.18 1292.76,1349.36 1293.78,1349.54 1294.8,1349.72 1295.82,1349.9 1296.85,1350.08 1297.87,1350.26 1298.89,1350.44 1299.91,1350.61 \n  1300.94,1350.79 1301.96,1350.97 1302.98,1351.14 1304,1351.32 1305.02,1351.5 1306.05,1351.67 1307.07,1351.85 1308.09,1352.02 1309.11,1352.2 1310.14,1352.37 \n  1311.16,1352.55 1312.18,1352.72 1313.2,1352.9 1314.22,1353.07 1315.25,1353.24 1316.27,1353.41 1317.29,1353.59 1318.31,1353.76 1319.34,1353.93 1320.36,1354.1 \n  1321.38,1354.27 1322.4,1354.44 1323.42,1354.61 1324.45,1354.78 1325.47,1354.95 1326.49,1355.12 1327.51,1355.29 1328.53,1355.46 1329.56,1355.63 1330.58,1355.8 \n  1331.6,1355.96 1332.62,1356.13 1333.65,1356.3 1334.67,1356.47 1335.69,1356.63 1336.71,1356.8 1337.73,1356.96 1338.76,1357.13 1339.78,1357.3 1340.8,1357.46 \n  1341.82,1357.63 1342.85,1357.79 1343.87,1357.95 1344.89,1358.12 1345.91,1358.28 1346.93,1358.44 1347.96,1358.61 1348.98,1358.77 1350,1358.93 1351.02,1359.09 \n  1352.05,1359.26 1353.07,1359.42 1354.09,1359.58 1355.11,1359.74 1356.13,1359.9 1357.16,1360.06 1358.18,1360.22 1359.2,1360.38 1360.22,1360.54 1361.25,1360.7 \n  1362.27,1360.86 1363.29,1361.02 1364.31,1361.17 1365.33,1361.33 1366.36,1361.49 1367.38,1361.65 1368.4,1361.8 1369.42,1361.96 1370.45,1362.12 1371.47,1362.27 \n  1372.49,1362.43 1373.51,1362.58 1374.53,1362.74 1375.56,1362.9 1376.58,1363.05 1377.6,1363.2 1378.62,1363.36 1379.65,1363.51 1380.67,1363.67 1381.69,1363.82 \n  1382.71,1363.97 1383.73,1364.13 1384.76,1364.28 1385.78,1364.43 1386.8,1364.58 1387.82,1364.74 1388.85,1364.89 1389.87,1365.04 1390.89,1365.19 1391.91,1365.34 \n  1392.93,1365.49 1393.96,1365.64 1394.98,1365.79 1396,1365.94 1397.02,1366.09 1398.05,1366.24 1399.07,1366.39 1400.09,1366.54 1401.11,1366.69 1402.13,1366.83 \n  1403.16,1366.98 1404.18,1367.13 1405.2,1367.28 1406.22,1367.43 1407.24,1367.57 1408.27,1367.72 1409.29,1367.87 1410.31,1368.01 1411.33,1368.16 1412.36,1368.3 \n  1413.38,1368.45 1414.4,1368.59 1415.42,1368.74 1416.44,1368.88 1417.47,1369.03 1418.49,1369.17 1419.51,1369.32 1420.53,1369.46 1421.56,1369.6 1422.58,1369.75 \n  1423.6,1369.89 1424.62,1370.03 1425.64,1370.18 1426.67,1370.32 1427.69,1370.46 1428.71,1370.6 1429.73,1370.74 1430.76,1370.88 1431.78,1371.03 1432.8,1371.17 \n  1433.82,1371.31 1434.84,1371.45 1435.87,1371.59 1436.89,1371.73 1437.91,1371.87 1438.93,1372.01 1439.96,1372.15 1440.98,1372.29 1442,1372.42 1443.02,1372.56 \n  1444.04,1372.7 1445.07,1372.84 1446.09,1372.98 1447.11,1373.12 1448.13,1373.25 1449.16,1373.39 1450.18,1373.53 1451.2,1373.66 1452.22,1373.8 1453.24,1373.94 \n  1454.27,1374.07 1455.29,1374.21 1456.31,1374.34 1457.33,1374.48 1458.36,1374.61 1459.38,1374.75 1460.4,1374.88 1461.42,1375.02 1462.44,1375.15 1463.47,1375.29 \n  1464.49,1375.42 1465.51,1375.56 1466.53,1375.69 1467.56,1375.82 1468.58,1375.96 1469.6,1376.09 1470.62,1376.22 1471.64,1376.35 1472.67,1376.49 1473.69,1376.62 \n  1474.71,1376.75 1475.73,1376.88 1476.75,1377.01 1477.78,1377.14 1478.8,1377.28 1479.82,1377.41 1480.84,1377.54 1481.87,1377.67 1482.89,1377.8 1483.91,1377.93 \n  1484.93,1378.06 1485.95,1378.19 1486.98,1378.32 1488,1378.45 1489.02,1378.57 1490.04,1378.7 1491.07,1378.83 1492.09,1378.96 1493.11,1379.09 1494.13,1379.22 \n  1495.15,1379.34 1496.18,1379.47 1497.2,1379.6 1498.22,1379.73 1499.24,1379.85 1500.27,1379.98 1501.29,1380.11 1502.31,1380.23 1503.33,1380.36 1504.35,1380.49 \n  1505.38,1380.61 1506.4,1380.74 1507.42,1380.86 1508.44,1380.99 1509.47,1381.11 1510.49,1381.24 1511.51,1381.36 1512.53,1381.49 1513.55,1381.61 1514.58,1381.74 \n  1515.6,1381.86 1516.62,1381.98 1517.64,1382.11 1518.67,1382.23 1519.69,1382.35 1520.71,1382.48 1521.73,1382.6 1522.75,1382.72 1523.78,1382.85 1524.8,1382.97 \n  1525.82,1383.09 1526.84,1383.21 1527.87,1383.33 1528.89,1383.46 1529.91,1383.58 1530.93,1383.7 1531.95,1383.82 1532.98,1383.94 1534,1384.06 1535.02,1384.18 \n  1536.04,1384.3 1537.07,1384.42 1538.09,1384.54 1539.11,1384.66 1540.13,1384.78 1541.15,1384.9 1542.18,1385.02 1543.2,1385.14 1544.22,1385.26 1545.24,1385.38 \n  1546.27,1385.5 1547.29,1385.61 1548.31,1385.73 1549.33,1385.85 1550.35,1385.97 1551.38,1386.09 1552.4,1386.2 1553.42,1386.32 1554.44,1386.44 1555.46,1386.56 \n  1556.49,1386.67 1557.51,1386.79 1558.53,1386.91 1559.55,1387.02 1560.58,1387.14 1561.6,1387.26 1562.62,1387.37 1563.64,1387.49 1564.66,1387.6 1565.69,1387.72 \n  1566.71,1387.83 1567.73,1387.95 1568.75,1388.06 1569.78,1388.18 1570.8,1388.29 1571.82,1388.41 1572.84,1388.52 1573.86,1388.64 1574.89,1388.75 1575.91,1388.86 \n  1576.93,1388.98 1577.95,1389.09 1578.98,1389.21 1580,1389.32 1581.02,1389.43 1582.04,1389.54 1583.06,1389.66 1584.09,1389.77 1585.11,1389.88 1586.13,1389.99 \n  1587.15,1390.11 1588.18,1390.22 1589.2,1390.33 1590.22,1390.44 1591.24,1390.55 1592.26,1390.67 1593.29,1390.78 1594.31,1390.89 1595.33,1391 1596.35,1391.11 \n  1597.38,1391.22 1598.4,1391.33 1599.42,1391.44 1600.44,1391.55 1601.46,1391.66 1602.49,1391.77 1603.51,1391.88 1604.53,1391.99 1605.55,1392.1 1606.58,1392.21 \n  1607.6,1392.32 1608.62,1392.43 1609.64,1392.54 1610.66,1392.65 1611.69,1392.75 1612.71,1392.86 1613.73,1392.97 1614.75,1393.08 1615.78,1393.19 1616.8,1393.3 \n  1617.82,1393.4 1618.84,1393.51 1619.86,1393.62 1620.89,1393.73 1621.91,1393.83 1622.93,1393.94 1623.95,1394.05 1624.98,1394.15 1626,1394.26 1627.02,1394.37 \n  1628.04,1394.47 1629.06,1394.58 1630.09,1394.69 1631.11,1394.79 1632.13,1394.9 1633.15,1395 1634.17,1395.11 1635.2,1395.21 1636.22,1395.32 1637.24,1395.42 \n  1638.26,1395.53 1639.29,1395.63 1640.31,1395.74 1641.33,1395.84 1642.35,1395.95 1643.37,1396.05 1644.4,1396.16 1645.42,1396.26 1646.44,1396.36 1647.46,1396.47 \n  1648.49,1396.57 1649.51,1396.68 1650.53,1396.78 1651.55,1396.88 1652.57,1396.99 1653.6,1397.09 1654.62,1397.19 1655.64,1397.29 1656.66,1397.4 1657.69,1397.5 \n  1658.71,1397.6 1659.73,1397.7 1660.75,1397.81 1661.77,1397.91 1662.8,1398.01 1663.82,1398.11 1664.84,1398.21 1665.86,1398.32 1666.89,1398.42 1667.91,1398.52 \n  1668.93,1398.62 1669.95,1398.72 1670.97,1398.82 1672,1398.92 1673.02,1399.02 1674.04,1399.12 1675.06,1399.22 1676.09,1399.32 1677.11,1399.42 1678.13,1399.53 \n  1679.15,1399.62 1680.17,1399.72 1681.2,1399.82 1682.22,1399.92 1683.24,1400.02 1684.26,1400.12 1685.29,1400.22 1686.31,1400.32 1687.33,1400.42 1688.35,1400.52 \n  1689.37,1400.62 1690.4,1400.72 1691.42,1400.82 1692.44,1400.91 1693.46,1401.01 1694.49,1401.11 1695.51,1401.21 1696.53,1401.31 1697.55,1401.4 1698.57,1401.5 \n  1699.6,1401.6 1700.62,1401.7 1701.64,1401.79 1702.66,1401.89 1703.68,1401.99 1704.71,1402.09 1705.73,1402.18 1706.75,1402.28 1707.77,1402.38 1708.8,1402.47 \n  1709.82,1402.57 1710.84,1402.67 1711.86,1402.76 1712.88,1402.86 1713.91,1402.95 1714.93,1403.05 1715.95,1403.15 1716.97,1403.24 1718,1403.34 1719.02,1403.43 \n  1720.04,1403.53 1721.06,1403.62 1722.08,1403.72 1723.11,1403.81 1724.13,1403.91 1725.15,1404 1726.17,1404.1 1727.2,1404.19 1728.22,1404.29 1729.24,1404.38 \n  1730.26,1404.48 1731.28,1404.57 1732.31,1404.67 1733.33,1404.76 1734.35,1404.85 1735.37,1404.95 1736.4,1405.04 1737.42,1405.13 1738.44,1405.23 1739.46,1405.32 \n  1740.48,1405.41 1741.51,1405.51 1742.53,1405.6 1743.55,1405.69 1744.57,1405.79 1745.6,1405.88 1746.62,1405.97 1747.64,1406.06 1748.66,1406.16 1749.68,1406.25 \n  1750.71,1406.34 1751.73,1406.43 1752.75,1406.53 1753.77,1406.62 1754.8,1406.71 1755.82,1406.8 1756.84,1406.89 1757.86,1406.99 1758.88,1407.08 1759.91,1407.17 \n  1760.93,1407.26 1761.95,1407.35 1762.97,1407.44 1764,1407.53 1765.02,1407.62 1766.04,1407.71 1767.06,1407.81 1768.08,1407.9 1769.11,1407.99 1770.13,1408.08 \n  1771.15,1408.17 1772.17,1408.26 1773.2,1408.35 1774.22,1408.44 1775.24,1408.53 1776.26,1408.62 1777.28,1408.71 1778.31,1408.8 1779.33,1408.89 1780.35,1408.98 \n  1781.37,1409.07 1782.39,1409.15 1783.42,1409.24 1784.44,1409.33 1785.46,1409.42 1786.48,1409.51 1787.51,1409.6 1788.53,1409.69 1789.55,1409.78 1790.57,1409.87 \n  1791.59,1409.95 1792.62,1410.04 1793.64,1410.13 1794.66,1410.22 1795.68,1410.31 1796.71,1410.4 1797.73,1410.48 1798.75,1410.57 1799.77,1410.66 1800.79,1410.75 \n  1801.82,1410.83 1802.84,1410.92 1803.86,1411.01 1804.88,1411.1 1805.91,1411.18 1806.93,1411.27 1807.95,1411.36 1808.97,1411.45 1809.99,1411.53 1811.02,1411.62 \n  1812.04,1411.71 1813.06,1411.79 1814.08,1411.88 1815.11,1411.97 1816.13,1412.05 1817.15,1412.14 1818.17,1412.22 1819.19,1412.31 1820.22,1412.4 1821.24,1412.48 \n  1822.26,1412.57 1823.28,1412.65 1824.31,1412.74 1825.33,1412.83 1826.35,1412.91 1827.37,1413 1828.39,1413.08 1829.42,1413.17 1830.44,1413.25 1831.46,1413.34 \n  1832.48,1413.42 1833.51,1413.51 1834.53,1413.59 1835.55,1413.68 1836.57,1413.76 1837.59,1413.85 1838.62,1413.93 1839.64,1414.02 1840.66,1414.1 1841.68,1414.18 \n  1842.71,1414.27 1843.73,1414.35 1844.75,1414.44 1845.77,1414.52 1846.79,1414.61 1847.82,1414.69 1848.84,1414.77 1849.86,1414.86 1850.88,1414.94 1851.91,1415.02 \n  1852.93,1415.11 1853.95,1415.19 1854.97,1415.27 1855.99,1415.36 1857.02,1415.44 1858.04,1415.52 1859.06,1415.61 1860.08,1415.69 1861.1,1415.77 1862.13,1415.86 \n  1863.15,1415.94 1864.17,1416.02 1865.19,1416.1 1866.22,1416.19 1867.24,1416.27 1868.26,1416.35 1869.28,1416.43 1870.3,1416.51 1871.33,1416.6 1872.35,1416.68 \n  1873.37,1416.76 1874.39,1416.84 1875.42,1416.92 1876.44,1417.01 1877.46,1417.09 1878.48,1417.17 1879.5,1417.25 1880.53,1417.33 1881.55,1417.41 1882.57,1417.5 \n  1883.59,1417.58 1884.62,1417.66 1885.64,1417.74 1886.66,1417.82 1887.68,1417.9 1888.7,1417.98 1889.73,1418.06 1890.75,1418.14 1891.77,1418.22 1892.79,1418.3 \n  1893.82,1418.39 1894.84,1418.47 1895.86,1418.55 1896.88,1418.63 1897.9,1418.71 1898.93,1418.79 1899.95,1418.87 1900.97,1418.95 1901.99,1419.03 1903.02,1419.11 \n  1904.04,1419.19 1905.06,1419.27 1906.08,1419.35 1907.1,1419.43 1908.13,1419.51 1909.15,1419.58 1910.17,1419.66 1911.19,1419.74 1912.22,1419.82 1913.24,1419.9 \n  1914.26,1419.98 1915.28,1420.06 1916.3,1420.14 1917.33,1420.22 1918.35,1420.3 1919.37,1420.38 1920.39,1420.45 1921.42,1420.53 1922.44,1420.61 1923.46,1420.69 \n  1924.48,1420.77 1925.5,1420.85 1926.53,1420.93 1927.55,1421 1928.57,1421.08 1929.59,1421.16 1930.61,1421.24 1931.64,1421.32 1932.66,1421.39 1933.68,1421.47 \n  1934.7,1421.55 1935.73,1421.63 1936.75,1421.71 1937.77,1421.78 1938.79,1421.86 1939.81,1421.94 1940.84,1422.02 1941.86,1422.09 1942.88,1422.17 1943.9,1422.25 \n  1944.93,1422.33 1945.95,1422.4 1946.97,1422.48 1947.99,1422.56 1949.01,1422.63 1950.04,1422.71 1951.06,1422.79 1952.08,1422.86 1953.1,1422.94 1954.13,1423.02 \n  1955.15,1423.09 1956.17,1423.17 1957.19,1423.25 1958.21,1423.32 1959.24,1423.4 1960.26,1423.48 1961.28,1423.55 1962.3,1423.63 1963.33,1423.71 1964.35,1423.78 \n  1965.37,1423.86 1966.39,1423.93 1967.41,1424.01 1968.44,1424.09 1969.46,1424.16 1970.48,1424.24 1971.5,1424.31 1972.53,1424.39 1973.55,1424.46 1974.57,1424.54 \n  1975.59,1424.61 1976.61,1424.69 1977.64,1424.77 1978.66,1424.84 1979.68,1424.92 1980.7,1424.99 1981.73,1425.07 1982.75,1425.14 1983.77,1425.22 1984.79,1425.29 \n  1985.81,1425.37 1986.84,1425.44 1987.86,1425.52 1988.88,1425.59 1989.9,1425.66 1990.93,1425.74 1991.95,1425.81 1992.97,1425.89 1993.99,1425.96 1995.01,1426.04 \n  1996.04,1426.11 1997.06,1426.19 1998.08,1426.26 1999.1,1426.33 2000.13,1426.41 2001.15,1426.48 2002.17,1426.56 2003.19,1426.63 2004.21,1426.7 2005.24,1426.78 \n  2006.26,1426.85 2007.28,1426.93 2008.3,1427 2009.32,1427.07 2010.35,1427.15 2011.37,1427.22 2012.39,1427.29 2013.41,1427.37 2014.44,1427.44 2015.46,1427.51 \n  2016.48,1427.59 2017.5,1427.66 2018.52,1427.73 2019.55,1427.81 2020.57,1427.88 2021.59,1427.95 2022.61,1428.02 2023.64,1428.1 2024.66,1428.17 2025.68,1428.24 \n  2026.7,1428.32 2027.72,1428.39 2028.75,1428.46 2029.77,1428.53 2030.79,1428.61 2031.81,1428.68 2032.84,1428.75 2033.86,1428.82 2034.88,1428.9 2035.9,1428.97 \n  2036.92,1429.04 2037.95,1429.11 2038.97,1429.18 2039.99,1429.26 2041.01,1429.33 2042.04,1429.4 2043.06,1429.47 2044.08,1429.54 2045.1,1429.62 2046.12,1429.69 \n  2047.15,1429.76 2048.17,1429.83 2049.19,1429.9 2050.21,1429.97 2051.24,1430.05 2052.26,1430.12 2053.28,1430.19 2054.3,1430.26 2055.32,1430.33 2056.35,1430.4 \n  2057.37,1430.47 2058.39,1430.54 2059.41,1430.62 2060.44,1430.69 2061.46,1430.76 2062.48,1430.83 2063.5,1430.9 2064.52,1430.97 2065.55,1431.04 2066.57,1431.11 \n  2067.59,1431.18 2068.61,1431.25 2069.64,1431.32 2070.66,1431.4 2071.68,1431.47 2072.7,1431.54 2073.72,1431.61 2074.75,1431.68 2075.77,1431.75 2076.79,1431.82 \n  2077.81,1431.89 2078.84,1431.96 2079.86,1432.03 2080.88,1432.1 2081.9,1432.17 2082.92,1432.24 2083.95,1432.31 2084.97,1432.38 2085.99,1432.45 2087.01,1432.52 \n  2088.03,1432.59 2089.06,1432.66 2090.08,1432.73 2091.1,1432.8 2092.12,1432.87 2093.15,1432.94 2094.17,1433.01 2095.19,1433.08 2096.21,1433.15 2097.23,1433.22 \n  2098.26,1433.28 2099.28,1433.35 2100.3,1433.42 2101.32,1433.49 2102.35,1433.56 2103.37,1433.63 2104.39,1433.7 2105.41,1433.77 2106.43,1433.84 2107.46,1433.91 \n  2108.48,1433.98 2109.5,1434.05 2110.52,1434.11 2111.55,1434.18 2112.57,1434.25 2113.59,1434.32 2114.61,1434.39 2115.63,1434.46 2116.66,1434.53 2117.68,1434.6 \n  2118.7,1434.66 2119.72,1434.73 2120.75,1434.8 2121.77,1434.87 2122.79,1434.94 2123.81,1435.01 2124.83,1435.07 2125.86,1435.14 2126.88,1435.21 2127.9,1435.28 \n  2128.92,1435.35 2129.95,1435.41 2130.97,1435.48 2131.99,1435.55 2133.01,1435.62 2134.03,1435.69 2135.06,1435.75 2136.08,1435.82 2137.1,1435.89 2138.12,1435.96 \n  2139.15,1436.03 2140.17,1436.09 2141.19,1436.16 2142.21,1436.23 2143.23,1436.3 2144.26,1436.36 2145.28,1436.43 2146.3,1436.5 2147.32,1436.57 2148.35,1436.63 \n  2149.37,1436.7 2150.39,1436.77 2151.41,1436.84 2152.43,1436.9 2153.46,1436.97 2154.48,1437.04 2155.5,1437.1 2156.52,1437.17 2157.54,1437.24 2158.57,1437.31 \n  2159.59,1437.37 2160.61,1437.44 2161.63,1437.51 2162.66,1437.57 2163.68,1437.64 2164.7,1437.71 2165.72,1437.77 2166.74,1437.84 2167.77,1437.91 2168.79,1437.97 \n  2169.81,1438.04 2170.83,1438.11 2171.86,1438.17 2172.88,1438.24 2173.9,1438.31 2174.92,1438.37 2175.94,1438.44 2176.97,1438.5 2177.99,1438.57 2179.01,1438.64 \n  2180.03,1438.7 2181.06,1438.77 2182.08,1438.84 2183.1,1438.9 2184.12,1438.97 2185.14,1439.03 2186.17,1439.1 2187.19,1439.17 2188.21,1439.23 2189.23,1439.3 \n  2190.26,1439.36 2191.28,1439.43 2192.3,1439.49 2193.32,1439.56 2194.34,1439.63 2195.37,1439.69 2196.39,1439.76 2197.41,1439.82 2198.43,1439.89 2199.46,1439.95 \n  2200.48,1440.02 2201.5,1440.09 2202.52,1440.15 2203.54,1440.22 2204.57,1440.28 2205.59,1440.35 2206.61,1440.41 2207.63,1440.48 2208.66,1440.54 2209.68,1440.61 \n  2210.7,1440.67 2211.72,1440.74 2212.74,1440.8 2213.77,1440.87 2214.79,1440.93 2215.81,1441 2216.83,1441.06 2217.86,1441.13 2218.88,1441.19 2219.9,1441.26 \n  2220.92,1441.32 2221.94,1441.39 2222.97,1441.45 2223.99,1441.52 2225.01,1441.58 2226.03,1441.65 2227.06,1441.71 2228.08,1441.77 2229.1,1441.84 2230.12,1441.9 \n  2231.14,1441.97 2232.17,1442.03 2233.19,1442.1 2234.21,1442.16 2235.23,1442.23 2236.25,1442.29 2237.28,1442.35 2238.3,1442.42 2239.32,1442.48 2240.34,1442.55 \n  2241.37,1442.61 2242.39,1442.68 2243.41,1442.74 2244.43,1442.8 2245.45,1442.87 2246.48,1442.93 2247.5,1443 2248.52,1443.06 2249.54,1443.12 2250.57,1443.19 \n  2251.59,1443.25 2252.61,1443.31 2253.63,1443.38 2254.65,1443.44 2255.68,1443.51 2256.7,1443.57 2257.72,1443.63 2258.74,1443.7 2259.77,1443.76 2260.79,1443.82 \n  2261.81,1443.89 2262.83,1443.95 2263.85,1444.01 2264.88,1444.08 2265.9,1444.14 2266.92,1444.2 2267.94,1444.27 2268.97,1444.33 2269.99,1444.39 2271.01,1444.46 \n  2272.03,1444.52 2273.05,1444.58 2274.08,1444.65 2275.1,1444.71 2276.12,1444.77 2277.14,1444.84 2278.17,1444.9 2279.19,1444.96 2280.21,1445.03 2281.23,1445.09 \n  2282.25,1445.15 2283.28,1445.21 2284.3,1445.28 2285.32,1445.34 2286.34,1445.4 2287.37,1445.46 2288.39,1445.53 2289.41,1445.59 2290.43,1445.65 2291.45,1445.72 \n  \n  \"/>\n</svg>\n",
      "text/html": [
       "<?xml version=\"1.0\" encoding=\"utf-8\"?>\n",
       "<svg xmlns=\"http://www.w3.org/2000/svg\" xmlns:xlink=\"http://www.w3.org/1999/xlink\" width=\"600\" height=\"400\" viewBox=\"0 0 2400 1600\">\n",
       "<defs>\n",
       "  <clipPath id=\"clip910\">\n",
       "    <rect x=\"0\" y=\"0\" width=\"2400\" height=\"1600\"/>\n",
       "  </clipPath>\n",
       "</defs>\n",
       "<path clip-path=\"url(#clip910)\" d=\"\n",
       "M0 1600 L2400 1600 L2400 0 L0 0  Z\n",
       "  \" fill=\"#ffffff\" fill-rule=\"evenodd\" fill-opacity=\"1\"/>\n",
       "<defs>\n",
       "  <clipPath id=\"clip911\">\n",
       "    <rect x=\"480\" y=\"0\" width=\"1681\" height=\"1600\"/>\n",
       "  </clipPath>\n",
       "</defs>\n",
       "<path clip-path=\"url(#clip910)\" d=\"\n",
       "M186.76 1486.45 L2352.76 1486.45 L2352.76 47.2441 L186.76 47.2441  Z\n",
       "  \" fill=\"#ffffff\" fill-rule=\"evenodd\" fill-opacity=\"1\"/>\n",
       "<defs>\n",
       "  <clipPath id=\"clip912\">\n",
       "    <rect x=\"186\" y=\"47\" width=\"2167\" height=\"1440\"/>\n",
       "  </clipPath>\n",
       "</defs>\n",
       "<polyline clip-path=\"url(#clip912)\" style=\"stroke:#000000; stroke-linecap:round; stroke-linejoin:round; stroke-width:2; stroke-opacity:0.1; fill:none\" points=\"\n",
       "  247.04,1486.45 247.04,47.2441 \n",
       "  \"/>\n",
       "<polyline clip-path=\"url(#clip912)\" style=\"stroke:#000000; stroke-linecap:round; stroke-linejoin:round; stroke-width:2; stroke-opacity:0.1; fill:none\" points=\"\n",
       "  758.143,1486.45 758.143,47.2441 \n",
       "  \"/>\n",
       "<polyline clip-path=\"url(#clip912)\" style=\"stroke:#000000; stroke-linecap:round; stroke-linejoin:round; stroke-width:2; stroke-opacity:0.1; fill:none\" points=\"\n",
       "  1269.25,1486.45 1269.25,47.2441 \n",
       "  \"/>\n",
       "<polyline clip-path=\"url(#clip912)\" style=\"stroke:#000000; stroke-linecap:round; stroke-linejoin:round; stroke-width:2; stroke-opacity:0.1; fill:none\" points=\"\n",
       "  1780.35,1486.45 1780.35,47.2441 \n",
       "  \"/>\n",
       "<polyline clip-path=\"url(#clip912)\" style=\"stroke:#000000; stroke-linecap:round; stroke-linejoin:round; stroke-width:2; stroke-opacity:0.1; fill:none\" points=\"\n",
       "  2291.45,1486.45 2291.45,47.2441 \n",
       "  \"/>\n",
       "<polyline clip-path=\"url(#clip910)\" style=\"stroke:#000000; stroke-linecap:round; stroke-linejoin:round; stroke-width:4; stroke-opacity:1; fill:none\" points=\"\n",
       "  186.76,1486.45 2352.76,1486.45 \n",
       "  \"/>\n",
       "<polyline clip-path=\"url(#clip910)\" style=\"stroke:#000000; stroke-linecap:round; stroke-linejoin:round; stroke-width:4; stroke-opacity:1; fill:none\" points=\"\n",
       "  247.04,1486.45 247.04,1467.55 \n",
       "  \"/>\n",
       "<polyline clip-path=\"url(#clip910)\" style=\"stroke:#000000; stroke-linecap:round; stroke-linejoin:round; stroke-width:4; stroke-opacity:1; fill:none\" points=\"\n",
       "  758.143,1486.45 758.143,1467.55 \n",
       "  \"/>\n",
       "<polyline clip-path=\"url(#clip910)\" style=\"stroke:#000000; stroke-linecap:round; stroke-linejoin:round; stroke-width:4; stroke-opacity:1; fill:none\" points=\"\n",
       "  1269.25,1486.45 1269.25,1467.55 \n",
       "  \"/>\n",
       "<polyline clip-path=\"url(#clip910)\" style=\"stroke:#000000; stroke-linecap:round; stroke-linejoin:round; stroke-width:4; stroke-opacity:1; fill:none\" points=\"\n",
       "  1780.35,1486.45 1780.35,1467.55 \n",
       "  \"/>\n",
       "<polyline clip-path=\"url(#clip910)\" style=\"stroke:#000000; stroke-linecap:round; stroke-linejoin:round; stroke-width:4; stroke-opacity:1; fill:none\" points=\"\n",
       "  2291.45,1486.45 2291.45,1467.55 \n",
       "  \"/>\n",
       "<path clip-path=\"url(#clip910)\" d=\"M247.04 1517.37 Q243.429 1517.37 241.6 1520.93 Q239.794 1524.47 239.794 1531.6 Q239.794 1538.71 241.6 1542.27 Q243.429 1545.82 247.04 1545.82 Q250.674 1545.82 252.479 1542.27 Q254.308 1538.71 254.308 1531.6 Q254.308 1524.47 252.479 1520.93 Q250.674 1517.37 247.04 1517.37 M247.04 1513.66 Q252.85 1513.66 255.905 1518.27 Q258.984 1522.85 258.984 1531.6 Q258.984 1540.33 255.905 1544.94 Q252.85 1549.52 247.04 1549.52 Q241.23 1549.52 238.151 1544.94 Q235.095 1540.33 235.095 1531.6 Q235.095 1522.85 238.151 1518.27 Q241.23 1513.66 247.04 1513.66 Z\" fill=\"#000000\" fill-rule=\"evenodd\" fill-opacity=\"1\" /><path clip-path=\"url(#clip910)\" d=\"M717.762 1514.29 L736.118 1514.29 L736.118 1518.22 L722.044 1518.22 L722.044 1526.7 Q723.062 1526.35 724.081 1526.19 Q725.099 1526 726.118 1526 Q731.905 1526 735.285 1529.17 Q738.664 1532.34 738.664 1537.76 Q738.664 1543.34 735.192 1546.44 Q731.72 1549.52 725.4 1549.52 Q723.224 1549.52 720.956 1549.15 Q718.711 1548.78 716.303 1548.04 L716.303 1543.34 Q718.387 1544.47 720.609 1545.03 Q722.831 1545.58 725.308 1545.58 Q729.312 1545.58 731.65 1543.48 Q733.988 1541.37 733.988 1537.76 Q733.988 1534.15 731.65 1532.04 Q729.312 1529.94 725.308 1529.94 Q723.433 1529.94 721.558 1530.35 Q719.706 1530.77 717.762 1531.65 L717.762 1514.29 Z\" fill=\"#000000\" fill-rule=\"evenodd\" fill-opacity=\"1\" /><path clip-path=\"url(#clip910)\" d=\"M757.877 1517.37 Q754.266 1517.37 752.437 1520.93 Q750.632 1524.47 750.632 1531.6 Q750.632 1538.71 752.437 1542.27 Q754.266 1545.82 757.877 1545.82 Q761.511 1545.82 763.317 1542.27 Q765.146 1538.71 765.146 1531.6 Q765.146 1524.47 763.317 1520.93 Q761.511 1517.37 757.877 1517.37 M757.877 1513.66 Q763.687 1513.66 766.743 1518.27 Q769.821 1522.85 769.821 1531.6 Q769.821 1540.33 766.743 1544.94 Q763.687 1549.52 757.877 1549.52 Q752.067 1549.52 748.988 1544.94 Q745.933 1540.33 745.933 1531.6 Q745.933 1522.85 748.988 1518.27 Q752.067 1513.66 757.877 1513.66 Z\" fill=\"#000000\" fill-rule=\"evenodd\" fill-opacity=\"1\" /><path clip-path=\"url(#clip910)\" d=\"M788.039 1517.37 Q784.428 1517.37 782.599 1520.93 Q780.794 1524.47 780.794 1531.6 Q780.794 1538.71 782.599 1542.27 Q784.428 1545.82 788.039 1545.82 Q791.673 1545.82 793.479 1542.27 Q795.307 1538.71 795.307 1531.6 Q795.307 1524.47 793.479 1520.93 Q791.673 1517.37 788.039 1517.37 M788.039 1513.66 Q793.849 1513.66 796.905 1518.27 Q799.983 1522.85 799.983 1531.6 Q799.983 1540.33 796.905 1544.94 Q793.849 1549.52 788.039 1549.52 Q782.229 1549.52 779.15 1544.94 Q776.095 1540.33 776.095 1531.6 Q776.095 1522.85 779.15 1518.27 Q782.229 1513.66 788.039 1513.66 Z\" fill=\"#000000\" fill-rule=\"evenodd\" fill-opacity=\"1\" /><path clip-path=\"url(#clip910)\" d=\"M1213.77 1544.91 L1221.41 1544.91 L1221.41 1518.55 L1213.1 1520.21 L1213.1 1515.95 L1221.37 1514.29 L1226.04 1514.29 L1226.04 1544.91 L1233.68 1544.91 L1233.68 1548.85 L1213.77 1548.85 L1213.77 1544.91 Z\" fill=\"#000000\" fill-rule=\"evenodd\" fill-opacity=\"1\" /><path clip-path=\"url(#clip910)\" d=\"M1253.12 1517.37 Q1249.51 1517.37 1247.68 1520.93 Q1245.88 1524.47 1245.88 1531.6 Q1245.88 1538.71 1247.68 1542.27 Q1249.51 1545.82 1253.12 1545.82 Q1256.76 1545.82 1258.56 1542.27 Q1260.39 1538.71 1260.39 1531.6 Q1260.39 1524.47 1258.56 1520.93 Q1256.76 1517.37 1253.12 1517.37 M1253.12 1513.66 Q1258.93 1513.66 1261.99 1518.27 Q1265.07 1522.85 1265.07 1531.6 Q1265.07 1540.33 1261.99 1544.94 Q1258.93 1549.52 1253.12 1549.52 Q1247.31 1549.52 1244.24 1544.94 Q1241.18 1540.33 1241.18 1531.6 Q1241.18 1522.85 1244.24 1518.27 Q1247.31 1513.66 1253.12 1513.66 Z\" fill=\"#000000\" fill-rule=\"evenodd\" fill-opacity=\"1\" /><path clip-path=\"url(#clip910)\" d=\"M1283.29 1517.37 Q1279.68 1517.37 1277.85 1520.93 Q1276.04 1524.47 1276.04 1531.6 Q1276.04 1538.71 1277.85 1542.27 Q1279.68 1545.82 1283.29 1545.82 Q1286.92 1545.82 1288.73 1542.27 Q1290.55 1538.71 1290.55 1531.6 Q1290.55 1524.47 1288.73 1520.93 Q1286.92 1517.37 1283.29 1517.37 M1283.29 1513.66 Q1289.1 1513.66 1292.15 1518.27 Q1295.23 1522.85 1295.23 1531.6 Q1295.23 1540.33 1292.15 1544.94 Q1289.1 1549.52 1283.29 1549.52 Q1277.48 1549.52 1274.4 1544.94 Q1271.34 1540.33 1271.34 1531.6 Q1271.34 1522.85 1274.4 1518.27 Q1277.48 1513.66 1283.29 1513.66 Z\" fill=\"#000000\" fill-rule=\"evenodd\" fill-opacity=\"1\" /><path clip-path=\"url(#clip910)\" d=\"M1313.45 1517.37 Q1309.84 1517.37 1308.01 1520.93 Q1306.2 1524.47 1306.2 1531.6 Q1306.2 1538.71 1308.01 1542.27 Q1309.84 1545.82 1313.45 1545.82 Q1317.08 1545.82 1318.89 1542.27 Q1320.72 1538.71 1320.72 1531.6 Q1320.72 1524.47 1318.89 1520.93 Q1317.08 1517.37 1313.45 1517.37 M1313.45 1513.66 Q1319.26 1513.66 1322.31 1518.27 Q1325.39 1522.85 1325.39 1531.6 Q1325.39 1540.33 1322.31 1544.94 Q1319.26 1549.52 1313.45 1549.52 Q1307.64 1549.52 1304.56 1544.94 Q1301.5 1540.33 1301.5 1531.6 Q1301.5 1522.85 1304.56 1518.27 Q1307.64 1513.66 1313.45 1513.66 Z\" fill=\"#000000\" fill-rule=\"evenodd\" fill-opacity=\"1\" /><path clip-path=\"url(#clip910)\" d=\"M1724.88 1544.91 L1732.52 1544.91 L1732.52 1518.55 L1724.2 1520.21 L1724.2 1515.95 L1732.47 1514.29 L1737.14 1514.29 L1737.14 1544.91 L1744.78 1544.91 L1744.78 1548.85 L1724.88 1548.85 L1724.88 1544.91 Z\" fill=\"#000000\" fill-rule=\"evenodd\" fill-opacity=\"1\" /><path clip-path=\"url(#clip910)\" d=\"M1754.27 1514.29 L1772.63 1514.29 L1772.63 1518.22 L1758.56 1518.22 L1758.56 1526.7 Q1759.58 1526.35 1760.59 1526.19 Q1761.61 1526 1762.63 1526 Q1768.42 1526 1771.8 1529.17 Q1775.18 1532.34 1775.18 1537.76 Q1775.18 1543.34 1771.7 1546.44 Q1768.23 1549.52 1761.91 1549.52 Q1759.74 1549.52 1757.47 1549.15 Q1755.22 1548.78 1752.82 1548.04 L1752.82 1543.34 Q1754.9 1544.47 1757.12 1545.03 Q1759.34 1545.58 1761.82 1545.58 Q1765.83 1545.58 1768.16 1543.48 Q1770.5 1541.37 1770.5 1537.76 Q1770.5 1534.15 1768.16 1532.04 Q1765.83 1529.94 1761.82 1529.94 Q1759.95 1529.94 1758.07 1530.35 Q1756.22 1530.77 1754.27 1531.65 L1754.27 1514.29 Z\" fill=\"#000000\" fill-rule=\"evenodd\" fill-opacity=\"1\" /><path clip-path=\"url(#clip910)\" d=\"M1794.39 1517.37 Q1790.78 1517.37 1788.95 1520.93 Q1787.14 1524.47 1787.14 1531.6 Q1787.14 1538.71 1788.95 1542.27 Q1790.78 1545.82 1794.39 1545.82 Q1798.02 1545.82 1799.83 1542.27 Q1801.66 1538.71 1801.66 1531.6 Q1801.66 1524.47 1799.83 1520.93 Q1798.02 1517.37 1794.39 1517.37 M1794.39 1513.66 Q1800.2 1513.66 1803.26 1518.27 Q1806.33 1522.85 1806.33 1531.6 Q1806.33 1540.33 1803.26 1544.94 Q1800.2 1549.52 1794.39 1549.52 Q1788.58 1549.52 1785.5 1544.94 Q1782.45 1540.33 1782.45 1531.6 Q1782.45 1522.85 1785.5 1518.27 Q1788.58 1513.66 1794.39 1513.66 Z\" fill=\"#000000\" fill-rule=\"evenodd\" fill-opacity=\"1\" /><path clip-path=\"url(#clip910)\" d=\"M1824.55 1517.37 Q1820.94 1517.37 1819.11 1520.93 Q1817.31 1524.47 1817.31 1531.6 Q1817.31 1538.71 1819.11 1542.27 Q1820.94 1545.82 1824.55 1545.82 Q1828.19 1545.82 1829.99 1542.27 Q1831.82 1538.71 1831.82 1531.6 Q1831.82 1524.47 1829.99 1520.93 Q1828.19 1517.37 1824.55 1517.37 M1824.55 1513.66 Q1830.36 1513.66 1833.42 1518.27 Q1836.5 1522.85 1836.5 1531.6 Q1836.5 1540.33 1833.42 1544.94 Q1830.36 1549.52 1824.55 1549.52 Q1818.74 1549.52 1815.66 1544.94 Q1812.61 1540.33 1812.61 1531.6 Q1812.61 1522.85 1815.66 1518.27 Q1818.74 1513.66 1824.55 1513.66 Z\" fill=\"#000000\" fill-rule=\"evenodd\" fill-opacity=\"1\" /><path clip-path=\"url(#clip910)\" d=\"M2240.07 1544.91 L2256.38 1544.91 L2256.38 1548.85 L2234.44 1548.85 L2234.44 1544.91 Q2237.1 1542.16 2241.69 1537.53 Q2246.29 1532.88 2247.47 1531.53 Q2249.72 1529.01 2250.6 1527.27 Q2251.5 1525.51 2251.5 1523.82 Q2251.5 1521.07 2249.56 1519.33 Q2247.63 1517.6 2244.53 1517.6 Q2242.33 1517.6 2239.88 1518.36 Q2237.45 1519.13 2234.67 1520.68 L2234.67 1515.95 Q2237.5 1514.82 2239.95 1514.24 Q2242.4 1513.66 2244.44 1513.66 Q2249.81 1513.66 2253.01 1516.35 Q2256.2 1519.03 2256.2 1523.52 Q2256.2 1525.65 2255.39 1527.57 Q2254.6 1529.47 2252.5 1532.07 Q2251.92 1532.74 2248.82 1535.95 Q2245.71 1539.15 2240.07 1544.91 Z\" fill=\"#000000\" fill-rule=\"evenodd\" fill-opacity=\"1\" /><path clip-path=\"url(#clip910)\" d=\"M2276.2 1517.37 Q2272.59 1517.37 2270.76 1520.93 Q2268.95 1524.47 2268.95 1531.6 Q2268.95 1538.71 2270.76 1542.27 Q2272.59 1545.82 2276.2 1545.82 Q2279.83 1545.82 2281.64 1542.27 Q2283.47 1538.71 2283.47 1531.6 Q2283.47 1524.47 2281.64 1520.93 Q2279.83 1517.37 2276.2 1517.37 M2276.2 1513.66 Q2282.01 1513.66 2285.07 1518.27 Q2288.14 1522.85 2288.14 1531.6 Q2288.14 1540.33 2285.07 1544.94 Q2282.01 1549.52 2276.2 1549.52 Q2270.39 1549.52 2267.31 1544.94 Q2264.26 1540.33 2264.26 1531.6 Q2264.26 1522.85 2267.31 1518.27 Q2270.39 1513.66 2276.2 1513.66 Z\" fill=\"#000000\" fill-rule=\"evenodd\" fill-opacity=\"1\" /><path clip-path=\"url(#clip910)\" d=\"M2306.36 1517.37 Q2302.75 1517.37 2300.92 1520.93 Q2299.12 1524.47 2299.12 1531.6 Q2299.12 1538.71 2300.92 1542.27 Q2302.75 1545.82 2306.36 1545.82 Q2310 1545.82 2311.8 1542.27 Q2313.63 1538.71 2313.63 1531.6 Q2313.63 1524.47 2311.8 1520.93 Q2310 1517.37 2306.36 1517.37 M2306.36 1513.66 Q2312.17 1513.66 2315.23 1518.27 Q2318.31 1522.85 2318.31 1531.6 Q2318.31 1540.33 2315.23 1544.94 Q2312.17 1549.52 2306.36 1549.52 Q2300.55 1549.52 2297.47 1544.94 Q2294.42 1540.33 2294.42 1531.6 Q2294.42 1522.85 2297.47 1518.27 Q2300.55 1513.66 2306.36 1513.66 Z\" fill=\"#000000\" fill-rule=\"evenodd\" fill-opacity=\"1\" /><path clip-path=\"url(#clip910)\" d=\"M2336.52 1517.37 Q2332.91 1517.37 2331.08 1520.93 Q2329.28 1524.47 2329.28 1531.6 Q2329.28 1538.71 2331.08 1542.27 Q2332.91 1545.82 2336.52 1545.82 Q2340.16 1545.82 2341.96 1542.27 Q2343.79 1538.71 2343.79 1531.6 Q2343.79 1524.47 2341.96 1520.93 Q2340.16 1517.37 2336.52 1517.37 M2336.52 1513.66 Q2342.33 1513.66 2345.39 1518.27 Q2348.47 1522.85 2348.47 1531.6 Q2348.47 1540.33 2345.39 1544.94 Q2342.33 1549.52 2336.52 1549.52 Q2330.71 1549.52 2327.63 1544.94 Q2324.58 1540.33 2324.58 1531.6 Q2324.58 1522.85 2327.63 1518.27 Q2330.71 1513.66 2336.52 1513.66 Z\" fill=\"#000000\" fill-rule=\"evenodd\" fill-opacity=\"1\" /><polyline clip-path=\"url(#clip912)\" style=\"stroke:#000000; stroke-linecap:round; stroke-linejoin:round; stroke-width:2; stroke-opacity:0.1; fill:none\" points=\"\n",
       "  186.76,1210.06 2352.76,1210.06 \n",
       "  \"/>\n",
       "<polyline clip-path=\"url(#clip912)\" style=\"stroke:#000000; stroke-linecap:round; stroke-linejoin:round; stroke-width:2; stroke-opacity:0.1; fill:none\" points=\"\n",
       "  186.76,917.838 2352.76,917.838 \n",
       "  \"/>\n",
       "<polyline clip-path=\"url(#clip912)\" style=\"stroke:#000000; stroke-linecap:round; stroke-linejoin:round; stroke-width:2; stroke-opacity:0.1; fill:none\" points=\"\n",
       "  186.76,625.618 2352.76,625.618 \n",
       "  \"/>\n",
       "<polyline clip-path=\"url(#clip912)\" style=\"stroke:#000000; stroke-linecap:round; stroke-linejoin:round; stroke-width:2; stroke-opacity:0.1; fill:none\" points=\"\n",
       "  186.76,333.399 2352.76,333.399 \n",
       "  \"/>\n",
       "<polyline clip-path=\"url(#clip910)\" style=\"stroke:#000000; stroke-linecap:round; stroke-linejoin:round; stroke-width:4; stroke-opacity:1; fill:none\" points=\"\n",
       "  186.76,1486.45 186.76,47.2441 \n",
       "  \"/>\n",
       "<polyline clip-path=\"url(#clip910)\" style=\"stroke:#000000; stroke-linecap:round; stroke-linejoin:round; stroke-width:4; stroke-opacity:1; fill:none\" points=\"\n",
       "  186.76,1210.06 205.658,1210.06 \n",
       "  \"/>\n",
       "<polyline clip-path=\"url(#clip910)\" style=\"stroke:#000000; stroke-linecap:round; stroke-linejoin:round; stroke-width:4; stroke-opacity:1; fill:none\" points=\"\n",
       "  186.76,917.838 205.658,917.838 \n",
       "  \"/>\n",
       "<polyline clip-path=\"url(#clip910)\" style=\"stroke:#000000; stroke-linecap:round; stroke-linejoin:round; stroke-width:4; stroke-opacity:1; fill:none\" points=\"\n",
       "  186.76,625.618 205.658,625.618 \n",
       "  \"/>\n",
       "<polyline clip-path=\"url(#clip910)\" style=\"stroke:#000000; stroke-linecap:round; stroke-linejoin:round; stroke-width:4; stroke-opacity:1; fill:none\" points=\"\n",
       "  186.76,333.399 205.658,333.399 \n",
       "  \"/>\n",
       "<path clip-path=\"url(#clip910)\" d=\"M63.5152 1195.86 Q59.9041 1195.86 58.0754 1199.42 Q56.2699 1202.96 56.2699 1210.09 Q56.2699 1217.2 58.0754 1220.76 Q59.9041 1224.3 63.5152 1224.3 Q67.1494 1224.3 68.955 1220.76 Q70.7837 1217.2 70.7837 1210.09 Q70.7837 1202.96 68.955 1199.42 Q67.1494 1195.86 63.5152 1195.86 M63.5152 1192.15 Q69.3254 1192.15 72.3809 1196.76 Q75.4596 1201.34 75.4596 1210.09 Q75.4596 1218.82 72.3809 1223.43 Q69.3254 1228.01 63.5152 1228.01 Q57.7051 1228.01 54.6264 1223.43 Q51.5708 1218.82 51.5708 1210.09 Q51.5708 1201.34 54.6264 1196.76 Q57.7051 1192.15 63.5152 1192.15 Z\" fill=\"#000000\" fill-rule=\"evenodd\" fill-opacity=\"1\" /><path clip-path=\"url(#clip910)\" d=\"M83.6771 1221.46 L88.5614 1221.46 L88.5614 1227.34 L83.6771 1227.34 L83.6771 1221.46 Z\" fill=\"#000000\" fill-rule=\"evenodd\" fill-opacity=\"1\" /><path clip-path=\"url(#clip910)\" d=\"M102.774 1223.4 L119.094 1223.4 L119.094 1227.34 L97.1493 1227.34 L97.1493 1223.4 Q99.8113 1220.65 104.395 1216.02 Q109.001 1211.37 110.182 1210.02 Q112.427 1207.5 113.307 1205.76 Q114.209 1204 114.209 1202.31 Q114.209 1199.56 112.265 1197.82 Q110.344 1196.09 107.242 1196.09 Q105.043 1196.09 102.589 1196.85 Q100.159 1197.62 97.3808 1199.17 L97.3808 1194.44 Q100.205 1193.31 102.659 1192.73 Q105.112 1192.15 107.149 1192.15 Q112.52 1192.15 115.714 1194.84 Q118.908 1197.52 118.908 1202.01 Q118.908 1204.14 118.098 1206.06 Q117.311 1207.96 115.205 1210.55 Q114.626 1211.23 111.524 1214.44 Q108.422 1217.64 102.774 1223.4 Z\" fill=\"#000000\" fill-rule=\"evenodd\" fill-opacity=\"1\" /><path clip-path=\"url(#clip910)\" d=\"M138.908 1210.93 Q135.575 1210.93 133.654 1212.71 Q131.756 1214.49 131.756 1217.62 Q131.756 1220.74 133.654 1222.52 Q135.575 1224.3 138.908 1224.3 Q142.242 1224.3 144.163 1222.52 Q146.084 1220.72 146.084 1217.62 Q146.084 1214.49 144.163 1212.71 Q142.265 1210.93 138.908 1210.93 M134.232 1208.93 Q131.223 1208.19 129.533 1206.13 Q127.867 1204.07 127.867 1201.11 Q127.867 1196.97 130.807 1194.56 Q133.769 1192.15 138.908 1192.15 Q144.07 1192.15 147.01 1194.56 Q149.95 1196.97 149.95 1201.11 Q149.95 1204.07 148.26 1206.13 Q146.593 1208.19 143.607 1208.93 Q146.987 1209.72 148.862 1212.01 Q150.76 1214.3 150.76 1217.62 Q150.76 1222.64 147.681 1225.32 Q144.626 1228.01 138.908 1228.01 Q133.191 1228.01 130.112 1225.32 Q127.057 1222.64 127.057 1217.62 Q127.057 1214.3 128.955 1212.01 Q130.853 1209.72 134.232 1208.93 M132.519 1201.55 Q132.519 1204.24 134.186 1205.74 Q135.876 1207.24 138.908 1207.24 Q141.918 1207.24 143.607 1205.74 Q145.32 1204.24 145.32 1201.55 Q145.32 1198.87 143.607 1197.36 Q141.918 1195.86 138.908 1195.86 Q135.876 1195.86 134.186 1197.36 Q132.519 1198.87 132.519 1201.55 Z\" fill=\"#000000\" fill-rule=\"evenodd\" fill-opacity=\"1\" /><path clip-path=\"url(#clip910)\" d=\"M63.4226 903.636 Q59.8115 903.636 57.9828 907.201 Q56.1773 910.743 56.1773 917.872 Q56.1773 924.979 57.9828 928.544 Q59.8115 932.085 63.4226 932.085 Q67.0569 932.085 68.8624 928.544 Q70.6911 924.979 70.6911 917.872 Q70.6911 910.743 68.8624 907.201 Q67.0569 903.636 63.4226 903.636 M63.4226 899.933 Q69.2328 899.933 72.2883 904.539 Q75.367 909.122 75.367 917.872 Q75.367 926.599 72.2883 931.206 Q69.2328 935.789 63.4226 935.789 Q57.6125 935.789 54.5338 931.206 Q51.4782 926.599 51.4782 917.872 Q51.4782 909.122 54.5338 904.539 Q57.6125 899.933 63.4226 899.933 Z\" fill=\"#000000\" fill-rule=\"evenodd\" fill-opacity=\"1\" /><path clip-path=\"url(#clip910)\" d=\"M83.5845 929.238 L88.4688 929.238 L88.4688 935.118 L83.5845 935.118 L83.5845 929.238 Z\" fill=\"#000000\" fill-rule=\"evenodd\" fill-opacity=\"1\" /><path clip-path=\"url(#clip910)\" d=\"M112.82 916.483 Q116.177 917.201 118.052 919.47 Q119.95 921.738 119.95 925.071 Q119.95 930.187 116.432 932.988 Q112.913 935.789 106.432 935.789 Q104.256 935.789 101.941 935.349 Q99.6493 934.932 97.1956 934.076 L97.1956 929.562 Q99.14 930.696 101.455 931.275 Q103.77 931.854 106.293 931.854 Q110.691 931.854 112.983 930.118 Q115.297 928.382 115.297 925.071 Q115.297 922.016 113.145 920.303 Q111.015 918.567 107.196 918.567 L103.168 918.567 L103.168 914.724 L107.381 914.724 Q110.83 914.724 112.658 913.359 Q114.487 911.97 114.487 909.377 Q114.487 906.715 112.589 905.303 Q110.714 903.868 107.196 903.868 Q105.274 903.868 103.075 904.284 Q100.876 904.701 98.2372 905.581 L98.2372 901.414 Q100.899 900.673 103.214 900.303 Q105.552 899.933 107.612 899.933 Q112.936 899.933 116.038 902.363 Q119.14 904.771 119.14 908.891 Q119.14 911.761 117.496 913.752 Q115.853 915.72 112.82 916.483 Z\" fill=\"#000000\" fill-rule=\"evenodd\" fill-opacity=\"1\" /><path clip-path=\"url(#clip910)\" d=\"M138.816 903.636 Q135.205 903.636 133.376 907.201 Q131.57 910.743 131.57 917.872 Q131.57 924.979 133.376 928.544 Q135.205 932.085 138.816 932.085 Q142.45 932.085 144.256 928.544 Q146.084 924.979 146.084 917.872 Q146.084 910.743 144.256 907.201 Q142.45 903.636 138.816 903.636 M138.816 899.933 Q144.626 899.933 147.681 904.539 Q150.76 909.122 150.76 917.872 Q150.76 926.599 147.681 931.206 Q144.626 935.789 138.816 935.789 Q133.006 935.789 129.927 931.206 Q126.871 926.599 126.871 917.872 Q126.871 909.122 129.927 904.539 Q133.006 899.933 138.816 899.933 Z\" fill=\"#000000\" fill-rule=\"evenodd\" fill-opacity=\"1\" /><path clip-path=\"url(#clip910)\" d=\"M65.0198 611.417 Q61.4087 611.417 59.58 614.982 Q57.7745 618.523 57.7745 625.653 Q57.7745 632.759 59.58 636.324 Q61.4087 639.866 65.0198 639.866 Q68.6541 639.866 70.4596 636.324 Q72.2883 632.759 72.2883 625.653 Q72.2883 618.523 70.4596 614.982 Q68.6541 611.417 65.0198 611.417 M65.0198 607.713 Q70.83 607.713 73.8855 612.32 Q76.9642 616.903 76.9642 625.653 Q76.9642 634.38 73.8855 638.986 Q70.83 643.569 65.0198 643.569 Q59.2097 643.569 56.131 638.986 Q53.0754 634.38 53.0754 625.653 Q53.0754 616.903 56.131 612.32 Q59.2097 607.713 65.0198 607.713 Z\" fill=\"#000000\" fill-rule=\"evenodd\" fill-opacity=\"1\" /><path clip-path=\"url(#clip910)\" d=\"M85.1818 637.019 L90.066 637.019 L90.066 642.898 L85.1818 642.898 L85.1818 637.019 Z\" fill=\"#000000\" fill-rule=\"evenodd\" fill-opacity=\"1\" /><path clip-path=\"url(#clip910)\" d=\"M114.418 624.264 Q117.774 624.982 119.649 627.25 Q121.547 629.519 121.547 632.852 Q121.547 637.968 118.029 640.769 Q114.51 643.569 108.029 643.569 Q105.853 643.569 103.538 643.13 Q101.246 642.713 98.7928 641.856 L98.7928 637.343 Q100.737 638.477 103.052 639.056 Q105.367 639.634 107.89 639.634 Q112.288 639.634 114.58 637.898 Q116.895 636.162 116.895 632.852 Q116.895 629.796 114.742 628.083 Q112.612 626.347 108.793 626.347 L104.765 626.347 L104.765 622.505 L108.978 622.505 Q112.427 622.505 114.256 621.139 Q116.084 619.75 116.084 617.158 Q116.084 614.496 114.186 613.083 Q112.311 611.648 108.793 611.648 Q106.871 611.648 104.672 612.065 Q102.473 612.482 99.8345 613.361 L99.8345 609.195 Q102.496 608.454 104.811 608.084 Q107.149 607.713 109.209 607.713 Q114.533 607.713 117.635 610.144 Q120.737 612.551 120.737 616.671 Q120.737 619.542 119.094 621.533 Q117.45 623.5 114.418 624.264 Z\" fill=\"#000000\" fill-rule=\"evenodd\" fill-opacity=\"1\" /><path clip-path=\"url(#clip910)\" d=\"M134.441 638.963 L150.76 638.963 L150.76 642.898 L128.816 642.898 L128.816 638.963 Q131.478 636.208 136.061 631.579 Q140.668 626.926 141.848 625.583 Q144.093 623.06 144.973 621.324 Q145.876 619.565 145.876 617.875 Q145.876 615.121 143.931 613.384 Q142.01 611.648 138.908 611.648 Q136.709 611.648 134.256 612.412 Q131.825 613.176 129.047 614.727 L129.047 610.005 Q131.871 608.871 134.325 608.292 Q136.779 607.713 138.816 607.713 Q144.186 607.713 147.38 610.398 Q150.575 613.083 150.575 617.574 Q150.575 619.704 149.765 621.625 Q148.978 623.523 146.871 626.116 Q146.293 626.787 143.191 630.005 Q140.089 633.199 134.441 638.963 Z\" fill=\"#000000\" fill-rule=\"evenodd\" fill-opacity=\"1\" /><path clip-path=\"url(#clip910)\" d=\"M62.9365 319.197 Q59.3254 319.197 57.4967 322.762 Q55.6912 326.304 55.6912 333.433 Q55.6912 340.54 57.4967 344.105 Q59.3254 347.646 62.9365 347.646 Q66.5707 347.646 68.3763 344.105 Q70.205 340.54 70.205 333.433 Q70.205 326.304 68.3763 322.762 Q66.5707 319.197 62.9365 319.197 M62.9365 315.494 Q68.7467 315.494 71.8022 320.1 Q74.8809 324.683 74.8809 333.433 Q74.8809 342.16 71.8022 346.767 Q68.7467 351.35 62.9365 351.35 Q57.1264 351.35 54.0477 346.767 Q50.9921 342.16 50.9921 333.433 Q50.9921 324.683 54.0477 320.1 Q57.1264 315.494 62.9365 315.494 Z\" fill=\"#000000\" fill-rule=\"evenodd\" fill-opacity=\"1\" /><path clip-path=\"url(#clip910)\" d=\"M83.0984 344.799 L87.9827 344.799 L87.9827 350.679 L83.0984 350.679 L83.0984 344.799 Z\" fill=\"#000000\" fill-rule=\"evenodd\" fill-opacity=\"1\" /><path clip-path=\"url(#clip910)\" d=\"M112.334 332.044 Q115.691 332.762 117.566 335.031 Q119.464 337.299 119.464 340.632 Q119.464 345.748 115.945 348.549 Q112.427 351.35 105.946 351.35 Q103.77 351.35 101.455 350.91 Q99.1632 350.493 96.7095 349.637 L96.7095 345.123 Q98.6539 346.257 100.969 346.836 Q103.284 347.415 105.807 347.415 Q110.205 347.415 112.496 345.679 Q114.811 343.943 114.811 340.632 Q114.811 337.577 112.658 335.864 Q110.529 334.128 106.709 334.128 L102.682 334.128 L102.682 330.285 L106.895 330.285 Q110.344 330.285 112.172 328.919 Q114.001 327.531 114.001 324.938 Q114.001 322.276 112.103 320.864 Q110.228 319.429 106.709 319.429 Q104.788 319.429 102.589 319.845 Q100.39 320.262 97.7511 321.142 L97.7511 316.975 Q100.413 316.234 102.728 315.864 Q105.066 315.494 107.126 315.494 Q112.45 315.494 115.552 317.924 Q118.654 320.332 118.654 324.452 Q118.654 327.322 117.01 329.313 Q115.367 331.281 112.334 332.044 Z\" fill=\"#000000\" fill-rule=\"evenodd\" fill-opacity=\"1\" /><path clip-path=\"url(#clip910)\" d=\"M141.177 320.193 L129.371 338.642 L141.177 338.642 L141.177 320.193 M139.95 316.119 L145.83 316.119 L145.83 338.642 L150.76 338.642 L150.76 342.531 L145.83 342.531 L145.83 350.679 L141.177 350.679 L141.177 342.531 L125.575 342.531 L125.575 338.017 L139.95 316.119 Z\" fill=\"#000000\" fill-rule=\"evenodd\" fill-opacity=\"1\" /><polyline clip-path=\"url(#clip912)\" style=\"stroke:#009af9; stroke-linecap:round; stroke-linejoin:round; stroke-width:4; stroke-opacity:1; fill:none\" points=\"\n",
       "  248.062,87.9763 249.084,93.52 250.106,99.0346 251.128,104.52 252.151,109.977 253.173,115.405 254.195,120.805 255.217,126.176 256.24,131.519 257.262,136.835 \n",
       "  258.284,142.122 259.306,147.382 260.328,152.615 261.351,157.82 262.373,162.998 263.395,168.149 264.417,173.274 265.439,178.371 266.462,183.443 267.484,188.488 \n",
       "  268.506,193.507 269.528,198.5 270.55,203.467 271.573,208.408 272.595,213.324 273.617,218.215 274.639,223.08 275.661,227.92 276.684,232.736 277.706,237.527 \n",
       "  278.728,242.293 279.75,247.034 280.773,251.752 281.795,256.445 282.817,261.114 283.839,265.759 284.861,270.381 285.884,274.979 286.906,279.553 287.928,284.105 \n",
       "  288.95,288.633 289.972,293.138 290.995,297.62 292.017,302.08 293.039,306.517 294.061,310.931 295.083,315.323 296.106,319.693 297.128,324.041 298.15,328.367 \n",
       "  299.172,332.671 300.194,336.953 301.217,341.214 302.239,345.453 303.261,349.671 304.283,353.868 305.305,358.044 306.328,362.199 307.35,366.333 308.372,370.447 \n",
       "  309.394,374.54 310.417,378.613 311.439,382.665 312.461,386.697 313.483,390.709 314.505,394.701 315.528,398.673 316.55,402.626 317.572,406.559 318.594,410.472 \n",
       "  319.616,414.367 320.639,418.241 321.661,422.097 322.683,425.934 323.705,429.752 324.727,433.551 325.75,437.331 326.772,441.093 327.794,444.836 328.816,448.561 \n",
       "  329.838,452.268 330.861,455.957 331.883,459.627 332.905,463.28 333.927,466.914 334.949,470.532 335.972,474.131 336.994,477.713 338.016,481.277 339.038,484.825 \n",
       "  340.061,488.355 341.083,491.867 342.105,495.363 343.127,498.842 344.149,502.304 345.172,505.75 346.194,509.179 347.216,512.591 348.238,515.987 349.26,519.366 \n",
       "  350.283,522.73 351.305,526.077 352.327,529.408 353.349,532.723 354.371,536.022 355.394,539.306 356.416,542.574 357.438,545.826 358.46,549.063 359.482,552.284 \n",
       "  360.505,555.49 361.527,558.681 362.549,561.856 363.571,565.017 364.594,568.162 365.616,571.293 366.638,574.409 367.66,577.51 368.682,580.596 369.705,583.668 \n",
       "  370.727,586.726 371.749,589.769 372.771,592.798 373.793,595.812 374.816,598.813 375.838,601.799 376.86,604.771 377.882,607.73 378.904,610.674 379.927,613.605 \n",
       "  380.949,616.522 381.971,619.426 382.993,622.316 384.015,625.193 385.038,628.056 386.06,630.906 387.082,633.743 388.104,636.567 389.126,639.377 390.149,642.175 \n",
       "  391.171,644.96 392.193,647.732 393.215,650.491 394.238,653.237 395.26,655.971 396.282,658.692 397.304,661.401 398.326,664.097 399.349,666.781 400.371,669.452 \n",
       "  401.393,672.112 402.415,674.759 403.437,677.394 404.46,680.018 405.482,682.629 406.504,685.228 407.526,687.816 408.548,690.392 409.571,692.956 410.593,695.508 \n",
       "  411.615,698.049 412.637,700.579 413.659,703.097 414.682,705.604 415.704,708.099 416.726,710.583 417.748,713.056 418.77,715.518 419.793,717.969 420.815,720.409 \n",
       "  421.837,722.838 422.859,725.256 423.882,727.663 424.904,730.06 425.926,732.445 426.948,734.82 427.97,737.185 428.993,739.539 430.015,741.883 431.037,744.216 \n",
       "  432.059,746.539 433.081,748.851 434.104,751.154 435.126,753.446 436.148,755.728 437.17,758 438.192,760.262 439.215,762.514 440.237,764.756 441.259,766.988 \n",
       "  442.281,769.21 443.303,771.423 444.326,773.626 445.348,775.819 446.37,778.003 447.392,780.177 448.414,782.342 449.437,784.497 450.459,786.643 451.481,788.779 \n",
       "  452.503,790.907 453.526,793.025 454.548,795.134 455.57,797.233 456.592,799.324 457.614,801.405 458.637,803.478 459.659,805.542 460.681,807.596 461.703,809.642 \n",
       "  462.725,811.679 463.748,813.708 464.77,815.727 465.792,817.738 466.814,819.74 467.836,821.734 468.859,823.719 469.881,825.696 470.903,827.664 471.925,829.624 \n",
       "  472.947,831.576 473.97,833.519 474.992,835.454 476.014,837.381 477.036,839.299 478.059,841.21 479.081,843.112 480.103,845.007 481.125,846.893 482.147,848.771 \n",
       "  483.17,850.642 484.192,852.504 485.214,854.359 486.236,856.206 487.258,858.045 488.281,859.877 489.303,861.7 490.325,863.517 491.347,865.325 492.369,867.126 \n",
       "  493.392,868.92 494.414,870.706 495.436,872.484 496.458,874.255 497.48,876.019 498.503,877.775 499.525,879.525 500.547,881.266 501.569,883.001 502.591,884.729 \n",
       "  503.614,886.449 504.636,888.162 505.658,889.869 506.68,891.568 507.703,893.26 508.725,894.945 509.747,896.623 510.769,898.295 511.791,899.959 512.814,901.617 \n",
       "  513.836,903.268 514.858,904.912 515.88,906.55 516.902,908.181 517.925,909.805 518.947,911.422 519.969,913.033 520.991,914.638 522.013,916.236 523.036,917.827 \n",
       "  524.058,919.412 525.08,920.991 526.102,922.563 527.124,924.129 528.147,925.688 529.169,927.241 530.191,928.788 531.213,930.329 532.235,931.864 533.258,933.392 \n",
       "  534.28,934.914 535.302,936.43 536.324,937.941 537.347,939.445 538.369,940.943 539.391,942.435 540.413,943.921 541.435,945.401 542.458,946.875 543.48,948.344 \n",
       "  544.502,949.806 545.524,951.263 546.546,952.714 547.569,954.16 548.591,955.599 549.613,957.033 550.635,958.461 551.657,959.884 552.68,961.301 553.702,962.712 \n",
       "  554.724,964.118 555.746,965.518 556.768,966.913 557.791,968.303 558.813,969.687 559.835,971.065 560.857,972.438 561.879,973.806 562.902,975.168 563.924,976.526 \n",
       "  564.946,977.877 565.968,979.224 566.991,980.565 568.013,981.901 569.035,983.232 570.057,984.558 571.079,985.879 572.102,987.194 573.124,988.505 574.146,989.81 \n",
       "  575.168,991.111 576.19,992.406 577.213,993.696 578.235,994.982 579.257,996.262 580.279,997.538 581.301,998.809 582.324,1000.07 583.346,1001.34 584.368,1002.59 \n",
       "  585.39,1003.84 586.412,1005.09 587.435,1006.33 588.457,1007.57 589.479,1008.8 590.501,1010.03 591.524,1011.25 592.546,1012.47 593.568,1013.68 594.59,1014.89 \n",
       "  595.612,1016.1 596.635,1017.3 597.657,1018.49 598.679,1019.68 599.701,1020.87 600.723,1022.05 601.746,1023.23 602.768,1024.4 603.79,1025.57 604.812,1026.74 \n",
       "  605.834,1027.9 606.857,1029.05 607.879,1030.21 608.901,1031.35 609.923,1032.5 610.945,1033.63 611.968,1034.77 612.99,1035.9 614.012,1037.02 615.034,1038.15 \n",
       "  616.056,1039.26 617.079,1040.38 618.101,1041.49 619.123,1042.59 620.145,1043.69 621.168,1044.79 622.19,1045.88 623.212,1046.97 624.234,1048.06 625.256,1049.14 \n",
       "  626.279,1050.22 627.301,1051.29 628.323,1052.36 629.345,1053.42 630.367,1054.48 631.39,1055.54 632.412,1056.6 633.434,1057.65 634.456,1058.69 635.478,1059.73 \n",
       "  636.501,1060.77 637.523,1061.81 638.545,1062.84 639.567,1063.86 640.589,1064.89 641.612,1065.91 642.634,1066.92 643.656,1067.94 644.678,1068.95 645.7,1069.95 \n",
       "  646.723,1070.95 647.745,1071.95 648.767,1072.94 649.789,1073.93 650.812,1074.92 651.834,1075.91 652.856,1076.89 653.878,1077.86 654.9,1078.83 655.923,1079.8 \n",
       "  656.945,1080.77 657.967,1081.73 658.989,1082.69 660.011,1083.65 661.034,1084.6 662.056,1085.55 663.078,1086.5 664.1,1087.44 665.122,1088.38 666.145,1089.31 \n",
       "  667.167,1090.25 668.189,1091.17 669.211,1092.1 670.233,1093.02 671.256,1093.94 672.278,1094.86 673.3,1095.77 674.322,1096.68 675.345,1097.59 676.367,1098.49 \n",
       "  677.389,1099.39 678.411,1100.29 679.433,1101.18 680.456,1102.07 681.478,1102.96 682.5,1103.84 683.522,1104.73 684.544,1105.6 685.567,1106.48 686.589,1107.35 \n",
       "  687.611,1108.22 688.633,1109.09 689.655,1109.95 690.678,1110.81 691.7,1111.67 692.722,1112.52 693.744,1113.37 694.766,1114.22 695.789,1115.07 696.811,1115.91 \n",
       "  697.833,1116.75 698.855,1117.59 699.877,1118.42 700.9,1119.25 701.922,1120.08 702.944,1120.91 703.966,1121.73 704.989,1122.55 706.011,1123.37 707.033,1124.18 \n",
       "  708.055,1124.99 709.077,1125.8 710.1,1126.61 711.122,1127.41 712.144,1128.21 713.166,1129.01 714.188,1129.8 715.211,1130.6 716.233,1131.39 717.255,1132.17 \n",
       "  718.277,1132.96 719.299,1133.74 720.322,1134.52 721.344,1135.3 722.366,1136.07 723.388,1136.84 724.41,1137.61 725.433,1138.38 726.455,1139.14 727.477,1139.9 \n",
       "  728.499,1140.66 729.521,1141.42 730.544,1142.17 731.566,1142.92 732.588,1143.67 733.61,1144.42 734.633,1145.16 735.655,1145.9 736.677,1146.64 737.699,1147.38 \n",
       "  738.721,1148.11 739.744,1148.84 740.766,1149.57 741.788,1150.3 742.81,1151.02 743.832,1151.74 744.855,1152.46 745.877,1153.18 746.899,1153.89 747.921,1154.61 \n",
       "  748.943,1155.32 749.966,1156.02 750.988,1156.73 752.01,1157.43 753.032,1158.13 754.054,1158.83 755.077,1159.53 756.099,1160.22 757.121,1160.91 758.143,1161.6 \n",
       "  759.165,1162.29 760.188,1162.97 761.21,1163.66 762.232,1164.34 763.254,1165.02 764.277,1165.69 765.299,1166.37 766.321,1167.04 767.343,1167.71 768.365,1168.38 \n",
       "  769.388,1169.04 770.41,1169.7 771.432,1170.37 772.454,1171.02 773.476,1171.68 774.499,1172.34 775.521,1172.99 776.543,1173.64 777.565,1174.29 778.587,1174.93 \n",
       "  779.61,1175.58 780.632,1176.22 781.654,1176.86 782.676,1177.5 783.698,1178.14 784.721,1178.77 785.743,1179.4 786.765,1180.03 787.787,1180.66 788.81,1181.29 \n",
       "  789.832,1181.91 790.854,1182.53 791.876,1183.15 792.898,1183.77 793.921,1184.39 794.943,1185 795.965,1185.62 796.987,1186.23 798.009,1186.83 799.032,1187.44 \n",
       "  800.054,1188.05 801.076,1188.65 802.098,1189.25 803.12,1189.85 804.143,1190.45 805.165,1191.04 806.187,1191.64 807.209,1192.23 808.231,1192.82 809.254,1193.41 \n",
       "  810.276,1193.99 811.298,1194.58 812.32,1195.16 813.342,1195.74 814.365,1196.32 815.387,1196.9 816.409,1197.47 817.431,1198.05 818.454,1198.62 819.476,1199.19 \n",
       "  820.498,1199.76 821.52,1200.33 822.542,1200.89 823.565,1201.45 824.587,1202.02 825.609,1202.58 826.631,1203.13 827.653,1203.69 828.676,1204.25 829.698,1204.8 \n",
       "  830.72,1205.35 831.742,1205.9 832.764,1206.45 833.787,1206.99 834.809,1207.54 835.831,1208.08 836.853,1208.62 837.875,1209.16 838.898,1209.7 839.92,1210.24 \n",
       "  840.942,1210.77 841.964,1211.31 842.986,1211.84 844.009,1212.37 845.031,1212.9 846.053,1213.42 847.075,1213.95 848.098,1214.47 849.12,1215 850.142,1215.52 \n",
       "  851.164,1216.04 852.186,1216.55 853.209,1217.07 854.231,1217.58 855.253,1218.1 856.275,1218.61 857.297,1219.12 858.32,1219.63 859.342,1220.13 860.364,1220.64 \n",
       "  861.386,1221.14 862.408,1221.65 863.431,1222.15 864.453,1222.65 865.475,1223.15 866.497,1223.64 867.519,1224.14 868.542,1224.63 869.564,1225.12 870.586,1225.61 \n",
       "  871.608,1226.1 872.63,1226.59 873.653,1227.08 874.675,1227.56 875.697,1228.05 876.719,1228.53 877.742,1229.01 878.764,1229.49 879.786,1229.97 880.808,1230.44 \n",
       "  881.83,1230.92 882.853,1231.39 883.875,1231.87 884.897,1232.34 885.919,1232.81 886.941,1233.27 887.964,1233.74 888.986,1234.21 890.008,1234.67 891.03,1235.13 \n",
       "  892.052,1235.6 893.075,1236.06 894.097,1236.52 895.119,1236.97 896.141,1237.43 897.163,1237.89 898.186,1238.34 899.208,1238.79 900.23,1239.24 901.252,1239.69 \n",
       "  902.275,1240.14 903.297,1240.59 904.319,1241.04 905.341,1241.48 906.363,1241.92 907.386,1242.37 908.408,1242.81 909.43,1243.25 910.452,1243.69 911.474,1244.12 \n",
       "  912.497,1244.56 913.519,1244.99 914.541,1245.43 915.563,1245.86 916.585,1246.29 917.608,1246.72 918.63,1247.15 919.652,1247.58 920.674,1248 921.696,1248.43 \n",
       "  922.719,1248.85 923.741,1249.28 924.763,1249.7 925.785,1250.12 926.807,1250.54 927.83,1250.96 928.852,1251.37 929.874,1251.79 930.896,1252.2 931.919,1252.62 \n",
       "  932.941,1253.03 933.963,1253.44 934.985,1253.85 936.007,1254.26 937.03,1254.67 938.052,1255.08 939.074,1255.48 940.096,1255.89 941.118,1256.29 942.141,1256.69 \n",
       "  943.163,1257.09 944.185,1257.49 945.207,1257.89 946.229,1258.29 947.252,1258.69 948.274,1259.08 949.296,1259.48 950.318,1259.87 951.34,1260.26 952.363,1260.65 \n",
       "  953.385,1261.04 954.407,1261.43 955.429,1261.82 956.451,1262.21 957.474,1262.6 958.496,1262.98 959.518,1263.36 960.54,1263.75 961.563,1264.13 962.585,1264.51 \n",
       "  963.607,1264.89 964.629,1265.27 965.651,1265.65 966.674,1266.02 967.696,1266.4 968.718,1266.77 969.74,1267.15 970.762,1267.52 971.785,1267.89 972.807,1268.26 \n",
       "  973.829,1268.63 974.851,1269 975.873,1269.37 976.896,1269.74 977.918,1270.1 978.94,1270.47 979.962,1270.83 980.984,1271.2 982.007,1271.56 983.029,1271.92 \n",
       "  984.051,1272.28 985.073,1272.64 986.096,1273 987.118,1273.35 988.14,1273.71 989.162,1274.07 990.184,1274.42 991.207,1274.77 992.229,1275.13 993.251,1275.48 \n",
       "  994.273,1275.83 995.295,1276.18 996.318,1276.53 997.34,1276.88 998.362,1277.22 999.384,1277.57 1000.41,1277.91 1001.43,1278.26 1002.45,1278.6 1003.47,1278.95 \n",
       "  1004.5,1279.29 1005.52,1279.63 1006.54,1279.97 1007.56,1280.31 1008.58,1280.65 1009.61,1280.98 1010.63,1281.32 1011.65,1281.65 1012.67,1281.99 1013.7,1282.32 \n",
       "  1014.72,1282.66 1015.74,1282.99 1016.76,1283.32 1017.78,1283.65 1018.81,1283.98 1019.83,1284.31 1020.85,1284.64 1021.87,1284.96 1022.89,1285.29 1023.92,1285.62 \n",
       "  1024.94,1285.94 1025.96,1286.26 1026.98,1286.59 1028.01,1286.91 1029.03,1287.23 1030.05,1287.55 1031.07,1287.87 1032.09,1288.19 1033.12,1288.51 1034.14,1288.83 \n",
       "  1035.16,1289.14 1036.18,1289.46 1037.21,1289.77 1038.23,1290.09 1039.25,1290.4 1040.27,1290.71 1041.29,1291.02 1042.32,1291.34 1043.34,1291.65 1044.36,1291.95 \n",
       "  1045.38,1292.26 1046.41,1292.57 1047.43,1292.88 1048.45,1293.18 1049.47,1293.49 1050.49,1293.8 1051.52,1294.1 1052.54,1294.4 1053.56,1294.71 1054.58,1295.01 \n",
       "  1055.61,1295.31 1056.63,1295.61 1057.65,1295.91 1058.67,1296.21 1059.69,1296.51 1060.72,1296.8 1061.74,1297.1 1062.76,1297.4 1063.78,1297.69 1064.81,1297.98 \n",
       "  1065.83,1298.28 1066.85,1298.57 1067.87,1298.86 1068.89,1299.16 1069.92,1299.45 1070.94,1299.74 1071.96,1300.03 1072.98,1300.31 1074.01,1300.6 1075.03,1300.89 \n",
       "  1076.05,1301.18 1077.07,1301.46 1078.09,1301.75 1079.12,1302.03 1080.14,1302.32 1081.16,1302.6 1082.18,1302.88 1083.21,1303.16 1084.23,1303.45 1085.25,1303.73 \n",
       "  1086.27,1304.01 1087.29,1304.29 1088.32,1304.56 1089.34,1304.84 1090.36,1305.12 1091.38,1305.4 1092.41,1305.67 1093.43,1305.95 1094.45,1306.22 1095.47,1306.49 \n",
       "  1096.49,1306.77 1097.52,1307.04 1098.54,1307.31 1099.56,1307.58 1100.58,1307.85 1101.6,1308.12 1102.63,1308.39 1103.65,1308.66 1104.67,1308.93 1105.69,1309.2 \n",
       "  1106.72,1309.46 1107.74,1309.73 1108.76,1310 1109.78,1310.26 1110.8,1310.53 1111.83,1310.79 1112.85,1311.05 1113.87,1311.32 1114.89,1311.58 1115.92,1311.84 \n",
       "  1116.94,1312.1 1117.96,1312.36 1118.98,1312.62 1120,1312.88 1121.03,1313.14 1122.05,1313.39 1123.07,1313.65 1124.09,1313.91 1125.12,1314.16 1126.14,1314.42 \n",
       "  1127.16,1314.67 1128.18,1314.93 1129.2,1315.18 1130.23,1315.43 1131.25,1315.68 1132.27,1315.94 1133.29,1316.19 1134.32,1316.44 1135.34,1316.69 1136.36,1316.94 \n",
       "  1137.38,1317.19 1138.4,1317.44 1139.43,1317.68 1140.45,1317.93 1141.47,1318.18 1142.49,1318.42 1143.52,1318.67 1144.54,1318.91 1145.56,1319.16 1146.58,1319.4 \n",
       "  1147.6,1319.64 1148.63,1319.89 1149.65,1320.13 1150.67,1320.37 1151.69,1320.61 1152.72,1320.85 1153.74,1321.09 1154.76,1321.33 1155.78,1321.57 1156.8,1321.81 \n",
       "  1157.83,1322.05 1158.85,1322.28 1159.87,1322.52 1160.89,1322.76 1161.92,1322.99 1162.94,1323.23 1163.96,1323.46 1164.98,1323.7 1166,1323.93 1167.03,1324.16 \n",
       "  1168.05,1324.4 1169.07,1324.63 1170.09,1324.86 1171.12,1325.09 1172.14,1325.32 1173.16,1325.55 1174.18,1325.78 1175.2,1326.01 1176.23,1326.24 1177.25,1326.47 \n",
       "  1178.27,1326.69 1179.29,1326.92 1180.31,1327.15 1181.34,1327.37 1182.36,1327.6 1183.38,1327.82 1184.4,1328.05 1185.43,1328.27 1186.45,1328.5 1187.47,1328.72 \n",
       "  1188.49,1328.94 1189.51,1329.16 1190.54,1329.39 1191.56,1329.61 1192.58,1329.83 1193.6,1330.05 1194.63,1330.27 1195.65,1330.49 1196.67,1330.71 1197.69,1330.92 \n",
       "  1198.71,1331.14 1199.74,1331.36 1200.76,1331.58 1201.78,1331.79 1202.8,1332.01 1203.83,1332.22 1204.85,1332.44 1205.87,1332.65 1206.89,1332.87 1207.91,1333.08 \n",
       "  1208.94,1333.3 1209.96,1333.51 1210.98,1333.72 1212,1333.93 1213.03,1334.14 1214.05,1334.35 1215.07,1334.57 1216.09,1334.78 1217.11,1334.98 1218.14,1335.19 \n",
       "  1219.16,1335.4 1220.18,1335.61 1221.2,1335.82 1222.23,1336.03 1223.25,1336.23 1224.27,1336.44 1225.29,1336.65 1226.31,1336.85 1227.34,1337.06 1228.36,1337.26 \n",
       "  1229.38,1337.47 1230.4,1337.67 1231.43,1337.87 1232.45,1338.08 1233.47,1338.28 1234.49,1338.48 1235.51,1338.68 1236.54,1338.89 1237.56,1339.09 1238.58,1339.29 \n",
       "  1239.6,1339.49 1240.63,1339.69 1241.65,1339.89 1242.67,1340.09 1243.69,1340.28 1244.71,1340.48 1245.74,1340.68 1246.76,1340.88 1247.78,1341.07 1248.8,1341.27 \n",
       "  1249.82,1341.47 1250.85,1341.66 1251.87,1341.86 1252.89,1342.05 1253.91,1342.25 1254.94,1342.44 1255.96,1342.64 1256.98,1342.83 1258,1343.02 1259.02,1343.21 \n",
       "  1260.05,1343.41 1261.07,1343.6 1262.09,1343.79 1263.11,1343.98 1264.14,1344.17 1265.16,1344.36 1266.18,1344.55 1267.2,1344.74 1268.22,1344.93 1269.25,1345.12 \n",
       "  1270.27,1345.31 1271.29,1345.5 1272.31,1345.68 1273.34,1345.87 1274.36,1346.06 1275.38,1346.24 1276.4,1346.43 1277.42,1346.62 1278.45,1346.8 1279.47,1346.99 \n",
       "  1280.49,1347.17 1281.51,1347.36 1282.54,1347.54 1283.56,1347.72 1284.58,1347.91 1285.6,1348.09 1286.62,1348.27 1287.65,1348.45 1288.67,1348.64 1289.69,1348.82 \n",
       "  1290.71,1349 1291.74,1349.18 1292.76,1349.36 1293.78,1349.54 1294.8,1349.72 1295.82,1349.9 1296.85,1350.08 1297.87,1350.26 1298.89,1350.44 1299.91,1350.61 \n",
       "  1300.94,1350.79 1301.96,1350.97 1302.98,1351.14 1304,1351.32 1305.02,1351.5 1306.05,1351.67 1307.07,1351.85 1308.09,1352.02 1309.11,1352.2 1310.14,1352.37 \n",
       "  1311.16,1352.55 1312.18,1352.72 1313.2,1352.9 1314.22,1353.07 1315.25,1353.24 1316.27,1353.41 1317.29,1353.59 1318.31,1353.76 1319.34,1353.93 1320.36,1354.1 \n",
       "  1321.38,1354.27 1322.4,1354.44 1323.42,1354.61 1324.45,1354.78 1325.47,1354.95 1326.49,1355.12 1327.51,1355.29 1328.53,1355.46 1329.56,1355.63 1330.58,1355.8 \n",
       "  1331.6,1355.96 1332.62,1356.13 1333.65,1356.3 1334.67,1356.47 1335.69,1356.63 1336.71,1356.8 1337.73,1356.96 1338.76,1357.13 1339.78,1357.3 1340.8,1357.46 \n",
       "  1341.82,1357.63 1342.85,1357.79 1343.87,1357.95 1344.89,1358.12 1345.91,1358.28 1346.93,1358.44 1347.96,1358.61 1348.98,1358.77 1350,1358.93 1351.02,1359.09 \n",
       "  1352.05,1359.26 1353.07,1359.42 1354.09,1359.58 1355.11,1359.74 1356.13,1359.9 1357.16,1360.06 1358.18,1360.22 1359.2,1360.38 1360.22,1360.54 1361.25,1360.7 \n",
       "  1362.27,1360.86 1363.29,1361.02 1364.31,1361.17 1365.33,1361.33 1366.36,1361.49 1367.38,1361.65 1368.4,1361.8 1369.42,1361.96 1370.45,1362.12 1371.47,1362.27 \n",
       "  1372.49,1362.43 1373.51,1362.58 1374.53,1362.74 1375.56,1362.9 1376.58,1363.05 1377.6,1363.2 1378.62,1363.36 1379.65,1363.51 1380.67,1363.67 1381.69,1363.82 \n",
       "  1382.71,1363.97 1383.73,1364.13 1384.76,1364.28 1385.78,1364.43 1386.8,1364.58 1387.82,1364.74 1388.85,1364.89 1389.87,1365.04 1390.89,1365.19 1391.91,1365.34 \n",
       "  1392.93,1365.49 1393.96,1365.64 1394.98,1365.79 1396,1365.94 1397.02,1366.09 1398.05,1366.24 1399.07,1366.39 1400.09,1366.54 1401.11,1366.69 1402.13,1366.83 \n",
       "  1403.16,1366.98 1404.18,1367.13 1405.2,1367.28 1406.22,1367.43 1407.24,1367.57 1408.27,1367.72 1409.29,1367.87 1410.31,1368.01 1411.33,1368.16 1412.36,1368.3 \n",
       "  1413.38,1368.45 1414.4,1368.59 1415.42,1368.74 1416.44,1368.88 1417.47,1369.03 1418.49,1369.17 1419.51,1369.32 1420.53,1369.46 1421.56,1369.6 1422.58,1369.75 \n",
       "  1423.6,1369.89 1424.62,1370.03 1425.64,1370.18 1426.67,1370.32 1427.69,1370.46 1428.71,1370.6 1429.73,1370.74 1430.76,1370.88 1431.78,1371.03 1432.8,1371.17 \n",
       "  1433.82,1371.31 1434.84,1371.45 1435.87,1371.59 1436.89,1371.73 1437.91,1371.87 1438.93,1372.01 1439.96,1372.15 1440.98,1372.29 1442,1372.42 1443.02,1372.56 \n",
       "  1444.04,1372.7 1445.07,1372.84 1446.09,1372.98 1447.11,1373.12 1448.13,1373.25 1449.16,1373.39 1450.18,1373.53 1451.2,1373.66 1452.22,1373.8 1453.24,1373.94 \n",
       "  1454.27,1374.07 1455.29,1374.21 1456.31,1374.34 1457.33,1374.48 1458.36,1374.61 1459.38,1374.75 1460.4,1374.88 1461.42,1375.02 1462.44,1375.15 1463.47,1375.29 \n",
       "  1464.49,1375.42 1465.51,1375.56 1466.53,1375.69 1467.56,1375.82 1468.58,1375.96 1469.6,1376.09 1470.62,1376.22 1471.64,1376.35 1472.67,1376.49 1473.69,1376.62 \n",
       "  1474.71,1376.75 1475.73,1376.88 1476.75,1377.01 1477.78,1377.14 1478.8,1377.28 1479.82,1377.41 1480.84,1377.54 1481.87,1377.67 1482.89,1377.8 1483.91,1377.93 \n",
       "  1484.93,1378.06 1485.95,1378.19 1486.98,1378.32 1488,1378.45 1489.02,1378.57 1490.04,1378.7 1491.07,1378.83 1492.09,1378.96 1493.11,1379.09 1494.13,1379.22 \n",
       "  1495.15,1379.34 1496.18,1379.47 1497.2,1379.6 1498.22,1379.73 1499.24,1379.85 1500.27,1379.98 1501.29,1380.11 1502.31,1380.23 1503.33,1380.36 1504.35,1380.49 \n",
       "  1505.38,1380.61 1506.4,1380.74 1507.42,1380.86 1508.44,1380.99 1509.47,1381.11 1510.49,1381.24 1511.51,1381.36 1512.53,1381.49 1513.55,1381.61 1514.58,1381.74 \n",
       "  1515.6,1381.86 1516.62,1381.98 1517.64,1382.11 1518.67,1382.23 1519.69,1382.35 1520.71,1382.48 1521.73,1382.6 1522.75,1382.72 1523.78,1382.85 1524.8,1382.97 \n",
       "  1525.82,1383.09 1526.84,1383.21 1527.87,1383.33 1528.89,1383.46 1529.91,1383.58 1530.93,1383.7 1531.95,1383.82 1532.98,1383.94 1534,1384.06 1535.02,1384.18 \n",
       "  1536.04,1384.3 1537.07,1384.42 1538.09,1384.54 1539.11,1384.66 1540.13,1384.78 1541.15,1384.9 1542.18,1385.02 1543.2,1385.14 1544.22,1385.26 1545.24,1385.38 \n",
       "  1546.27,1385.5 1547.29,1385.61 1548.31,1385.73 1549.33,1385.85 1550.35,1385.97 1551.38,1386.09 1552.4,1386.2 1553.42,1386.32 1554.44,1386.44 1555.46,1386.56 \n",
       "  1556.49,1386.67 1557.51,1386.79 1558.53,1386.91 1559.55,1387.02 1560.58,1387.14 1561.6,1387.26 1562.62,1387.37 1563.64,1387.49 1564.66,1387.6 1565.69,1387.72 \n",
       "  1566.71,1387.83 1567.73,1387.95 1568.75,1388.06 1569.78,1388.18 1570.8,1388.29 1571.82,1388.41 1572.84,1388.52 1573.86,1388.64 1574.89,1388.75 1575.91,1388.86 \n",
       "  1576.93,1388.98 1577.95,1389.09 1578.98,1389.21 1580,1389.32 1581.02,1389.43 1582.04,1389.54 1583.06,1389.66 1584.09,1389.77 1585.11,1389.88 1586.13,1389.99 \n",
       "  1587.15,1390.11 1588.18,1390.22 1589.2,1390.33 1590.22,1390.44 1591.24,1390.55 1592.26,1390.67 1593.29,1390.78 1594.31,1390.89 1595.33,1391 1596.35,1391.11 \n",
       "  1597.38,1391.22 1598.4,1391.33 1599.42,1391.44 1600.44,1391.55 1601.46,1391.66 1602.49,1391.77 1603.51,1391.88 1604.53,1391.99 1605.55,1392.1 1606.58,1392.21 \n",
       "  1607.6,1392.32 1608.62,1392.43 1609.64,1392.54 1610.66,1392.65 1611.69,1392.75 1612.71,1392.86 1613.73,1392.97 1614.75,1393.08 1615.78,1393.19 1616.8,1393.3 \n",
       "  1617.82,1393.4 1618.84,1393.51 1619.86,1393.62 1620.89,1393.73 1621.91,1393.83 1622.93,1393.94 1623.95,1394.05 1624.98,1394.15 1626,1394.26 1627.02,1394.37 \n",
       "  1628.04,1394.47 1629.06,1394.58 1630.09,1394.69 1631.11,1394.79 1632.13,1394.9 1633.15,1395 1634.17,1395.11 1635.2,1395.21 1636.22,1395.32 1637.24,1395.42 \n",
       "  1638.26,1395.53 1639.29,1395.63 1640.31,1395.74 1641.33,1395.84 1642.35,1395.95 1643.37,1396.05 1644.4,1396.16 1645.42,1396.26 1646.44,1396.36 1647.46,1396.47 \n",
       "  1648.49,1396.57 1649.51,1396.68 1650.53,1396.78 1651.55,1396.88 1652.57,1396.99 1653.6,1397.09 1654.62,1397.19 1655.64,1397.29 1656.66,1397.4 1657.69,1397.5 \n",
       "  1658.71,1397.6 1659.73,1397.7 1660.75,1397.81 1661.77,1397.91 1662.8,1398.01 1663.82,1398.11 1664.84,1398.21 1665.86,1398.32 1666.89,1398.42 1667.91,1398.52 \n",
       "  1668.93,1398.62 1669.95,1398.72 1670.97,1398.82 1672,1398.92 1673.02,1399.02 1674.04,1399.12 1675.06,1399.22 1676.09,1399.32 1677.11,1399.42 1678.13,1399.53 \n",
       "  1679.15,1399.62 1680.17,1399.72 1681.2,1399.82 1682.22,1399.92 1683.24,1400.02 1684.26,1400.12 1685.29,1400.22 1686.31,1400.32 1687.33,1400.42 1688.35,1400.52 \n",
       "  1689.37,1400.62 1690.4,1400.72 1691.42,1400.82 1692.44,1400.91 1693.46,1401.01 1694.49,1401.11 1695.51,1401.21 1696.53,1401.31 1697.55,1401.4 1698.57,1401.5 \n",
       "  1699.6,1401.6 1700.62,1401.7 1701.64,1401.79 1702.66,1401.89 1703.68,1401.99 1704.71,1402.09 1705.73,1402.18 1706.75,1402.28 1707.77,1402.38 1708.8,1402.47 \n",
       "  1709.82,1402.57 1710.84,1402.67 1711.86,1402.76 1712.88,1402.86 1713.91,1402.95 1714.93,1403.05 1715.95,1403.15 1716.97,1403.24 1718,1403.34 1719.02,1403.43 \n",
       "  1720.04,1403.53 1721.06,1403.62 1722.08,1403.72 1723.11,1403.81 1724.13,1403.91 1725.15,1404 1726.17,1404.1 1727.2,1404.19 1728.22,1404.29 1729.24,1404.38 \n",
       "  1730.26,1404.48 1731.28,1404.57 1732.31,1404.67 1733.33,1404.76 1734.35,1404.85 1735.37,1404.95 1736.4,1405.04 1737.42,1405.13 1738.44,1405.23 1739.46,1405.32 \n",
       "  1740.48,1405.41 1741.51,1405.51 1742.53,1405.6 1743.55,1405.69 1744.57,1405.79 1745.6,1405.88 1746.62,1405.97 1747.64,1406.06 1748.66,1406.16 1749.68,1406.25 \n",
       "  1750.71,1406.34 1751.73,1406.43 1752.75,1406.53 1753.77,1406.62 1754.8,1406.71 1755.82,1406.8 1756.84,1406.89 1757.86,1406.99 1758.88,1407.08 1759.91,1407.17 \n",
       "  1760.93,1407.26 1761.95,1407.35 1762.97,1407.44 1764,1407.53 1765.02,1407.62 1766.04,1407.71 1767.06,1407.81 1768.08,1407.9 1769.11,1407.99 1770.13,1408.08 \n",
       "  1771.15,1408.17 1772.17,1408.26 1773.2,1408.35 1774.22,1408.44 1775.24,1408.53 1776.26,1408.62 1777.28,1408.71 1778.31,1408.8 1779.33,1408.89 1780.35,1408.98 \n",
       "  1781.37,1409.07 1782.39,1409.15 1783.42,1409.24 1784.44,1409.33 1785.46,1409.42 1786.48,1409.51 1787.51,1409.6 1788.53,1409.69 1789.55,1409.78 1790.57,1409.87 \n",
       "  1791.59,1409.95 1792.62,1410.04 1793.64,1410.13 1794.66,1410.22 1795.68,1410.31 1796.71,1410.4 1797.73,1410.48 1798.75,1410.57 1799.77,1410.66 1800.79,1410.75 \n",
       "  1801.82,1410.83 1802.84,1410.92 1803.86,1411.01 1804.88,1411.1 1805.91,1411.18 1806.93,1411.27 1807.95,1411.36 1808.97,1411.45 1809.99,1411.53 1811.02,1411.62 \n",
       "  1812.04,1411.71 1813.06,1411.79 1814.08,1411.88 1815.11,1411.97 1816.13,1412.05 1817.15,1412.14 1818.17,1412.22 1819.19,1412.31 1820.22,1412.4 1821.24,1412.48 \n",
       "  1822.26,1412.57 1823.28,1412.65 1824.31,1412.74 1825.33,1412.83 1826.35,1412.91 1827.37,1413 1828.39,1413.08 1829.42,1413.17 1830.44,1413.25 1831.46,1413.34 \n",
       "  1832.48,1413.42 1833.51,1413.51 1834.53,1413.59 1835.55,1413.68 1836.57,1413.76 1837.59,1413.85 1838.62,1413.93 1839.64,1414.02 1840.66,1414.1 1841.68,1414.18 \n",
       "  1842.71,1414.27 1843.73,1414.35 1844.75,1414.44 1845.77,1414.52 1846.79,1414.61 1847.82,1414.69 1848.84,1414.77 1849.86,1414.86 1850.88,1414.94 1851.91,1415.02 \n",
       "  1852.93,1415.11 1853.95,1415.19 1854.97,1415.27 1855.99,1415.36 1857.02,1415.44 1858.04,1415.52 1859.06,1415.61 1860.08,1415.69 1861.1,1415.77 1862.13,1415.86 \n",
       "  1863.15,1415.94 1864.17,1416.02 1865.19,1416.1 1866.22,1416.19 1867.24,1416.27 1868.26,1416.35 1869.28,1416.43 1870.3,1416.51 1871.33,1416.6 1872.35,1416.68 \n",
       "  1873.37,1416.76 1874.39,1416.84 1875.42,1416.92 1876.44,1417.01 1877.46,1417.09 1878.48,1417.17 1879.5,1417.25 1880.53,1417.33 1881.55,1417.41 1882.57,1417.5 \n",
       "  1883.59,1417.58 1884.62,1417.66 1885.64,1417.74 1886.66,1417.82 1887.68,1417.9 1888.7,1417.98 1889.73,1418.06 1890.75,1418.14 1891.77,1418.22 1892.79,1418.3 \n",
       "  1893.82,1418.39 1894.84,1418.47 1895.86,1418.55 1896.88,1418.63 1897.9,1418.71 1898.93,1418.79 1899.95,1418.87 1900.97,1418.95 1901.99,1419.03 1903.02,1419.11 \n",
       "  1904.04,1419.19 1905.06,1419.27 1906.08,1419.35 1907.1,1419.43 1908.13,1419.51 1909.15,1419.58 1910.17,1419.66 1911.19,1419.74 1912.22,1419.82 1913.24,1419.9 \n",
       "  1914.26,1419.98 1915.28,1420.06 1916.3,1420.14 1917.33,1420.22 1918.35,1420.3 1919.37,1420.38 1920.39,1420.45 1921.42,1420.53 1922.44,1420.61 1923.46,1420.69 \n",
       "  1924.48,1420.77 1925.5,1420.85 1926.53,1420.93 1927.55,1421 1928.57,1421.08 1929.59,1421.16 1930.61,1421.24 1931.64,1421.32 1932.66,1421.39 1933.68,1421.47 \n",
       "  1934.7,1421.55 1935.73,1421.63 1936.75,1421.71 1937.77,1421.78 1938.79,1421.86 1939.81,1421.94 1940.84,1422.02 1941.86,1422.09 1942.88,1422.17 1943.9,1422.25 \n",
       "  1944.93,1422.33 1945.95,1422.4 1946.97,1422.48 1947.99,1422.56 1949.01,1422.63 1950.04,1422.71 1951.06,1422.79 1952.08,1422.86 1953.1,1422.94 1954.13,1423.02 \n",
       "  1955.15,1423.09 1956.17,1423.17 1957.19,1423.25 1958.21,1423.32 1959.24,1423.4 1960.26,1423.48 1961.28,1423.55 1962.3,1423.63 1963.33,1423.71 1964.35,1423.78 \n",
       "  1965.37,1423.86 1966.39,1423.93 1967.41,1424.01 1968.44,1424.09 1969.46,1424.16 1970.48,1424.24 1971.5,1424.31 1972.53,1424.39 1973.55,1424.46 1974.57,1424.54 \n",
       "  1975.59,1424.61 1976.61,1424.69 1977.64,1424.77 1978.66,1424.84 1979.68,1424.92 1980.7,1424.99 1981.73,1425.07 1982.75,1425.14 1983.77,1425.22 1984.79,1425.29 \n",
       "  1985.81,1425.37 1986.84,1425.44 1987.86,1425.52 1988.88,1425.59 1989.9,1425.66 1990.93,1425.74 1991.95,1425.81 1992.97,1425.89 1993.99,1425.96 1995.01,1426.04 \n",
       "  1996.04,1426.11 1997.06,1426.19 1998.08,1426.26 1999.1,1426.33 2000.13,1426.41 2001.15,1426.48 2002.17,1426.56 2003.19,1426.63 2004.21,1426.7 2005.24,1426.78 \n",
       "  2006.26,1426.85 2007.28,1426.93 2008.3,1427 2009.32,1427.07 2010.35,1427.15 2011.37,1427.22 2012.39,1427.29 2013.41,1427.37 2014.44,1427.44 2015.46,1427.51 \n",
       "  2016.48,1427.59 2017.5,1427.66 2018.52,1427.73 2019.55,1427.81 2020.57,1427.88 2021.59,1427.95 2022.61,1428.02 2023.64,1428.1 2024.66,1428.17 2025.68,1428.24 \n",
       "  2026.7,1428.32 2027.72,1428.39 2028.75,1428.46 2029.77,1428.53 2030.79,1428.61 2031.81,1428.68 2032.84,1428.75 2033.86,1428.82 2034.88,1428.9 2035.9,1428.97 \n",
       "  2036.92,1429.04 2037.95,1429.11 2038.97,1429.18 2039.99,1429.26 2041.01,1429.33 2042.04,1429.4 2043.06,1429.47 2044.08,1429.54 2045.1,1429.62 2046.12,1429.69 \n",
       "  2047.15,1429.76 2048.17,1429.83 2049.19,1429.9 2050.21,1429.97 2051.24,1430.05 2052.26,1430.12 2053.28,1430.19 2054.3,1430.26 2055.32,1430.33 2056.35,1430.4 \n",
       "  2057.37,1430.47 2058.39,1430.54 2059.41,1430.62 2060.44,1430.69 2061.46,1430.76 2062.48,1430.83 2063.5,1430.9 2064.52,1430.97 2065.55,1431.04 2066.57,1431.11 \n",
       "  2067.59,1431.18 2068.61,1431.25 2069.64,1431.32 2070.66,1431.4 2071.68,1431.47 2072.7,1431.54 2073.72,1431.61 2074.75,1431.68 2075.77,1431.75 2076.79,1431.82 \n",
       "  2077.81,1431.89 2078.84,1431.96 2079.86,1432.03 2080.88,1432.1 2081.9,1432.17 2082.92,1432.24 2083.95,1432.31 2084.97,1432.38 2085.99,1432.45 2087.01,1432.52 \n",
       "  2088.03,1432.59 2089.06,1432.66 2090.08,1432.73 2091.1,1432.8 2092.12,1432.87 2093.15,1432.94 2094.17,1433.01 2095.19,1433.08 2096.21,1433.15 2097.23,1433.22 \n",
       "  2098.26,1433.28 2099.28,1433.35 2100.3,1433.42 2101.32,1433.49 2102.35,1433.56 2103.37,1433.63 2104.39,1433.7 2105.41,1433.77 2106.43,1433.84 2107.46,1433.91 \n",
       "  2108.48,1433.98 2109.5,1434.05 2110.52,1434.11 2111.55,1434.18 2112.57,1434.25 2113.59,1434.32 2114.61,1434.39 2115.63,1434.46 2116.66,1434.53 2117.68,1434.6 \n",
       "  2118.7,1434.66 2119.72,1434.73 2120.75,1434.8 2121.77,1434.87 2122.79,1434.94 2123.81,1435.01 2124.83,1435.07 2125.86,1435.14 2126.88,1435.21 2127.9,1435.28 \n",
       "  2128.92,1435.35 2129.95,1435.41 2130.97,1435.48 2131.99,1435.55 2133.01,1435.62 2134.03,1435.69 2135.06,1435.75 2136.08,1435.82 2137.1,1435.89 2138.12,1435.96 \n",
       "  2139.15,1436.03 2140.17,1436.09 2141.19,1436.16 2142.21,1436.23 2143.23,1436.3 2144.26,1436.36 2145.28,1436.43 2146.3,1436.5 2147.32,1436.57 2148.35,1436.63 \n",
       "  2149.37,1436.7 2150.39,1436.77 2151.41,1436.84 2152.43,1436.9 2153.46,1436.97 2154.48,1437.04 2155.5,1437.1 2156.52,1437.17 2157.54,1437.24 2158.57,1437.31 \n",
       "  2159.59,1437.37 2160.61,1437.44 2161.63,1437.51 2162.66,1437.57 2163.68,1437.64 2164.7,1437.71 2165.72,1437.77 2166.74,1437.84 2167.77,1437.91 2168.79,1437.97 \n",
       "  2169.81,1438.04 2170.83,1438.11 2171.86,1438.17 2172.88,1438.24 2173.9,1438.31 2174.92,1438.37 2175.94,1438.44 2176.97,1438.5 2177.99,1438.57 2179.01,1438.64 \n",
       "  2180.03,1438.7 2181.06,1438.77 2182.08,1438.84 2183.1,1438.9 2184.12,1438.97 2185.14,1439.03 2186.17,1439.1 2187.19,1439.17 2188.21,1439.23 2189.23,1439.3 \n",
       "  2190.26,1439.36 2191.28,1439.43 2192.3,1439.49 2193.32,1439.56 2194.34,1439.63 2195.37,1439.69 2196.39,1439.76 2197.41,1439.82 2198.43,1439.89 2199.46,1439.95 \n",
       "  2200.48,1440.02 2201.5,1440.09 2202.52,1440.15 2203.54,1440.22 2204.57,1440.28 2205.59,1440.35 2206.61,1440.41 2207.63,1440.48 2208.66,1440.54 2209.68,1440.61 \n",
       "  2210.7,1440.67 2211.72,1440.74 2212.74,1440.8 2213.77,1440.87 2214.79,1440.93 2215.81,1441 2216.83,1441.06 2217.86,1441.13 2218.88,1441.19 2219.9,1441.26 \n",
       "  2220.92,1441.32 2221.94,1441.39 2222.97,1441.45 2223.99,1441.52 2225.01,1441.58 2226.03,1441.65 2227.06,1441.71 2228.08,1441.77 2229.1,1441.84 2230.12,1441.9 \n",
       "  2231.14,1441.97 2232.17,1442.03 2233.19,1442.1 2234.21,1442.16 2235.23,1442.23 2236.25,1442.29 2237.28,1442.35 2238.3,1442.42 2239.32,1442.48 2240.34,1442.55 \n",
       "  2241.37,1442.61 2242.39,1442.68 2243.41,1442.74 2244.43,1442.8 2245.45,1442.87 2246.48,1442.93 2247.5,1443 2248.52,1443.06 2249.54,1443.12 2250.57,1443.19 \n",
       "  2251.59,1443.25 2252.61,1443.31 2253.63,1443.38 2254.65,1443.44 2255.68,1443.51 2256.7,1443.57 2257.72,1443.63 2258.74,1443.7 2259.77,1443.76 2260.79,1443.82 \n",
       "  2261.81,1443.89 2262.83,1443.95 2263.85,1444.01 2264.88,1444.08 2265.9,1444.14 2266.92,1444.2 2267.94,1444.27 2268.97,1444.33 2269.99,1444.39 2271.01,1444.46 \n",
       "  2272.03,1444.52 2273.05,1444.58 2274.08,1444.65 2275.1,1444.71 2276.12,1444.77 2277.14,1444.84 2278.17,1444.9 2279.19,1444.96 2280.21,1445.03 2281.23,1445.09 \n",
       "  2282.25,1445.15 2283.28,1445.21 2284.3,1445.28 2285.32,1445.34 2286.34,1445.4 2287.37,1445.46 2288.39,1445.53 2289.41,1445.59 2290.43,1445.65 2291.45,1445.72 \n",
       "  \n",
       "  \"/>\n",
       "</svg>\n"
      ]
     },
     "metadata": {},
     "output_type": "display_data"
    }
   ],
   "source": [
    "plot(1:num_epochs, losses, legend=false)"
   ]
  },
  {
   "cell_type": "markdown",
   "id": "d188cf7a",
   "metadata": {
    "colab_type": "text",
    "id": "iOdv_QdIrREr"
   },
   "source": [
    "## 3. Evaluate our model\n",
    "\n",
    "In this section, you will evaluate your model on train set and test set and make some comment about the result."
   ]
  },
  {
   "cell_type": "markdown",
   "id": "9617edaf",
   "metadata": {},
   "source": [
    "### Evaluate model on training set"
   ]
  },
  {
   "cell_type": "code",
   "execution_count": 61,
   "id": "735be6ea",
   "metadata": {},
   "outputs": [
    {
     "name": "stdout",
     "output_type": "stream",
     "text": [
      " acc: 0.9146666666666666\n",
      " precision: 0.9671658986175116\n",
      " recall: 0.24903589439335508\n",
      " f1_score: 0.3960839820712432\n"
     ]
    },
    {
     "name": "stderr",
     "output_type": "stream",
     "text": [
      "┌ Warning: The classes are un-ordered,\n",
      "│ using: negative='0' and positive='1'.\n",
      "│ To suppress this warning, consider coercing to OrderedFactor.\n",
      "└ @ MLJBase C:\\Users\\Admin\\.julia\\packages\\MLJBase\\VTQPI\\src\\measures\\confusion_matrix.jl:116\n",
      "┌ Warning: The classes are un-ordered,\n",
      "│ using: negative='0' and positive='1'.\n",
      "│ To suppress this warning, consider coercing to OrderedFactor.\n",
      "└ @ MLJBase C:\\Users\\Admin\\.julia\\packages\\MLJBase\\VTQPI\\src\\measures\\confusion_matrix.jl:116\n"
     ]
    }
   ],
   "source": [
    "preds_train = predict(W, add_one_train_x)\n",
    "\n",
    "train_y_new = reshape(train_y_new, length(train_y_new), 1)\n",
    "acc = accuracy(preds_train, train_y_new)\n",
    "p = precision(preds_train, train_y_new)\n",
    "r = recall(preds_train, train_y_new)\n",
    "f1 = 2*p*r/(p + r)\n",
    "\n",
    "print(\" acc: $acc\\n precision: $p\\n recall: $r\\n f1_score: $f1\\n\")"
   ]
  },
  {
   "cell_type": "markdown",
   "id": "5a3c1298",
   "metadata": {},
   "source": [
    "### Evaluate model on test set\n",
    "\n",
    "In order to predict the result on test set, you have to perform data pre-process first. The pre-process is done exactly what we have done on train set. That means, you have to:\n",
    "\n",
    "- Change the label in `test_y` to `0` and `1` and store in a new variable named `test_y_new`\n",
    "- Calculate `test_intensity` and `test_symmetry` to form `test_x_new` (the shape should be `(10000,2)`)\n",
    "- Normalized `test_x_new` by z-score. Note the you will re-use variable `mean_` and `std_` to calculate `test_x_new` instead of compute new ones. You will store the result in `normalized_test_x`\n",
    "- Add a column that's full of one to `test_x_new` and store in `add_one_test_x` (the shape should be `(10000,3)`)"
   ]
  },
  {
   "cell_type": "code",
   "execution_count": 62,
   "id": "48cc1d4d",
   "metadata": {},
   "outputs": [
    {
     "data": {
      "text/plain": [
       "(10000, 3)"
      ]
     },
     "metadata": {},
     "output_type": "display_data"
    }
   ],
   "source": [
    "#TODO\n",
    "\n",
    "# compute test_y_new\n",
    "test_y_new =  reshape(deepcopy(test_y), (size(test_y)[1], 1))\n",
    "test_y_new[test_y_new .!= 1] .= 0\n",
    "# compute test_intensity and test_symmetry to form test_x_new\n",
    "test_intensity = (sum(test_x_flatten,dims=2) + sum(test_y,dims=2)) ./ 784\n",
    "test_symmetry = compute_symmetry(test_x_flatten)\n",
    "test_x_new = hcat(test_intensity,test_symmetry)\n",
    "# normalize test_x_new\n",
    "normalized_test_x = normalize(test_x_new, mean_, std_)\n",
    "# add ones to normalized_test_x\n",
    "add_one_test_x = hcat(ones(size(normalized_test_x)[1],), normalized_test_x)\n",
    "\n",
    "size(add_one_test_x)\n"
   ]
  },
  {
   "cell_type": "markdown",
   "id": "be01a35a",
   "metadata": {},
   "source": [
    "After doing all these stuffs, you now can predict and evaluate your model"
   ]
  },
  {
   "cell_type": "code",
   "execution_count": 63,
   "id": "74b30e4b",
   "metadata": {},
   "outputs": [
    {
     "name": "stdout",
     "output_type": "stream",
     "text": [
      " acc: 0.914\n",
      " precision: 0.9365079365079365\n",
      " recall: 0.2599118942731278\n",
      " f1_score: 0.40689655172413797\n"
     ]
    },
    {
     "name": "stderr",
     "output_type": "stream",
     "text": [
      "┌ Warning: The classes are un-ordered,\n",
      "│ using: negative='0' and positive='1'.\n",
      "│ To suppress this warning, consider coercing to OrderedFactor.\n",
      "└ @ MLJBase C:\\Users\\Admin\\.julia\\packages\\MLJBase\\VTQPI\\src\\measures\\confusion_matrix.jl:116\n",
      "┌ Warning: The classes are un-ordered,\n",
      "│ using: negative='0' and positive='1'.\n",
      "│ To suppress this warning, consider coercing to OrderedFactor.\n",
      "└ @ MLJBase C:\\Users\\Admin\\.julia\\packages\\MLJBase\\VTQPI\\src\\measures\\confusion_matrix.jl:116\n"
     ]
    }
   ],
   "source": [
    "preds_test = predict(W, add_one_test_x)\n",
    "\n",
    "test_y_new = reshape(test_y_new, length(test_y_new), 1)\n",
    "acc = accuracy(preds_test, test_y_new)\n",
    "p = precision(preds_test, test_y_new)\n",
    "r = recall(preds_test, test_y_new)\n",
    "f1 = 2*p*r/(p + r)\n",
    "\n",
    "print(\" acc: $acc\\n precision: $p\\n recall: $r\\n f1_score: $f1\\n\")"
   ]
  },
  {
   "cell_type": "markdown",
   "id": "8acd6681",
   "metadata": {
    "colab_type": "text",
    "id": "B1pwx72_rRFe"
   },
   "source": [
    "**TODO: Comment on the result**\n",
    "- Accuracy, Precision are high (>90%) but Recall low. Recall drags F1_score low too."
   ]
  }
 ],
 "metadata": {
  "kernelspec": {
   "display_name": "Julia 1.8.2",
   "language": "julia",
   "name": "julia-1.8"
  },
  "language_info": {
   "file_extension": ".jl",
   "mimetype": "application/julia",
   "name": "julia",
   "version": "1.8.2"
  }
 },
 "nbformat": 4,
 "nbformat_minor": 5
}
