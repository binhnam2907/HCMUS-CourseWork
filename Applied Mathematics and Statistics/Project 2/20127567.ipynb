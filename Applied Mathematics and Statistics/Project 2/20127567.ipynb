{
 "cells": [
  {
   "cell_type": "code",
   "execution_count": 13,
   "metadata": {},
   "outputs": [],
   "source": [
    "def create_identity_matrix(n):\n",
    " return [[1 if i == j else 0 for j in range(n)] for i in range(n)]"
   ]
  },
  {
   "cell_type": "code",
   "execution_count": 14,
   "metadata": {},
   "outputs": [],
   "source": [
    "def swap_row(A,I,i, j):\n",
    "    col = len(A[0])\n",
    "    for col1 in range (col): \n",
    "        temp = A[i][col1]\n",
    "        A[i][col1] = A[j][col1]\n",
    "        A[j][col1] = temp\n",
    "    for col1 in range (col): \n",
    "        temp = I[i][col1]\n",
    "        I[i][col1] = I[j][col1]\n",
    "        I[j][col1] = temp\n",
    "    return A"
   ]
  },
  {
   "cell_type": "code",
   "execution_count": 15,
   "metadata": {},
   "outputs": [],
   "source": [
    "def findNewRow(A, I , i, j):\n",
    "    row = len(A)\n",
    "    col = len(A[0])\n",
    "    for x in range(i+ 1, row):\n",
    "            if A[x][j] != 0:\n",
    "                swap_row(A,I, i , x)\n",
    "                return 1\n",
    "    return 0"
   ]
  },
  {
   "cell_type": "code",
   "execution_count": 16,
   "metadata": {},
   "outputs": [],
   "source": [
    "def sumRow(A,I,i,j,k):\n",
    "    n = len(A)\n",
    "    for x in range(n):\n",
    "        A[i][x]=A[i][x]+k*A[j][x]\n",
    "        I[i][x]=I[i][x]+k*I[j][x]\n",
    "\n",
    "def divRow(A,I,i,k):\n",
    "    n = len(A)\n",
    "    for j in range(n):\n",
    "        A[i][j]=A[i][j]/k\n",
    "        I[i][j]=I[i][j]/k\n",
    "  "
   ]
  },
  {
   "cell_type": "code",
   "execution_count": 17,
   "metadata": {},
   "outputs": [],
   "source": [
    "\n",
    "def inverse(A):\n",
    "    if (len(A) != len(A[0])):\n",
    "        print(\"Ma tran khong kha nghich\")\n",
    "        return None\n",
    "\n",
    "    n = len(A)\n",
    "    \n",
    "    I = create_identity_matrix(n)\n",
    "\n",
    "    pivot = 0\n",
    "    i=0\n",
    "    while i < n:\n",
    "        if A[i][pivot]==0:\n",
    "            flag = findNewRow(A,I,i+1,pivot)\n",
    "            if flag == 1:\n",
    "                continue\n",
    "            else:\n",
    "                print(\"Ma tran khong kha nghich\")\n",
    "                return None\n",
    "        else:\n",
    "            divRow(A,I,i,a[i][pivot])\n",
    "        for j in range(n):\n",
    "            if i!=j:\n",
    "                sumRow(A,I,j,i,-a[j][pivot])\n",
    "        pivot = pivot + 1\n",
    "        i+=1\n",
    "\n",
    "    \n",
    "    return I\n",
    "    \n"
   ]
  },
  {
   "cell_type": "code",
   "execution_count": 18,
   "metadata": {},
   "outputs": [
    {
     "data": {
      "text/plain": [
       "[[-40.0, 16.0, 9.0], [13.0, -5.0, -3.0], [5.0, -2.0, -1.0]]"
      ]
     },
     "execution_count": 18,
     "metadata": {},
     "output_type": "execute_result"
    }
   ],
   "source": [
    "#a=[[1,2,1],[3,7,3],[2,3,4]]\n",
    "#a=[[1,-1,2],[1,1,-2],[1,1,4]]\n",
    "a=[[1,2,3],[2,5,3],[1,0,8]]\n",
    "#a=[[-1,3,-4],[2,4,1],[-4,2,-9]]#Kh có nghịch đảo\n",
    "\n",
    "inverse(a)"
   ]
  }
 ],
 "metadata": {
  "interpreter": {
   "hash": "a42ccb73e7d9bfdf27e036f1d2b8b681e55fc0743cc5586bc2474d4a60f4b886"
  },
  "kernelspec": {
   "display_name": "Python 3.10.2 64-bit",
   "language": "python",
   "name": "python3"
  },
  "language_info": {
   "codemirror_mode": {
    "name": "ipython",
    "version": 3
   },
   "file_extension": ".py",
   "mimetype": "text/x-python",
   "name": "python",
   "nbconvert_exporter": "python",
   "pygments_lexer": "ipython3",
   "version": "3.10.2"
  },
  "orig_nbformat": 4
 },
 "nbformat": 4,
 "nbformat_minor": 2
}
