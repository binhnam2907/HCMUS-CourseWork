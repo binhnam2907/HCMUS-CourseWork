{
 "cells": [
  {
   "cell_type": "markdown",
   "metadata": {},
   "source": [
    "- Họ tên: Lê Nguyễn Bình Nam\n",
    "- Lớp: 20CLC03\n",
    "- MSSV: 20127567"
   ]
  },
  {
   "cell_type": "markdown",
   "metadata": {},
   "source": [
    "#### Câu 1:"
   ]
  },
  {
   "cell_type": "markdown",
   "metadata": {},
   "source": [
    "- Tạo vecto phân phối đầu"
   ]
  },
  {
   "cell_type": "code",
   "execution_count": 52,
   "metadata": {},
   "outputs": [],
   "source": [
    "def createHeadVec():\n",
    "    n = int(input(\"Nhap so luong trang thai: \"))\n",
    "    headDistribution = [[0 for i in range(1)]for j in range(n)]\n",
    "    for i in range(n):\n",
    "        x = input(\"Nhap phan phoi thuoc tinh\" + str(i+1) +\": \")\n",
    "        headDistribution[i][0] = float(x)\n",
    "    print(\"So luong trang thai m: \" + str(n))\n",
    "    print(\"Vector phan phoi dau: \")\n",
    "    print(headDistribution)\n",
    "    return n, headDistribution\n"
   ]
  },
  {
   "cell_type": "markdown",
   "metadata": {},
   "source": [
    "- Tạo ma trận chuyển với đầu vào là số lượng trạng thái nhập từ trước:"
   ]
  },
  {
   "cell_type": "code",
   "execution_count": 54,
   "metadata": {},
   "outputs": [],
   "source": [
    "def createMatrix1(n):\n",
    "    transformMatrix = [[0 for i in range(n)] for j in range(n)]\n",
    "\n",
    "    for j in range(n):\n",
    "        for i in range(n):\n",
    "            x = input(\"Nhap gia tri thu [\" + str(i)+ \"][\"+ str(j)+ \"] : \")\n",
    "            if(x == \"0\"):\n",
    "                transformMatrix[i][j] = float(x)\n",
    "            else:\n",
    "                num, den = x.split(\"/\")\n",
    "                transformMatrix[i][j] = float(float(num)/ float(den))\n",
    "    print(\"Ma tran chuyen: \")\n",
    "    print(transformMatrix)\n",
    "    return transformMatrix"
   ]
  },
  {
   "cell_type": "markdown",
   "metadata": {},
   "source": [
    "#### Câu 2:"
   ]
  },
  {
   "cell_type": "markdown",
   "metadata": {},
   "source": [
    "- Hàm nhân 2 ma trận:"
   ]
  },
  {
   "cell_type": "code",
   "execution_count": 55,
   "metadata": {},
   "outputs": [],
   "source": [
    "def multiMatrix(a,b):\n",
    "    if len(a[0]) != len(b):\n",
    "        print(\"Cant multi two matrix\")\n",
    "        return 0\n",
    "    n = len(a)\n",
    "    m = len(b[0])\n",
    "    p = len(b)\n",
    "    c = [[0 for i in range(m)] for j in range(n)]\n",
    "    for i in range(n):\n",
    "        for j in range(m):\n",
    "            for k in range(p):\n",
    "                c[i][j] = c[i][j] + a[i][k] * b[k][j]\n",
    "    return c"
   ]
  },
  {
   "cell_type": "markdown",
   "metadata": {},
   "source": [
    "- Hàm lũy thừa ma trận:"
   ]
  },
  {
   "cell_type": "code",
   "execution_count": 56,
   "metadata": {},
   "outputs": [],
   "source": [
    "def create_identity_matrix(n):\n",
    " return [[1 if i == j else 0 for j in range(n)] for i in range(n)]\n",
    "\n",
    "\n",
    "def powMatrix(a,n):\n",
    "    if n == 0:\n",
    "        return create_identity_matrix(n)\n",
    "    if n == 1:\n",
    "        return a\n",
    "    re = a\n",
    "    for i in range(n-1):\n",
    "        re = multiMatrix(re, a)\n",
    "    return re"
   ]
  },
  {
   "cell_type": "markdown",
   "metadata": {},
   "source": [
    "- Hàm tính phân phối xác suất tại thời điểm người dùng nhập vào:"
   ]
  },
  {
   "cell_type": "code",
   "execution_count": 57,
   "metadata": {},
   "outputs": [],
   "source": [
    "def VecAfterNStep(matrix, pi0):\n",
    "    n = int(input(\"Nhap vao thoi diem n: \"))\n",
    "\n",
    "    newMatrix = powMatrix(matrix, n)\n",
    "    vecAtN = multiMatrix(newMatrix, pi0)\n",
    "\n",
    "    print(\"Vector phan phoi xac suat tai thoi diem thu \" + str(n) + \" : \")\n",
    "    print(vecAtN)\n",
    "\n",
    "    return vecAtN\n",
    "    "
   ]
  },
  {
   "cell_type": "markdown",
   "metadata": {},
   "source": [
    "#### Câu 3:"
   ]
  },
  {
   "cell_type": "code",
   "execution_count": 66,
   "metadata": {},
   "outputs": [],
   "source": [
    "def minusMatrix(a):\n",
    "    b = create_identity_matrix(len(a))\n",
    "    n = len(a)\n",
    "    m = len(b)\n",
    "    re = [[0 for i in range(m)] for j in range(n)]\n",
    "    for i in range(n):\n",
    "        for j in range(m):\n",
    "            re[i][j] = a[i][j] - b[i][j]\n",
    "    return re\n",
    "def swap_row(A,i, j):\n",
    "    col = len(A[0])\n",
    "    for col1 in range (col): \n",
    "        temp = A[i][col1]\n",
    "        A[i][col1] = A[j][col1]\n",
    "        A[j][col1] = temp\n",
    "    return A\n",
    "\n",
    "def mul_scalar(A, i,k):\n",
    "    col = len(A[0])\n",
    "    for j in range(col):\n",
    "        A[i][j]= A[i][j] * k\n",
    "    return A\n",
    "\n",
    "def add_row(A, i, j, k):\n",
    "    col = len(A[0])\n",
    "    for col12 in range(col):     \n",
    "        A[i][col12] = A[i][col12] + k*A[j][col12]\n",
    "    return A\n",
    "def findNewRow(A , i, j):\n",
    "    row = len(A)\n",
    "    col = len(A[0])\n",
    "    for x in range(i+ 1, row):\n",
    "            if A[x][j] != 0:\n",
    "                swap_row(A, i , x)\n",
    "                return 1\n",
    "    return 0"
   ]
  },
  {
   "cell_type": "code",
   "execution_count": 67,
   "metadata": {},
   "outputs": [],
   "source": [
    "def gauss_elimination(A):\n",
    "    row = len(A)\n",
    "    col = len(A[0])\n",
    "    if A[0][0] == 0:\n",
    "        for i in range(1, row):\n",
    "            if A[i][0]!= 0:\n",
    "                swap_row(A, 0 , i)\n",
    "                break\n",
    "    posCol = 0\n",
    "    for i in range(1 ,row):\n",
    "        if posCol == col -2:\n",
    "            break\n",
    "        if A[i-1][posCol] == 0:\n",
    "            while(True):\n",
    "                flag = findNewRow(A, i-1, posCol)\n",
    "                if flag == 1:\n",
    "                    break\n",
    "                else:\n",
    "                    posCol +=1\n",
    "                    if A[i-1][posCol] != 0:\n",
    "                        break\n",
    "        A = mul_scalar(A, i-1, 1/A[i-1][posCol])\n",
    "        temp = A[i-1][posCol]\n",
    "        pos = i-1\n",
    "        for j in range(i, row):\n",
    "            devide = A[j][posCol]/temp\n",
    "            A = add_row(A,j ,i-1, -devide)\n",
    "        posCol+=1\n",
    "\n",
    "    # xoa di nhung phuong trinh ma tat ca he so bang 0   \n",
    "    for i in range(row - 1, -1, -1):\n",
    "        if any(A[i]):\n",
    "            break\n",
    "        A.pop(i)\n",
    "        i -= 1\n",
    "        row -= 1    \n",
    "    return A  "
   ]
  },
  {
   "cell_type": "code",
   "execution_count": null,
   "metadata": {},
   "outputs": [],
   "source": []
  },
  {
   "cell_type": "markdown",
   "metadata": {},
   "source": [
    "#### Câu 4:"
   ]
  },
  {
   "cell_type": "markdown",
   "metadata": {},
   "source": [
    "##### a"
   ]
  },
  {
   "cell_type": "code",
   "execution_count": 59,
   "metadata": {},
   "outputs": [
    {
     "name": "stdout",
     "output_type": "stream",
     "text": [
      "So luong trang thai m: 3\n",
      "Vector phan phoi dau: \n",
      "[[0.3], [0.3], [0.4]]\n"
     ]
    }
   ],
   "source": [
    "n, vec = createHeadVec()"
   ]
  },
  {
   "cell_type": "code",
   "execution_count": 60,
   "metadata": {},
   "outputs": [
    {
     "name": "stdout",
     "output_type": "stream",
     "text": [
      "Ma tran chuyen: \n",
      "[[0.3333333333333333, 0.5, 0.0], [0.3333333333333333, 0.0, 0.25], [0.3333333333333333, 0.5, 0.75]]\n"
     ]
    }
   ],
   "source": [
    "trans = createMatrix1(n)"
   ]
  },
  {
   "cell_type": "markdown",
   "metadata": {},
   "source": [
    "##### b"
   ]
  },
  {
   "cell_type": "code",
   "execution_count": 61,
   "metadata": {},
   "outputs": [
    {
     "name": "stdout",
     "output_type": "stream",
     "text": [
      "Vector phan phoi xac suat tai thoi diem thu 4 : \n",
      "[[0.16221064814814815], [0.21177662037037037], [0.6260127314814814]]\n"
     ]
    }
   ],
   "source": [
    "vec1 = VecAfterNStep(trans, vec)"
   ]
  },
  {
   "cell_type": "markdown",
   "metadata": {},
   "source": [
    "##### c"
   ]
  },
  {
   "cell_type": "code",
   "execution_count": 70,
   "metadata": {},
   "outputs": [
    {
     "data": {
      "text/plain": [
       "[[1.0, -0.7499999999999999, -0.0], [0.0, -0.75, 0.25], [0.0, 0.75, -0.25]]"
      ]
     },
     "execution_count": 70,
     "metadata": {},
     "output_type": "execute_result"
    }
   ],
   "source": [
    "new = minusMatrix(trans)\n",
    "gauss_elimination(new)\n",
    "new"
   ]
  }
 ],
 "metadata": {
  "kernelspec": {
   "display_name": "Python 3.10.2 64-bit",
   "language": "python",
   "name": "python3"
  },
  "language_info": {
   "codemirror_mode": {
    "name": "ipython",
    "version": 3
   },
   "file_extension": ".py",
   "mimetype": "text/x-python",
   "name": "python",
   "nbconvert_exporter": "python",
   "pygments_lexer": "ipython3",
   "version": "3.10.2"
  },
  "orig_nbformat": 4,
  "vscode": {
   "interpreter": {
    "hash": "a42ccb73e7d9bfdf27e036f1d2b8b681e55fc0743cc5586bc2474d4a60f4b886"
   }
  }
 },
 "nbformat": 4,
 "nbformat_minor": 2
}
