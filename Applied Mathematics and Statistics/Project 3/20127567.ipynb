{
 "cells": [
  {
   "cell_type": "markdown",
   "metadata": {},
   "source": [
    "# Thư viện và mô tả dữ liệu"
   ]
  },
  {
   "cell_type": "code",
   "execution_count": 32,
   "metadata": {},
   "outputs": [],
   "source": [
    "import numpy as np\n",
    "import pandas as pd\n",
    "import matplotlib.pyplot as plt"
   ]
  },
  {
   "cell_type": "code",
   "execution_count": 33,
   "metadata": {},
   "outputs": [
    {
     "data": {
      "text/html": [
       "<div>\n",
       "<style scoped>\n",
       "    .dataframe tbody tr th:only-of-type {\n",
       "        vertical-align: middle;\n",
       "    }\n",
       "\n",
       "    .dataframe tbody tr th {\n",
       "        vertical-align: top;\n",
       "    }\n",
       "\n",
       "    .dataframe thead th {\n",
       "        text-align: right;\n",
       "    }\n",
       "</style>\n",
       "<table border=\"1\" class=\"dataframe\">\n",
       "  <thead>\n",
       "    <tr style=\"text-align: right;\">\n",
       "      <th></th>\n",
       "      <th>fixed acidity</th>\n",
       "      <th>volatile acidity</th>\n",
       "      <th>citric acid</th>\n",
       "      <th>residual sugar</th>\n",
       "      <th>chlorides</th>\n",
       "      <th>free sulfur dioxide</th>\n",
       "      <th>total sulfur dioxide</th>\n",
       "      <th>density</th>\n",
       "      <th>pH</th>\n",
       "      <th>sulphates</th>\n",
       "      <th>alcohol</th>\n",
       "      <th>quality</th>\n",
       "    </tr>\n",
       "  </thead>\n",
       "  <tbody>\n",
       "    <tr>\n",
       "      <th>0</th>\n",
       "      <td>7.4</td>\n",
       "      <td>0.700</td>\n",
       "      <td>0.00</td>\n",
       "      <td>1.9</td>\n",
       "      <td>0.076</td>\n",
       "      <td>11.0</td>\n",
       "      <td>34</td>\n",
       "      <td>0.99780</td>\n",
       "      <td>3.51</td>\n",
       "      <td>0.56</td>\n",
       "      <td>9.4</td>\n",
       "      <td>5</td>\n",
       "    </tr>\n",
       "    <tr>\n",
       "      <th>1</th>\n",
       "      <td>7.8</td>\n",
       "      <td>0.880</td>\n",
       "      <td>0.00</td>\n",
       "      <td>2.6</td>\n",
       "      <td>0.098</td>\n",
       "      <td>25.0</td>\n",
       "      <td>67</td>\n",
       "      <td>0.99680</td>\n",
       "      <td>3.20</td>\n",
       "      <td>0.68</td>\n",
       "      <td>9.8</td>\n",
       "      <td>5</td>\n",
       "    </tr>\n",
       "    <tr>\n",
       "      <th>2</th>\n",
       "      <td>7.8</td>\n",
       "      <td>0.760</td>\n",
       "      <td>0.04</td>\n",
       "      <td>2.3</td>\n",
       "      <td>0.092</td>\n",
       "      <td>15.0</td>\n",
       "      <td>54</td>\n",
       "      <td>0.99700</td>\n",
       "      <td>3.26</td>\n",
       "      <td>0.65</td>\n",
       "      <td>9.8</td>\n",
       "      <td>5</td>\n",
       "    </tr>\n",
       "    <tr>\n",
       "      <th>3</th>\n",
       "      <td>11.2</td>\n",
       "      <td>0.280</td>\n",
       "      <td>0.56</td>\n",
       "      <td>1.9</td>\n",
       "      <td>0.075</td>\n",
       "      <td>17.0</td>\n",
       "      <td>60</td>\n",
       "      <td>0.99800</td>\n",
       "      <td>3.16</td>\n",
       "      <td>0.58</td>\n",
       "      <td>9.8</td>\n",
       "      <td>6</td>\n",
       "    </tr>\n",
       "    <tr>\n",
       "      <th>4</th>\n",
       "      <td>7.4</td>\n",
       "      <td>0.700</td>\n",
       "      <td>0.00</td>\n",
       "      <td>1.9</td>\n",
       "      <td>0.076</td>\n",
       "      <td>11.0</td>\n",
       "      <td>34</td>\n",
       "      <td>0.99780</td>\n",
       "      <td>3.51</td>\n",
       "      <td>0.56</td>\n",
       "      <td>9.4</td>\n",
       "      <td>5</td>\n",
       "    </tr>\n",
       "    <tr>\n",
       "      <th>...</th>\n",
       "      <td>...</td>\n",
       "      <td>...</td>\n",
       "      <td>...</td>\n",
       "      <td>...</td>\n",
       "      <td>...</td>\n",
       "      <td>...</td>\n",
       "      <td>...</td>\n",
       "      <td>...</td>\n",
       "      <td>...</td>\n",
       "      <td>...</td>\n",
       "      <td>...</td>\n",
       "      <td>...</td>\n",
       "    </tr>\n",
       "    <tr>\n",
       "      <th>1194</th>\n",
       "      <td>7.0</td>\n",
       "      <td>0.745</td>\n",
       "      <td>0.12</td>\n",
       "      <td>1.8</td>\n",
       "      <td>0.114</td>\n",
       "      <td>15.0</td>\n",
       "      <td>64</td>\n",
       "      <td>0.99588</td>\n",
       "      <td>3.22</td>\n",
       "      <td>0.59</td>\n",
       "      <td>9.5</td>\n",
       "      <td>6</td>\n",
       "    </tr>\n",
       "    <tr>\n",
       "      <th>1195</th>\n",
       "      <td>6.2</td>\n",
       "      <td>0.430</td>\n",
       "      <td>0.22</td>\n",
       "      <td>1.8</td>\n",
       "      <td>0.078</td>\n",
       "      <td>21.0</td>\n",
       "      <td>56</td>\n",
       "      <td>0.99633</td>\n",
       "      <td>3.52</td>\n",
       "      <td>0.60</td>\n",
       "      <td>9.5</td>\n",
       "      <td>6</td>\n",
       "    </tr>\n",
       "    <tr>\n",
       "      <th>1196</th>\n",
       "      <td>7.9</td>\n",
       "      <td>0.580</td>\n",
       "      <td>0.23</td>\n",
       "      <td>2.3</td>\n",
       "      <td>0.076</td>\n",
       "      <td>23.0</td>\n",
       "      <td>94</td>\n",
       "      <td>0.99686</td>\n",
       "      <td>3.21</td>\n",
       "      <td>0.58</td>\n",
       "      <td>9.5</td>\n",
       "      <td>6</td>\n",
       "    </tr>\n",
       "    <tr>\n",
       "      <th>1197</th>\n",
       "      <td>7.7</td>\n",
       "      <td>0.570</td>\n",
       "      <td>0.21</td>\n",
       "      <td>1.5</td>\n",
       "      <td>0.069</td>\n",
       "      <td>4.0</td>\n",
       "      <td>9</td>\n",
       "      <td>0.99458</td>\n",
       "      <td>3.16</td>\n",
       "      <td>0.54</td>\n",
       "      <td>9.8</td>\n",
       "      <td>6</td>\n",
       "    </tr>\n",
       "    <tr>\n",
       "      <th>1198</th>\n",
       "      <td>7.7</td>\n",
       "      <td>0.260</td>\n",
       "      <td>0.26</td>\n",
       "      <td>2.0</td>\n",
       "      <td>0.052</td>\n",
       "      <td>19.0</td>\n",
       "      <td>77</td>\n",
       "      <td>0.99510</td>\n",
       "      <td>3.15</td>\n",
       "      <td>0.79</td>\n",
       "      <td>10.9</td>\n",
       "      <td>6</td>\n",
       "    </tr>\n",
       "  </tbody>\n",
       "</table>\n",
       "<p>1199 rows × 12 columns</p>\n",
       "</div>"
      ],
      "text/plain": [
       "      fixed acidity  volatile acidity  citric acid  residual sugar  chlorides  \\\n",
       "0               7.4             0.700         0.00             1.9      0.076   \n",
       "1               7.8             0.880         0.00             2.6      0.098   \n",
       "2               7.8             0.760         0.04             2.3      0.092   \n",
       "3              11.2             0.280         0.56             1.9      0.075   \n",
       "4               7.4             0.700         0.00             1.9      0.076   \n",
       "...             ...               ...          ...             ...        ...   \n",
       "1194            7.0             0.745         0.12             1.8      0.114   \n",
       "1195            6.2             0.430         0.22             1.8      0.078   \n",
       "1196            7.9             0.580         0.23             2.3      0.076   \n",
       "1197            7.7             0.570         0.21             1.5      0.069   \n",
       "1198            7.7             0.260         0.26             2.0      0.052   \n",
       "\n",
       "      free sulfur dioxide  total sulfur dioxide  density    pH  sulphates  \\\n",
       "0                    11.0                    34  0.99780  3.51       0.56   \n",
       "1                    25.0                    67  0.99680  3.20       0.68   \n",
       "2                    15.0                    54  0.99700  3.26       0.65   \n",
       "3                    17.0                    60  0.99800  3.16       0.58   \n",
       "4                    11.0                    34  0.99780  3.51       0.56   \n",
       "...                   ...                   ...      ...   ...        ...   \n",
       "1194                 15.0                    64  0.99588  3.22       0.59   \n",
       "1195                 21.0                    56  0.99633  3.52       0.60   \n",
       "1196                 23.0                    94  0.99686  3.21       0.58   \n",
       "1197                  4.0                     9  0.99458  3.16       0.54   \n",
       "1198                 19.0                    77  0.99510  3.15       0.79   \n",
       "\n",
       "      alcohol  quality  \n",
       "0         9.4        5  \n",
       "1         9.8        5  \n",
       "2         9.8        5  \n",
       "3         9.8        6  \n",
       "4         9.4        5  \n",
       "...       ...      ...  \n",
       "1194      9.5        6  \n",
       "1195      9.5        6  \n",
       "1196      9.5        6  \n",
       "1197      9.8        6  \n",
       "1198     10.9        6  \n",
       "\n",
       "[1199 rows x 12 columns]"
      ]
     },
     "execution_count": 33,
     "metadata": {},
     "output_type": "execute_result"
    }
   ],
   "source": [
    "df = pd.read_csv('wine.csv', sep=';')\n",
    "df"
   ]
  },
  {
   "cell_type": "code",
   "execution_count": 34,
   "metadata": {},
   "outputs": [
    {
     "data": {
      "text/html": [
       "<div>\n",
       "<style scoped>\n",
       "    .dataframe tbody tr th:only-of-type {\n",
       "        vertical-align: middle;\n",
       "    }\n",
       "\n",
       "    .dataframe tbody tr th {\n",
       "        vertical-align: top;\n",
       "    }\n",
       "\n",
       "    .dataframe thead th {\n",
       "        text-align: right;\n",
       "    }\n",
       "</style>\n",
       "<table border=\"1\" class=\"dataframe\">\n",
       "  <thead>\n",
       "    <tr style=\"text-align: right;\">\n",
       "      <th></th>\n",
       "      <th>fixed acidity</th>\n",
       "      <th>volatile acidity</th>\n",
       "      <th>citric acid</th>\n",
       "      <th>residual sugar</th>\n",
       "      <th>chlorides</th>\n",
       "      <th>free sulfur dioxide</th>\n",
       "      <th>total sulfur dioxide</th>\n",
       "      <th>density</th>\n",
       "      <th>pH</th>\n",
       "      <th>sulphates</th>\n",
       "      <th>alcohol</th>\n",
       "      <th>quality</th>\n",
       "    </tr>\n",
       "  </thead>\n",
       "  <tbody>\n",
       "    <tr>\n",
       "      <th>count</th>\n",
       "      <td>1199.000000</td>\n",
       "      <td>1199.000000</td>\n",
       "      <td>1199.000000</td>\n",
       "      <td>1199.000000</td>\n",
       "      <td>1199.000000</td>\n",
       "      <td>1199.000000</td>\n",
       "      <td>1199.000000</td>\n",
       "      <td>1199.000000</td>\n",
       "      <td>1199.000000</td>\n",
       "      <td>1199.000000</td>\n",
       "      <td>1199.000000</td>\n",
       "      <td>1199.000000</td>\n",
       "    </tr>\n",
       "    <tr>\n",
       "      <th>mean</th>\n",
       "      <td>8.625271</td>\n",
       "      <td>0.519133</td>\n",
       "      <td>0.293353</td>\n",
       "      <td>2.564470</td>\n",
       "      <td>0.089266</td>\n",
       "      <td>15.242702</td>\n",
       "      <td>46.884070</td>\n",
       "      <td>0.997059</td>\n",
       "      <td>3.298582</td>\n",
       "      <td>0.665738</td>\n",
       "      <td>10.383069</td>\n",
       "      <td>5.664721</td>\n",
       "    </tr>\n",
       "    <tr>\n",
       "      <th>std</th>\n",
       "      <td>1.781795</td>\n",
       "      <td>0.179208</td>\n",
       "      <td>0.196751</td>\n",
       "      <td>1.264441</td>\n",
       "      <td>0.048310</td>\n",
       "      <td>10.210406</td>\n",
       "      <td>33.949177</td>\n",
       "      <td>0.001878</td>\n",
       "      <td>0.156161</td>\n",
       "      <td>0.175921</td>\n",
       "      <td>1.091891</td>\n",
       "      <td>0.809593</td>\n",
       "    </tr>\n",
       "    <tr>\n",
       "      <th>min</th>\n",
       "      <td>4.600000</td>\n",
       "      <td>0.120000</td>\n",
       "      <td>0.000000</td>\n",
       "      <td>0.900000</td>\n",
       "      <td>0.012000</td>\n",
       "      <td>1.000000</td>\n",
       "      <td>6.000000</td>\n",
       "      <td>0.990070</td>\n",
       "      <td>2.740000</td>\n",
       "      <td>0.330000</td>\n",
       "      <td>8.400000</td>\n",
       "      <td>3.000000</td>\n",
       "    </tr>\n",
       "    <tr>\n",
       "      <th>25%</th>\n",
       "      <td>7.300000</td>\n",
       "      <td>0.390000</td>\n",
       "      <td>0.120000</td>\n",
       "      <td>1.900000</td>\n",
       "      <td>0.071000</td>\n",
       "      <td>7.000000</td>\n",
       "      <td>21.000000</td>\n",
       "      <td>0.996000</td>\n",
       "      <td>3.195000</td>\n",
       "      <td>0.560000</td>\n",
       "      <td>9.500000</td>\n",
       "      <td>5.000000</td>\n",
       "    </tr>\n",
       "    <tr>\n",
       "      <th>50%</th>\n",
       "      <td>8.300000</td>\n",
       "      <td>0.500000</td>\n",
       "      <td>0.290000</td>\n",
       "      <td>2.200000</td>\n",
       "      <td>0.080000</td>\n",
       "      <td>13.000000</td>\n",
       "      <td>38.000000</td>\n",
       "      <td>0.997020</td>\n",
       "      <td>3.300000</td>\n",
       "      <td>0.620000</td>\n",
       "      <td>10.000000</td>\n",
       "      <td>6.000000</td>\n",
       "    </tr>\n",
       "    <tr>\n",
       "      <th>75%</th>\n",
       "      <td>9.600000</td>\n",
       "      <td>0.630000</td>\n",
       "      <td>0.450000</td>\n",
       "      <td>2.700000</td>\n",
       "      <td>0.092000</td>\n",
       "      <td>21.000000</td>\n",
       "      <td>63.000000</td>\n",
       "      <td>0.998175</td>\n",
       "      <td>3.390000</td>\n",
       "      <td>0.735000</td>\n",
       "      <td>11.000000</td>\n",
       "      <td>6.000000</td>\n",
       "    </tr>\n",
       "    <tr>\n",
       "      <th>max</th>\n",
       "      <td>15.900000</td>\n",
       "      <td>1.330000</td>\n",
       "      <td>1.000000</td>\n",
       "      <td>15.500000</td>\n",
       "      <td>0.611000</td>\n",
       "      <td>68.000000</td>\n",
       "      <td>289.000000</td>\n",
       "      <td>1.003200</td>\n",
       "      <td>3.900000</td>\n",
       "      <td>2.000000</td>\n",
       "      <td>14.900000</td>\n",
       "      <td>8.000000</td>\n",
       "    </tr>\n",
       "  </tbody>\n",
       "</table>\n",
       "</div>"
      ],
      "text/plain": [
       "       fixed acidity  volatile acidity  citric acid  residual sugar  \\\n",
       "count    1199.000000       1199.000000  1199.000000     1199.000000   \n",
       "mean        8.625271          0.519133     0.293353        2.564470   \n",
       "std         1.781795          0.179208     0.196751        1.264441   \n",
       "min         4.600000          0.120000     0.000000        0.900000   \n",
       "25%         7.300000          0.390000     0.120000        1.900000   \n",
       "50%         8.300000          0.500000     0.290000        2.200000   \n",
       "75%         9.600000          0.630000     0.450000        2.700000   \n",
       "max        15.900000          1.330000     1.000000       15.500000   \n",
       "\n",
       "         chlorides  free sulfur dioxide  total sulfur dioxide      density  \\\n",
       "count  1199.000000          1199.000000           1199.000000  1199.000000   \n",
       "mean      0.089266            15.242702             46.884070     0.997059   \n",
       "std       0.048310            10.210406             33.949177     0.001878   \n",
       "min       0.012000             1.000000              6.000000     0.990070   \n",
       "25%       0.071000             7.000000             21.000000     0.996000   \n",
       "50%       0.080000            13.000000             38.000000     0.997020   \n",
       "75%       0.092000            21.000000             63.000000     0.998175   \n",
       "max       0.611000            68.000000            289.000000     1.003200   \n",
       "\n",
       "                pH    sulphates      alcohol      quality  \n",
       "count  1199.000000  1199.000000  1199.000000  1199.000000  \n",
       "mean      3.298582     0.665738    10.383069     5.664721  \n",
       "std       0.156161     0.175921     1.091891     0.809593  \n",
       "min       2.740000     0.330000     8.400000     3.000000  \n",
       "25%       3.195000     0.560000     9.500000     5.000000  \n",
       "50%       3.300000     0.620000    10.000000     6.000000  \n",
       "75%       3.390000     0.735000    11.000000     6.000000  \n",
       "max       3.900000     2.000000    14.900000     8.000000  "
      ]
     },
     "execution_count": 34,
     "metadata": {},
     "output_type": "execute_result"
    }
   ],
   "source": [
    "df.describe()"
   ]
  },
  {
   "cell_type": "code",
   "execution_count": 35,
   "metadata": {},
   "outputs": [
    {
     "name": "stdout",
     "output_type": "stream",
     "text": [
      "<class 'pandas.core.frame.DataFrame'>\n",
      "RangeIndex: 1199 entries, 0 to 1198\n",
      "Data columns (total 12 columns):\n",
      " #   Column                Non-Null Count  Dtype  \n",
      "---  ------                --------------  -----  \n",
      " 0   fixed acidity         1199 non-null   float64\n",
      " 1   volatile acidity      1199 non-null   float64\n",
      " 2   citric acid           1199 non-null   float64\n",
      " 3   residual sugar        1199 non-null   float64\n",
      " 4   chlorides             1199 non-null   float64\n",
      " 5   free sulfur dioxide   1199 non-null   float64\n",
      " 6   total sulfur dioxide  1199 non-null   int64  \n",
      " 7   density               1199 non-null   float64\n",
      " 8   pH                    1199 non-null   float64\n",
      " 9   sulphates             1199 non-null   float64\n",
      " 10  alcohol               1199 non-null   float64\n",
      " 11  quality               1199 non-null   int64  \n",
      "dtypes: float64(10), int64(2)\n",
      "memory usage: 112.5 KB\n"
     ]
    }
   ],
   "source": [
    "df.info()"
   ]
  },
  {
   "cell_type": "markdown",
   "metadata": {},
   "source": [
    "# Câu a:"
   ]
  },
  {
   "cell_type": "code",
   "execution_count": 36,
   "metadata": {},
   "outputs": [],
   "source": [
    "def getAb(df):\n",
    "    y = np.array(df[\"quality\"])\n",
    "    n1= len(y)\n",
    "    b = y.reshape(n1, 1)\n",
    "    \n",
    "    x1 = np.array(df[\"fixed acidity\"])\n",
    "    x2 = np.array(df[\"volatile acidity\"])\n",
    "    x3 = np.array(df[\"citric acid\"])\n",
    "    x4 = np.array(df[\"residual sugar\"])\n",
    "    x5 = np.array(df[\"chlorides\"])\n",
    "    x6 = np.array(df[\"free sulfur dioxide\"])\n",
    "    x7 = np.array(df[\"total sulfur dioxide\"])\n",
    "    x8 = np.array(df[\"density\"])\n",
    "    x9 = np.array(df[\"pH\"])\n",
    "    x10 = np.array(df[\"sulphates\"])\n",
    "    x11 = np.array(df[\"alcohol\"])\n",
    "\n",
    "    A = [x1,x2,x3,x4,x5,x6,x7,x8,x9,x10,x11]\n",
    "    \n",
    "    A = np.transpose(A)\n",
    "\n",
    "    return A ,b"
   ]
  },
  {
   "cell_type": "code",
   "execution_count": 37,
   "metadata": {},
   "outputs": [],
   "source": [
    "x, y = getAb(df)\n"
   ]
  },
  {
   "cell_type": "code",
   "execution_count": 38,
   "metadata": {},
   "outputs": [
    {
     "data": {
      "text/plain": [
       "array([[ 7.4 ,  0.7 ,  0.  , ...,  3.51,  0.56,  9.4 ],\n",
       "       [ 7.8 ,  0.88,  0.  , ...,  3.2 ,  0.68,  9.8 ],\n",
       "       [ 7.8 ,  0.76,  0.04, ...,  3.26,  0.65,  9.8 ],\n",
       "       ...,\n",
       "       [ 7.9 ,  0.58,  0.23, ...,  3.21,  0.58,  9.5 ],\n",
       "       [ 7.7 ,  0.57,  0.21, ...,  3.16,  0.54,  9.8 ],\n",
       "       [ 7.7 ,  0.26,  0.26, ...,  3.15,  0.79, 10.9 ]])"
      ]
     },
     "execution_count": 38,
     "metadata": {},
     "output_type": "execute_result"
    }
   ],
   "source": [
    "x"
   ]
  },
  {
   "cell_type": "code",
   "execution_count": 39,
   "metadata": {},
   "outputs": [
    {
     "data": {
      "text/plain": [
       "array([[5],\n",
       "       [5],\n",
       "       [5],\n",
       "       ...,\n",
       "       [6],\n",
       "       [6],\n",
       "       [6]], dtype=int64)"
      ]
     },
     "execution_count": 39,
     "metadata": {},
     "output_type": "execute_result"
    }
   ],
   "source": [
    "y"
   ]
  },
  {
   "cell_type": "code",
   "execution_count": 40,
   "metadata": {},
   "outputs": [
    {
     "data": {
      "text/plain": [
       "array([[ 5.92516137e-03],\n",
       "       [-1.10803754e+00],\n",
       "       [-2.63046284e-01],\n",
       "       [ 1.53222831e-02],\n",
       "       [-1.73050274e+00],\n",
       "       [ 3.80141908e-03],\n",
       "       [-3.89899869e-03],\n",
       "       [ 4.33858768e+00],\n",
       "       [-4.58535475e-01],\n",
       "       [ 7.29718662e-01],\n",
       "       [ 3.08858648e-01]])"
      ]
     },
     "execution_count": 40,
     "metadata": {},
     "output_type": "execute_result"
    }
   ],
   "source": [
    "thetafull = np.linalg.inv(np.transpose(x)@x) @ (np.transpose(x)@y)\n",
    "\n",
    "thetafull"
   ]
  },
  {
   "cell_type": "code",
   "execution_count": 41,
   "metadata": {},
   "outputs": [
    {
     "data": {
      "text/plain": [
       "22.12434596534916"
      ]
     },
     "execution_count": 41,
     "metadata": {},
     "output_type": "execute_result"
    }
   ],
   "source": [
    "r = np.linalg.norm(x@thetafull - y)\n",
    "r"
   ]
  },
  {
   "cell_type": "code",
   "execution_count": 42,
   "metadata": {},
   "outputs": [
    {
     "name": "stdout",
     "output_type": "stream",
     "text": [
      "Model is:\n",
      "y = [0.00592516]x1 + [-1.10803754]x2 + [-0.26304628]x3 + [0.01532228]x4 + [-1.73050274]x5 + [0.00380142]x6 + [-0.003899]x7 + [4.33858768]x8 + [-0.45853548]x9 + [0.72971866]x10 + [0.30885865]x11\n"
     ]
    }
   ],
   "source": [
    "print(\"Model is:\")\n",
    "\n",
    "print(\"y = \" + str(thetafull[0]) + \"x1 + \" + str(thetafull[1]) + \"x2 + \"+ str(thetafull[2]) + \"x3 + \"+ str(thetafull[3]) + \"x4 + \"\n",
    "+ str(thetafull[4]) + \"x5 + \"+ str(thetafull[5]) + \"x6 + \"+ str(thetafull[6]) + \"x7 + \"+ str(thetafull[7]) + \"x8 + \"+ \n",
    "str(thetafull[8]) + \"x9 + \"+ str(thetafull[9]) + \"x10 + \"+ str(thetafull[10]) + \"x11\") "
   ]
  },
  {
   "cell_type": "markdown",
   "metadata": {},
   "source": [
    "# Câu b:"
   ]
  },
  {
   "cell_type": "code",
   "execution_count": 43,
   "metadata": {},
   "outputs": [],
   "source": [
    "dfb = df"
   ]
  },
  {
   "cell_type": "code",
   "execution_count": 44,
   "metadata": {},
   "outputs": [],
   "source": [
    "name_col=[\"fixed acidity\",\"volatile acidity\",\"citric acid\",\"residual sugar\",\"chlorides\",\"free sulfur dioxide\",\n",
    "\"total sulfur dioxide\",\"density\",\"pH\",\"sulphates\",\"alcohol\"]\n",
    "\n",
    "result_r = []\n",
    "theta_b_full = []\n"
   ]
  },
  {
   "cell_type": "code",
   "execution_count": 45,
   "metadata": {},
   "outputs": [],
   "source": [
    "for i in range(len(name_col)):\n",
    "    A = dfb[name_col[i]]\n",
    "    B = dfb['quality']\n",
    "\n",
    "    A = np.array(A)\n",
    "    B = np.array(B)\n",
    "\n",
    "    B = B.reshape(len(B), 1)\n",
    "\n",
    "    A = A.reshape(len(A), 1)\n",
    "\n",
    "    theta_b = np.linalg.inv(np.transpose(A)@A)@(np.transpose(A)@B)\n",
    "    theta_b_full.append(theta_b)\n",
    "\n",
    "    result_r.append(np.linalg.norm(A@theta_b - B))"
   ]
  },
  {
   "cell_type": "code",
   "execution_count": 46,
   "metadata": {},
   "outputs": [
    {
     "data": {
      "text/plain": [
       "[Text(0, 0, '45.094'),\n",
       " Text(0, 0, '78.4507'),\n",
       " Text(0, 0, '107.437'),\n",
       " Text(0, 0, '89.947'),\n",
       " Text(0, 0, '100.327'),\n",
       " Text(0, 0, '114.345'),\n",
       " Text(0, 0, '123.22'),\n",
       " Text(0, 0, '28.0952'),\n",
       " Text(0, 0, '30.1736'),\n",
       " Text(0, 0, '52.139'),\n",
       " Text(0, 0, '25.0183')]"
      ]
     },
     "execution_count": 46,
     "metadata": {},
     "output_type": "execute_result"
    },
    {
     "data": {
      "image/png": "[encoded data removed]",
      "text/plain": [
       "<Figure size 1440x720 with 1 Axes>"
      ]
     },
     "metadata": {
      "needs_background": "light"
     },
     "output_type": "display_data"
    }
   ],
   "source": [
    "f, ax = plt.subplots(figsize=(20,10))\n",
    "bars = ax.barh(name_col, result_r)\n",
    "ax.bar_label(bars)"
   ]
  },
  {
   "cell_type": "markdown",
   "metadata": {},
   "source": [
    "$\\to$ Đặc trưng cho kết quả tốt nhất ứng với **r nhỏ nhất** là **alcohol**"
   ]
  },
  {
   "cell_type": "markdown",
   "metadata": {},
   "source": [
    "# Câu c:\n"
   ]
  },
  {
   "cell_type": "markdown",
   "metadata": {},
   "source": [
    "### Thư viện và biểu diễn dữ liệu"
   ]
  },
  {
   "cell_type": "code",
   "execution_count": 47,
   "metadata": {},
   "outputs": [],
   "source": [
    "from sklearn.feature_selection import VarianceThreshold\n",
    "from sklearn.model_selection import train_test_split\n",
    "import seaborn as sns\n",
    "import matplotlib.pyplot as plt\n",
    "from sklearn.linear_model import LassoCV\n",
    "import matplotlib\n",
    "%matplotlib inline"
   ]
  },
  {
   "cell_type": "code",
   "execution_count": 48,
   "metadata": {},
   "outputs": [
    {
     "data": {
      "text/html": [
       "<div>\n",
       "<style scoped>\n",
       "    .dataframe tbody tr th:only-of-type {\n",
       "        vertical-align: middle;\n",
       "    }\n",
       "\n",
       "    .dataframe tbody tr th {\n",
       "        vertical-align: top;\n",
       "    }\n",
       "\n",
       "    .dataframe thead th {\n",
       "        text-align: right;\n",
       "    }\n",
       "</style>\n",
       "<table border=\"1\" class=\"dataframe\">\n",
       "  <thead>\n",
       "    <tr style=\"text-align: right;\">\n",
       "      <th></th>\n",
       "      <th>fixed acidity</th>\n",
       "      <th>volatile acidity</th>\n",
       "      <th>citric acid</th>\n",
       "      <th>residual sugar</th>\n",
       "      <th>chlorides</th>\n",
       "      <th>free sulfur dioxide</th>\n",
       "      <th>total sulfur dioxide</th>\n",
       "      <th>density</th>\n",
       "      <th>pH</th>\n",
       "      <th>sulphates</th>\n",
       "      <th>alcohol</th>\n",
       "      <th>quality</th>\n",
       "    </tr>\n",
       "  </thead>\n",
       "  <tbody>\n",
       "    <tr>\n",
       "      <th>0</th>\n",
       "      <td>7.4</td>\n",
       "      <td>0.70</td>\n",
       "      <td>0.00</td>\n",
       "      <td>1.9</td>\n",
       "      <td>0.076</td>\n",
       "      <td>11.0</td>\n",
       "      <td>34</td>\n",
       "      <td>0.9978</td>\n",
       "      <td>3.51</td>\n",
       "      <td>0.56</td>\n",
       "      <td>9.4</td>\n",
       "      <td>5</td>\n",
       "    </tr>\n",
       "    <tr>\n",
       "      <th>1</th>\n",
       "      <td>7.8</td>\n",
       "      <td>0.88</td>\n",
       "      <td>0.00</td>\n",
       "      <td>2.6</td>\n",
       "      <td>0.098</td>\n",
       "      <td>25.0</td>\n",
       "      <td>67</td>\n",
       "      <td>0.9968</td>\n",
       "      <td>3.20</td>\n",
       "      <td>0.68</td>\n",
       "      <td>9.8</td>\n",
       "      <td>5</td>\n",
       "    </tr>\n",
       "    <tr>\n",
       "      <th>2</th>\n",
       "      <td>7.8</td>\n",
       "      <td>0.76</td>\n",
       "      <td>0.04</td>\n",
       "      <td>2.3</td>\n",
       "      <td>0.092</td>\n",
       "      <td>15.0</td>\n",
       "      <td>54</td>\n",
       "      <td>0.9970</td>\n",
       "      <td>3.26</td>\n",
       "      <td>0.65</td>\n",
       "      <td>9.8</td>\n",
       "      <td>5</td>\n",
       "    </tr>\n",
       "    <tr>\n",
       "      <th>3</th>\n",
       "      <td>11.2</td>\n",
       "      <td>0.28</td>\n",
       "      <td>0.56</td>\n",
       "      <td>1.9</td>\n",
       "      <td>0.075</td>\n",
       "      <td>17.0</td>\n",
       "      <td>60</td>\n",
       "      <td>0.9980</td>\n",
       "      <td>3.16</td>\n",
       "      <td>0.58</td>\n",
       "      <td>9.8</td>\n",
       "      <td>6</td>\n",
       "    </tr>\n",
       "    <tr>\n",
       "      <th>4</th>\n",
       "      <td>7.4</td>\n",
       "      <td>0.70</td>\n",
       "      <td>0.00</td>\n",
       "      <td>1.9</td>\n",
       "      <td>0.076</td>\n",
       "      <td>11.0</td>\n",
       "      <td>34</td>\n",
       "      <td>0.9978</td>\n",
       "      <td>3.51</td>\n",
       "      <td>0.56</td>\n",
       "      <td>9.4</td>\n",
       "      <td>5</td>\n",
       "    </tr>\n",
       "  </tbody>\n",
       "</table>\n",
       "</div>"
      ],
      "text/plain": [
       "   fixed acidity  volatile acidity  citric acid  residual sugar  chlorides  \\\n",
       "0            7.4              0.70         0.00             1.9      0.076   \n",
       "1            7.8              0.88         0.00             2.6      0.098   \n",
       "2            7.8              0.76         0.04             2.3      0.092   \n",
       "3           11.2              0.28         0.56             1.9      0.075   \n",
       "4            7.4              0.70         0.00             1.9      0.076   \n",
       "\n",
       "   free sulfur dioxide  total sulfur dioxide  density    pH  sulphates  \\\n",
       "0                 11.0                    34   0.9978  3.51       0.56   \n",
       "1                 25.0                    67   0.9968  3.20       0.68   \n",
       "2                 15.0                    54   0.9970  3.26       0.65   \n",
       "3                 17.0                    60   0.9980  3.16       0.58   \n",
       "4                 11.0                    34   0.9978  3.51       0.56   \n",
       "\n",
       "   alcohol  quality  \n",
       "0      9.4        5  \n",
       "1      9.8        5  \n",
       "2      9.8        5  \n",
       "3      9.8        6  \n",
       "4      9.4        5  "
      ]
     },
     "execution_count": 48,
     "metadata": {},
     "output_type": "execute_result"
    }
   ],
   "source": [
    "df = pd.read_csv('wine.csv' , sep=';')\n",
    "df.head()\n"
   ]
  },
  {
   "cell_type": "code",
   "execution_count": 49,
   "metadata": {},
   "outputs": [
    {
     "data": {
      "text/plain": [
       "(1199, 12)"
      ]
     },
     "execution_count": 49,
     "metadata": {},
     "output_type": "execute_result"
    }
   ],
   "source": [
    "df.shape"
   ]
  },
  {
   "cell_type": "markdown",
   "metadata": {},
   "source": [
    "- Trước khi thực hiện ta sẽ tách cột mang giá trị kết quả mẫu ***quality*** riêng so với các tính chất của của rượu\n",
    "- Ta chia bộ dữ liệu ra làm 2 phần(train và test) với tỉ lệ ***test = 0.2***"
   ]
  },
  {
   "cell_type": "code",
   "execution_count": 50,
   "metadata": {},
   "outputs": [
    {
     "data": {
      "text/plain": [
       "((959, 11), (240, 11), (959,), (240,))"
      ]
     },
     "execution_count": 50,
     "metadata": {},
     "output_type": "execute_result"
    }
   ],
   "source": [
    "X = df.drop(\"quality\", axis=1)\n",
    "y = df[\"quality\"]\n",
    "X_train, X_test, y_train, y_test = train_test_split(X,y, test_size=.2, random_state=40)\n",
    "\n",
    "X_train.shape, X_test.shape, y_train.shape, y_test.shape"
   ]
  },
  {
   "cell_type": "markdown",
   "metadata": {},
   "source": [
    "### 1. Loại bỏ những cột mang giá trị hằng"
   ]
  },
  {
   "cell_type": "markdown",
   "metadata": {},
   "source": [
    "- Ở đây ta sẽ loại bỏ nhưng cột thuộc tính mang giá trị không đổi đối với mỗi mẫu bằng cách tính phương sai của từng cột thuộc tính và loại bỏ đi nhưng cột có phương sai bằng 0"
   ]
  },
  {
   "cell_type": "code",
   "execution_count": 51,
   "metadata": {},
   "outputs": [
    {
     "data": {
      "text/plain": [
       "array([ True,  True,  True,  True,  True,  True,  True,  True,  True,\n",
       "        True,  True])"
      ]
     },
     "execution_count": 51,
     "metadata": {},
     "output_type": "execute_result"
    }
   ],
   "source": [
    "var_there = VarianceThreshold(threshold = 0)\n",
    "var_there.fit(X_train)\n",
    "var_there.get_support()"
   ]
  },
  {
   "cell_type": "markdown",
   "metadata": {},
   "source": [
    "$\\to$ Tất cả các cột đều không mang giá trị hằng nên sẽ vẫn giữ nguyên giá trị không loại bỏ"
   ]
  },
  {
   "cell_type": "markdown",
   "metadata": {},
   "source": [
    "### 2. Loại bỏ những cột mang tính tương quan cao"
   ]
  },
  {
   "cell_type": "markdown",
   "metadata": {},
   "source": [
    "- Ở bước này ta sẽ hiển thị mối tương qun của từng thuộc tính trong bộ dữ liệu test so với tất cả các thuộc tính còn lại. Ta kiến hành loại bỏ những thuộc tính mà có ***giá trị tuyệt đối lớn hơn 0.8*** (nghĩa là 80% dữ liệu của thuộc tính này sẽ tỉ lệ với thuộc tính kia) bằng cách sử dụng hệ số tương quan (Pearson Correlation)"
   ]
  },
  {
   "cell_type": "code",
   "execution_count": 52,
   "metadata": {},
   "outputs": [
    {
     "data": {
      "text/html": [
       "<div>\n",
       "<style scoped>\n",
       "    .dataframe tbody tr th:only-of-type {\n",
       "        vertical-align: middle;\n",
       "    }\n",
       "\n",
       "    .dataframe tbody tr th {\n",
       "        vertical-align: top;\n",
       "    }\n",
       "\n",
       "    .dataframe thead th {\n",
       "        text-align: right;\n",
       "    }\n",
       "</style>\n",
       "<table border=\"1\" class=\"dataframe\">\n",
       "  <thead>\n",
       "    <tr style=\"text-align: right;\">\n",
       "      <th></th>\n",
       "      <th>fixed acidity</th>\n",
       "      <th>volatile acidity</th>\n",
       "      <th>citric acid</th>\n",
       "      <th>residual sugar</th>\n",
       "      <th>chlorides</th>\n",
       "      <th>free sulfur dioxide</th>\n",
       "      <th>total sulfur dioxide</th>\n",
       "      <th>density</th>\n",
       "      <th>pH</th>\n",
       "      <th>sulphates</th>\n",
       "      <th>alcohol</th>\n",
       "    </tr>\n",
       "  </thead>\n",
       "  <tbody>\n",
       "    <tr>\n",
       "      <th>fixed acidity</th>\n",
       "      <td>1.000000</td>\n",
       "      <td>-0.271340</td>\n",
       "      <td>0.688505</td>\n",
       "      <td>0.142906</td>\n",
       "      <td>0.039997</td>\n",
       "      <td>-0.138142</td>\n",
       "      <td>-0.155308</td>\n",
       "      <td>0.654309</td>\n",
       "      <td>-0.676607</td>\n",
       "      <td>0.205040</td>\n",
       "      <td>0.003953</td>\n",
       "    </tr>\n",
       "    <tr>\n",
       "      <th>volatile acidity</th>\n",
       "      <td>-0.271340</td>\n",
       "      <td>1.000000</td>\n",
       "      <td>-0.549521</td>\n",
       "      <td>0.024264</td>\n",
       "      <td>0.034161</td>\n",
       "      <td>-0.026147</td>\n",
       "      <td>0.090648</td>\n",
       "      <td>0.064943</td>\n",
       "      <td>0.259792</td>\n",
       "      <td>-0.240875</td>\n",
       "      <td>-0.203870</td>\n",
       "    </tr>\n",
       "    <tr>\n",
       "      <th>citric acid</th>\n",
       "      <td>0.688505</td>\n",
       "      <td>-0.549521</td>\n",
       "      <td>1.000000</td>\n",
       "      <td>0.124060</td>\n",
       "      <td>0.180500</td>\n",
       "      <td>-0.063898</td>\n",
       "      <td>-0.012664</td>\n",
       "      <td>0.329193</td>\n",
       "      <td>-0.555178</td>\n",
       "      <td>0.305715</td>\n",
       "      <td>0.165482</td>\n",
       "    </tr>\n",
       "    <tr>\n",
       "      <th>residual sugar</th>\n",
       "      <td>0.142906</td>\n",
       "      <td>0.024264</td>\n",
       "      <td>0.124060</td>\n",
       "      <td>1.000000</td>\n",
       "      <td>-0.001036</td>\n",
       "      <td>0.066721</td>\n",
       "      <td>0.135325</td>\n",
       "      <td>0.336898</td>\n",
       "      <td>-0.087077</td>\n",
       "      <td>0.002388</td>\n",
       "      <td>0.101771</td>\n",
       "    </tr>\n",
       "    <tr>\n",
       "      <th>chlorides</th>\n",
       "      <td>0.039997</td>\n",
       "      <td>0.034161</td>\n",
       "      <td>0.180500</td>\n",
       "      <td>-0.001036</td>\n",
       "      <td>1.000000</td>\n",
       "      <td>-0.020431</td>\n",
       "      <td>0.022191</td>\n",
       "      <td>0.161961</td>\n",
       "      <td>-0.235681</td>\n",
       "      <td>0.411339</td>\n",
       "      <td>-0.192511</td>\n",
       "    </tr>\n",
       "    <tr>\n",
       "      <th>free sulfur dioxide</th>\n",
       "      <td>-0.138142</td>\n",
       "      <td>-0.026147</td>\n",
       "      <td>-0.063898</td>\n",
       "      <td>0.066721</td>\n",
       "      <td>-0.020431</td>\n",
       "      <td>1.000000</td>\n",
       "      <td>0.692620</td>\n",
       "      <td>-0.049989</td>\n",
       "      <td>0.077860</td>\n",
       "      <td>0.044912</td>\n",
       "      <td>-0.057202</td>\n",
       "    </tr>\n",
       "    <tr>\n",
       "      <th>total sulfur dioxide</th>\n",
       "      <td>-0.155308</td>\n",
       "      <td>0.090648</td>\n",
       "      <td>-0.012664</td>\n",
       "      <td>0.135325</td>\n",
       "      <td>0.022191</td>\n",
       "      <td>0.692620</td>\n",
       "      <td>1.000000</td>\n",
       "      <td>0.027333</td>\n",
       "      <td>-0.023983</td>\n",
       "      <td>0.015389</td>\n",
       "      <td>-0.211375</td>\n",
       "    </tr>\n",
       "    <tr>\n",
       "      <th>density</th>\n",
       "      <td>0.654309</td>\n",
       "      <td>0.064943</td>\n",
       "      <td>0.329193</td>\n",
       "      <td>0.336898</td>\n",
       "      <td>0.161961</td>\n",
       "      <td>-0.049989</td>\n",
       "      <td>0.027333</td>\n",
       "      <td>1.000000</td>\n",
       "      <td>-0.303787</td>\n",
       "      <td>0.158617</td>\n",
       "      <td>-0.470510</td>\n",
       "    </tr>\n",
       "    <tr>\n",
       "      <th>pH</th>\n",
       "      <td>-0.676607</td>\n",
       "      <td>0.259792</td>\n",
       "      <td>-0.555178</td>\n",
       "      <td>-0.087077</td>\n",
       "      <td>-0.235681</td>\n",
       "      <td>0.077860</td>\n",
       "      <td>-0.023983</td>\n",
       "      <td>-0.303787</td>\n",
       "      <td>1.000000</td>\n",
       "      <td>-0.234322</td>\n",
       "      <td>0.124312</td>\n",
       "    </tr>\n",
       "    <tr>\n",
       "      <th>sulphates</th>\n",
       "      <td>0.205040</td>\n",
       "      <td>-0.240875</td>\n",
       "      <td>0.305715</td>\n",
       "      <td>0.002388</td>\n",
       "      <td>0.411339</td>\n",
       "      <td>0.044912</td>\n",
       "      <td>0.015389</td>\n",
       "      <td>0.158617</td>\n",
       "      <td>-0.234322</td>\n",
       "      <td>1.000000</td>\n",
       "      <td>0.067123</td>\n",
       "    </tr>\n",
       "    <tr>\n",
       "      <th>alcohol</th>\n",
       "      <td>0.003953</td>\n",
       "      <td>-0.203870</td>\n",
       "      <td>0.165482</td>\n",
       "      <td>0.101771</td>\n",
       "      <td>-0.192511</td>\n",
       "      <td>-0.057202</td>\n",
       "      <td>-0.211375</td>\n",
       "      <td>-0.470510</td>\n",
       "      <td>0.124312</td>\n",
       "      <td>0.067123</td>\n",
       "      <td>1.000000</td>\n",
       "    </tr>\n",
       "  </tbody>\n",
       "</table>\n",
       "</div>"
      ],
      "text/plain": [
       "                      fixed acidity  volatile acidity  citric acid  \\\n",
       "fixed acidity              1.000000         -0.271340     0.688505   \n",
       "volatile acidity          -0.271340          1.000000    -0.549521   \n",
       "citric acid                0.688505         -0.549521     1.000000   \n",
       "residual sugar             0.142906          0.024264     0.124060   \n",
       "chlorides                  0.039997          0.034161     0.180500   \n",
       "free sulfur dioxide       -0.138142         -0.026147    -0.063898   \n",
       "total sulfur dioxide      -0.155308          0.090648    -0.012664   \n",
       "density                    0.654309          0.064943     0.329193   \n",
       "pH                        -0.676607          0.259792    -0.555178   \n",
       "sulphates                  0.205040         -0.240875     0.305715   \n",
       "alcohol                    0.003953         -0.203870     0.165482   \n",
       "\n",
       "                      residual sugar  chlorides  free sulfur dioxide  \\\n",
       "fixed acidity               0.142906   0.039997            -0.138142   \n",
       "volatile acidity            0.024264   0.034161            -0.026147   \n",
       "citric acid                 0.124060   0.180500            -0.063898   \n",
       "residual sugar              1.000000  -0.001036             0.066721   \n",
       "chlorides                  -0.001036   1.000000            -0.020431   \n",
       "free sulfur dioxide         0.066721  -0.020431             1.000000   \n",
       "total sulfur dioxide        0.135325   0.022191             0.692620   \n",
       "density                     0.336898   0.161961            -0.049989   \n",
       "pH                         -0.087077  -0.235681             0.077860   \n",
       "sulphates                   0.002388   0.411339             0.044912   \n",
       "alcohol                     0.101771  -0.192511            -0.057202   \n",
       "\n",
       "                      total sulfur dioxide   density        pH  sulphates  \\\n",
       "fixed acidity                    -0.155308  0.654309 -0.676607   0.205040   \n",
       "volatile acidity                  0.090648  0.064943  0.259792  -0.240875   \n",
       "citric acid                      -0.012664  0.329193 -0.555178   0.305715   \n",
       "residual sugar                    0.135325  0.336898 -0.087077   0.002388   \n",
       "chlorides                         0.022191  0.161961 -0.235681   0.411339   \n",
       "free sulfur dioxide               0.692620 -0.049989  0.077860   0.044912   \n",
       "total sulfur dioxide              1.000000  0.027333 -0.023983   0.015389   \n",
       "density                           0.027333  1.000000 -0.303787   0.158617   \n",
       "pH                               -0.023983 -0.303787  1.000000  -0.234322   \n",
       "sulphates                         0.015389  0.158617 -0.234322   1.000000   \n",
       "alcohol                          -0.211375 -0.470510  0.124312   0.067123   \n",
       "\n",
       "                       alcohol  \n",
       "fixed acidity         0.003953  \n",
       "volatile acidity     -0.203870  \n",
       "citric acid           0.165482  \n",
       "residual sugar        0.101771  \n",
       "chlorides            -0.192511  \n",
       "free sulfur dioxide  -0.057202  \n",
       "total sulfur dioxide -0.211375  \n",
       "density              -0.470510  \n",
       "pH                    0.124312  \n",
       "sulphates             0.067123  \n",
       "alcohol               1.000000  "
      ]
     },
     "execution_count": 52,
     "metadata": {},
     "output_type": "execute_result"
    }
   ],
   "source": [
    "X_train.corr() # hệ số tương quan giữa các thuộc tính"
   ]
  },
  {
   "cell_type": "markdown",
   "metadata": {},
   "source": [
    "- Phía trên là hệ số tương quan giữa các thuộc tính. Bây giờ ta sẽ biểu diễn dưới dạng biểu đồ"
   ]
  },
  {
   "cell_type": "code",
   "execution_count": 53,
   "metadata": {},
   "outputs": [
    {
     "data": {
      "image/png": "[encoded data removed]",
      "text/plain": [
       "<Figure size 864x720 with 2 Axes>"
      ]
     },
     "metadata": {
      "needs_background": "light"
     },
     "output_type": "display_data"
    }
   ],
   "source": [
    "plt.figure(figsize=(12,10))\n",
    "cor = X_train.corr()\n",
    "sns.heatmap(cor, annot=True, cmap=plt.cm.CMRmap_r)\n",
    "plt.show()"
   ]
  },
  {
   "cell_type": "code",
   "execution_count": 54,
   "metadata": {},
   "outputs": [
    {
     "data": {
      "text/plain": [
       "0"
      ]
     },
     "execution_count": 54,
     "metadata": {},
     "output_type": "execute_result"
    }
   ],
   "source": [
    "'''\n",
    "hàm nhận vào dataset và hệ số tương quan cố định, sau đó trả về danh sách các tuộc tính \n",
    "có hệ số tương quan cao để dễ dàng loại bỏ\n",
    "'''\n",
    "def correlation(dataset, threshold):\n",
    "    col_corr = set()  \n",
    "    corr_matrix = dataset.corr()\n",
    "    for i in range(len(corr_matrix.columns)):\n",
    "        for j in range(i):\n",
    "            if abs(corr_matrix.iloc[i, j]) > threshold: \n",
    "                colname = corr_matrix.columns[i]  \n",
    "                col_corr.add(colname)\n",
    "    return col_corr\n",
    "\n",
    "\n",
    "corr_feature = correlation(X_train, 0.8)\n",
    "len(set(corr_feature))"
   ]
  },
  {
   "cell_type": "markdown",
   "metadata": {},
   "source": [
    "$\\to$ Như vậy là hoàn toàn không có thuộc tính nào phụ thuộc lẫn nhau"
   ]
  },
  {
   "cell_type": "markdown",
   "metadata": {},
   "source": [
    "### 3. Feature selection"
   ]
  },
  {
   "cell_type": "markdown",
   "metadata": {},
   "source": [
    "Embedded method: Hồi qui Lasso"
   ]
  },
  {
   "cell_type": "code",
   "execution_count": 62,
   "metadata": {},
   "outputs": [],
   "source": [
    "reg = LassoCV(cv=5, random_state=40)\n",
    "reg.fit(X_train, y_train)\n",
    "coef = pd.Series(reg.coef_, index = X.columns)"
   ]
  },
  {
   "cell_type": "code",
   "execution_count": 64,
   "metadata": {},
   "outputs": [
    {
     "name": "stdout",
     "output_type": "stream",
     "text": [
      "Lasso choosed 6 variables and eliminated the other 5 variables\n"
     ]
    }
   ],
   "source": [
    "print(\"Lasso choosed \" + str(sum(coef != 0)) + \" variables and eliminated the other \" +  str(sum(coef == 0)) + \" variables\")"
   ]
  },
  {
   "cell_type": "code",
   "execution_count": 65,
   "metadata": {},
   "outputs": [
    {
     "data": {
      "text/plain": [
       "fixed acidity           0.024201\n",
       "volatile acidity       -0.875015\n",
       "citric acid            -0.000000\n",
       "residual sugar         -0.000000\n",
       "chlorides              -0.000000\n",
       "free sulfur dioxide     0.006392\n",
       "total sulfur dioxide   -0.004521\n",
       "density                -0.000000\n",
       "pH                     -0.000000\n",
       "sulphates               0.316735\n",
       "alcohol                 0.306129\n",
       "dtype: float64"
      ]
     },
     "execution_count": 65,
     "metadata": {},
     "output_type": "execute_result"
    }
   ],
   "source": [
    "coef "
   ]
  },
  {
   "cell_type": "code",
   "execution_count": 67,
   "metadata": {},
   "outputs": [
    {
     "data": {
      "image/png": "[encoded data removed]",
      "text/plain": [
       "<Figure size 576x720 with 1 Axes>"
      ]
     },
     "metadata": {
      "needs_background": "light"
     },
     "output_type": "display_data"
    }
   ],
   "source": [
    "imp_coef = coef\n",
    "matplotlib.rcParams['figure.figsize'] = (8.0, 10.0)\n",
    "imp_coef.plot(kind = \"barh\")\n",
    "plt.title(\"Feature using Lasso Model\")\n",
    "plt.show()"
   ]
  },
  {
   "cell_type": "code",
   "execution_count": 59,
   "metadata": {},
   "outputs": [],
   "source": [
    "selected_features = ['fixed acidity', 'volatile acidity', 'free sulfur dioxide', 'total sulfur dioxide','sulphates','alcohol']"
   ]
  },
  {
   "cell_type": "code",
   "execution_count": 60,
   "metadata": {},
   "outputs": [
    {
     "data": {
      "text/plain": [
       "array([[ 0.31900264],\n",
       "       [ 1.58685998],\n",
       "       [ 0.02996615],\n",
       "       [-0.00641309],\n",
       "       [ 2.79325332]])"
      ]
     },
     "execution_count": 60,
     "metadata": {},
     "output_type": "execute_result"
    }
   ],
   "source": [
    "A = [X_train[selected_features[i]] for i in range(5)]\n",
    "A = np.array(A)\n",
    "A = np.transpose(A)\n",
    "B = np.array(y_train)\n",
    "B = B.reshape(len(B), 1)\n",
    "\n",
    "thetaC = np.linalg.inv(np.transpose(A)@A) @ (np.transpose(A)@B)\n",
    "\n",
    "thetaC"
   ]
  },
  {
   "cell_type": "markdown",
   "metadata": {},
   "source": [
    "- Kiểm tra với bộ dữ liệu test:"
   ]
  },
  {
   "cell_type": "code",
   "execution_count": 61,
   "metadata": {},
   "outputs": [
    {
     "data": {
      "text/plain": [
       "15.97672173851104"
      ]
     },
     "execution_count": 61,
     "metadata": {},
     "output_type": "execute_result"
    }
   ],
   "source": [
    "A_test = [X_test[selected_features[i]] for i in range(5)]\n",
    "A_test = np.array(A_test)\n",
    "A_test = np.transpose(A_test)\n",
    "\n",
    "B_test = np.array(y_test)\n",
    "B_test = B_test.reshape(len(B_test), 1)\n",
    "\n",
    "r = np.linalg.norm(A_test@thetaC - B_test)\n",
    "r"
   ]
  }
 ],
 "metadata": {
  "kernelspec": {
   "display_name": "Python 3.10.2 64-bit",
   "language": "python",
   "name": "python3"
  },
  "language_info": {
   "codemirror_mode": {
    "name": "ipython",
    "version": 3
   },
   "file_extension": ".py",
   "mimetype": "text/x-python",
   "name": "python",
   "nbconvert_exporter": "python",
   "pygments_lexer": "ipython3",
   "version": "3.10.2"
  },
  "orig_nbformat": 4,
  "vscode": {
   "interpreter": {
    "hash": "a42ccb73e7d9bfdf27e036f1d2b8b681e55fc0743cc5586bc2474d4a60f4b886"
   }
  }
 },
 "nbformat": 4,
 "nbformat_minor": 2
}
