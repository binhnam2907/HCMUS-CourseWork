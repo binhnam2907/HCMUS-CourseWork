{
 "cells": [
  {
   "cell_type": "markdown",
   "metadata": {},
   "source": [
    "- MSSV : 20127567\n",
    "- Tên : Lê Nguyễn Bình Nam"
   ]
  },
  {
   "cell_type": "code",
   "execution_count": 14,
   "metadata": {},
   "outputs": [],
   "source": [
    "import math\n",
    "import sympy"
   ]
  },
  {
   "cell_type": "code",
   "execution_count": 30,
   "metadata": {},
   "outputs": [],
   "source": [
    "def swap_row(A,i, j):\n",
    "    col = len(A[0])\n",
    "    for col1 in range (col): \n",
    "        temp = A[i][col1]\n",
    "        A[i][col1] = A[j][col1]\n",
    "        A[j][col1] = temp\n",
    "    return A\n",
    "\n",
    "def mul_scalar(A, i,k):\n",
    "    col = len(A[0])\n",
    "    for j in range(col):\n",
    "        A[i][j]= A[i][j] * k\n",
    "    return A\n",
    "\n",
    "def add_row(A, i, j, k):\n",
    "    col = len(A[0])\n",
    "    for col12 in range(col):     \n",
    "        A[i][col12] = A[i][col12] + k*A[j][col12]\n",
    "    return A\n",
    "\n"
   ]
  },
  {
   "cell_type": "code",
   "execution_count": 28,
   "metadata": {},
   "outputs": [],
   "source": [
    "def findNewRow(A , i, j):\n",
    "    row = len(A)\n",
    "    col = len(A[0])\n",
    "    for x in range(i+ 1, row):\n",
    "            if A[x][j] != 0:\n",
    "                swap_row(A, i , x)\n",
    "                return 1\n",
    "    return 0\n"
   ]
  },
  {
   "cell_type": "code",
   "execution_count": 26,
   "metadata": {},
   "outputs": [],
   "source": [
    "def gauss_elimination(A):\n",
    "    row = len(A)\n",
    "    col = len(A[0])\n",
    "    if A[0][0] == 0:\n",
    "        for i in range(1, row):\n",
    "            if A[i][0]!= 0:\n",
    "                swap_row(A, 0 , i)\n",
    "                break\n",
    "    posCol = 0\n",
    "    for i in range(1 ,row):\n",
    "        if posCol == col -2:\n",
    "            break\n",
    "        if A[i-1][posCol] == 0:\n",
    "            while(True):\n",
    "                flag = findNewRow(A, i-1, posCol)\n",
    "                if flag == 1:\n",
    "                    break\n",
    "                else:\n",
    "                    posCol +=1\n",
    "                    if A[i-1][posCol] != 0:\n",
    "                        break\n",
    "        A = mul_scalar(A, i-1, 1/A[i-1][posCol])\n",
    "        temp = A[i-1][posCol]\n",
    "        pos = i-1\n",
    "        for j in range(i, row):\n",
    "            devide = A[j][posCol]/temp\n",
    "            A = add_row(A,j ,i-1, -devide)\n",
    "        posCol+=1\n",
    "\n",
    "    # xoa di nhung phuong trinh ma tat ca he so bang 0   \n",
    "    for i in range(row - 1, -1, -1):\n",
    "        if any(A[i]):\n",
    "            break\n",
    "        A.pop(i)\n",
    "        i -= 1\n",
    "        row -= 1    \n",
    "    return A  \n",
    "\n"
   ]
  },
  {
   "cell_type": "code",
   "execution_count": 45,
   "metadata": {},
   "outputs": [],
   "source": [
    "def back_substitution(A): \n",
    "    row = len(A)\n",
    "    col = len(A[0])\n",
    "    \n",
    "    res = [ 0 for i in range(col -1)]\n",
    "    \n",
    "    if(A[row-1][col -2]!= A[row-1][col-1] and A[row-1][col -2] == 0) or row > col -1:\n",
    "        print(\"Phuong trinh vo nghiem\")\n",
    "        return None\n",
    "    if row < col -1:\n",
    "\n",
    "        #chua hoan thanh duoc truong hop vo so nghiem\n",
    "\n",
    "        '''rowtemp = row - 1\n",
    "        lastCol = col - 1\n",
    "        while rowtemp >= 0:\n",
    "            for j in range(col):\n",
    "                if (A[rowtemp][j]!= 0):\n",
    "                    pcol = j\n",
    "                    break\n",
    "            for i in range(pcol, lastCol):\n",
    "                res[i] = sympy.symbols(f\"x{i+1}\") # them cac an tu do\n",
    "            for j in range(pcol + 1, col -1):\n",
    "                res[pcol] = (A[rowtemp][col -1]- sum(A[rowtemp][j]* res[j]))/A[rowtemp][pcol]\n",
    "                lastCol = pcol\n",
    "            rowtemp-=1\n",
    "        for i in range(0, lastCol):\n",
    "            res[i] = sympy.symbols(f\"x{i + 1}\")\n",
    "        return res\n",
    "        '''\n",
    "        \n",
    "    \n",
    "    i = row - 1\n",
    "    while i >= 0:\n",
    "        sum = 0 \n",
    "        for j in range(col -1):\n",
    "            sum = sum + res[j]*A[i][j]\n",
    "        res[i] = A[i][-1]- sum\n",
    "        i = i-1\n",
    "    return res       \n",
    "    "
   ]
  },
  {
   "cell_type": "code",
   "execution_count": 42,
   "metadata": {},
   "outputs": [],
   "source": [
    "A = [[0, 0,  -2, 0,  7, 12],\n",
    "         [2, 4, -10, 6, 12, 28],\n",
    "         [2, 4,  -5, 6, -5, -1]]"
   ]
  },
  {
   "cell_type": "code",
   "execution_count": 43,
   "metadata": {},
   "outputs": [
    {
     "data": {
      "text/plain": [
       "[[1.0, 2.0, -5.0, 3.0, 6.0, 14.0],\n",
       " [-0.0, -0.0, 1.0, -0.0, -3.5, -6.0],\n",
       " [0.0, 0.0, 0.0, 0.0, 0.5, 1.0]]"
      ]
     },
     "execution_count": 43,
     "metadata": {},
     "output_type": "execute_result"
    }
   ],
   "source": [
    "gauss_elimination(A)\n",
    "A"
   ]
  },
  {
   "cell_type": "code",
   "execution_count": 46,
   "metadata": {},
   "outputs": [
    {
     "ename": "TypeError",
     "evalue": "'int' object is not callable",
     "output_type": "error",
     "traceback": [
      "\u001b[1;31m---------------------------------------------------------------------------\u001b[0m",
      "\u001b[1;31mTypeError\u001b[0m                                 Traceback (most recent call last)",
      "\u001b[1;32mc:\\Users\\Admin\\Desktop\\nam2ki3\\TUDTK\\Lab1-TKUD\\20127567\\20127567.ipynb Cell 9'\u001b[0m in \u001b[0;36m<module>\u001b[1;34m\u001b[0m\n\u001b[1;32m----> <a href='vscode-notebook-cell:/c%3A/Users/Admin/Desktop/nam2ki3/TUDTK/Lab1-TKUD/20127567/20127567.ipynb#ch0000007?line=0'>1</a>\u001b[0m res \u001b[39m=\u001b[39m back_substitution(A)\n\u001b[0;32m      <a href='vscode-notebook-cell:/c%3A/Users/Admin/Desktop/nam2ki3/TUDTK/Lab1-TKUD/20127567/20127567.ipynb#ch0000007?line=2'>3</a>\u001b[0m res\n",
      "\u001b[1;32mc:\\Users\\Admin\\Desktop\\nam2ki3\\TUDTK\\Lab1-TKUD\\20127567\\20127567.ipynb Cell 6'\u001b[0m in \u001b[0;36mback_substitution\u001b[1;34m(A)\u001b[0m\n\u001b[0;32m     <a href='vscode-notebook-cell:/c%3A/Users/Admin/Desktop/nam2ki3/TUDTK/Lab1-TKUD/20127567/20127567.ipynb#ch0000006?line=19'>20</a>\u001b[0m \u001b[39msum\u001b[39m \u001b[39m=\u001b[39m \u001b[39m0\u001b[39m\n\u001b[0;32m     <a href='vscode-notebook-cell:/c%3A/Users/Admin/Desktop/nam2ki3/TUDTK/Lab1-TKUD/20127567/20127567.ipynb#ch0000006?line=20'>21</a>\u001b[0m \u001b[39mfor\u001b[39;00m j \u001b[39min\u001b[39;00m \u001b[39mrange\u001b[39m(pcol \u001b[39m+\u001b[39m \u001b[39m1\u001b[39m, col \u001b[39m-\u001b[39m\u001b[39m1\u001b[39m):\n\u001b[1;32m---> <a href='vscode-notebook-cell:/c%3A/Users/Admin/Desktop/nam2ki3/TUDTK/Lab1-TKUD/20127567/20127567.ipynb#ch0000006?line=21'>22</a>\u001b[0m     res[pcol] \u001b[39m=\u001b[39m (A[rowtemp][col \u001b[39m-\u001b[39m\u001b[39m1\u001b[39m]\u001b[39m-\u001b[39m \u001b[39msum\u001b[39;49m(A[rowtemp][j]\u001b[39m*\u001b[39;49m res[j]))\u001b[39m/\u001b[39mA[rowtemp][pcol]\n\u001b[0;32m     <a href='vscode-notebook-cell:/c%3A/Users/Admin/Desktop/nam2ki3/TUDTK/Lab1-TKUD/20127567/20127567.ipynb#ch0000006?line=22'>23</a>\u001b[0m     lastCol \u001b[39m=\u001b[39m pcol\n\u001b[0;32m     <a href='vscode-notebook-cell:/c%3A/Users/Admin/Desktop/nam2ki3/TUDTK/Lab1-TKUD/20127567/20127567.ipynb#ch0000006?line=23'>24</a>\u001b[0m rowtemp\u001b[39m-\u001b[39m\u001b[39m=\u001b[39m\u001b[39m1\u001b[39m\n",
      "\u001b[1;31mTypeError\u001b[0m: 'int' object is not callable"
     ]
    }
   ],
   "source": [
    "res = back_substitution(A)\n",
    "\n",
    "res"
   ]
  },
  {
   "cell_type": "code",
   "execution_count": 21,
   "metadata": {},
   "outputs": [],
   "source": [
    "#A= np.array([[1,2,0,2,6],[3,5,-1,6,17],[2,4,1,2,12],[2,0,-7,11,7]], dtype=float)\n",
    "\n",
    "A=([[0,0,0,0],[1,2,3,4],[0,0,0,0]])\n",
    "\n",
    "#a=[[2,-3,4,-1,0],[6,1,-8,9,0],[2,6,1,-1,0]]\n",
    "\n",
    "#a=[[2,-4,-1,1],[1,-3,1,1],[3,-5,-3,2]]\n",
    "\n",
    "#a=[[1,-2,-1,1],[2,-3,1,6],[3,-5,0,7],[1,0,5,9]]\n",
    "\n",
    "#a=[[1,-1,1,-3,0],[2,-1,4,-2,0]]\n",
    "\n",
    "#a=[[1,-2,3,-3],[2,2,0,0],[0,-3,4,1],[1,0,1,-1]]\n",
    "\n",
    "#a=[[2,-4,-1,1],[1,-3,1,1],[3,-5,-3,2]]\n",
    "\n",
    "#a=[[0, 0, -2, 0, 7, 12], [2, 4, -10, 6, 12, 28], [2, 4, -5, 6, -5, -1]]\n",
    "\n",
    "#a=[[0,0,0,0],[0,0,0,0],[1,2,3,4]]\n",
    "\n",
    "#a = [[4, -2, -4, 2, 1], [6, -3, 0, -5, 3], [8, -4, 28, -44, 11], [-8, 4, -4, 12, -5]]\n",
    "\n",
    "#a=[[1,2,-2,3],[3,-1,1,1],[-1,5,-5,5]]\n"
   ]
  }
 ],
 "metadata": {
  "interpreter": {
   "hash": "a42ccb73e7d9bfdf27e036f1d2b8b681e55fc0743cc5586bc2474d4a60f4b886"
  },
  "kernelspec": {
   "display_name": "Python 3.10.2 64-bit",
   "language": "python",
   "name": "python3"
  },
  "language_info": {
   "codemirror_mode": {
    "name": "ipython",
    "version": 3
   },
   "file_extension": ".py",
   "mimetype": "text/x-python",
   "name": "python",
   "nbconvert_exporter": "python",
   "pygments_lexer": "ipython3",
   "version": "3.10.2"
  },
  "orig_nbformat": 4
 },
 "nbformat": 4,
 "nbformat_minor": 2
}
